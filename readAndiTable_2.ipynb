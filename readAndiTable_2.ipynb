{
 "cells": [
  {
   "cell_type": "markdown",
   "metadata": {},
   "source": [
    "## Рефакторинг исходной таблицы \\ Refactoring of initial tables\n",
    "\n",
    "В этой тетрадке мы немножко играем с данными андийских языков.\n",
    "\n",
    "Данные взяты [отсюда](https://docs.google.com/spreadsheets/d/1wLwgyR_YBa5yuKg8ozN4aLbi4wvRCEYkwX1Xhnryuuw/edit#gid=0). (Предоставлены проектом *Field NLP - morpology*) \n",
    "\n",
    "Наша задача распарсить данные и преобразовать их в онтологию. Нужно преобразовать словарные вхождения из таблицы в формат RDF и модель Ontolex lemon. \n",
    "\n",
    "На питон существует rdf либа:\n",
    "\n",
    "In this notebook we will transform linguistic data into RDF. \n",
    "\n",
    "Data was taken from [here](https://docs.google.com/spreadsheets/d/1wLwgyR_YBa5yuKg8ozN4aLbi4wvRCEYkwX1Xhnryuuw/edit#gid=0). (data was taken from another HSE project *Field NLP - morpology*) \n",
    "\n",
    "python rdflib install:"
   ]
  },
  {
   "cell_type": "code",
   "execution_count": 5,
   "metadata": {},
   "outputs": [
    {
     "name": "stdout",
     "output_type": "stream",
     "text": [
      "Defaulting to user installation because normal site-packages is not writeable\n",
      "Collecting rdflib\n",
      "  Using cached rdflib-5.0.0-py3-none-any.whl (231 kB)\n",
      "Requirement already satisfied: pyparsing in c:\\program files\\python38\\lib\\site-packages (from rdflib) (2.4.7)\n",
      "Requirement already satisfied: six in c:\\program files\\python38\\lib\\site-packages (from rdflib) (1.15.0)\n",
      "Collecting isodate\n",
      "  Using cached isodate-0.6.0-py2.py3-none-any.whl (45 kB)\n",
      "Installing collected packages: isodate, rdflib\n",
      "Successfully installed isodate-0.6.0 rdflib-5.0.0\n"
     ]
    },
    {
     "name": "stderr",
     "output_type": "stream",
     "text": [
      "  WARNING: The scripts csv2rdf.exe, rdf2dot.exe, rdfgraphisomorphism.exe, rdfpipe.exe and rdfs2dot.exe are installed in 'C:\\Users\\Admin\\AppData\\Roaming\\Python\\Python38\\Scripts' which is not on PATH.\n",
      "  Consider adding this directory to PATH or, if you prefer to suppress this warning, use --no-warn-script-location.\n"
     ]
    }
   ],
   "source": [
    "# !pip install rdflib"
   ]
  },
  {
   "cell_type": "markdown",
   "metadata": {},
   "source": [
    "RDF состоит из триплов, триплы это субъект-предикат-объект. Типа что - как_связано - с_чем. В либе rdflib вся эта сложная структура переведена в pythonic way -- у нас собирается что-то вроде контейнера\\списка с 3-х элементными кортежами внутри. \n",
    "\n",
    "Вот пример из [документации](https://rdflib.readthedocs.io/en/stable/gettingstarted.html):\n",
    "\n",
    "RDF consists of so-called triples. Triples are basically objects that consist of subject-predicate-object *= what-is connected-with what*. rdflib is a pythonic way to deal with this data type. It creates kind of list of tuples of three elements inside\n",
    "\n",
    "Below you can find an example from docs:\n",
    " \n",
    "```\n",
    "[\n",
    "    (subject0, predicate0, object0),\n",
    "    (subject1, predicate1, object1),\n",
    "    ...\n",
    "    (subjectN, predicateN, objectN)\n",
    " ]\n",
    "```"
   ]
  },
  {
   "cell_type": "markdown",
   "metadata": {},
   "source": [
    "Чтобы сразу не бросаться в огонь, я просто переведу саму таблицу с андийскими данными в pandas. А уже потом этот dataframe можно будет аккуратно переводить в rdf.\n",
    "\n",
    "First we transform data into pandas dataframe. Then we can transform dataframe into an RDF graph."
   ]
  },
  {
   "cell_type": "markdown",
   "metadata": {},
   "source": [
    "С гугл таблицами мне помог вот этот [туториал](https://medium.com/analytics-vidhya/how-to-read-and-write-data-to-google-spreadsheet-using-python-ebf54d51a72c)\n",
    "\n",
    "Но к сожалению, это работает везде кроме колаба. Видимо, колаб не умеет поднимать локальные сервера.\n",
    "\n",
    "Here you can find a very helpful tutorial on how to deal with google table insife ipython notebooks. [tutorial](https://medium.com/analytics-vidhya/how-to-read-and-write-data-to-google-spreadsheet-using-python-ebf54d51a72c). Unfortunately, it doesn't work well with google colab."
   ]
  },
  {
   "cell_type": "code",
   "execution_count": 1,
   "metadata": {},
   "outputs": [],
   "source": [
    "import re\n",
    "import pandas as pd\n",
    "from googleapiclient.discovery import build\n",
    "from google_auth_oauthlib.flow import InstalledAppFlow,Flow\n",
    "from google.auth.transport.requests import Request\n",
    "import os\n",
    "import pickle\n",
    "from tqdm import tqdm"
   ]
  },
  {
   "cell_type": "code",
   "execution_count": 3,
   "metadata": {},
   "outputs": [
    {
     "ename": "RefreshError",
     "evalue": "('invalid_grant: Bad Request', '{\\n  \"error\": \"invalid_grant\",\\n  \"error_description\": \"Bad Request\"\\n}')",
     "output_type": "error",
     "traceback": [
      "\u001b[1;31m---------------------------------------------------------------------------\u001b[0m",
      "\u001b[1;31mRefreshError\u001b[0m                              Traceback (most recent call last)",
      "\u001b[1;32m<ipython-input-3-453af0b096cb>\u001b[0m in \u001b[0;36m<module>\u001b[1;34m\u001b[0m\n\u001b[0;32m     34\u001b[0m         \u001b[0mprint\u001b[0m\u001b[1;33m(\u001b[0m\u001b[1;34m'No data found.'\u001b[0m\u001b[1;33m)\u001b[0m\u001b[1;33m\u001b[0m\u001b[1;33m\u001b[0m\u001b[0m\n\u001b[0;32m     35\u001b[0m \u001b[1;33m\u001b[0m\u001b[0m\n\u001b[1;32m---> 36\u001b[1;33m \u001b[0mmain\u001b[0m\u001b[1;33m(\u001b[0m\u001b[1;33m)\u001b[0m\u001b[1;33m\u001b[0m\u001b[1;33m\u001b[0m\u001b[0m\n\u001b[0m\u001b[0;32m     37\u001b[0m \u001b[1;33m\u001b[0m\u001b[0m\n\u001b[0;32m     38\u001b[0m \u001b[0mdf\u001b[0m \u001b[1;33m=\u001b[0m \u001b[0mpd\u001b[0m\u001b[1;33m.\u001b[0m\u001b[0mDataFrame\u001b[0m\u001b[1;33m(\u001b[0m\u001b[0mvalues_input\u001b[0m\u001b[1;33m[\u001b[0m\u001b[1;36m1\u001b[0m\u001b[1;33m:\u001b[0m\u001b[1;33m]\u001b[0m\u001b[1;33m,\u001b[0m \u001b[0mcolumns\u001b[0m\u001b[1;33m=\u001b[0m\u001b[0mvalues_input\u001b[0m\u001b[1;33m[\u001b[0m\u001b[1;36m0\u001b[0m\u001b[1;33m]\u001b[0m\u001b[1;33m)\u001b[0m\u001b[1;33m\u001b[0m\u001b[1;33m\u001b[0m\u001b[0m\n",
      "\u001b[1;32m<ipython-input-3-453af0b096cb>\u001b[0m in \u001b[0;36mmain\u001b[1;34m()\u001b[0m\n\u001b[0;32m     15\u001b[0m     \u001b[1;32mif\u001b[0m \u001b[1;32mnot\u001b[0m \u001b[0mcreds\u001b[0m \u001b[1;32mor\u001b[0m \u001b[1;32mnot\u001b[0m \u001b[0mcreds\u001b[0m\u001b[1;33m.\u001b[0m\u001b[0mvalid\u001b[0m\u001b[1;33m:\u001b[0m\u001b[1;33m\u001b[0m\u001b[1;33m\u001b[0m\u001b[0m\n\u001b[0;32m     16\u001b[0m         \u001b[1;32mif\u001b[0m \u001b[0mcreds\u001b[0m \u001b[1;32mand\u001b[0m \u001b[0mcreds\u001b[0m\u001b[1;33m.\u001b[0m\u001b[0mexpired\u001b[0m \u001b[1;32mand\u001b[0m \u001b[0mcreds\u001b[0m\u001b[1;33m.\u001b[0m\u001b[0mrefresh_token\u001b[0m\u001b[1;33m:\u001b[0m\u001b[1;33m\u001b[0m\u001b[1;33m\u001b[0m\u001b[0m\n\u001b[1;32m---> 17\u001b[1;33m             \u001b[0mcreds\u001b[0m\u001b[1;33m.\u001b[0m\u001b[0mrefresh\u001b[0m\u001b[1;33m(\u001b[0m\u001b[0mRequest\u001b[0m\u001b[1;33m(\u001b[0m\u001b[1;33m)\u001b[0m\u001b[1;33m)\u001b[0m\u001b[1;33m\u001b[0m\u001b[1;33m\u001b[0m\u001b[0m\n\u001b[0m\u001b[0;32m     18\u001b[0m         \u001b[1;32melse\u001b[0m\u001b[1;33m:\u001b[0m\u001b[1;33m\u001b[0m\u001b[1;33m\u001b[0m\u001b[0m\n\u001b[0;32m     19\u001b[0m             flow = InstalledAppFlow.from_client_secrets_file(\n",
      "\u001b[1;32md:\\python371\\lib\\site-packages\\google\\oauth2\\credentials.py\u001b[0m in \u001b[0;36mrefresh\u001b[1;34m(self, request)\u001b[0m\n\u001b[0;32m    181\u001b[0m             \u001b[0mself\u001b[0m\u001b[1;33m.\u001b[0m\u001b[0m_client_id\u001b[0m\u001b[1;33m,\u001b[0m\u001b[1;33m\u001b[0m\u001b[1;33m\u001b[0m\u001b[0m\n\u001b[0;32m    182\u001b[0m             \u001b[0mself\u001b[0m\u001b[1;33m.\u001b[0m\u001b[0m_client_secret\u001b[0m\u001b[1;33m,\u001b[0m\u001b[1;33m\u001b[0m\u001b[1;33m\u001b[0m\u001b[0m\n\u001b[1;32m--> 183\u001b[1;33m             \u001b[0mself\u001b[0m\u001b[1;33m.\u001b[0m\u001b[0m_scopes\u001b[0m\u001b[1;33m,\u001b[0m\u001b[1;33m\u001b[0m\u001b[1;33m\u001b[0m\u001b[0m\n\u001b[0m\u001b[0;32m    184\u001b[0m         )\n\u001b[0;32m    185\u001b[0m \u001b[1;33m\u001b[0m\u001b[0m\n",
      "\u001b[1;32md:\\python371\\lib\\site-packages\\google\\oauth2\\_client.py\u001b[0m in \u001b[0;36mrefresh_grant\u001b[1;34m(request, token_uri, refresh_token, client_id, client_secret, scopes)\u001b[0m\n\u001b[0;32m    246\u001b[0m         \u001b[0mbody\u001b[0m\u001b[1;33m[\u001b[0m\u001b[1;34m\"scope\"\u001b[0m\u001b[1;33m]\u001b[0m \u001b[1;33m=\u001b[0m \u001b[1;34m\" \"\u001b[0m\u001b[1;33m.\u001b[0m\u001b[0mjoin\u001b[0m\u001b[1;33m(\u001b[0m\u001b[0mscopes\u001b[0m\u001b[1;33m)\u001b[0m\u001b[1;33m\u001b[0m\u001b[1;33m\u001b[0m\u001b[0m\n\u001b[0;32m    247\u001b[0m \u001b[1;33m\u001b[0m\u001b[0m\n\u001b[1;32m--> 248\u001b[1;33m     \u001b[0mresponse_data\u001b[0m \u001b[1;33m=\u001b[0m \u001b[0m_token_endpoint_request\u001b[0m\u001b[1;33m(\u001b[0m\u001b[0mrequest\u001b[0m\u001b[1;33m,\u001b[0m \u001b[0mtoken_uri\u001b[0m\u001b[1;33m,\u001b[0m \u001b[0mbody\u001b[0m\u001b[1;33m)\u001b[0m\u001b[1;33m\u001b[0m\u001b[1;33m\u001b[0m\u001b[0m\n\u001b[0m\u001b[0;32m    249\u001b[0m \u001b[1;33m\u001b[0m\u001b[0m\n\u001b[0;32m    250\u001b[0m     \u001b[1;32mtry\u001b[0m\u001b[1;33m:\u001b[0m\u001b[1;33m\u001b[0m\u001b[1;33m\u001b[0m\u001b[0m\n",
      "\u001b[1;32md:\\python371\\lib\\site-packages\\google\\oauth2\\_client.py\u001b[0m in \u001b[0;36m_token_endpoint_request\u001b[1;34m(request, token_uri, body)\u001b[0m\n\u001b[0;32m    122\u001b[0m                 \u001b[0mretry\u001b[0m \u001b[1;33m+=\u001b[0m \u001b[1;36m1\u001b[0m\u001b[1;33m\u001b[0m\u001b[1;33m\u001b[0m\u001b[0m\n\u001b[0;32m    123\u001b[0m                 \u001b[1;32mcontinue\u001b[0m\u001b[1;33m\u001b[0m\u001b[1;33m\u001b[0m\u001b[0m\n\u001b[1;32m--> 124\u001b[1;33m             \u001b[0m_handle_error_response\u001b[0m\u001b[1;33m(\u001b[0m\u001b[0mresponse_body\u001b[0m\u001b[1;33m)\u001b[0m\u001b[1;33m\u001b[0m\u001b[1;33m\u001b[0m\u001b[0m\n\u001b[0m\u001b[0;32m    125\u001b[0m \u001b[1;33m\u001b[0m\u001b[0m\n\u001b[0;32m    126\u001b[0m     \u001b[1;32mreturn\u001b[0m \u001b[0mresponse_data\u001b[0m\u001b[1;33m\u001b[0m\u001b[1;33m\u001b[0m\u001b[0m\n",
      "\u001b[1;32md:\\python371\\lib\\site-packages\\google\\oauth2\\_client.py\u001b[0m in \u001b[0;36m_handle_error_response\u001b[1;34m(response_body)\u001b[0m\n\u001b[0;32m     58\u001b[0m         \u001b[0merror_details\u001b[0m \u001b[1;33m=\u001b[0m \u001b[0mresponse_body\u001b[0m\u001b[1;33m\u001b[0m\u001b[1;33m\u001b[0m\u001b[0m\n\u001b[0;32m     59\u001b[0m \u001b[1;33m\u001b[0m\u001b[0m\n\u001b[1;32m---> 60\u001b[1;33m     \u001b[1;32mraise\u001b[0m \u001b[0mexceptions\u001b[0m\u001b[1;33m.\u001b[0m\u001b[0mRefreshError\u001b[0m\u001b[1;33m(\u001b[0m\u001b[0merror_details\u001b[0m\u001b[1;33m,\u001b[0m \u001b[0mresponse_body\u001b[0m\u001b[1;33m)\u001b[0m\u001b[1;33m\u001b[0m\u001b[1;33m\u001b[0m\u001b[0m\n\u001b[0m\u001b[0;32m     61\u001b[0m \u001b[1;33m\u001b[0m\u001b[0m\n\u001b[0;32m     62\u001b[0m \u001b[1;33m\u001b[0m\u001b[0m\n",
      "\u001b[1;31mRefreshError\u001b[0m: ('invalid_grant: Bad Request', '{\\n  \"error\": \"invalid_grant\",\\n  \"error_description\": \"Bad Request\"\\n}')"
     ]
    }
   ],
   "source": [
    "andi_sheet_id = \"1wLwgyR_YBa5yuKg8ozN4aLbi4wvRCEYkwX1Xhnryuuw\"\n",
    "\n",
    "SCOPES = ['https://www.googleapis.com/auth/spreadsheets.readonly']\n",
    "\n",
    "# here enter the id of your google sheet\n",
    "SAMPLE_SPREADSHEET_ID_input = andi_sheet_id\n",
    "SAMPLE_RANGE_NAME = 'A1:S68794'\n",
    "\n",
    "def main():\n",
    "    \"\"\"\n",
    "    access google table with specific id through googleapi\n",
    "    \"\"\"\n",
    "    global values_input, service\n",
    "    creds = None\n",
    "    if os.path.exists('token.pickle'):\n",
    "        with open('token.pickle', 'rb') as token:\n",
    "            creds = pickle.load(token)\n",
    "    if not creds or not creds.valid:\n",
    "        if creds and creds.expired and creds.refresh_token:\n",
    "            creds.refresh(Request())\n",
    "        else:\n",
    "            flow = InstalledAppFlow.from_client_secrets_file(\n",
    "                'client_secret.json', SCOPES)  # here enter the name of your downloaded JSON file\n",
    "            creds = flow.run_local_server(port=0)\n",
    "        with open('token.pickle', 'wb') as token:\n",
    "            pickle.dump(creds, token)\n",
    "\n",
    "    service = build('sheets', 'v4', credentials=creds)\n",
    "\n",
    "    # Call the Sheets API\n",
    "    sheet = service.spreadsheets()\n",
    "    result_input = sheet.values().get(spreadsheetId=SAMPLE_SPREADSHEET_ID_input,\n",
    "                                range=SAMPLE_RANGE_NAME).execute()\n",
    "    values_input = result_input.get('values', [])\n",
    "\n",
    "    if not values_input:\n",
    "        print('No data found.')\n",
    "\n",
    "main()\n",
    "\n",
    "df = pd.DataFrame(values_input[1:], columns=values_input[0])"
   ]
  },
  {
   "cell_type": "code",
   "execution_count": 2,
   "metadata": {
    "scrolled": true
   },
   "outputs": [
    {
     "name": "stderr",
     "output_type": "stream",
     "text": [
      "d:\\python371\\lib\\site-packages\\IPython\\core\\interactiveshell.py:3020: DtypeWarning: Columns (0,10,17,19) have mixed types.Specify dtype option on import or set low_memory=False.\n",
      "  interactivity=interactivity, compiler=compiler, result=result)\n"
     ]
    }
   ],
   "source": [
    "df = pd.read_csv(\"andic_dicts.csv\", encoding='utf-8')"
   ]
  },
  {
   "cell_type": "code",
   "execution_count": 3,
   "metadata": {
    "scrolled": true
   },
   "outputs": [
    {
     "data": {
      "text/html": [
       "<div>\n",
       "<style scoped>\n",
       "    .dataframe tbody tr th:only-of-type {\n",
       "        vertical-align: middle;\n",
       "    }\n",
       "\n",
       "    .dataframe tbody tr th {\n",
       "        vertical-align: top;\n",
       "    }\n",
       "\n",
       "    .dataframe thead th {\n",
       "        text-align: right;\n",
       "    }\n",
       "</style>\n",
       "<table border=\"1\" class=\"dataframe\">\n",
       "  <thead>\n",
       "    <tr style=\"text-align: right;\">\n",
       "      <th></th>\n",
       "      <th>lang</th>\n",
       "      <th>id_word</th>\n",
       "      <th>id_meaning</th>\n",
       "      <th>id</th>\n",
       "      <th>lemma</th>\n",
       "      <th>ipa</th>\n",
       "      <th>morphology</th>\n",
       "      <th>bor</th>\n",
       "      <th>annotator</th>\n",
       "      <th>pos</th>\n",
       "      <th>concepticon</th>\n",
       "      <th>meaning_ru</th>\n",
       "      <th>definition</th>\n",
       "      <th>glottocode</th>\n",
       "      <th>reference</th>\n",
       "      <th>comments</th>\n",
       "      <th>borrowing_source_word</th>\n",
       "      <th>borrowing_source_comment</th>\n",
       "      <th>74,52%</th>\n",
       "      <th>Unnamed: 19</th>\n",
       "    </tr>\n",
       "  </thead>\n",
       "  <tbody>\n",
       "    <tr>\n",
       "      <th>0</th>\n",
       "      <td>botl1242</td>\n",
       "      <td>1</td>\n",
       "      <td>1</td>\n",
       "      <td>1</td>\n",
       "      <td>а:хх</td>\n",
       "      <td>NaN</td>\n",
       "      <td>NaN</td>\n",
       "      <td>NaN</td>\n",
       "      <td>George Moroz</td>\n",
       "      <td>intj</td>\n",
       "      <td>NaN</td>\n",
       "      <td>баю-бай</td>\n",
       "      <td>баю-бай</td>\n",
       "      <td>botl1242</td>\n",
       "      <td>Saidova, Abusov 2012</td>\n",
       "      <td>NaN</td>\n",
       "      <td>NaN</td>\n",
       "      <td>NaN</td>\n",
       "      <td>4473.0</td>\n",
       "      <td>NaN</td>\n",
       "    </tr>\n",
       "    <tr>\n",
       "      <th>1</th>\n",
       "      <td>NaN</td>\n",
       "      <td>2</td>\n",
       "      <td>1</td>\n",
       "      <td>2</td>\n",
       "      <td>аᴴгь/а́й</td>\n",
       "      <td>NaN</td>\n",
       "      <td>NaN</td>\n",
       "      <td>NaN</td>\n",
       "      <td>George Moroz</td>\n",
       "      <td>verb</td>\n",
       "      <td>NaN</td>\n",
       "      <td>сообщать</td>\n",
       "      <td>понуд. от аᴴгьи; 1) сообщать, доводить до свед...</td>\n",
       "      <td>botl1242</td>\n",
       "      <td>Saidova, Abusov 2012</td>\n",
       "      <td>NaN</td>\n",
       "      <td>NaN</td>\n",
       "      <td>NaN</td>\n",
       "      <td>9449.0</td>\n",
       "      <td>NaN</td>\n",
       "    </tr>\n",
       "    <tr>\n",
       "      <th>2</th>\n",
       "      <td>NaN</td>\n",
       "      <td>2</td>\n",
       "      <td>2</td>\n",
       "      <td>3</td>\n",
       "      <td>аᴴгь/а́й</td>\n",
       "      <td>NaN</td>\n",
       "      <td>NaN</td>\n",
       "      <td>NaN</td>\n",
       "      <td>George Moroz</td>\n",
       "      <td>verb</td>\n",
       "      <td>NaN</td>\n",
       "      <td>объявлять</td>\n",
       "      <td>понуд. от аᴴгьи; 1) сообщать, доводить до свед...</td>\n",
       "      <td>botl1242</td>\n",
       "      <td>Saidova, Abusov 2012</td>\n",
       "      <td>NaN</td>\n",
       "      <td>NaN</td>\n",
       "      <td>NaN</td>\n",
       "      <td>12706.0</td>\n",
       "      <td>NaN</td>\n",
       "    </tr>\n",
       "    <tr>\n",
       "      <th>3</th>\n",
       "      <td>NaN</td>\n",
       "      <td>2</td>\n",
       "      <td>3</td>\n",
       "      <td>4</td>\n",
       "      <td>аᴴгь/а́й</td>\n",
       "      <td>NaN</td>\n",
       "      <td>NaN</td>\n",
       "      <td>NaN</td>\n",
       "      <td>George Moroz</td>\n",
       "      <td>verb</td>\n",
       "      <td>NaN</td>\n",
       "      <td>нанимать</td>\n",
       "      <td>понуд. от аᴴгьи; 1) сообщать, доводить до свед...</td>\n",
       "      <td>botl1242</td>\n",
       "      <td>Saidova, Abusov 2012</td>\n",
       "      <td>NaN</td>\n",
       "      <td>NaN</td>\n",
       "      <td>NaN</td>\n",
       "      <td>6868.0</td>\n",
       "      <td>NaN</td>\n",
       "    </tr>\n",
       "    <tr>\n",
       "      <th>4</th>\n",
       "      <td>NaN</td>\n",
       "      <td>2</td>\n",
       "      <td>4</td>\n",
       "      <td>5</td>\n",
       "      <td>аᴴгь/а́й</td>\n",
       "      <td>NaN</td>\n",
       "      <td>NaN</td>\n",
       "      <td>NaN</td>\n",
       "      <td>George Moroz</td>\n",
       "      <td>verb</td>\n",
       "      <td>NaN</td>\n",
       "      <td>предупреждать</td>\n",
       "      <td>понуд. от аᴴгьи; 1) сообщать, доводить до свед...</td>\n",
       "      <td>botl1242</td>\n",
       "      <td>Saidova, Abusov 2012</td>\n",
       "      <td>NaN</td>\n",
       "      <td>NaN</td>\n",
       "      <td>NaN</td>\n",
       "      <td>12724.0</td>\n",
       "      <td>NaN</td>\n",
       "    </tr>\n",
       "  </tbody>\n",
       "</table>\n",
       "</div>"
      ],
      "text/plain": [
       "       lang  id_word  id_meaning  id    lemma   ipa morphology  bor  \\\n",
       "0  botl1242        1           1   1      а:хх  NaN        NaN  NaN   \n",
       "1       NaN        2           1   2  аᴴгь/а́й  NaN        NaN  NaN   \n",
       "2       NaN        2           2   3  аᴴгь/а́й  NaN        NaN  NaN   \n",
       "3       NaN        2           3   4  аᴴгь/а́й  NaN        NaN  NaN   \n",
       "4       NaN        2           4   5  аᴴгь/а́й  NaN        NaN  NaN   \n",
       "\n",
       "      annotator   pos concepticon     meaning_ru  \\\n",
       "0  George Moroz  intj         NaN        баю-бай   \n",
       "1  George Moroz  verb         NaN       сообщать   \n",
       "2  George Moroz  verb         NaN      объявлять   \n",
       "3  George Moroz  verb         NaN       нанимать   \n",
       "4  George Moroz  verb         NaN  предупреждать   \n",
       "\n",
       "                                          definition glottocode  \\\n",
       "0                                            баю-бай   botl1242   \n",
       "1  понуд. от аᴴгьи; 1) сообщать, доводить до свед...   botl1242   \n",
       "2  понуд. от аᴴгьи; 1) сообщать, доводить до свед...   botl1242   \n",
       "3  понуд. от аᴴгьи; 1) сообщать, доводить до свед...   botl1242   \n",
       "4  понуд. от аᴴгьи; 1) сообщать, доводить до свед...   botl1242   \n",
       "\n",
       "              reference comments borrowing_source_word  \\\n",
       "0  Saidova, Abusov 2012      NaN                   NaN   \n",
       "1  Saidova, Abusov 2012      NaN                   NaN   \n",
       "2  Saidova, Abusov 2012      NaN                   NaN   \n",
       "3  Saidova, Abusov 2012      NaN                   NaN   \n",
       "4  Saidova, Abusov 2012      NaN                   NaN   \n",
       "\n",
       "  borrowing_source_comment   74,52% Unnamed: 19  \n",
       "0                      NaN   4473.0         NaN  \n",
       "1                      NaN   9449.0         NaN  \n",
       "2                      NaN  12706.0         NaN  \n",
       "3                      NaN   6868.0         NaN  \n",
       "4                      NaN  12724.0         NaN  "
      ]
     },
     "execution_count": 3,
     "metadata": {},
     "output_type": "execute_result"
    }
   ],
   "source": [
    "df.head()"
   ]
  },
  {
   "cell_type": "markdown",
   "metadata": {},
   "source": [
    "Делаем какой-то RDF (пока не знаем какой, просто делаем, чтобы знать, что мы такое умеем)\n",
    "\n",
    "Let us try to compose some RDF graph:"
   ]
  },
  {
   "cell_type": "code",
   "execution_count": 4,
   "metadata": {},
   "outputs": [],
   "source": [
    "import rdflib\n",
    "from rdflib.namespace import RDF, RDFS, OWL, DC, DCTERMS\n",
    "from rdflib.term import URIRef, Literal"
   ]
  },
  {
   "cell_type": "code",
   "execution_count": 5,
   "metadata": {},
   "outputs": [],
   "source": [
    "g = rdflib.Graph(identifier='http://example.org/ontolex/andi#')  # пока рандомная ссылка"
   ]
  },
  {
   "cell_type": "code",
   "execution_count": 6,
   "metadata": {},
   "outputs": [],
   "source": [
    "andi = rdflib.Namespace('http://example.org/ontolex/andi#')  # Корневой Namespace с рандомной ссылкой\n",
    "\n",
    "ontolex = rdflib.Namespace('http://www.w3.org/ns/lemon/ontolex#')  # основная модель\n",
    "lexinfo = rdflib.Namespace('http://www.lexinfo.net/ontology/2.0/lexinfo#')  # обозначение морфологических тегов\n",
    "lime = rdflib.Namespace('http://www.w3.org/ns/lemon/lime#')\n",
    "#synsem = rdflib.Namespace('http://www.w3.org/ns/lemon/synsem#')  # синтаксис\n",
    "#decomp = rdflib.Namespace('http://www.w3.org/ns/lemon/decomp#')  # синтаксис\n",
    "vartrans = rdflib.Namespace('http://www.w3.org/ns/lemon/vartrans#')  # для обозначения переводов и вариантов слов\n",
    "skos = rdflib.Namespace('http://www.w3.org/2004/02/skos#')"
   ]
  },
  {
   "cell_type": "code",
   "execution_count": 7,
   "metadata": {},
   "outputs": [],
   "source": [
    "g.bind('ontolex', ontolex)\n",
    "g.bind('lexinfo', lexinfo)\n",
    "g.bind('dct', DCTERMS)  # Это для того, чтобы названия ISO языков грузились\n",
    "g.bind('rdfs', RDFS)\n",
    "g.bind('lime', lime)  # ??\n",
    "#g.bind('synsem', synsem)\n",
    "#g.bind('decomp', decomp)\n",
    "g.bind('vartrans', vartrans)\n",
    "g.bind('skos', skos)\n",
    "\n",
    "g.bind('andi', andi)\n",
    "\n",
    "lexicon_andi = URIRef(andi)"
   ]
  },
  {
   "cell_type": "code",
   "execution_count": 8,
   "metadata": {},
   "outputs": [],
   "source": [
    "# Надо вот тут добавить все типы триплов, чтобы они добавились в префиксы ниже\n",
    "g.set((lexicon_andi, RDF.type, lime.Lexicon))\n",
    "g.set((lexicon_andi, ontolex.language, Literal(\"ru, ani\")))\n",
    "g.set((lexicon_andi, RDFS.comment, Literal(\"lexicon-information_name:Andi-Russian\", lang=\"en\")))\n",
    "\n",
    "#g.set((lexicon_andi, andi, Literal(\"entry\")))\n",
    "\n",
    "#lime:Lexicon_Kadag1884_bbl a ontolex:Lexicon.\n",
    "#lime:Lexicon_Kadag1884_bbl ontolex:language \"bbl\", \"ka\", \"ru\".\n",
    "#lime:Lexicon_Kadag1884_bbl rdfs:comment \"lexicon-information_name:Kadagidze - Batsbi-Georgian-Russian\"@en.\n",
    "\n",
    "#g.set((apics_doc, ligt.hasUtterances, apics.examples))\n",
    "#g.set((apics.examples, RDF.type, ligt.InterlinearCollection))\n",
    "#Probably it should also be a `dc:bibliographicCitation`\n",
    "#g.set((apics.examples, RDFS.comment, Literal(apics_dataset.properties['dc:bibliographicCitation '], lang=\"en\")))"
   ]
  },
  {
   "cell_type": "code",
   "execution_count": 9,
   "metadata": {
    "scrolled": false
   },
   "outputs": [
    {
     "name": "stdout",
     "output_type": "stream",
     "text": [
      "@prefix andi: <http://example.org/ontolex/andi#> .\n",
      "@prefix lime: <http://www.w3.org/ns/lemon/lime#> .\n",
      "@prefix ontolex: <http://www.w3.org/ns/lemon/ontolex#> .\n",
      "@prefix rdfs: <http://www.w3.org/2000/01/rdf-schema#> .\n",
      "\n",
      "andi: a lime:Lexicon ;\n",
      "    rdfs:comment \"lexicon-information_name:Andi-Russian\"@en ;\n",
      "    ontolex:language \"ru, ani\" .\n",
      "\n",
      "\n"
     ]
    }
   ],
   "source": [
    "# сделала пустой turtle, прикольно\n",
    "print(g.serialize(format='turtle').decode('utf-8'))"
   ]
  },
  {
   "cell_type": "code",
   "execution_count": 14,
   "metadata": {
    "scrolled": true
   },
   "outputs": [
    {
     "data": {
      "text/plain": [
       "['noun',\n",
       " 'verb',\n",
       " 'adj',\n",
       " 'adv',\n",
       " 'noun III',\n",
       " 'noun IV',\n",
       " 'masdar',\n",
       " 'num',\n",
       " 'noun V',\n",
       " 'pron',\n",
       " 'intj',\n",
       " 'part',\n",
       " 'x',\n",
       " 'noun I',\n",
       " 'post',\n",
       " 'particle',\n",
       " '?',\n",
       " 'noun I,II',\n",
       " 'masd',\n",
       " 'noun II',\n",
       " 'excl',\n",
       " 'expression',\n",
       " 'onomatope',\n",
       " 'conj',\n",
       " 'participle',\n",
       " 'aux',\n",
       " 'adverb',\n",
       " 'adv?',\n",
       " 'prep',\n",
       " 'morph',\n",
       " 'noun?',\n",
       " 'noun II,IV',\n",
       " 'verb/adj',\n",
       " 'adj?',\n",
       " 'part?',\n",
       " 'adposition',\n",
       " 'noun I,II,III',\n",
       " 'particle?',\n",
       " 'verb?',\n",
       " 'pred',\n",
       " 'verb/adv',\n",
       " 'ayx',\n",
       " 'ordinal',\n",
       " 'pronoun',\n",
       " 'excl?',\n",
       " 'gerund?',\n",
       " 'noun VI',\n",
       " 'num?',\n",
       " '???',\n",
       " 'expression/noun',\n",
       " 'adposition?',\n",
       " 'masdar?',\n",
       " '? :)',\n",
       " 'союз',\n",
       " 'morpheme',\n",
       " 'noun I,III',\n",
       " 'part, adv',\n",
       " 'noun I,I',\n",
       " 'expr']"
      ]
     },
     "execution_count": 14,
     "metadata": {},
     "output_type": "execute_result"
    }
   ],
   "source": [
    "# check what POS names are used in the original table\n",
    "df['pos'].value_counts().index.tolist()"
   ]
  },
  {
   "cell_type": "code",
   "execution_count": 15,
   "metadata": {
    "scrolled": true
   },
   "outputs": [
    {
     "data": {
      "text/plain": [
       "['(-лIа)',\n",
       " 'no info',\n",
       " '(-ролIи)',\n",
       " '(–лъ)',\n",
       " '4',\n",
       " '(–лъилъ)',\n",
       " '(-лIи)',\n",
       " \"(-а̄ри, -ва, -айа', -айе̄гье, -а̄ре)\",\n",
       " '(-лIа, -би)',\n",
       " \"(-ари', -ва, -а', -е̄'гье, -е'ре)\",\n",
       " '(–лъ,–би)',\n",
       " '5',\n",
       " '(-лIи, -бé)',\n",
       " '(-лIа, -аби)',\n",
       " '(-лI, -бе)',\n",
       " '(–л,–лас̄,–лá,–л̄о,–лēх)',\n",
       " '(-о, -ā, -иба, -о/-ōта, -ā)',\n",
       " '(–илъ,–аби)',\n",
       " '(-0, -с, -0, -бхва, -йдйа)',\n",
       " '(-ол|, -ди)',\n",
       " '(-л|, -ди)',\n",
       " '(–лъ,–аби)',\n",
       " '(–илъ)',\n",
       " '(-л|)',\n",
       " '(-нолIи)',\n",
       " '(-áло, -áлā, -алá, -áло/-áлōта, -áлā)',\n",
       " '(-ало, -алā, -ала, -ало/-алōта, -алā)',\n",
       " '(-áлIи)',\n",
       " '(-илI, -бе)',\n",
       " '(-лъ̄илIи)',\n",
       " '(-лъ̄илIи / -лIи, -ди)',\n",
       " '(–ø,–ас̄,–бе,–б/о,–āх)',\n",
       " '(-ол|)',\n",
       " '(-о, -ā́, -ибá, -о/-ṓта, -ā́)',\n",
       " \"(-а̄'ри, -ва, -айа', -а'йе̄гье, -а̄'ре)\",\n",
       " '3',\n",
       " \"(-ари, -ва, -а', -е̄гье, -ере)\",\n",
       " '(-лъ̄илIи / -лIи)',\n",
       " '(-о, -ā, -а, -о/-ōта, -ā)',\n",
       " '(–ø,–ас̄,–бé,–б/о,–ēх)',\n",
       " '(-е, -ас, -и, -ебхва, -идйа)',\n",
       " '(–л,–лас̄,–ла,–л̄о,–лēх)',\n",
       " '(-лI, -ди)',\n",
       " '(-ийо, -ийā, -ӣба, -ийо/-ийōта, -ийā)',\n",
       " '(-лъ̄илIи, -ди)',\n",
       " '(-илIи, -абé)',\n",
       " '(-лIи / -лъ̄илIи, -ди)',\n",
       " '(гиг.)',\n",
       " '(-ил|)',\n",
       " '(–ø,–ас̄,–бе,–б/о,–ēх)',\n",
       " '(–ø,–ас̄,–бé,–б/о,–āх)',\n",
       " '(-лъ̄илIи /-лIи)',\n",
       " '(-лI, тк. ед.)',\n",
       " '(-алIи)',\n",
       " '(-лIи / -лъ̄илIи)',\n",
       " '(-о, -ā́, -á, -о/-ṓта, -ā́)',\n",
       " '(-лъ̄илIи /-лIи, -ди)',\n",
       " '(-щуб)',\n",
       " '(-ил|, -ди)',\n",
       " '(–улъ,–аби)',\n",
       " '(-лIи, -ди)',\n",
       " '(-илIа, -иби)',\n",
       " '(-улI, -бе)',\n",
       " '(-0, -с, -0, -0, -йдйа)',\n",
       " '(-лIа, -áби)',\n",
       " \"(-ани', -ва, -а', -е̄'гье, -е'не)\",\n",
       " '(-лIи/- лъ̄илIи)',\n",
       " '(-рдуб)',\n",
       " '(–ø,–ас̄,–а,–б/о,–āх)',\n",
       " '(-лIи/- лъ̄илIи, -ди)',\n",
       " '(–щу/б,–заби)',\n",
       " '(–ø,–ас̄,–á,–б/о,–āх)',\n",
       " '(-лълъилIи)',\n",
       " \"(-ари', -ва, -акьа', -е̄'гье, -е'ре)\",\n",
       " '(–улъ)',\n",
       " '1',\n",
       " '(-о, -ā, -á, -о/-ōта, -ā)',\n",
       " '(-илIа)',\n",
       " '(-лIа, -иби)',\n",
       " '(–илъ,–иби)',\n",
       " '(-áлIи, -бé)',\n",
       " '(–щу/б,–лъилъ,–заби)',\n",
       " '(-а̄ри, -ва, -айа, -айе̄гье, -а̄ре)',\n",
       " \"(-ари', -ва, -а', -е̄гье, -е'ре)\",\n",
       " '(-ýлIи, -абé)',\n",
       " '(-е, -ас, -и, -ебхва, -да)',\n",
       " '(–ø,–ас̄,–á,–б/о,–ēх)',\n",
       " '(-с̄у/б/е, -лъ̄илIи, -ди)',\n",
       " '(-л|, тк. ед.)',\n",
       " '(-ло/б/е)',\n",
       " '(-áно, -áнā, -анá, -áно/-áнōта, -áнā)',\n",
       " '(-лI, -дй)',\n",
       " '1,2',\n",
       " '2',\n",
       " '(зиб.)',\n",
       " '(-лIи, -ла)',\n",
       " '(-е, -ас, -а, -ебхва, -идйа)',\n",
       " \"(-а̄'ни, -ва, -айа', -а'йе̄гье, -а̄'не)\",\n",
       " '(–ø,–áс̄,–á,–б/о,–е́̄х)',\n",
       " '(-е, -ас, -а, -ебхва, -да)',\n",
       " '(-улIи, -абé)',\n",
       " '(–лъ,–иби)',\n",
       " '(-лъ̄илIи / -лIи, -ла)',\n",
       " '(-ол|, тк. ед.)',\n",
       " '(элат.)',\n",
       " '(-ó, -ā́, -ибá, -о/-ṓта, -ā́)',\n",
       " '(-илIи)',\n",
       " '(-щу/б, -заби)',\n",
       " '(–ø/–ни,–áс̄/–нáс̄,–á/–нá,–б/о/–ни/б/о,–āх)',\n",
       " '(-лIа, собир.)',\n",
       " '(-лъ̅илIа)',\n",
       " '(-и́лIи, -ибé)',\n",
       " '(-с̄у/б/е, -лъ̄илIи, -о)',\n",
       " '(–лъилъ,–аби)',\n",
       " '(-л мн. I, II)',\n",
       " '(-лъ̄илIи, -ла)',\n",
       " '(–у/б)',\n",
       " '(-с̄у/б/е, -ди)',\n",
       " '(-лI,тк. ед.)',\n",
       " '(-л|, -аби)',\n",
       " \"(тIа̄'ни, тIкIᴴ̄ва, тIама', тIа'ме̄гье / тIаᴴ̄'гье, тIа̄'не)\",\n",
       " '(-áлIи, -é)',\n",
       " '(-лъ̄илIи / -лIи, -а)',\n",
       " '(-с̄у/б/е, -о)',\n",
       " '(-илIа, -би)',\n",
       " '(тIàно, тIанā́, тIанá, тIàно / тIа\\xadнṓта, тIанā́)',\n",
       " '(-лIи/- лъ̄илIи, -а)',\n",
       " '(-лъ̄илIи / -лIи, )',\n",
       " '(-лIи, -бе)',\n",
       " '(-лIи/- лъ̄илIи )',\n",
       " '(-ал|)',\n",
       " '(-0, -с, -0, -мхва, -йдйа)',\n",
       " '(–а,–ас̄,–абé,–а/б/о,–ēх)',\n",
       " '(–н,–нас̄,–нá,–н̄о,–нēх)',\n",
       " '(-ё, -ас, -ей, -ебхва, -еда)',\n",
       " '(-áлIи, -ибé)',\n",
       " '(-ащуб, -забé)',\n",
       " \"(-а̄ни, -ва, -айа', -айе̄гье, -а̄не)\",\n",
       " '(-ано, -анā, -ана, -ано/-анōта, -анā)',\n",
       " '(-е, -ас, -ей, -ебхва, -еда)',\n",
       " '(-лIи/- лъ̄илIи, -ла)',\n",
       " '(–ø,–áс̄,–бé,–б/о,–е́̄х)',\n",
       " '(-ийо, -ийā, -ийа, -ийо/-ийōта, -ийā)',\n",
       " '(–ø,–ēс̄,–ē,–б/о,–ийāх)',\n",
       " \"(-ани, -ва, -а', -е̄гье, -ене)\",\n",
       " '(-оᴴ, -ā́ᴴ, -áᴴ, -оᴴ/-ṓᴴта, -ā́ᴴ)',\n",
       " '(-лъ̄илIи /-лIи, -а)',\n",
       " '(-улIа, -иби)',\n",
       " '(-ол|, -иби)',\n",
       " \"(-ари, -ва, -а', -е̄'гье, -е'ре)\",\n",
       " \"(-а̄'ри, -ва, -айа', -айе̄гье, -а̄ре)\",\n",
       " '(-улI, -абе)',\n",
       " '(-лI, собир.)',\n",
       " '(–лъ,–дари)',\n",
       " '(-лIи, -а)',\n",
       " '(-аву/б)',\n",
       " '(-улI, -е)',\n",
       " '(гиг )',\n",
       " '(-0, -с, -0, -бхва, -идйа)',\n",
       " '(-ó, -ā́, -á, -о/-ṓта, -ā́)',\n",
       " '(-áлIи, -ди́)',\n",
       " '(-е, -ас, -а, -е, -идйа)',\n",
       " '(–лъ, собир.)',\n",
       " '(-лI, -е)',\n",
       " '(-илIи, -ябé)',\n",
       " '(-е, -ас, -и, -е, -идйа)',\n",
       " '(-лIа,  -би)',\n",
       " \"(-а̄ри, -ва, -айа', -айе̄'гье, -а̄ре)\",\n",
       " '(-лΙа)',\n",
       " '(-лъ̄илIи /-лIи, -ла)',\n",
       " '(-алI, -абе)',\n",
       " '(-лIи, тк. ед.)',\n",
       " '(-щу/б)',\n",
       " '(–улъ,–би)',\n",
       " '(-лоб)',\n",
       " '(-6л|, -ди)',\n",
       " '(-лъилI, -али)',\n",
       " '(-щуб, -лъил|, -ди)',\n",
       " '(-ролIи, -ла)',\n",
       " '(-лъ̄илIи, )',\n",
       " '(-олI, -ди)',\n",
       " \"(-а̄'ри, -ва, -айа', -а'йе̄гье, -а̄ре)\",\n",
       " '(–алъ)',\n",
       " '(-лIи, собир.)',\n",
       " '(-о, -ā, -а/-иба, -о/-ōта, -ā)',\n",
       " '(-о, -вā́, -вá, -о/-ṓта, -вā́)',\n",
       " '(и мн. I, -л мн. II)',\n",
       " '(-лъ̄илIи, -а)',\n",
       " '(–а,–ас̄.–á,–/б/о,–ēх)',\n",
       " '(-е, -ас, -а, -е/-ёбхва, -да)',\n",
       " '(-ари, -ва, -а, -е̄гье, -ере)',\n",
       " '(-лълъи́лIи)',\n",
       " '(–алъ,–аби)',\n",
       " '(-алIи, -а)',\n",
       " '(-алI, -дй)',\n",
       " '(-щу/б, -лъил|, -ди)',\n",
       " '(-лІа)',\n",
       " '(–л,–лáс̄,–лá,–л̄о,–лēх)',\n",
       " '(-илI, -е)',\n",
       " '(-илI, тк. ед.)',\n",
       " '(-6л|, -дй)',\n",
       " '(–илъ, собир.)',\n",
       " '(-лъил|)',\n",
       " '(-улIа, -би)',\n",
       " '(-щу/б, -ди)',\n",
       " '(-ано, -анā́, -анá, -ано/-анṓта, -анā́)',\n",
       " '(-л|, тк ед.)',\n",
       " '(-аво, -ā́, -á, -аво/-авṓта, -ā́)',\n",
       " '(-лIи / -лъ̄илIи, )',\n",
       " \"(чIа'лIи, чIа'ди)\",\n",
       " '(-ýлIа, -áби)',\n",
       " '(-щуб, -ди)',\n",
       " '(-0, -с, -0, -мхва, -да)',\n",
       " \"(-ари, -ва, -а', -е̄гье, -е'ре)\",\n",
       " '(–лъилъ,–би)',\n",
       " '(-лIи / -лъ̄илIи, -а)',\n",
       " '(-лъ̄илIи/-лIи, -ди)',\n",
       " \"(-а̄ри, -ва, -а', -е̄'гье, -е'ре)\",\n",
       " \"(-а̄ри, -ва, -айа', -а'йе̄гье, -а̄ре)\",\n",
       " \"(-а̄ни, -ва, -а', -е̄гье, -е̄не)\",\n",
       " '(служит для образования составных числительных)',\n",
       " '(-ó, -ā́, -ибá, -ó/-ṓта, -ā́)',\n",
       " '(-илIи, -é)',\n",
       " '(-áлIи, -абé)',\n",
       " '(-илI, -али)',\n",
       " '(-илI)',\n",
       " \"(-а̄'ни, -ва, -айа', -а'йе̄гье, -а̄не)\",\n",
       " '(–ø,–áс̄,–бé,–б/о,–́а̄х)',\n",
       " '( мн.ч. кл. чел., ве-I, йе-II, IV, V и мн ч. кл. вещи; бекIал, бекIала, бекIала, бекIа̅лв, бекIалахъ)',\n",
       " '(–а,–áс̄,–абé,–а/б/о,–е́̄х)',\n",
       " '(-йлI, -бе)',\n",
       " '(-лъилI, -е)',\n",
       " '(-ол|, -ади)',\n",
       " '(-л|, -й)',\n",
       " '(-лI)',\n",
       " '(-нолIи, -на)',\n",
       " '(-ýлIа, -иби)',\n",
       " '(–áлъ,–аби)',\n",
       " '(–илъ,–а)',\n",
       " '(-елIи)',\n",
       " '(-лIи / -лъ̄илIи, -ла)',\n",
       " '(-суб, -али)',\n",
       " '(лIа)',\n",
       " \"(-ари', -ва, -а', -е̄гье, -ере)\",\n",
       " '(-е, -ас, -ей, -ебхва, -да)',\n",
       " '(-л|, -иби)',\n",
       " '(-щу/б, -лъ̅илIа, -заби)',\n",
       " '(-у, -вас, -у, -убхва, -уда)',\n",
       " '(–ø,–ас̄,–бé,–б/о,–е́̄х)',\n",
       " '(бухухáрлIа)',\n",
       " '(–н,–нáс̄,–нá,–н̄о,–нēх)',\n",
       " '(-иб, -забе)',\n",
       " '(–аᴴ,–аᴴс̄,–амé,–а/м/о,–нāх)',\n",
       " '(-лъ̄илIи/-лIи)',\n",
       " '(-илI, -ди)',\n",
       " '(-илIи, -ибé)',\n",
       " \"( у-лъ̄, и-лъ̄I э-; -ари', -ва, -а', -е̄'гье, -е'ре)\",\n",
       " '(-лIа, - би)',\n",
       " '(-а, -ас, -и, -абхва, -идйа)',\n",
       " '(-лIи /-лъ̄илIи, -ди)',\n",
       " '(-ал|, -иби)',\n",
       " '(-лIи / -е̄лIи)',\n",
       " '(-лIи /-лъ̄илIи, -а)',\n",
       " '(-0, -с, -0, -бхва, -да)',\n",
       " '(-ол|, тк ед.)',\n",
       " '(–ø,–щāс̄,–бе,–б/о,–щадāх)',\n",
       " '(и мн. I, воштти́ I, йештти́ II, рештти́ мн. II; бéштта, бешттá, и деепр.)',\n",
       " '(-ил|, -иби)',\n",
       " '(-лI, -али)',\n",
       " '(-ал|, -ди)',\n",
       " '(-л|, тк. ед )',\n",
       " '(–ӣлъ)',\n",
       " '(-ýлIи, -ибé)',\n",
       " '(–щу/б)',\n",
       " '(-улI, -али)',\n",
       " '(ву-I, IV, ййхвла II, V, бахвла мн. ч. кл. чел., йахвла мн. ч. кл. вещи; бух, бухуда, буха, бухи, бухудахъ)',\n",
       " '(-лъ̄илIи/-ролIи)',\n",
       " '(вулIи́ I, йилIи́ II, балIи́ мн. I, рулIи мн. II; бýлIи, булIáла, булIý)',\n",
       " '(-олI)',\n",
       " '(-илIи/- лъ̄илIи, -ла)',\n",
       " '(-илIи, -ди)',\n",
       " '(йа-IV, V и мн. ч. кл. вещи; баша, башйда, башабе  (баша)',\n",
       " \"(-а̄ри, -ва, -айакьа', -айе̄гье, -а̄ре)\",\n",
       " '(–илъ,–би)',\n",
       " '(или/. ч. кл. чел., ве-I, йе-II, IV, V и мн. ч. кл. вещи; беса, бесда, беса, беса, бесдахъ)',\n",
       " \"(-а̄'ри, -ва, -айакьа' / -айа', -а'йе̄гье, -а̄'ре)\",\n",
       " '(-и́лIа, -иби)',\n",
       " '(-ол|, -абди)',\n",
       " '(–щу/б,–би)',\n",
       " '(-о, -ā, -иба, -о/-ōта)',\n",
       " '(вухи́ I, йихý II, бахý мн. I, рухи́ мн. II; бýхи, бухá, бухý)',\n",
       " '(-л|, -бди)',\n",
       " '(-илI, собир.)',\n",
       " '(-ро-лIи)',\n",
       " '(-óᴴ, -ā́ᴴ, -áᴴ, -оᴴ/-ṓᴴта, -ā́ᴴ)',\n",
       " \"(-а̄'ри, -ва, -айа', -айе̄гье, -а̄'ре)\",\n",
       " '(бáа, баабé, баá)',\n",
       " '(-áлIи, тк. ед.)',\n",
       " '(-улIа)',\n",
       " '(–лъилъ,–дари)',\n",
       " '(-лIа,  -аби)',\n",
       " '(-ол|, -ай)',\n",
       " '(-ул|, -аби)',\n",
       " '(ву-I , IV, ййлIвла II, У, балIвла мн. ч. кл. чел., йалIвла мн. ч. кл. вещи; булI, булIуда, булIбе, булIи, булIудахъ)',\n",
       " '(-алIа)',\n",
       " '(имн. ч. кл. чел ,ве-I, йе-II, IV, V и мн. ч. кл. вещи; бесиса, бесасида, бесиса, бесас и/бесиса, бесасидахъ)',\n",
       " '(–ø,–áс̄,–á,–б/о,–́а̄х)',\n",
       " '(–илъ,–áби)',\n",
       " '(-лIи, )',\n",
       " '(виᴴ-I, ни- II, V, ди-IV, ба̅йла мн. ч. кл. чел., да̅йла мн. ч. кл. вещи; бйъа, бйда/биъйда, бебе/биъабе, бййа/ бйъа, белIахъ)',\n",
       " '(-ало, -алā, -ала, -ало/-алōта)',\n",
       " '(-с̄у/б/е)',\n",
       " \"(-ани', -ва, -а', -е̄гье, -е'не)\",\n",
       " '(бā, бāс̄, бебé, б́а̄бо, бéйах)',\n",
       " '(-0, -с, -0, -бхва, -йда)',\n",
       " '(–уб)',\n",
       " '(-л|, тк ед )',\n",
       " '(ø,–ас̄,–бе,–б/о,–ēх)',\n",
       " '(ву-I , IV, йй-II, V, ба- мн ч кл. чел , па-мн. ч. кл вещи; бухух, бухухуда, бухуха, бухухи, бухухудахъ)',\n",
       " '(-лолIи)',\n",
       " '(-щу/б, -лъ̅илIа, -зáби)',\n",
       " '(-илI, -вбе)',\n",
       " '(бō, баъā́, бēбá, боъо/бṓта, баъā́)',\n",
       " \"(-ари, -ва, -акьа', -е̄гье, -ере)\",\n",
       " \"(-а'ри, -ва, -а', -е̄'гье, -е'ре)\",\n",
       " '(ъвàналIа/ъвàнлIа, -би)',\n",
       " '(–лъ,–ēби)',\n",
       " '(и мн. I, -р//-л мн. II)',\n",
       " '(–ø,–ас̄,–а,–б/о,–ēх)',\n",
       " '(-илI, -абе)',\n",
       " \"(-ари', -ва, -е̄'гье, -е'ре)\",\n",
       " '(-оᴴ, -āᴴ, -иᴴба, -оᴴ/-ōᴴта, -āᴴ)',\n",
       " '(-ло/б)',\n",
       " '(-о,  -ā, -иба, -о/-ōта, -ā)',\n",
       " '(-е̄лIи)',\n",
       " '(-лъ̄илIи / -лIи, -ла / -ди)',\n",
       " '(-нолIи, -ди)',\n",
       " '(белъáрлъ)',\n",
       " \"(-а̄ри, -ва, -а', -айе̄гье, -а̄ре)\",\n",
       " '(-ё, -ас, -а, -ёбхва, -да)',\n",
       " '(-л|, -ай)',\n",
       " '(-6лI, -ди)',\n",
       " '( жибе)',\n",
       " '(-ил|, тк. ед.)',\n",
       " '(-ýлIа, -би)',\n",
       " '(–ø,–áс̄,–á,–б/о,–ēх)',\n",
       " \"(лъ̄о/б/и, чу'йи)\",\n",
       " '(–ни/–ø,–нас̄/–ас̄,–нá/–á,–ни/б/о/–б/о,–нāх/–āх)',\n",
       " '(и  мн. ч. кл. чел., ве-1, йе-II, IV, V и мн. ч. кл. вещи; бета, бетйда, бета, бета, бетйдахъ)',\n",
       " '(-лIи, -бé огр. мн. ч.)',\n",
       " '(-а̄ни, -ва, -айа, -айе̄гье, -а̄не)',\n",
       " '(-0, -ё, -0, -бхва, -йдйа)',\n",
       " '(-ийо, -ийā, -ӣба, -ийо/-ийōта)',\n",
       " '(–ø,–с̄,–ø,–б/о,–йāх)',\n",
       " \"(-а̄ри, -ва, -а', -е̄гье, -а̄ре)\",\n",
       " '(-лIи/- лъ̄илIи , -ди/-ри)',\n",
       " '(-áлIа, -áби)',\n",
       " '(-л|, -дй)',\n",
       " '(и мн. I, -р мн. II)',\n",
       " '(-лIи, рекьвама)',\n",
       " '(-илIи, -ла)',\n",
       " '(-лъ̄илIи / -илIи, -и)',\n",
       " \"(-ани', -ва, -акьа', -е̄'гье, -е'не)\",\n",
       " '(-л|, -би)',\n",
       " \"(-ани, -ва, -а', -е̄'гье, -е'не)\",\n",
       " '(-алIи, -é)',\n",
       " '(-о, -ā, -ба, -о/-ōта, -ā)',\n",
       " '(-ащуб, -ал)',\n",
       " '(-лIи / -лъ̄илIи, -ла / -ди)',\n",
       " '(–ø, кIвāс̄, кIвá,–б/о,–дāх)',\n",
       " '(-ву/б)',\n",
       " '(-лIи /-лъ̄илIи, -ла)',\n",
       " '(ийо, -ийā, -ӣба, -ийо/-ийōта, -ийā)',\n",
       " '(тIагIанкĪлIи /- лъ̄илIи, -ди)',\n",
       " '(—л|, -ди)',\n",
       " '(-иб, -лI, -забе)',\n",
       " '(-ó, -ā́, -á, -ó/-ṓта, -ā́)',\n",
       " '(-о, -ā,  -иба, -о/-ōта, -ā)',\n",
       " '(-ýлIи, -убé)',\n",
       " '(-е, -ас, -и, -е, -да)',\n",
       " '(гьи́цIи, гьицIá, гьи-цIý)',\n",
       " \"(ча̄'ри, чкĪва, чаба', ча'бе̄гье, ча̄ре)\",\n",
       " '(–ӣлъ,–иби)',\n",
       " '(-щу/б, -аби)',\n",
       " \"(-лIи, х̄а'ди)\",\n",
       " '(-иб, -илI, -али)',\n",
       " '(-0, -с, -0, -бхва, бешдидйа)',\n",
       " '(-илIа, -аби)',\n",
       " \"(-ани', -ва, -аъа', -а'ъэ̄гье, -а̄'не)\",\n",
       " '(-ащуб, -абé)',\n",
       " '(–улъ,–иби)',\n",
       " '(-е, -ас, -а, -е, -да)',\n",
       " '(-лъ̅илIа, -би)',\n",
       " '(-ол|, -дй)',\n",
       " '(-щу/б, -би)',\n",
       " '(-улIа, -аби)',\n",
       " '(-улI, тк. ед.)',\n",
       " '(-лъил|, -ди)',\n",
       " '(-у, -ас, -а, -убхва, -уда)',\n",
       " '(–щу/б,–аби)',\n",
       " '(-лIи/-лъ̄илIи, -ди)',\n",
       " '(–лъ,–áби)',\n",
       " '(-а, -ас, -у, -абхва, -уда)',\n",
       " '(-ралIи)',\n",
       " '(кквáнни, ккваннá, ккваннý)',\n",
       " '(-ýлIи, -é)',\n",
       " '(-лIи /-лъ̄илIи)',\n",
       " '(-авуб)',\n",
       " '(-0, -с, -0, -мхва, -дйа)',\n",
       " '(-илол|, -иби)',\n",
       " '(с̄ораролIи)',\n",
       " '(-алIи, -ди́)',\n",
       " '(-ýлIа, -аби)',\n",
       " '(-б//-л мн. I)',\n",
       " '(–а,–áс̄,–á,–á/б/о,–е́̄х)',\n",
       " '(-алIи, -бé)',\n",
       " '(-лъ̄илIи / -илIи, -ди)',\n",
       " '(-ё, -ас, -а, -е//аха/ /-ебхва, -да)',\n",
       " '(-щу/б, -лъи/б, -ди)',\n",
       " '(-о, -а, -иба, -о/-ōта, -ā)',\n",
       " '(о человеке)',\n",
       " '(–и,–ас̄,–ибé,–и/б/о,–ēх)',\n",
       " '(-ол|, -би)',\n",
       " '(-о, -ā, -á, -о/-ṓта, -ā́)',\n",
       " '(бачва, бачвáс̄, бачвабé, бáчва/б/о, бачве́̄х)',\n",
       " '(-лъ̄илIи / -лIи )',\n",
       " '(-лIи/- лъ̄илIи , -ди)',\n",
       " '(-лъ̄илIи / -лIи, магIинади)',\n",
       " '(-лъ̄илIи / -илIи, -ла)',\n",
       " '1, 2',\n",
       " \"(-а̄'ни, тIатIоᴴва, -ама', -а'ме̄гье, -а̄'не)\",\n",
       " '(-б мн. I, -л мн. II)',\n",
       " '( -ролIи)',\n",
       " '(и мн. I, вукки́ I, йикки́ II, рикки́ мн. II; би́кки, бикк¡, биккý)',\n",
       " '(-е, -ас, -й, -е, -идйа)',\n",
       " '(–щу/б,–ди)',\n",
       " '(и мн. I, воти́ I, йети́ II, рети́ мн. II; бéта, бетá, и деепр.)',\n",
       " '(-л|, -ади)',\n",
       " '(-е, -ас, -а, -е/-ебх-ва, -да)',\n",
       " '(-щу/б, -лъ̅илIа, -аби)',\n",
       " '(-йащуб)',\n",
       " '(с̄вáрдалъ)',\n",
       " '(и мн. I, вокъукъи́ I, йекъукъи́ II, рекъукъи́ мн. II; бекъýкъи, бекъукъалá, бекъукъалý)',\n",
       " '(-и́лIа)',\n",
       " '(-ал|, -ади)',\n",
       " '(ви-I, йи-II, IV, V, ба- мн. ч кл. чел , йаИла мн. ч. кл вещи; бисI, биййда, бисIбе, бйсIи, бисIйдахъ)',\n",
       " '(вуни́ I, йини́ II, мани́ мн. I, руни́ мн. II; мýна, мунабé, мунá)',\n",
       " '(-с̄у/б/е, -лъ̄илIи, ткĪщваᴴ̄ди)',\n",
       " '(ви-I, йи-II, IV, V, ба- мн. ч кл. чел, йа- мн. ч. кл вещи; биц, бицйда, бица, бйци, бицйдахъ)',\n",
       " '(-с̄у/б/е, цĪе/й/е II, -лъ̄илIи, цĪели)',\n",
       " '(-олIи, -и)',\n",
       " \"(-лъ̄илIи / -илIи, -ди / иᴴ'гьвади)\",\n",
       " '(–а,–ас̄,–а/б/е,–а/б/о,–ēх)',\n",
       " '(-ролIи, -ди)',\n",
       " '(-лъ̄илIи /-илIи / -лIи, -и)',\n",
       " '(-лIи/ -лъ̄илIи, -ла)',\n",
       " '(–лъ,–и)',\n",
       " '(-б//-л мн. I, -л мн. II)',\n",
       " '(–ø,–ас̄,–ба,–б/о,–āх)',\n",
       " '(-е, -ас, -й, -ебхва, -идйа)',\n",
       " '(-улI, -и)',\n",
       " '(ву-I, IV, ййквла II, V, баквла мн. ч. кл. чел., йаквла мн. ч. клло вещщ бук, букуда, букбе, буки, букудахъ)',\n",
       " '(-ОЛ|, -ди)',\n",
       " '(и повел., ххарáди, ххарадý)',\n",
       " '(-алIи / -лъ̄илIи, -а)',\n",
       " '(бетIó, -ā́, -ибá, бетIо/бетIṓта, -ā́)',\n",
       " \"(-а̄ни, -ва, -а', -е̄'гье, -е'не)\",\n",
       " '(–ø/–ни,–áс̄/–нáс,–á/–нá,–б/о/–н/и/б/о,–āх/–нāх)',\n",
       " '(щòво, щвā́, щвā, щòво / щовṓ\\xadта, щваъā́/щвā)',\n",
       " '(ýно, ýнā, ýниба, -ýно/ýнōта)',\n",
       " '(-ол|, -й)',\n",
       " '(-алIа, -аби)',\n",
       " '(-е, -ас, -и, -ебхва, -дйа)',\n",
       " '(–ø,–с̄,–ø,–б/о,–ейāх)',\n",
       " '(ву-I, IV, йигьва̅ла II, V, багьва̅ла мн ч. кл чел , йагьва̅ла мн. ч. кл. вещи; бугьал, бугьала, бугьала, бугьа̅лв, бугьалахъ)',\n",
       " '(и́кки, икк¡, иккý)',\n",
       " '(ø,–áс̄,–á,–б/о,–ēх)',\n",
       " '(-ащуб, -алълъилIи, -забé)',\n",
       " '(-лIи / -алIи, -а)',\n",
       " '(-о, -ā, -а, -о/-ōта)',\n",
       " '(гòво, гваъā, гвā, гō/говṓта, гваъā́)',\n",
       " '(-оᴴ, -ā́ᴴ, -амá, -оᴴ/-ṓᴴта, -ā́ᴴ)',\n",
       " '(-илIи, -абе)',\n",
       " \"(х̄аᴴ'лIи / х̄алъ̄иᴴлIи, х̄аᴴ'ди / х̄аᴴ'дила)\",\n",
       " '(-0, -с, -0, -0//-бхва, -йдйа)',\n",
       " '(–ø,–ас̄,–а,–б/о,–йāх/–ēх)',\n",
       " '(–ø/–л,–ēс̄/–лас̄,–ø/–лá,–б/о/–и/б/о,–йāх/–лēх)',\n",
       " '(-лIи/- лъ̄илIи , -а)',\n",
       " '(-нáлIи, -мé)',\n",
       " \"(-ари', -ва, -а, -е̄'гье, -е'ре)\",\n",
       " '(–ø,–áс̄,–бé,–б/о,–ēх)',\n",
       " '(ракъикъáрлIа)',\n",
       " '(–л,–лас̄,–ла,–л̄о,–лāх)',\n",
       " '(-оᴴ, -āᴴ, -аᴴ, -оᴴ/-ōᴴта, -āᴴ)',\n",
       " '(-лIи, -абé)',\n",
       " '(-улI, собир.)',\n",
       " '(и мн. I, вочи́ᴴ I, йечи́ᴴ II, речи́ᴴ мн. II; бéчаᴴ, бечáᴴ, и деепр.)',\n",
       " '(и мн. ч. кл. чел, ве-I, йе-II, IV, V и  мн. ч. кл вещи; бехъихъ, бехъахъйда, бехъихъа, бехъахъи, бехъахъйдахъ)',\n",
       " '(-ащуб)',\n",
       " '(–иᴴ,–аᴴс̄,–иᴴбé,–м/о,–нāх)',\n",
       " '(-лIи, -бé огр. мн.ч.)',\n",
       " '(-иб, -али)',\n",
       " '(-6л|)',\n",
       " '(-лъ̄илIи/-лIи, -ла / -ди)',\n",
       " '(ви-I, йи-II, IV, V, ба- □ бацацйлалш ч. кл. чел., йа- мн. ч. кл вещи; бйциц, бицицйда, бицица, бицйци, бицицйдахъ)',\n",
       " '(и  мн. ч. кл. чел., ва-I, йа-II, IV, V и мн. ч. кл. вещи; башиша, башашйда, башишабе  (башиша)',\n",
       " \"(-ани, -ва, -акьа', -е̄гье, -е̄не)\",\n",
       " '(вýгъали I, йи́гъали II, ри́гъали мн. I, II; би́гъали, би́гъала, би́гъалу)',\n",
       " '(-лъ̄илIи / -лIи, -и)',\n",
       " '(-áлIи, -ал)',\n",
       " '(-алIи, -ал)',\n",
       " '(-оᴴ, -ā́ᴴ, -иᴴбá, -оᴴ/-ṓᴴта, -ā́ᴴ)',\n",
       " \"(-а̄ри, -ва, -айа', -а'йе̄гье, -а̄'ре)\",\n",
       " '(-илIи, )',\n",
       " '(–лъ,–ли/–иби)',\n",
       " '(–л,–лас̄,–лá,–л̄о/–либо,–лēх)',\n",
       " '(-ýлIа)',\n",
       " '(ву-I, IV, йй- II, V, ба-мн. ч. кл. чел., на-мн. ч. кл. вещи; булIулI, булIулIуда, булIулIбе, булIулIи, булIулIудахъ)',\n",
       " '(–в,–ас̄,–á,–а/б/о,–ēх)',\n",
       " \"(-а̄'ри, -ва, -айа', -е̄'гье, -а̄'ре)\",\n",
       " '(къачIáгьиᴴ, къа-чIагьáᴴ, къачIагьýᴴ)',\n",
       " '(-е, -ас, -и, -ебхва, -йдйа)',\n",
       " '(ву-I, IV, йихвла II, V, бахвла мн. ч. кл чел., йахвла мн. ч. кл. вещи; бух, бухда, буха  (бухбе)',\n",
       " '(—лI, -бе)',\n",
       " '(-лI, тк. ед )',\n",
       " '(ви-I, йи-II, IV, V, ба- мн ч кл. чел., на-мн. ч кл вещи; бйсIал, бисIала, бисIала, бисIа̅лв, бисIалахъ)',\n",
       " '(-о, -ā́, -ибá, -о/-ṓта)',\n",
       " '(–лъилъ/–илъ)',\n",
       " '(и  мн. ч. кл. чел, ви-I,йи-II, IV, V и мн. ч. кл. вещи; бйсаᴴ, бисйна, бисаме, бйсаᴴ, бисйнахъ)',\n",
       " '(и  мн. ч. кл. чел., ве-I, йе-II, IV, V и мн. ч. кл. вещи; бетита, бетатйда, бетита, бетйта, бетатйдахъ)',\n",
       " '(-0, -с, боъйᴴ, -0, боъ иᴴдйа)',\n",
       " '(-лIи /-лъ̄илIи )',\n",
       " '(-илIи, -абé//-ал)',\n",
       " \"(-а̄ри, -ва, -айа', -айе̄гье, -а̄ри)\",\n",
       " '(–щу/б,–лъилъ)',\n",
       " '(–ø,–ас,–бé,–б/о,–ēх)',\n",
       " '(-0, -с, -0, -0/-бхва, -йдйа)',\n",
       " '(-ркĪлIи)',\n",
       " '(-ел|, -и)',\n",
       " '(-е̄лIи, -а)',\n",
       " '(-лIа, -и)',\n",
       " '(-щти)',\n",
       " '(-нолIи / тIатIанолIи)',\n",
       " '(–лъӣлъ)',\n",
       " '(-лалI, -бе)',\n",
       " '(-л|, -и)',\n",
       " '(-лъ̄илIи /-ролIи)',\n",
       " \"(къIвени', къIуᴴ'ва, къIуᴴйа', къIуᴴйе̄гье / къIвеᴴ̄'гье, къIве'не)\",\n",
       " '(–ø,–ас̄,–ба,–б/о,–ēх)',\n",
       " '(-ё, -ас, -ёй, -ёбхва, -еда)',\n",
       " \"(-а̄'ни, -ва, -ама', -а'ме̄гье, -а̄'не)\",\n",
       " '(-улI, -вбе)',\n",
       " '(и мн. I, -л//-р мн. II)',\n",
       " '(-ýлIи)',\n",
       " '(гардал/ гарадал, гардала/ гарадала, гардала, гарда̅лв/гарада̅лв, гардалахъ/гарадалахъ)',\n",
       " '(–ø,–ас̄,–бе/–абе,–б/о,–āх/–ēх)',\n",
       " '(-алIи, -ди)',\n",
       " '(ххарáдали, ххарá-дала, харáдалу)',\n",
       " '(вàно, ванā́, ванá, вàно / ванṓ\\xadта, ванā́)',\n",
       " '(-0, -с, -0, -0, белъйдйа)',\n",
       " '(-ол|, собир.)',\n",
       " '(вуххи́ I, йуххи́ II, баххý мн. I, руххи́ мн. II; бýххи, буххи́, буххý)',\n",
       " '(-илIи, -абé огр. мн. ч.)',\n",
       " \"(чIи'къаролIи)\",\n",
       " \"(-ани', -ва, -а', -е̄'гье, -е'ре)\",\n",
       " '(-й II, -л мн. I)',\n",
       " '(-лъ̄илIи/-лIи, -ла)',\n",
       " '(-ол|,-ди)',\n",
       " '(-ил|, -абди)',\n",
       " '(-е, -ас, -а, -ебхва, -еда)',\n",
       " '(ву-I , IV, ййтва̅ла II, V, батва̅ла мн. ч. кл. чел., йатва̅ла мн. ч. кл. вещи; бутал, бутала, бутала, бута̅лв, буталахъ)',\n",
       " '(–улалъ)',\n",
       " '(-лIа, -би/-аби)',\n",
       " '(–ø, кьвас̄, кьвā,–б/о, кьвад́а̄х)',\n",
       " '(ø,–вáс̄,–вá,–б/о, батIватIе́̄х)',\n",
       " '(–ӣлъ,–би)',\n",
       " '(и  мн. ч. кл чел , ве-I, йе-II, IV, V и  мн. ч. кл. вещи; бехъ, бехъйда, бехъа, бехъй, бехъйдахъ)',\n",
       " '(-ролIи / -лъ̄илIи)',\n",
       " '(джáджани, джáджанас̄, джáджана, джáджани/б/о, джáджанāх)',\n",
       " '(-áло, -áлā, -алá, -áло/-áлота, -áлā)',\n",
       " \"(мухIка'гвери, мухIка'гува, мухIкагуйа, мухIва'гуйе̄гье, мухI-ка'гвере)\",\n",
       " '(–ýлъ,–би)',\n",
       " '(-олIи / -илIи/- лъ̄илIи, -ла)',\n",
       " '(-с̄у/б/е, -лъ̄илIи, -о / -ди)',\n",
       " '(–ø,–áс̄,–бé/–á,–б/о,–е́̄х)',\n",
       " '(с̄уᴴлIи, чури)',\n",
       " '(шваᴴлIи/- лъ̄илIи)',\n",
       " '(-с̄у/б/е, -ла)',\n",
       " '(тIáми, тIамá, тIамý)',\n",
       " '(и прош., бáлала, бáлалу)',\n",
       " '( мн.ч. кл. чел , ви-I, йи-II, IV, V  мн.ч кл. вещи; бйчIа, бичIйда, бичIабй, бйчIа, бичIйдахъ)',\n",
       " '(-лолIи, -ла)',\n",
       " '(-а̄ри, -ва, -айа, -е̄гье, -а̄ре)',\n",
       " '(гвáно,  гванā́, гванá, гвáно / гванṓта, гванā́)',\n",
       " '(-лъ̄илIи /-олIи, -и)',\n",
       " '(-6л I, -аби)',\n",
       " '(употребляется при диалоге как ответ на вопрос)',\n",
       " \"(хаᴴ'с̄у/б/е, хаᴴ'ди)\",\n",
       " '(-ало/-йо, -алā/-йā, -ала/-йа, -ало/-йо/-алōта/-йōта, -алā/-йā)',\n",
       " '(-лIи /- ве̄лIи, -ди / -ла)',\n",
       " '(мн. ч. кл чел., ви-I, йи-II, IV, V и мн ч кл. вещи; бйчIал, бичIала, бичIала, бичIа̅лв, бичIалахъ)',\n",
       " \"(-ари' / -ани', -ва, -а', -е̄'гье, -е'ре / -е'не)\",\n",
       " '(-лъ̄илIи /-лIи, )',\n",
       " '(-ó, -ā́, -ибá/-á, -ó/-ṓта, -ā́)',\n",
       " '(бáли, балá, балý)',\n",
       " '(-илIи, -ал)',\n",
       " '(и повел., гIадáллъи, гIадаллъý)',\n",
       " '(-б мн. I, -л//-р мн. II)',\n",
       " \"(тIала'гвери, тIала'гува, тIалагуйа', тIалагуйе̄гье, тIала'гвере)\",\n",
       " '(-ащуб, -лълъилIи, -забé)',\n",
       " '(-оᴴ, -ā́ᴴ, -иᴴбá, -оᴴ/ṓᴴта, -ā́ᴴ)',\n",
       " '(ву-I , IV, йиква̅ла II, V, баква̅ла мн. ч. кл чел., йаква̅ла мн. ч кл. вещи; букал, букала, букала, бука̅лв, букалахъ)',\n",
       " '(-ролIи / пасатигверолIи)',\n",
       " '(-ало, -алā, -ала, -ало/-алōта, -ала)',\n",
       " '(–ø,–ас̄,–á,–л̄о,–ēх)',\n",
       " '(-лIи/- лъ̄илIи , -ди / -дила)',\n",
       " '(-о, -ā́, -á, -о/-ивṓта, -ā́)',\n",
       " '(хъѝно, хъинā́, хъинá, хъѝно/хъинṓта, хъинā́)',\n",
       " \"(-лъи'лIи / -лIи, -ди)\",\n",
       " '(–улъ,–уби)',\n",
       " '(с восклицательной интонацией употребляется в значении “ни в коем случае”, “недопустимо”)',\n",
       " '(–щу/б,–лъилъ,–аби)',\n",
       " '(-лIи/- лъ̄и-лIи)',\n",
       " '(гугуд, гугда, гугда, гугудв, гугдахъ)',\n",
       " \"(-ари, -ва, -акьа', -е̄'гье, -е'ре)\",\n",
       " '(-лI, тк ед.)',\n",
       " '(-у, -ас, -у, -убхва, -уда)',\n",
       " '(и мн. ч. кл. чел., ва-I, йа-II, IV, V и мн. ч. кл. вещи)',\n",
       " '(-лIа, - аби)',\n",
       " '(-е, -аё, -и, -ебхва, -идйа)',\n",
       " '(васIадо I, йасIаде II, IV, йасIадел V, -е мн. ч кл. чел., йасIаде/ йасIадейелш ч. кл. вещи)',\n",
       " '(-щуб, -бé)',\n",
       " '(звā́рлIа)',\n",
       " '(гъвбдáрлIа)',\n",
       " '(и  мн. ч. кл. чел , ва-I, йа-II; бацIаᴴ, бацIина, бацIаме, бацIаᴴ, бацIинахъ)',\n",
       " \"(-лIи, хва'ди)\",\n",
       " '(о слове, поступке)',\n",
       " '(-ё, -ас, -ей, -ё, -еда)',\n",
       " \"(хъа̄'ни, хъкIᴴ̄ва, хъама', хъа'ме̄гье, хъа̄'не)\",\n",
       " '(ø,–вáс̄,–вá,–ва/б/о,–ве́̄х)',\n",
       " '(–л,–лас̄,–ла,–л̄о/–ли/б/о,–лēх)',\n",
       " '(–л,–лас̄,–лá,–лēх)',\n",
       " '(-нолIи / ролIи)',\n",
       " '(-б мн. I, -р//-л мн. II)',\n",
       " '(–и,–ас̄,–а/б/é,–и/р/о,–ēх)',\n",
       " '(имн.ч. кл. чел., ва- I, йа-II, IV, V и мн. ч кл. вещи; бакъал, бакъала, бакъала, бакъа̅лв, бакъалахъ)',\n",
       " '(бáхи, бахá, бахý)',\n",
       " '(-лилIи)',\n",
       " '(-алIи, -абé)',\n",
       " '(-áлIи, собир.)',\n",
       " '(и мн. I, вутIи́ I, йитIи́ II, ритIи́ мн. II; би́тIи, битIи́, битIý)',\n",
       " '(булIулIáрлIа)',\n",
       " '(–ø,–ас̄,–á,–б/о,–́а̄х)',\n",
       " '(-ýлIи, -обé)',\n",
       " '(-лIи / -лъ̄илIи, -ма / тухуди)',\n",
       " '(-лъ̄илIи / -лIи / -е̄лIи, -а)',\n",
       " '(-6лI, -дй)',\n",
       " '(чIýно, чIýнā, чIунá, чIýно / чIýнōта, чIýнā)',\n",
       " '(-ари, -ва, -акьа, -е̄гье, -ере)',\n",
       " '(-лолIи, -а)',\n",
       " '(-ло, -лā, -лá, -ло/-лōта, -лā)',\n",
       " '(-лIи /-лъ̄илIи, -ла / -ди)',\n",
       " '(о почве)',\n",
       " '(боáли, боалá, боалý)',\n",
       " '(-лъ̄илIи/-лIи )',\n",
       " '(хихӣНлъ)',\n",
       " '(къеларкĪлIи/-ролIи)',\n",
       " '(-лъ̄илIи /-илIи, -ди)',\n",
       " '(ву-I , IV, ййтвла II, V, батвла мн. ч. кл. чел., йатвла мн. ч. кл. вещи; бута, бутда, бутабе, бута, бутдахъ)',\n",
       " '(ø,–ас̄,–бé,–б/о,–āх)',\n",
       " '(–ø,–ас̄,–бé,–б/о,–́а̄х)',\n",
       " '(и повел., пасáлъи, пасалъý)',\n",
       " '(чIèво, чIаъā́, чIā, чIèво/чIевṓта, чIаъā́)',\n",
       " '(–аᴴ,–áᴴс̄,–амé,–м/о,–ӣнāх)',\n",
       " '(–ø,–ас,–бе,–б/о,–ēх)',\n",
       " \"(-ари', -ва, -акьа, -е̄'гье, -е'ре)\",\n",
       " '(–щуб,–заби)',\n",
       " '(-лIи/- лъ̄илIи, -ла / -ди)',\n",
       " '(-лIи, -бе огр. мн. ч.)',\n",
       " '(–ø,–ас̄,–бé,–б/о,–ēх 1)',\n",
       " \"(-а'ри, -ва, -акьа', -е̄'гье, -е̄'ре)\",\n",
       " '(ил/z/. ч. кл. чел., ва-I, йа-II, IV, V и  мн. ч. кл. вещи; баха, бахйда, бахабе, баха, бахйдахъ)',\n",
       " \"(гу'ди / гвидо I, ги'ди / гиде II, гкĪли / голиди  I, ге'ди / геде  II)\",\n",
       " '(–ø,–ас̄/–нас̄,–á/–нá,–б/о–ни/б/о,–āх/–нāх)',\n",
       " '(–ø, хъвāс̄, хъвā,–б/о, хъвад́а̄х)',\n",
       " '(-е, -ас, -и, -ебх-ва, -идйа)',\n",
       " '(-лъ̄илIи, -ди / -ба)',\n",
       " '(–л,–ал,\\xa0–лáс̄/–алáс̄,\\xa0–лá/–алá,\\xa0–л̄о/–алибо,–лēх/–алēх)',\n",
       " '(-лъ̄илIи / -олIи, -и)',\n",
       " '(-лъ̄илIи /-лIи, -ла / -ди)',\n",
       " '(-лалIи)',\n",
       " '(-лъилIи)',\n",
       " \"(-лъ̄илIи /-лIи, къуᴴ'дила // къуᴴ'ди)\",\n",
       " '(-и́лIи, -é)',\n",
       " '(-ё, -ас, -а, -ебхва, -еда)',\n",
       " '(–и,–ас̄,–ибé,–и/б/о,–āх)',\n",
       " '(-ýлIи, бешамé)',\n",
       " '(–лъилъ//бичIаᴴлъ)',\n",
       " '(-ащуб, -алълъи́лIи, -забé)',\n",
       " '(-ол|, ц|вабди)',\n",
       " '(–ø,–ēс̄,–ē,–б/о,–ӣйāх)',\n",
       " \"(хъIедо-къIвени, хъIедокъIуᴴва, хъIедокъIуᴴйа' хъIедокъIвеᴴ̄гье, хъIедокъIве̄не)\",\n",
       " \"(гу-лъIа'/гулъIкĪ I, гилъIа'/гилъIе' II, голъIи  I, гелъIе II )\",\n",
       " '(ракъáᴴлъ/–лъилъ)',\n",
       " '(кI¡таᴴ, кIятамé//кIятáᴴ, кIятáᴴ)',\n",
       " '(-лIи /-лъ̄илIи, -ди / -ла)',\n",
       " '(-б, -бе)',\n",
       " '(-л|, -абди)',\n",
       " '(гъýрди, гъурдá, гъур-дý)',\n",
       " '(-оᴴ, -вāᴴ, -вáᴴ, -оᴴ/-ōᴴта, -вāᴴ)',\n",
       " '(-о, -ā, -ибá, -о/-ṓта, -ā́)',\n",
       " '(-лIи / -лолIи, -ла)',\n",
       " '(-ил|, тк ед.)',\n",
       " '(-лIи / -илIи)',\n",
       " '(-ино, -инā́, -инибá, -ино/-инṓта, -инā́)',\n",
       " '(йи-IV, V, йатIва̅ла мн. ч. кл. вещи; бйтIвал, битIвала, битIвала, битIва̅лв, битIвалахъ)',\n",
       " '(-лъ̄илIи, -ба)',\n",
       " '(-ил|, -дй)',\n",
       " \"(-а̄ри, -ва, -айа', -айе̄гье, -а̄'ре)\",\n",
       " '(ви-I, йи-II, IV, V, ба- мн. ч. кл. чел., на-мн. ч. кл. вещи; битIв, битIуда, битIвбе, бйтIви, битIудахъ)',\n",
       " '(и прош., бáхида, бáхиду)',\n",
       " '(-ялIи, -é)',\n",
       " '(-о, -ā́, -á/-ибá, -о/-ṓта, -ā́)',\n",
       " '(и  мн. ч. кл. чел , ва-I. йа-II, IV, V и  мн. ч кл вещи; бацIа, бацIда, бацIабе, бацIа, бацIдахъ)',\n",
       " '(кéцIулъ,–аби)',\n",
       " '(бугъугъáрлIа)',\n",
       " '(-лáлIи, -бé)',\n",
       " \"(-ари', -ва, -айа', -е̄'гье, -е'ре)\",\n",
       " '(требующий большого труда)',\n",
       " '(–ø,–ас̄,–бе,–б/о,–́а̄х)',\n",
       " '(-оᴴ, -вā́ᴴ, -вáᴴ, -оᴴ/-ṓᴴта, -вā́ᴴ)',\n",
       " '(-лIи/-лъ̄илIи, -ла)',\n",
       " '(-илIи/- лъ̄илIи , -ла)',\n",
       " '(-áлIи, -бé//лъумé)',\n",
       " '(экскл.)',\n",
       " '(-о, -ā́,  -абá, -о/-ṓта, -ā́)',\n",
       " '(-ё, -ас, -и, -ебхва, -да)',\n",
       " '(луллáби, луллаби́, луллабý)',\n",
       " '(ву-I , IV, ййхва̅ла II, V, бахва̅ла мн. ч. кл. чел., йахва̅ла мн. ч. кл. вещи; бухал, бухала, бухала, буха̅лв, бухалахъ)',\n",
       " '(-лI, тк ед )',\n",
       " '(ву-I, IV, йй-II, V, ба-мн. ч. кл. чел., йа-мн. ч. кл. вещи; бутута, бутутуда, бутутбе, бутута, бутутудахъ)',\n",
       " '(-и́лIи, -абé)',\n",
       " '(–уᴴ,–аᴴс̄,–áН,–м/о,–ýнāх)',\n",
       " '(и прош., би́цIала, би́цIалу)',\n",
       " '(–ø,–ас̄,–á,–ал̄о,–āх)',\n",
       " '(-илIи / -лъ̄илIи, -и)',\n",
       " '(и мн. I, вугъи́ I, йигъи́ II, ригъи́ мн. II; би́гъи, бигъи́, бигъý)',\n",
       " '(-о, -ā, -иба, -о/-ота, -ā)',\n",
       " '(и мн. I, вуси́ᴴ I, йиси́ᴴ II, риси́ᴴ мн. II; би́саᴴ, бисанá, бисáᴴ)',\n",
       " '(ву-I, IV, йй-II, V, ба- мн ч. кл. чел, йа- мн. ч. кл. вещи; бухухал, бухухала, бухухала, бухуха̅лв, бухухалахъ)',\n",
       " '(бакъáли, бáкъала, бáкъалу)',\n",
       " '(–лъ,–аби/–лдари)',\n",
       " '(-áло, -áлā,  -алá, -áло/-áлōта, -áлā)',\n",
       " '(-ēлIи)',\n",
       " '(–áлъ)',\n",
       " '(-лIи́, -бé)',\n",
       " '(башали́ мн. I, ришали́ мн. II; бишáли, бишалá, бишалý)',\n",
       " '(ччáби, ччабá, ччабý)',\n",
       " '(-о, -ā, -á, -о/-ōта, -а)',\n",
       " '(-алI, -ди)',\n",
       " '(-6л|, -ай)',\n",
       " '(-лъ̄илIи / -лIи, -о)',\n",
       " '(и мн. ч. кл. чел., ва- I, йа-II, IV, V и  мн. ч. кл. вещи; бахид, бахда, бахидбе, бахидв, бахдахъ)',\n",
       " '(–ø,–ас̄,–á,–б/о,–е́̄х)',\n",
       " '(-лIи, гьабé)',\n",
       " \"(-а̄ри, -ва, -а̄йа', -а̄йе̄гье, -а̄ре)\",\n",
       " '(-ало, -алā, -ала, -ало, -алā)',\n",
       " '(-а̄ри, -ва, -а̄йа, -айе̄гье, -а̄ре)',\n",
       " '(-лъилI, -бе)',\n",
       " '(-илIи / -лъ̄илIи/ -лIи, -и)',\n",
       " '(буххáли, буххалá, буххалý)',\n",
       " '(-алIа/-илIа)',\n",
       " '(-лIи, -ла / -ди)',\n",
       " '(о животных)',\n",
       " '(-щу/б, -зáби)',\n",
       " \"(-а'ри, -ва, -а', -е̄'гье, -ере)\",\n",
       " '(–ýлъ,–аби)',\n",
       " \"(паса'тигве̄ри, паса'тигува, пасатигуйа', паса'тигуйе̄гье, паса'тигве̄ре)\",\n",
       " '(и повел., гьали́щи, гьалищý)',\n",
       " '(-ай)',\n",
       " '(-улIи)',\n",
       " '(-налIи / -нолIи, -на)',\n",
       " '(-0, -с, -0, -бхва, баъидйа)',\n",
       " \"(-ани', -ва, -а', -е̄гье, -е'нe)\",\n",
       " '(ø,–ас̄,–á/–ба,–б/о,–ēх)',\n",
       " '(-ел|, -й)',\n",
       " '(бáкъи, бакъи́, бакъý)',\n",
       " '(и мн. I, воцIибý I, йецIибý II, рецIибý мн. II)',\n",
       " '(-ел|, -иби)',\n",
       " '(-лъ̅и́лIа, -би)',\n",
       " '(ву-I, IV, йи-II, V, ба-  мн. ч. кл. чел., йа-мн. ч. кл. вещи; бугьугьал, бугьугьала, бугьугьала, бугьугьа̅лв, бугьугьалахъ)',\n",
       " '(с̄ос̄ораролIи)',\n",
       " '(-а, -ас, -и, -ебхва, -идйа)',\n",
       " '(чаролIи / чаберолIи)',\n",
       " '(-оᴴ, -вāᴴ, -вáᴴ, -оᴴ/-ōта, -вā)',\n",
       " '(-олIи / -лъ̄илIи)',\n",
       " '(ву-I, IV, йилIва̅ла II, V, балIва̅ла мн. ч. кл. чел., йалIва̅ла мн. ч. кл. чещи; булIал, булIала, булIала, булIа̅лв, булIалахъ)',\n",
       " \"(-а̄ри, -ва, -айа', -айе̄гье -а̄ре)\",\n",
       " '(-алI, -бе)',\n",
       " '(-илIа,  -иби)',\n",
       " '(-у, -вас, -у, -уб-хва, -уда)',\n",
       " '(–а,–áс̄,–абé,–б/о,–е́̄х)',\n",
       " '(-еᴴ, -аᴴс, -иᴴ, -емх-ва, -иᴴдйа)',\n",
       " '(безвналI, безвме)',\n",
       " \"(-а̄ни, -ва, -ама', -аме̄гье, -а̄не)\",\n",
       " \"(бикIвари', би-кIува, бикIва', бикIве̄'гье, бикIве'ре)\",\n",
       " '(-щу/б, -лIа, -заби)',\n",
       " '(-ол|, тк. ед )',\n",
       " '(и мн. I, вучIи́ I, йичIи́ II, ричIи́и мн. II; би́чIа, бичIабé, бичIá)',\n",
       " '(-олIи, -а)',\n",
       " '(–ýлъ,–иби)',\n",
       " \"(-а'ри, -ва, -айа', -а'йе̄гье, -е̄'ре)\",\n",
       " '(–ӣлъ,–аби)',\n",
       " '(–аᴴ,–áНс̄,–амé,–á/м/о,–ýнāх)',\n",
       " '(-лъ̄илIи /-лIи, -ди / -ба)',\n",
       " '(–алъ,–дари)',\n",
       " '(ву-I, IV, йи-II, V, ба-мн. ч. кл. чел., йа- мн. ч. кл. вещи; булIулIал, булIулIала, булIулIала, булIулIа̅лв, булIулIалахъ)',\n",
       " \"(-а̄ни', -ва, -а' / -айа', -а'йе̄гье, -а̄'не)\",\n",
       " '(-ийо, -ийā, -иба, -ийо/-ийōта, -ийā)',\n",
       " '(-щуб, -л)',\n",
       " '(/гьēс̄)',\n",
       " '(цIѝно, цIинā́, цIинá, цIѝно/цIинṓта, цIинā́)',\n",
       " '(и  мн. ч. кл чел., ва-I, йа-II, IV, V и мн. ч. кл. вещи; бахдал, бахдала, бахдала, бахда̅лв, бахдалахъ)',\n",
       " '(áтулъ,–аби)',\n",
       " '(инклюз.)',\n",
       " '(ву-I, IV, ййгьвла II, V, багьвла мн. ч. кл. чел., йагьвла мн. ч. кл. вещи; бугьа, бугьуда, бугьабе, бугьа, бугьудахъ)',\n",
       " '(ø,–ас̄,–бе,–б/о,–āх)',\n",
       " '(бéжваᴴлъ, бéжуми)',\n",
       " '(–ø,–ас,–бе,–б/о,–āх)',\n",
       " '(буOáНлъ)',\n",
       " \"(жа̄'ри, жо̄'ва, жаба', жабе̄'гье, жа̄ре)\",\n",
       " \"(шва̄'ни, шоᴴ̄'ва, шваᴴйакьа', швайеᴴ̄'гье, шва̄'не)\",\n",
       " '(–уᴴ,–áНс̄,–áН,–м/о,–нāх)',\n",
       " '(-ийо, -ийā, -ийа/-ӣба, -ийо/-ийōта, -ийā)',\n",
       " '(-лIи, -ба / -ди)',\n",
       " '(ву-I, IV, йй-II, V, ба- мн. ч. кл чел., на-мн. ч. кл. вещи; бухух, бухухуда, бухуха  (бухухбе)',\n",
       " \"(-а̄ре, -ва, -айа', -айе̄гье, -а̄ре)\",\n",
       " '(гьачIилI, гьачIе)',\n",
       " '(-лъ̄илIи / -лIи, -ди / магьаᴴди)',\n",
       " '(-áлIи, рехъимé)',\n",
       " '(бáцIаᴴ, бацIамé, ба-цIáᴴ)',\n",
       " '(-ил|, -аби)',\n",
       " '(-ё, -ас, -ей, -ебхва, -да)',\n",
       " '(-ало, -алā, -ала, -ало/-алота, -алā)',\n",
       " '(–ýлъ,–áби)',\n",
       " '(-ел|, -ай)',\n",
       " '(бухьáрлIа)',\n",
       " '(гьáрхъи, гьархъá, гьархъý)',\n",
       " '(-о, -ā́, -бá, -о/-ṓта, -ā́)',\n",
       " '(–ø, бекъвáс̄,–бé,–б/о, бéкъвēх)',\n",
       " '(гьáкьулъ,–аби)',\n",
       " '(-лIи / -лъ̄илIи, -о)',\n",
       " '(-о, -ас, -и, -ебхва, -идйа)',\n",
       " '(-е̄лIи / -лъ̄илIи)',\n",
       " '(-иб, -бе)',\n",
       " '(гьаáли, гьаалá, гьа-алý)',\n",
       " '(-ил|/-ол|)',\n",
       " \"(бетIва̄'ри, бе-тIо̄'ва, бетIвайа', бетIвайе̄гье, бе-тIва̄ре)\",\n",
       " '(–и,–ас̄,–ибе,–и/б/о,–ēх)',\n",
       " '(и мн. ч. кл. чел., ва-I, йа-II, IV, V и мн. ч. кл. вещи; бахах, бахахйда, бахахбе. бахйха, бахахйдахъ)',\n",
       " '(-лIи/- лъ̄илIи , -ла)',\n",
       " '(вýкIали I, йи́кIвали II, бáкIвали мн. I, рукIали мн. II; бýкIали, букIалá, букIалý)',\n",
       " '(-е, -аᴴс, -а, -емхва, ч|иᴴда)',\n",
       " '(–л,–лас̄,–лá, л̄о,–лēх)',\n",
       " '(-лIи/- лъ̄илIи , -и)',\n",
       " '(буOýхаᴴлъ)',\n",
       " '(I -щуб, II -лъил|, -ди)',\n",
       " '(-нолIи, -ди / -ла)',\n",
       " '(-лъ̄илIи /-лIи, -ба / -ди)',\n",
       " '(-лIи/ -лъ̄илIи, -а)',\n",
       " '(и  мн. ч. кл. чел., ва-I, йа-II, IV, V и мн. ч. кл. вещи; бацIицIа, бацIацIида, бацIицIабе, бацIицIа, бацIацIидахъ)',\n",
       " '(вóшттали I, йéш-ттали II, бéшттали мн. I, рéшттали мн. II; бéшттали, бештталá, бештталý)',\n",
       " '(-лалIи, -бé)',\n",
       " '(ву-I, IV, ййгъвла II, V, багъвла мн. ч. кл. чел., йагъвла мн. ч. кл. вещи; бугъ, бугъуда, бугъа, бугъи, бугъудахъ)',\n",
       " '(–ø,–ас̄.–á,–б/о,–е́̄х)',\n",
       " '(ø,–ас̄,–а,–б/о,–ēх)',\n",
       " '(ву-I, IV, ййкъвла II, V, бакъвлалш. ч кл. чел., йакъвла мн. ч. кл. вещи; букъ, букъуда, букъа, букъи, букъудахъ)',\n",
       " '(бил̅áрлIа)',\n",
       " '(ву-I , йи-II, V, ба-мн. ч. кл. чел., йа- мн. ч. кл. вещи; бучIучIан, бучIучIана, бучIучIана, бучIучIа̅нв, бучIучIанахъ)',\n",
       " '(-лI/-алI, -е)',\n",
       " '(ц̄ỳно, ц̄унā́, ц̄унá,  ц̄ỳно / ц̄унṓта, ц̄унā́)',\n",
       " '(-6л|, тк. ед.)',\n",
       " '(ву-I, IV, йикьва̅ла II, V, бакьва̅ла мн. ч. кл. чел, йакьва̅ла мн. ч. кл. вещи; букьал, букьала, букьала, букьа̅лв, букьалахъ)',\n",
       " '(-ó, -ā́, -абá, -ó/-ṓ, -ā́)',\n",
       " '(–л,–лас̄,–лá,–б/о/–л̄о,–йах/–лēх)',\n",
       " '(-ил|, -и)',\n",
       " '(–аᴴ,–áНс̄,–амé,–á/м/о,–ӣнāх)',\n",
       " '(-лI, алахбе)',\n",
       " '(-лI, -абе)',\n",
       " '(г’áно, г’áнā, г’анá, г’áно/г’áнōта, г’áнā)',\n",
       " '(йй IV, V, йа-мн. ч. кл вещи; бйлъаᴴ, билъйна, билъаᴴ, бйлЬаᴴ, билъйнахъ)',\n",
       " '(-елIи/- лъ̄илIи)',\n",
       " '(–ø,–ас̄,–бé/–á,–б/о,–āх)',\n",
       " '(–л,–лас̄,–лā,–л̄о,–лēх)',\n",
       " '(–аᴴ,–аᴴс̄,–áН,–а/м/о,–нāх)',\n",
       " '(-илIи/- лъ̄илIи , -и)',\n",
       " '(/гьиᴴш-доб)',\n",
       " '(и прош., къýсана, къýсану)',\n",
       " '(вуши́ I, йиши́ II, баши́ мн. I, риши́ мн. II; би́ша, бишабé, бишá)',\n",
       " '(гьāн, гьāнáс̄, гьāнá, гь́а̄н̄о, гьāне́̄х)',\n",
       " \"(-ари', -ва, -а', -е̄'гье,- е'ре)\",\n",
       " '(–ал/л,–алас̄/–лас̄,–алá/–лá,–ал̄о/–л̄о,–алēх/–лēх)',\n",
       " '(-илал|, тк. ед.)',\n",
       " '(элáло, элáлā, элалá, элáло / элáлō\\xadта, элáлā)',\n",
       " '(–уᴴ,–áНс̄,–áН,–а/м/о,–нāх)',\n",
       " '(-áво, -ā́, -á, -áво/-авṓта, -ā́)',\n",
       " '(-6л I, -дй)',\n",
       " '(и  мн. ч. кл. чел., ва-I, йа-II, IV, V и мн. ч. кл. вещи)',\n",
       " '( мн.ч. кл. чел., ва-I, йа-II, IV, V и мн. ч. кл. вещи; башал, башала, башала, баша̅лв, башалахъ)',\n",
       " '(-лIи / -олIи, -а)',\n",
       " '(–а,–ас̄,–á,–б/о,–ēх)',\n",
       " '(–ø,–ес̄,–ē,–б/о,–ийāх)',\n",
       " '(-лIи/-лъ̄илIи )',\n",
       " '(и прош., миццалъи́, миццалъý)',\n",
       " '(-а̄ри, -ва, -айа, -а̄йегье, -а̄ре)',\n",
       " '(-лIи /-лъ̄илIи , -ди)',\n",
       " '(-ол|, -йби)',\n",
       " \"(тIала'гверолIи)\",\n",
       " '(-лIи / -лъ̄илIи, -ди / -ла)',\n",
       " \"(-а̄ри, -ва, -акьа', -айе̄гье, -а̄ре)\",\n",
       " '(-е, -ас, -а, -ёбхва, -идйа)',\n",
       " '(-лIи / -е̄лIи, -ба)',\n",
       " '(–áл,–алáс̄,–алá,–áл̄о,–áлēх)',\n",
       " '(ви-I, йи-II, IV, V, ба-мн. ч. кл чел., йа- мн. ч. кл. вещи; бйсIисI, бисIисIйда, бисIисIбе, бксIсIи, бисIисIйдахъ)',\n",
       " '(0, -с, 0, -бхва, -йдйа)',\n",
       " '(-ол|/-илал|, -ай)',\n",
       " '(булIáли, булIалá, булIалý)',\n",
       " '(слоями)',\n",
       " '(чàно, чанā́, чанā́, чàно / чанṓта, чанā́)',\n",
       " '(гьанáл, гьанáлас̄, гьаналá, гьанáл̄о, гьанáлēх)',\n",
       " '(-лъ̄илIи, -ди/-ла)',\n",
       " '(хъòво, хъваъā́, хъвā́, хъòво/хъовṓта, хъ\\xadваъā́)',\n",
       " '(боáни, боанá, боанý)',\n",
       " '(ву-I, IV, йичIва̅на II, V. бачIва̅на мн. ч кл. чел., йачIва̅на мн. ч. кл. вещи; бучIан, бучIана, бучIана, бучIа̅нв, бучIанахъ)',\n",
       " '(билъáᴴрлIа)',\n",
       " '(II -лъил|)',\n",
       " '(бýша, бушá, и деепр.)',\n",
       " \"(гве'ри, гу'ва, гуйа', гу'йе̄гье, гве'ре)\",\n",
       " '(букIáрлIа)',\n",
       " '(-о, -ā́, -ибá,  -о/-ṓта, -ā́)',\n",
       " '(гьýни, гьýнас̄, гьунá, гьýни/б, гьýнāх)',\n",
       " '(обратно)',\n",
       " '(чýчаᴴ, и повел., деепр.)',\n",
       " '(-илIа/лIа, -иби)',\n",
       " '(лъ̅ỳно, лъ̅унā́, лъ̅ỳно / лъ̅унṓта, лъ̅унā́)',\n",
       " '(къýсаᴴ, къусамé, къусáᴴ)',\n",
       " '(-ол I, -ди)',\n",
       " '(-а, -аᴴс, -йᴴ, -аᴴмх-ва, -иᴴдйа)',\n",
       " '(-ол|/-ел|, -ди)',\n",
       " \"(-ани' / -ари', -ва, -а', -е̄'гье, -е'не / -е'ре)\",\n",
       " '(и прош., тухилъи́, тухилъý)',\n",
       " '(-йл|, -дй)',\n",
       " '(-ýлIи, -абé//-убé)',\n",
       " \"(бишвари', би-шува, бишва', бишве̄'гье, бишве'ре)\",\n",
       " '(къварáлъи, къва-ралъи́, къваралъý)',\n",
       " '(гьакьулI, -абе)',\n",
       " '(-о, -вā, -виба, -о/-ōта, -вā)',\n",
       " '(-с̄у/б/е /-лIи)',\n",
       " '(0, -с, 0,-бхва, -йдйа)',\n",
       " '(йи-IV, V, йа-мн. ч. кл. вещи; бйлъилъаᴴ, билъилъйна, билъилъаᴴ, билъилъаᴴ, билъилъйнахъ)',\n",
       " '(шáми, шамá, шамý)',\n",
       " '(и мн. ч. кл. чел, ви-I, йи-II, IV, V и мн. ч. кл. вещи; бйчIичIа, бичIичIйда, бичIичIабй, бичIйчIа, бичIичIйдахъ)',\n",
       " '(бóаᴴ, боамé, боáᴴ)',\n",
       " '(-лI,шк ед.)',\n",
       " '(-а̄ри, -ва, -айакьа, -айе̄гье, -а̄ре)',\n",
       " \"(-а'ри, -ва, -а', -е̄'гье, -е̄'ре)\",\n",
       " '(и мн. I, вуи́ I, йии́ II, рии́ мн. II; би́а, биá//биабé, и деепр.)',\n",
       " '(-áло, -áлā, -áло/-áлōта, -áлā)',\n",
       " '(-о, -ас, -и, -е, -идйа)',\n",
       " '(–л/ø,–ас̄/–ӣйа/–ēс̄,–лá/–ē,\\xa0–л̄о/–ø,–лēх/–ӣйāх)',\n",
       " \"(-ари, -ва, -айа', -айе̄гье, -а̄ре)\",\n",
       " '(-ýлIа, -ýда)',\n",
       " '(вукIи́ I, йикIý, бакIý мн. I, рукIи́ мн. II; бýкIа, букIабé, букIá)',\n",
       " '(-лIа, тк.ед.)',\n",
       " '(–илъ/–áлъ,–аби)',\n",
       " '(–ø, бēлé//бēлáс̄, бēлá,–ø,–ēх)',\n",
       " '(–лъ/–улъ)',\n",
       " '(-0, -с, -0, -бхва,-йдйа)',\n",
       " \"(хIехIе'ди-ла̄ролIи)\",\n",
       " '(и мн. I, вучIабý I, йичIабý II, ричIабý мн. II)',\n",
       " '(-аᴴ, -аᴴс, -иᴴ, -амх-ва, -иᴴдйа)',\n",
       " '(-лIи, с̄еди)',\n",
       " '(-ащти)',\n",
       " '(-щуб, -лъил|)',\n",
       " '(бѝйо, бийā́, бӣбá/бийабá, би́йо/бийṓта, бийā́)',\n",
       " '(хIавáНлъ,–аби)',\n",
       " '(–л,–лас̄,–лá,–ли/б/о,–лēх)',\n",
       " '(и  мн. ч. кл. чел., ва-I, йа-II, IV, V и мн ч кл. вещи; бакъ, бакъйда, бакъа, бакъи, бакъйдахъ)',\n",
       " '(-о, -ā, хи́сӣба, -о/-ōта, -ā)',\n",
       " '(в знач. не существует, не находится, не присутствует)',\n",
       " '(-лIи, -и)',\n",
       " '(-у, -вас, -у, -у, -уда)',\n",
       " '(гьицIáли, гьицIа-лá, гьицIалý)',\n",
       " '(-е, -ас, -и, -ёбхва, -идйа)',\n",
       " '(ву-I , IV, ййкIвла II, V, бакIвла мн. ч. кл. чел., йакIвлаля/. ч. кл. вещи; букIа, букIуда, букIабе, букIа, букIудахъ)',\n",
       " '(у–лъ)',\n",
       " '(–иᴴ,–áНс̄,–áН,–м/о,–инāх)',\n",
       " '(ими ч кл чел., ви-I, йи-II, IV, V и мн. ч. кл вещи)',\n",
       " '(-лъилI, тк. ед.)',\n",
       " '(-елIи, -о)',\n",
       " ...]"
      ]
     },
     "execution_count": 15,
     "metadata": {},
     "output_type": "execute_result"
    }
   ],
   "source": [
    "df['morphology'].value_counts().index.tolist()"
   ]
  },
  {
   "cell_type": "code",
   "execution_count": 57,
   "metadata": {},
   "outputs": [
    {
     "name": "stderr",
     "output_type": "stream",
     "text": [
      "100%|█████████████████████████████████████████████████████████████████████████████| 3799/3799 [00:30<00:00, 122.88it/s]\n"
     ]
    }
   ],
   "source": [
    "for lemma in tqdm(df['lemma '][1:3800]):\n",
    "    morph = df[df['lemma '] == lemma]['morphology'].values[0]\n",
    "    if not pd.isna(morph) and morph.startswith(\"(\"):\n",
    "        print(morph.strip(\"()\").split(\", \"))"
   ]
  },
  {
   "cell_type": "code",
   "execution_count": 56,
   "metadata": {},
   "outputs": [
    {
     "name": "stderr",
     "output_type": "stream",
     "text": [
      "\r",
      "  0%|                                                                                         | 0/3799 [00:00<?, ?it/s]"
     ]
    },
    {
     "name": "stdout",
     "output_type": "stream",
     "text": [
      "verb\n",
      "verb\n",
      "verb\n",
      "verb\n",
      "verb\n",
      "verb\n",
      "verb\n"
     ]
    },
    {
     "name": "stderr",
     "output_type": "stream",
     "text": [
      "\r",
      "  0%|▏                                                                                | 7/3799 [00:00<01:01, 62.11it/s]"
     ]
    },
    {
     "name": "stdout",
     "output_type": "stream",
     "text": [
      "verb\n",
      "verb\n",
      "noun\n",
      "noun\n",
      "noun\n",
      "verb\n"
     ]
    },
    {
     "name": "stderr",
     "output_type": "stream",
     "text": [
      "\r",
      "  0%|▎                                                                               | 13/3799 [00:00<01:02, 60.66it/s]"
     ]
    },
    {
     "name": "stdout",
     "output_type": "stream",
     "text": [
      "verb\n",
      "verb\n",
      "adv\n",
      "noun\n",
      "noun\n",
      "noun\n"
     ]
    },
    {
     "name": "stderr",
     "output_type": "stream",
     "text": [
      "\r",
      "  1%|▍                                                                               | 19/3799 [00:00<01:03, 59.20it/s]"
     ]
    },
    {
     "name": "stdout",
     "output_type": "stream",
     "text": [
      "noun\n",
      "adj\n",
      "adv\n",
      "adv\n",
      "adj\n",
      "adv\n"
     ]
    },
    {
     "name": "stderr",
     "output_type": "stream",
     "text": [
      "\r",
      "  1%|▌                                                                               | 25/3799 [00:00<01:04, 58.87it/s]"
     ]
    },
    {
     "name": "stdout",
     "output_type": "stream",
     "text": [
      "adj\n",
      "adv\n",
      "adv\n",
      "adv\n",
      "intj\n",
      "noun\n"
     ]
    },
    {
     "name": "stderr",
     "output_type": "stream",
     "text": [
      "\r",
      "  1%|▋                                                                               | 31/3799 [00:00<01:04, 58.30it/s]"
     ]
    },
    {
     "name": "stdout",
     "output_type": "stream",
     "text": [
      "adv\n",
      "adv\n",
      "adv\n",
      "adv\n",
      "adj\n",
      "noun\n",
      "noun\n"
     ]
    },
    {
     "name": "stderr",
     "output_type": "stream",
     "text": [
      "\r",
      "  1%|▊                                                                               | 38/3799 [00:00<01:02, 59.70it/s]"
     ]
    },
    {
     "name": "stdout",
     "output_type": "stream",
     "text": [
      "noun\n",
      "noun\n",
      "verb\n",
      "noun\n",
      "verb\n",
      "verb\n"
     ]
    },
    {
     "name": "stderr",
     "output_type": "stream",
     "text": [
      "\r",
      "  1%|▉                                                                               | 44/3799 [00:00<01:05, 56.95it/s]"
     ]
    },
    {
     "name": "stdout",
     "output_type": "stream",
     "text": [
      "noun\n",
      "?\n",
      "noun\n",
      "noun\n",
      "noun\n",
      "noun\n",
      "noun\n",
      "noun\n"
     ]
    },
    {
     "name": "stderr",
     "output_type": "stream",
     "text": [
      "\r",
      "  1%|█                                                                               | 52/3799 [00:00<01:02, 60.13it/s]"
     ]
    },
    {
     "name": "stdout",
     "output_type": "stream",
     "text": [
      "noun\n",
      "noun\n",
      "noun\n",
      "adj\n",
      "adj\n",
      "noun\n",
      "noun\n"
     ]
    },
    {
     "name": "stderr",
     "output_type": "stream",
     "text": [
      "\r",
      "  2%|█▏                                                                              | 59/3799 [00:00<01:01, 60.71it/s]"
     ]
    },
    {
     "name": "stdout",
     "output_type": "stream",
     "text": [
      "noun\n",
      "noun\n",
      "noun\n",
      "noun\n",
      "noun\n",
      "noun\n"
     ]
    },
    {
     "name": "stderr",
     "output_type": "stream",
     "text": [
      "\r",
      "  2%|█▎                                                                              | 65/3799 [00:01<01:02, 60.00it/s]"
     ]
    },
    {
     "name": "stdout",
     "output_type": "stream",
     "text": [
      "noun\n",
      "noun\n",
      "noun\n",
      "noun\n",
      "noun\n",
      "noun\n"
     ]
    },
    {
     "name": "stderr",
     "output_type": "stream",
     "text": [
      "\r",
      "  2%|█▍                                                                              | 71/3799 [00:01<01:05, 57.30it/s]"
     ]
    },
    {
     "name": "stdout",
     "output_type": "stream",
     "text": [
      "noun\n",
      "noun\n",
      "noun\n",
      "noun\n",
      "noun\n",
      "noun\n"
     ]
    },
    {
     "name": "stderr",
     "output_type": "stream",
     "text": [
      "\r",
      "  2%|█▌                                                                              | 77/3799 [00:01<01:07, 55.40it/s]"
     ]
    },
    {
     "name": "stdout",
     "output_type": "stream",
     "text": [
      "noun\n",
      "noun\n",
      "noun\n",
      "noun\n",
      "noun\n",
      "noun\n"
     ]
    },
    {
     "name": "stderr",
     "output_type": "stream",
     "text": [
      "\r",
      "  2%|█▋                                                                              | 83/3799 [00:01<01:08, 54.00it/s]"
     ]
    },
    {
     "name": "stdout",
     "output_type": "stream",
     "text": [
      "noun\n",
      "noun\n",
      "noun\n",
      "noun\n",
      "noun\n",
      "noun\n"
     ]
    },
    {
     "name": "stderr",
     "output_type": "stream",
     "text": [
      "\r",
      "  2%|█▊                                                                              | 89/3799 [00:01<01:07, 54.80it/s]"
     ]
    },
    {
     "name": "stdout",
     "output_type": "stream",
     "text": [
      "noun\n",
      "noun\n",
      "noun\n",
      "noun\n",
      "noun\n",
      "noun\n",
      "noun\n"
     ]
    },
    {
     "name": "stderr",
     "output_type": "stream",
     "text": [
      "\r",
      "  3%|██                                                                              | 96/3799 [00:01<01:05, 56.67it/s]"
     ]
    },
    {
     "name": "stdout",
     "output_type": "stream",
     "text": [
      "noun\n",
      "noun\n",
      "noun\n",
      "noun\n",
      "noun\n",
      "intj\n",
      "noun\n"
     ]
    },
    {
     "name": "stderr",
     "output_type": "stream",
     "text": [
      "\r",
      "  3%|██▏                                                                            | 103/3799 [00:01<01:04, 57.42it/s]"
     ]
    },
    {
     "name": "stdout",
     "output_type": "stream",
     "text": [
      "noun\n",
      "noun\n",
      "noun\n",
      "noun\n",
      "noun\n",
      "noun\n",
      "adj\n"
     ]
    },
    {
     "name": "stderr",
     "output_type": "stream",
     "text": [
      "\r",
      "  3%|██▎                                                                            | 110/3799 [00:01<01:02, 58.82it/s]"
     ]
    },
    {
     "name": "stdout",
     "output_type": "stream",
     "text": [
      "adj\n",
      "noun\n",
      "adj\n",
      "noun\n",
      "adj\n",
      "adj\n",
      "noun\n"
     ]
    },
    {
     "name": "stderr",
     "output_type": "stream",
     "text": [
      "\r",
      "  3%|██▍                                                                            | 117/3799 [00:01<01:00, 61.26it/s]"
     ]
    },
    {
     "name": "stdout",
     "output_type": "stream",
     "text": [
      "noun\n",
      "noun\n",
      "noun\n",
      "noun\n",
      "noun\n",
      "noun\n",
      "noun\n"
     ]
    },
    {
     "name": "stderr",
     "output_type": "stream",
     "text": [
      "\r",
      "  3%|██▌                                                                            | 124/3799 [00:02<00:58, 62.50it/s]"
     ]
    },
    {
     "name": "stdout",
     "output_type": "stream",
     "text": [
      "noun\n",
      "noun\n",
      "noun\n",
      "adj\n",
      "adj\n",
      "noun\n",
      "noun\n"
     ]
    },
    {
     "name": "stderr",
     "output_type": "stream",
     "text": [
      "\r",
      "  3%|██▋                                                                            | 131/3799 [00:02<00:59, 61.89it/s]"
     ]
    },
    {
     "name": "stdout",
     "output_type": "stream",
     "text": [
      "adj\n",
      "noun\n",
      "noun\n",
      "noun\n",
      "noun\n",
      "noun\n",
      "noun\n"
     ]
    },
    {
     "name": "stderr",
     "output_type": "stream",
     "text": [
      "\r",
      "  4%|██▊                                                                            | 138/3799 [00:02<00:59, 61.14it/s]"
     ]
    },
    {
     "name": "stdout",
     "output_type": "stream",
     "text": [
      "noun\n",
      "noun\n",
      "noun\n",
      "noun\n",
      "noun\n",
      "noun\n",
      "noun\n"
     ]
    },
    {
     "name": "stderr",
     "output_type": "stream",
     "text": [
      "\r",
      "  4%|███                                                                            | 145/3799 [00:02<00:58, 62.08it/s]"
     ]
    },
    {
     "name": "stdout",
     "output_type": "stream",
     "text": [
      "noun\n",
      "noun\n",
      "noun\n",
      "noun\n",
      "noun?\n",
      "noun\n",
      "noun\n"
     ]
    },
    {
     "name": "stderr",
     "output_type": "stream",
     "text": [
      "\r",
      "  4%|███▏                                                                           | 152/3799 [00:02<00:58, 61.93it/s]"
     ]
    },
    {
     "name": "stdout",
     "output_type": "stream",
     "text": [
      "noun\n",
      "adv\n",
      "adv\n",
      "adv\n",
      "adv\n",
      "noun\n",
      "noun\n"
     ]
    },
    {
     "name": "stderr",
     "output_type": "stream",
     "text": [
      "\r",
      "  4%|███▎                                                                           | 159/3799 [00:02<00:59, 61.33it/s]"
     ]
    },
    {
     "name": "stdout",
     "output_type": "stream",
     "text": [
      "noun\n",
      "adj\n",
      "noun\n",
      "num\n",
      "num\n",
      "num\n",
      "num\n"
     ]
    },
    {
     "name": "stderr",
     "output_type": "stream",
     "text": [
      "\r",
      "  4%|███▍                                                                           | 166/3799 [00:02<00:59, 60.77it/s]"
     ]
    },
    {
     "name": "stdout",
     "output_type": "stream",
     "text": [
      "num\n",
      "noun\n",
      "noun\n",
      "noun\n",
      "noun\n",
      "noun\n",
      "noun\n"
     ]
    },
    {
     "name": "stderr",
     "output_type": "stream",
     "text": [
      "\r",
      "  5%|███▌                                                                           | 173/3799 [00:02<00:59, 61.08it/s]"
     ]
    },
    {
     "name": "stdout",
     "output_type": "stream",
     "text": [
      "noun\n",
      "noun\n",
      "noun\n",
      "noun\n",
      "noun\n",
      "particle\n",
      "particle\n"
     ]
    },
    {
     "name": "stderr",
     "output_type": "stream",
     "text": [
      "\r",
      "  5%|███▋                                                                           | 180/3799 [00:03<00:57, 62.53it/s]"
     ]
    },
    {
     "name": "stdout",
     "output_type": "stream",
     "text": [
      "noun\n",
      "noun\n",
      "expr\n",
      "noun\n",
      "noun\n",
      "verb\n",
      "noun\n"
     ]
    },
    {
     "name": "stderr",
     "output_type": "stream",
     "text": [
      "\r",
      "  5%|███▉                                                                           | 187/3799 [00:03<00:57, 63.25it/s]"
     ]
    },
    {
     "name": "stdout",
     "output_type": "stream",
     "text": [
      "noun\n",
      "noun\n",
      "noun\n",
      "noun\n",
      "noun\n",
      "noun\n",
      "verb\n"
     ]
    },
    {
     "name": "stderr",
     "output_type": "stream",
     "text": [
      "\r",
      "  5%|████                                                                           | 194/3799 [00:03<00:55, 64.64it/s]"
     ]
    },
    {
     "name": "stdout",
     "output_type": "stream",
     "text": [
      "noun\n",
      "noun\n",
      "noun\n",
      "noun\n",
      "noun\n",
      "noun\n",
      "noun\n"
     ]
    },
    {
     "name": "stderr",
     "output_type": "stream",
     "text": [
      "\r",
      "  5%|████▏                                                                          | 201/3799 [00:03<00:55, 65.27it/s]"
     ]
    },
    {
     "name": "stdout",
     "output_type": "stream",
     "text": [
      "noun\n",
      "intj\n",
      "noun\n",
      "noun\n",
      "adj\n",
      "noun\n",
      "noun\n"
     ]
    },
    {
     "name": "stderr",
     "output_type": "stream",
     "text": [
      "\r",
      "  5%|████▎                                                                          | 208/3799 [00:03<00:54, 65.45it/s]"
     ]
    },
    {
     "name": "stdout",
     "output_type": "stream",
     "text": [
      "noun\n",
      "noun\n",
      "noun\n",
      "noun\n",
      "noun\n",
      "noun\n",
      "noun\n"
     ]
    },
    {
     "name": "stderr",
     "output_type": "stream",
     "text": [
      "\r",
      "  6%|████▍                                                                          | 215/3799 [00:03<00:54, 65.95it/s]"
     ]
    },
    {
     "name": "stdout",
     "output_type": "stream",
     "text": [
      "noun\n",
      "noun\n",
      "noun\n",
      "noun\n",
      "noun\n",
      "noun\n",
      "noun\n"
     ]
    },
    {
     "name": "stderr",
     "output_type": "stream",
     "text": [
      "\r",
      "  6%|████▌                                                                          | 222/3799 [00:03<00:56, 63.34it/s]"
     ]
    },
    {
     "name": "stdout",
     "output_type": "stream",
     "text": [
      "noun\n",
      "noun\n",
      "noun\n",
      "noun\n",
      "intj\n",
      "noun\n",
      "intj\n"
     ]
    },
    {
     "name": "stderr",
     "output_type": "stream",
     "text": [
      "\r",
      "  6%|████▊                                                                          | 229/3799 [00:03<00:57, 62.63it/s]"
     ]
    },
    {
     "name": "stdout",
     "output_type": "stream",
     "text": [
      "intj\n",
      "noun\n",
      "noun\n",
      "noun\n",
      "noun\n",
      "noun\n",
      "noun\n"
     ]
    },
    {
     "name": "stderr",
     "output_type": "stream",
     "text": [
      "\r",
      "  6%|████▉                                                                          | 236/3799 [00:03<00:57, 61.65it/s]"
     ]
    },
    {
     "name": "stdout",
     "output_type": "stream",
     "text": [
      "noun\n",
      "verb\n",
      "verb\n",
      "adj\n",
      "adj\n",
      "adj\n",
      "verb\n"
     ]
    },
    {
     "name": "stderr",
     "output_type": "stream",
     "text": [
      "\r",
      "  6%|█████                                                                          | 243/3799 [00:03<00:56, 63.12it/s]"
     ]
    },
    {
     "name": "stdout",
     "output_type": "stream",
     "text": [
      "noun\n",
      "intj\n",
      "intj\n",
      "intj\n",
      "conj\n",
      "conj\n",
      "noun\n"
     ]
    },
    {
     "name": "stderr",
     "output_type": "stream",
     "text": [
      "\r",
      "  7%|█████▏                                                                         | 250/3799 [00:04<00:56, 62.82it/s]"
     ]
    },
    {
     "name": "stdout",
     "output_type": "stream",
     "text": [
      "noun\n",
      "noun\n",
      "adj\n",
      "noun\n",
      "noun\n",
      "noun\n",
      "noun\n"
     ]
    },
    {
     "name": "stderr",
     "output_type": "stream",
     "text": [
      "\r",
      "  7%|█████▎                                                                         | 257/3799 [00:04<00:55, 63.28it/s]"
     ]
    },
    {
     "name": "stdout",
     "output_type": "stream",
     "text": [
      "noun\n",
      "noun\n",
      "noun\n",
      "noun\n",
      "noun\n",
      "noun\n",
      "noun\n"
     ]
    },
    {
     "name": "stderr",
     "output_type": "stream",
     "text": [
      "\r",
      "  7%|█████▍                                                                         | 264/3799 [00:04<00:57, 61.12it/s]"
     ]
    },
    {
     "name": "stdout",
     "output_type": "stream",
     "text": [
      "adj\n",
      "noun\n",
      "noun\n",
      "adj\n",
      "adj\n",
      "noun\n",
      "noun\n"
     ]
    },
    {
     "name": "stderr",
     "output_type": "stream",
     "text": [
      "\r",
      "  7%|█████▋                                                                         | 271/3799 [00:04<00:58, 60.62it/s]"
     ]
    },
    {
     "name": "stdout",
     "output_type": "stream",
     "text": [
      "noun\n",
      "noun\n",
      "noun\n",
      "noun\n",
      "noun\n",
      "noun\n",
      "noun\n"
     ]
    },
    {
     "name": "stderr",
     "output_type": "stream",
     "text": [
      "\r",
      "  7%|█████▊                                                                         | 278/3799 [00:04<00:56, 62.53it/s]"
     ]
    },
    {
     "name": "stdout",
     "output_type": "stream",
     "text": [
      "verb\n",
      "verb\n",
      "adj\n",
      "adj\n",
      "verb\n",
      "verb\n",
      "noun\n"
     ]
    },
    {
     "name": "stderr",
     "output_type": "stream",
     "text": [
      "\r",
      "  8%|█████▉                                                                         | 285/3799 [00:04<00:56, 62.73it/s]"
     ]
    },
    {
     "name": "stdout",
     "output_type": "stream",
     "text": [
      "adj\n",
      "noun\n",
      "noun\n",
      "noun\n",
      "noun\n",
      "verb\n",
      "verb\n"
     ]
    },
    {
     "name": "stderr",
     "output_type": "stream",
     "text": [
      "\r",
      "  8%|██████                                                                         | 292/3799 [00:04<00:57, 60.92it/s]"
     ]
    },
    {
     "name": "stdout",
     "output_type": "stream",
     "text": [
      "noun\n",
      "noun\n",
      "noun\n",
      "noun\n",
      "adj\n",
      "noun\n",
      "noun\n"
     ]
    },
    {
     "name": "stderr",
     "output_type": "stream",
     "text": [
      "\r",
      "  8%|██████▏                                                                        | 299/3799 [00:04<00:57, 60.48it/s]"
     ]
    },
    {
     "name": "stdout",
     "output_type": "stream",
     "text": [
      "noun\n",
      "noun\n",
      "noun\n",
      "verb\n",
      "verb\n",
      "verb\n",
      "adj\n"
     ]
    },
    {
     "name": "stderr",
     "output_type": "stream",
     "text": [
      "\r",
      "  8%|██████▎                                                                        | 306/3799 [00:05<00:57, 61.28it/s]"
     ]
    },
    {
     "name": "stdout",
     "output_type": "stream",
     "text": [
      "adj\n",
      "verb\n",
      "noun\n",
      "noun\n",
      "verb\n",
      "noun\n",
      "adj\n"
     ]
    },
    {
     "name": "stderr",
     "output_type": "stream",
     "text": [
      "\r",
      "  8%|██████▌                                                                        | 313/3799 [00:05<00:55, 62.64it/s]"
     ]
    },
    {
     "name": "stdout",
     "output_type": "stream",
     "text": [
      "noun\n",
      "noun\n",
      "noun\n",
      "adj\n",
      "adj\n",
      "adj\n",
      "verb\n"
     ]
    },
    {
     "name": "stderr",
     "output_type": "stream",
     "text": [
      "\r",
      "  8%|██████▋                                                                        | 320/3799 [00:05<00:56, 61.90it/s]"
     ]
    },
    {
     "name": "stdout",
     "output_type": "stream",
     "text": [
      "noun\n",
      "noun\n",
      "noun\n",
      "noun\n",
      "noun\n",
      "noun\n",
      "noun\n"
     ]
    },
    {
     "name": "stderr",
     "output_type": "stream",
     "text": [
      "\r",
      "  9%|██████▊                                                                        | 327/3799 [00:05<00:56, 61.39it/s]"
     ]
    },
    {
     "name": "stdout",
     "output_type": "stream",
     "text": [
      "adv\n",
      "adv\n",
      "adv\n",
      "adv\n",
      "adv\n",
      "adv\n",
      "adv\n"
     ]
    },
    {
     "name": "stderr",
     "output_type": "stream",
     "text": [
      "\r",
      "  9%|██████▉                                                                        | 334/3799 [00:05<00:56, 61.61it/s]"
     ]
    },
    {
     "name": "stdout",
     "output_type": "stream",
     "text": [
      "adv\n",
      "adv\n",
      "adv\n",
      "adv\n",
      "adv\n",
      "adv\n",
      "adv\n"
     ]
    },
    {
     "name": "stderr",
     "output_type": "stream",
     "text": [
      "\r",
      "  9%|███████                                                                        | 341/3799 [00:05<00:56, 61.11it/s]"
     ]
    },
    {
     "name": "stdout",
     "output_type": "stream",
     "text": [
      "adv\n",
      "noun\n",
      "noun\n",
      "noun\n",
      "noun\n",
      "noun\n",
      "noun\n"
     ]
    },
    {
     "name": "stderr",
     "output_type": "stream",
     "text": [
      "\r",
      "  9%|███████▏                                                                       | 348/3799 [00:05<00:57, 59.99it/s]"
     ]
    },
    {
     "name": "stdout",
     "output_type": "stream",
     "text": [
      "noun\n",
      "noun\n",
      "noun\n",
      "noun\n",
      "noun\n",
      "noun\n",
      "noun\n"
     ]
    },
    {
     "name": "stderr",
     "output_type": "stream",
     "text": [
      "\r",
      "  9%|███████▍                                                                       | 355/3799 [00:05<01:04, 53.54it/s]"
     ]
    },
    {
     "name": "stdout",
     "output_type": "stream",
     "text": [
      "noun\n",
      "noun\n",
      "noun\n",
      "adv\n",
      "adv\n",
      "verb\n"
     ]
    },
    {
     "name": "stderr",
     "output_type": "stream",
     "text": [
      "\r",
      " 10%|███████▌                                                                       | 361/3799 [00:05<01:03, 54.02it/s]"
     ]
    },
    {
     "name": "stdout",
     "output_type": "stream",
     "text": [
      "verb\n",
      "noun\n",
      "noun\n",
      "noun\n",
      "noun\n",
      "noun\n"
     ]
    },
    {
     "name": "stderr",
     "output_type": "stream",
     "text": [
      "\r",
      " 10%|███████▋                                                                       | 367/3799 [00:06<01:02, 54.97it/s]"
     ]
    },
    {
     "name": "stdout",
     "output_type": "stream",
     "text": [
      "verb\n",
      "verb\n",
      "adj\n",
      "adj\n",
      "adj\n",
      "adj\n"
     ]
    },
    {
     "name": "stderr",
     "output_type": "stream",
     "text": [
      "\r",
      " 10%|███████▊                                                                       | 373/3799 [00:06<01:01, 56.08it/s]"
     ]
    },
    {
     "name": "stdout",
     "output_type": "stream",
     "text": [
      "verb\n",
      "verb\n",
      "noun\n",
      "noun\n",
      "noun\n",
      "verb\n"
     ]
    },
    {
     "name": "stderr",
     "output_type": "stream",
     "text": [
      "\r",
      " 10%|███████▉                                                                       | 379/3799 [00:06<01:01, 55.58it/s]"
     ]
    },
    {
     "name": "stdout",
     "output_type": "stream",
     "text": [
      "noun\n",
      "noun\n",
      "noun\n",
      "noun\n",
      "noun\n",
      "noun\n"
     ]
    },
    {
     "name": "stderr",
     "output_type": "stream",
     "text": [
      "\r",
      " 10%|████████                                                                       | 385/3799 [00:06<01:00, 56.56it/s]"
     ]
    },
    {
     "name": "stdout",
     "output_type": "stream",
     "text": [
      "noun\n",
      "noun\n",
      "adj\n",
      "verb\n",
      "noun\n",
      "noun\n"
     ]
    },
    {
     "name": "stderr",
     "output_type": "stream",
     "text": [
      "\r",
      " 10%|████████▏                                                                      | 391/3799 [00:06<01:00, 56.69it/s]"
     ]
    },
    {
     "name": "stdout",
     "output_type": "stream",
     "text": [
      "adj\n",
      "noun\n",
      "noun\n",
      "noun?\n",
      "noun\n",
      "noun\n"
     ]
    },
    {
     "name": "stderr",
     "output_type": "stream",
     "text": [
      "\r",
      " 10%|████████▎                                                                      | 397/3799 [00:06<00:59, 57.03it/s]"
     ]
    },
    {
     "name": "stdout",
     "output_type": "stream",
     "text": [
      "noun\n",
      "noun\n",
      "noun\n",
      "noun\n",
      "noun\n",
      "noun\n"
     ]
    },
    {
     "name": "stderr",
     "output_type": "stream",
     "text": [
      "\r",
      " 11%|████████▍                                                                      | 403/3799 [00:06<01:00, 56.15it/s]"
     ]
    },
    {
     "name": "stdout",
     "output_type": "stream",
     "text": [
      "noun\n",
      "noun\n",
      "noun\n",
      "noun\n",
      "adj\n",
      "adj\n",
      "adj\n"
     ]
    },
    {
     "name": "stderr",
     "output_type": "stream",
     "text": [
      "\r",
      " 11%|████████▌                                                                      | 410/3799 [00:06<00:59, 56.97it/s]"
     ]
    },
    {
     "name": "stdout",
     "output_type": "stream",
     "text": [
      "adj\n",
      "noun\n",
      "noun\n",
      "noun\n",
      "noun\n",
      "noun\n"
     ]
    },
    {
     "name": "stderr",
     "output_type": "stream",
     "text": [
      "\r",
      " 11%|████████▋                                                                      | 416/3799 [00:06<01:01, 55.41it/s]"
     ]
    },
    {
     "name": "stdout",
     "output_type": "stream",
     "text": [
      "noun\n",
      "noun\n",
      "adv\n",
      "adv\n",
      "adv\n",
      "adv\n",
      "adj\n"
     ]
    },
    {
     "name": "stderr",
     "output_type": "stream",
     "text": [
      "\r",
      " 11%|████████▊                                                                      | 423/3799 [00:07<00:59, 56.98it/s]"
     ]
    },
    {
     "name": "stdout",
     "output_type": "stream",
     "text": [
      "adj\n",
      "adj\n",
      "verb\n",
      "verb\n",
      "noun\n",
      "noun\n"
     ]
    },
    {
     "name": "stderr",
     "output_type": "stream",
     "text": [
      "\r",
      " 11%|████████▉                                                                      | 429/3799 [00:07<00:59, 56.92it/s]"
     ]
    },
    {
     "name": "stdout",
     "output_type": "stream",
     "text": [
      "adj\n",
      "verb\n",
      "verb\n",
      "noun\n",
      "noun\n",
      "noun\n"
     ]
    },
    {
     "name": "stderr",
     "output_type": "stream",
     "text": [
      "\r",
      " 11%|█████████                                                                      | 435/3799 [00:07<01:01, 54.85it/s]"
     ]
    },
    {
     "name": "stdout",
     "output_type": "stream",
     "text": [
      "noun\n",
      "noun\n",
      "noun\n",
      "noun\n",
      "noun\n",
      "noun\n"
     ]
    },
    {
     "name": "stderr",
     "output_type": "stream",
     "text": [
      "\r",
      " 12%|█████████▏                                                                     | 441/3799 [00:07<01:04, 51.69it/s]"
     ]
    },
    {
     "name": "stdout",
     "output_type": "stream",
     "text": [
      "adv\n",
      "verb\n",
      "verb\n",
      "verb\n",
      "verb\n",
      "adj\n",
      "adj\n"
     ]
    },
    {
     "name": "stderr",
     "output_type": "stream",
     "text": [
      "\r",
      " 12%|█████████▎                                                                     | 448/3799 [00:07<01:01, 54.31it/s]"
     ]
    },
    {
     "name": "stdout",
     "output_type": "stream",
     "text": [
      "adv\n",
      "adv\n",
      "verb\n",
      "noun\n",
      "noun\n",
      "adv\n"
     ]
    },
    {
     "name": "stderr",
     "output_type": "stream",
     "text": [
      "\r",
      " 12%|█████████▍                                                                     | 454/3799 [00:07<01:02, 53.41it/s]"
     ]
    },
    {
     "name": "stdout",
     "output_type": "stream",
     "text": [
      "adv\n",
      "adv\n",
      "adv\n",
      "adv\n",
      "adv\n",
      "adv\n",
      "adv\n"
     ]
    },
    {
     "name": "stderr",
     "output_type": "stream",
     "text": [
      "\r",
      " 12%|█████████▌                                                                     | 461/3799 [00:07<01:00, 55.22it/s]"
     ]
    },
    {
     "name": "stdout",
     "output_type": "stream",
     "text": [
      "adv\n",
      "adj\n",
      "adv\n",
      "adj\n",
      "adj\n",
      "adj\n",
      "noun\n"
     ]
    },
    {
     "name": "stderr",
     "output_type": "stream",
     "text": [
      "\r",
      " 12%|█████████▋                                                                     | 468/3799 [00:07<00:58, 56.85it/s]"
     ]
    },
    {
     "name": "stdout",
     "output_type": "stream",
     "text": [
      "noun\n",
      "noun\n",
      "noun\n",
      "noun\n",
      "adj\n",
      "noun\n"
     ]
    },
    {
     "name": "stderr",
     "output_type": "stream",
     "text": [
      "\r",
      " 12%|█████████▊                                                                     | 474/3799 [00:07<00:58, 56.82it/s]"
     ]
    },
    {
     "name": "stdout",
     "output_type": "stream",
     "text": [
      "noun\n",
      "noun\n",
      "noun\n",
      "noun\n",
      "adj\n",
      "adj\n"
     ]
    },
    {
     "name": "stderr",
     "output_type": "stream",
     "text": [
      "\r",
      " 13%|█████████▉                                                                     | 480/3799 [00:08<00:59, 56.01it/s]"
     ]
    },
    {
     "name": "stdout",
     "output_type": "stream",
     "text": [
      "noun\n",
      "intj\n",
      "adv\n",
      "adv\n",
      "adv\n",
      "noun\n"
     ]
    },
    {
     "name": "stderr",
     "output_type": "stream",
     "text": [
      "\r",
      " 13%|██████████                                                                     | 486/3799 [00:08<00:58, 56.71it/s]"
     ]
    },
    {
     "name": "stdout",
     "output_type": "stream",
     "text": [
      "intj\n",
      "verb\n",
      "verb\n",
      "noun\n",
      "noun\n",
      "noun\n"
     ]
    },
    {
     "name": "stderr",
     "output_type": "stream",
     "text": [
      "\r",
      " 13%|██████████▏                                                                    | 492/3799 [00:08<01:02, 53.04it/s]"
     ]
    },
    {
     "name": "stdout",
     "output_type": "stream",
     "text": [
      "noun\n",
      "verb\n",
      "noun\n",
      "noun\n",
      "noun\n",
      "noun\n"
     ]
    },
    {
     "name": "stderr",
     "output_type": "stream",
     "text": [
      "\r",
      " 13%|██████████▎                                                                    | 498/3799 [00:08<01:00, 54.76it/s]"
     ]
    },
    {
     "name": "stdout",
     "output_type": "stream",
     "text": [
      "noun\n",
      "noun\n",
      "noun\n",
      "noun\n",
      "noun\n",
      "noun\n"
     ]
    },
    {
     "name": "stderr",
     "output_type": "stream",
     "text": [
      "\r",
      " 13%|██████████▍                                                                    | 504/3799 [00:08<01:02, 53.07it/s]"
     ]
    },
    {
     "name": "stdout",
     "output_type": "stream",
     "text": [
      "noun\n",
      "noun\n",
      "noun\n",
      "noun\n",
      "adj\n",
      "adj\n"
     ]
    },
    {
     "name": "stderr",
     "output_type": "stream",
     "text": [
      "\r",
      " 13%|██████████▌                                                                    | 510/3799 [00:08<01:02, 53.04it/s]"
     ]
    },
    {
     "name": "stdout",
     "output_type": "stream",
     "text": [
      "noun\n",
      "noun\n",
      "noun\n",
      "adv\n",
      "adv\n",
      "adv\n"
     ]
    },
    {
     "name": "stderr",
     "output_type": "stream",
     "text": [
      "\r",
      " 14%|██████████▋                                                                    | 516/3799 [00:08<01:00, 54.70it/s]"
     ]
    },
    {
     "name": "stdout",
     "output_type": "stream",
     "text": [
      "adv\n",
      "adj\n",
      "adj\n",
      "adv\n",
      "adv\n",
      "adv\n",
      "adv\n"
     ]
    },
    {
     "name": "stderr",
     "output_type": "stream",
     "text": [
      "\r",
      " 14%|██████████▉                                                                    | 523/3799 [00:08<00:57, 56.73it/s]"
     ]
    },
    {
     "name": "stdout",
     "output_type": "stream",
     "text": [
      "adv\n",
      "adv\n",
      "adv\n",
      "adv\n",
      "noun\n",
      "noun\n",
      "noun\n"
     ]
    },
    {
     "name": "stderr",
     "output_type": "stream",
     "text": [
      "\r",
      " 14%|███████████                                                                    | 530/3799 [00:09<00:56, 57.53it/s]"
     ]
    },
    {
     "name": "stdout",
     "output_type": "stream",
     "text": [
      "verb\n",
      "verb\n",
      "noun\n",
      "noun\n",
      "noun\n",
      "noun\n"
     ]
    },
    {
     "name": "stderr",
     "output_type": "stream",
     "text": [
      "\r",
      " 14%|███████████▏                                                                   | 536/3799 [00:09<00:59, 55.09it/s]"
     ]
    },
    {
     "name": "stdout",
     "output_type": "stream",
     "text": [
      "noun\n",
      "noun\n",
      "noun\n",
      "noun\n",
      "noun\n",
      "adv\n"
     ]
    },
    {
     "name": "stderr",
     "output_type": "stream",
     "text": [
      "\r",
      " 14%|███████████▎                                                                   | 542/3799 [00:09<00:59, 54.97it/s]"
     ]
    },
    {
     "name": "stdout",
     "output_type": "stream",
     "text": [
      "adv\n",
      "noun\n",
      "adj\n",
      "adj\n",
      "adj\n",
      "adv\n"
     ]
    },
    {
     "name": "stderr",
     "output_type": "stream",
     "text": [
      "\r",
      " 14%|███████████▍                                                                   | 548/3799 [00:09<00:58, 55.49it/s]"
     ]
    },
    {
     "name": "stdout",
     "output_type": "stream",
     "text": [
      "adv\n",
      "noun\n",
      "noun\n",
      "noun\n",
      "noun\n",
      "noun\n"
     ]
    },
    {
     "name": "stderr",
     "output_type": "stream",
     "text": [
      "\r",
      " 15%|███████████▌                                                                   | 554/3799 [00:09<00:59, 54.20it/s]"
     ]
    },
    {
     "name": "stdout",
     "output_type": "stream",
     "text": [
      "noun\n",
      "adv\n",
      "verb\n",
      "noun\n",
      "verb\n",
      "verb\n"
     ]
    },
    {
     "name": "stderr",
     "output_type": "stream",
     "text": [
      "\r",
      " 15%|███████████▋                                                                   | 560/3799 [00:09<01:00, 53.34it/s]"
     ]
    },
    {
     "name": "stdout",
     "output_type": "stream",
     "text": [
      "noun\n",
      "noun\n",
      "noun\n",
      "adv\n",
      "adj\n",
      "adj\n",
      "noun\n"
     ]
    },
    {
     "name": "stderr",
     "output_type": "stream",
     "text": [
      "\r",
      " 15%|███████████▊                                                                   | 567/3799 [00:09<00:58, 55.57it/s]"
     ]
    },
    {
     "name": "stdout",
     "output_type": "stream",
     "text": [
      "noun\n",
      "adj\n",
      "noun\n",
      "verb\n",
      "verb\n",
      "verb\n",
      "verb\n"
     ]
    },
    {
     "name": "stderr",
     "output_type": "stream",
     "text": [
      "\r",
      " 15%|███████████▉                                                                   | 574/3799 [00:09<00:56, 57.01it/s]"
     ]
    },
    {
     "name": "stdout",
     "output_type": "stream",
     "text": [
      "verb\n",
      "verb\n",
      "verb\n",
      "noun\n",
      "verb\n",
      "verb\n",
      "noun\n"
     ]
    },
    {
     "name": "stderr",
     "output_type": "stream",
     "text": [
      "\r",
      " 15%|████████████                                                                   | 581/3799 [00:09<00:55, 58.06it/s]"
     ]
    },
    {
     "name": "stdout",
     "output_type": "stream",
     "text": [
      "adj\n",
      "verb\n",
      "verb\n",
      "verb\n",
      "verb\n",
      "noun\n"
     ]
    },
    {
     "name": "stderr",
     "output_type": "stream",
     "text": [
      "\r",
      " 15%|████████████▏                                                                  | 587/3799 [00:10<00:54, 58.50it/s]"
     ]
    },
    {
     "name": "stdout",
     "output_type": "stream",
     "text": [
      "noun\n",
      "adj\n",
      "noun\n",
      "noun\n",
      "adj\n",
      "adj\n"
     ]
    },
    {
     "name": "stderr",
     "output_type": "stream",
     "text": [
      "\r",
      " 16%|████████████▎                                                                  | 593/3799 [00:10<00:54, 58.57it/s]"
     ]
    },
    {
     "name": "stdout",
     "output_type": "stream",
     "text": [
      "noun\n",
      "adj\n",
      "noun\n",
      "noun\n",
      "noun\n",
      "noun\n"
     ]
    },
    {
     "name": "stderr",
     "output_type": "stream",
     "text": [
      "\r",
      " 16%|████████████▍                                                                  | 599/3799 [00:10<00:54, 58.35it/s]"
     ]
    },
    {
     "name": "stdout",
     "output_type": "stream",
     "text": [
      "noun\n",
      "noun\n",
      "verb\n",
      "verb\n",
      "verb\n",
      "verb\n"
     ]
    },
    {
     "name": "stderr",
     "output_type": "stream",
     "text": [
      "\r",
      " 16%|████████████▌                                                                  | 605/3799 [00:10<00:57, 55.92it/s]"
     ]
    },
    {
     "name": "stdout",
     "output_type": "stream",
     "text": [
      "verb\n",
      "verb\n",
      "verb\n",
      "verb\n",
      "verb\n",
      "verb\n"
     ]
    },
    {
     "name": "stderr",
     "output_type": "stream",
     "text": [
      "\r",
      " 16%|████████████▋                                                                  | 611/3799 [00:10<00:57, 55.09it/s]"
     ]
    },
    {
     "name": "stdout",
     "output_type": "stream",
     "text": [
      "verb\n",
      "verb\n",
      "verb\n",
      "verb\n",
      "verb\n",
      "verb\n"
     ]
    },
    {
     "name": "stderr",
     "output_type": "stream",
     "text": [
      "\r",
      " 16%|████████████▊                                                                  | 617/3799 [00:10<00:56, 56.20it/s]"
     ]
    },
    {
     "name": "stdout",
     "output_type": "stream",
     "text": [
      "verb\n",
      "verb\n",
      "verb\n",
      "verb\n",
      "verb\n",
      "verb\n"
     ]
    },
    {
     "name": "stderr",
     "output_type": "stream",
     "text": [
      "\r",
      " 16%|████████████▉                                                                  | 623/3799 [00:10<00:57, 55.28it/s]"
     ]
    },
    {
     "name": "stdout",
     "output_type": "stream",
     "text": [
      "verb\n",
      "verb\n",
      "verb\n",
      "verb\n",
      "verb\n",
      "verb\n"
     ]
    },
    {
     "name": "stderr",
     "output_type": "stream",
     "text": [
      "\r",
      " 17%|█████████████                                                                  | 629/3799 [00:10<00:58, 54.06it/s]"
     ]
    },
    {
     "name": "stdout",
     "output_type": "stream",
     "text": [
      "verb\n",
      "verb\n",
      "adj\n",
      "adj\n",
      "adj\n",
      "verb\n"
     ]
    },
    {
     "name": "stderr",
     "output_type": "stream",
     "text": [
      "\r",
      " 17%|█████████████▏                                                                 | 635/3799 [00:10<00:57, 54.99it/s]"
     ]
    },
    {
     "name": "stdout",
     "output_type": "stream",
     "text": [
      "verb\n",
      "verb\n",
      "verb\n",
      "verb\n",
      "noun\n",
      "noun\n"
     ]
    },
    {
     "name": "stderr",
     "output_type": "stream",
     "text": [
      "\r",
      " 17%|█████████████▎                                                                 | 641/3799 [00:11<00:57, 54.53it/s]"
     ]
    },
    {
     "name": "stdout",
     "output_type": "stream",
     "text": [
      "adv\n",
      "verb\n",
      "verb\n",
      "adv\n",
      "adv\n",
      "adj\n",
      "adv\n"
     ]
    },
    {
     "name": "stderr",
     "output_type": "stream",
     "text": [
      "\r",
      " 17%|█████████████▍                                                                 | 648/3799 [00:11<00:55, 56.33it/s]"
     ]
    },
    {
     "name": "stdout",
     "output_type": "stream",
     "text": [
      "adv\n",
      "adv\n",
      "adv\n",
      "adv\n",
      "adj\n",
      "adj\n"
     ]
    },
    {
     "name": "stderr",
     "output_type": "stream",
     "text": [
      "\r",
      " 17%|█████████████▌                                                                 | 654/3799 [00:11<00:58, 54.17it/s]"
     ]
    },
    {
     "name": "stdout",
     "output_type": "stream",
     "text": [
      "adj\n",
      "verb\n",
      "verb\n",
      "adj\n",
      "verb\n",
      "verb\n",
      "verb\n"
     ]
    },
    {
     "name": "stderr",
     "output_type": "stream",
     "text": [
      "\r",
      " 17%|█████████████▋                                                                 | 661/3799 [00:11<00:56, 55.79it/s]"
     ]
    },
    {
     "name": "stdout",
     "output_type": "stream",
     "text": [
      "verb\n",
      "verb\n",
      "verb\n",
      "verb\n",
      "verb\n",
      "verb\n"
     ]
    },
    {
     "name": "stderr",
     "output_type": "stream",
     "text": [
      "\r",
      " 18%|█████████████▊                                                                 | 667/3799 [00:11<00:57, 54.85it/s]"
     ]
    },
    {
     "name": "stdout",
     "output_type": "stream",
     "text": [
      "verb\n",
      "verb\n",
      "verb\n",
      "verb\n",
      "verb\n",
      "verb\n"
     ]
    },
    {
     "name": "stderr",
     "output_type": "stream",
     "text": [
      "\r",
      " 18%|█████████████▉                                                                 | 673/3799 [00:11<00:56, 55.54it/s]"
     ]
    },
    {
     "name": "stdout",
     "output_type": "stream",
     "text": [
      "verb\n",
      "adj\n",
      "adj\n",
      "noun\n",
      "noun\n",
      "verb\n"
     ]
    },
    {
     "name": "stderr",
     "output_type": "stream",
     "text": [
      "\r",
      " 18%|██████████████                                                                 | 679/3799 [00:11<00:56, 54.90it/s]"
     ]
    },
    {
     "name": "stdout",
     "output_type": "stream",
     "text": [
      "verb\n",
      "verb\n",
      "verb\n",
      "verb\n",
      "verb\n",
      "verb\n"
     ]
    },
    {
     "name": "stderr",
     "output_type": "stream",
     "text": [
      "\r",
      " 18%|██████████████▏                                                                | 685/3799 [00:11<00:55, 56.22it/s]"
     ]
    },
    {
     "name": "stdout",
     "output_type": "stream",
     "text": [
      "verb\n",
      "verb\n",
      "verb\n",
      "verb\n",
      "verb\n",
      "verb\n"
     ]
    },
    {
     "name": "stderr",
     "output_type": "stream",
     "text": [
      "\r",
      " 18%|██████████████▎                                                                | 691/3799 [00:11<00:54, 57.02it/s]"
     ]
    },
    {
     "name": "stdout",
     "output_type": "stream",
     "text": [
      "verb\n",
      "verb\n",
      "verb\n",
      "verb\n",
      "adj\n",
      "adj\n"
     ]
    },
    {
     "name": "stderr",
     "output_type": "stream",
     "text": [
      "\r",
      " 18%|██████████████▍                                                                | 697/3799 [00:12<00:55, 55.99it/s]"
     ]
    },
    {
     "name": "stdout",
     "output_type": "stream",
     "text": [
      "verb\n",
      "noun\n",
      "noun\n",
      "verb\n",
      "verb\n",
      "adj\n"
     ]
    },
    {
     "name": "stderr",
     "output_type": "stream",
     "text": [
      "\r",
      " 19%|██████████████▌                                                                | 703/3799 [00:12<00:54, 57.02it/s]"
     ]
    },
    {
     "name": "stdout",
     "output_type": "stream",
     "text": [
      "verb\n",
      "verb\n",
      "verb\n",
      "verb\n",
      "verb\n",
      "verb\n"
     ]
    },
    {
     "name": "stderr",
     "output_type": "stream",
     "text": [
      "\r",
      " 19%|██████████████▋                                                                | 709/3799 [00:12<00:56, 54.91it/s]"
     ]
    },
    {
     "name": "stdout",
     "output_type": "stream",
     "text": [
      "verb\n",
      "verb\n",
      "verb\n",
      "verb\n",
      "noun\n",
      "adj\n"
     ]
    },
    {
     "name": "stderr",
     "output_type": "stream",
     "text": [
      "\r",
      " 19%|██████████████▊                                                                | 715/3799 [00:12<00:59, 51.73it/s]"
     ]
    },
    {
     "name": "stdout",
     "output_type": "stream",
     "text": [
      "adj\n",
      "adj\n",
      "verb\n",
      "verb\n",
      "verb\n",
      "verb\n"
     ]
    },
    {
     "name": "stderr",
     "output_type": "stream",
     "text": [
      "\r",
      " 19%|██████████████▉                                                                | 721/3799 [00:12<00:57, 53.86it/s]"
     ]
    },
    {
     "name": "stdout",
     "output_type": "stream",
     "text": [
      "verb\n",
      "verb\n",
      "adj\n",
      "adj\n",
      "adj\n",
      "noun\n"
     ]
    },
    {
     "name": "stderr",
     "output_type": "stream",
     "text": [
      "\r",
      " 19%|███████████████                                                                | 727/3799 [00:12<00:57, 53.45it/s]"
     ]
    },
    {
     "name": "stdout",
     "output_type": "stream",
     "text": [
      "noun\n",
      "verb\n",
      "verb\n",
      "verb\n",
      "verb\n",
      "adv\n"
     ]
    },
    {
     "name": "stderr",
     "output_type": "stream",
     "text": [
      "\r",
      " 19%|███████████████▏                                                               | 733/3799 [00:12<00:58, 52.82it/s]"
     ]
    },
    {
     "name": "stdout",
     "output_type": "stream",
     "text": [
      "adv\n",
      "adv\n",
      "adv\n",
      "verb\n",
      "verb\n",
      "verb\n"
     ]
    },
    {
     "name": "stderr",
     "output_type": "stream",
     "text": [
      "\r",
      " 19%|███████████████▎                                                               | 739/3799 [00:12<00:55, 54.68it/s]"
     ]
    },
    {
     "name": "stdout",
     "output_type": "stream",
     "text": [
      "noun\n",
      "noun\n",
      "intj\n",
      "intj\n",
      "noun\n",
      "noun\n",
      "adv\n"
     ]
    },
    {
     "name": "stderr",
     "output_type": "stream",
     "text": [
      "\r",
      " 20%|███████████████▌                                                               | 746/3799 [00:12<00:54, 55.77it/s]"
     ]
    },
    {
     "name": "stdout",
     "output_type": "stream",
     "text": [
      "verb\n",
      "verb\n",
      "verb\n",
      "verb\n",
      "verb\n",
      "verb\n"
     ]
    },
    {
     "name": "stderr",
     "output_type": "stream",
     "text": [
      "\r",
      " 20%|███████████████▋                                                               | 752/3799 [00:13<00:56, 54.37it/s]"
     ]
    },
    {
     "name": "stdout",
     "output_type": "stream",
     "text": [
      "verb\n",
      "verb\n",
      "adj\n",
      "adj\n",
      "adv\n",
      "verb\n"
     ]
    },
    {
     "name": "stderr",
     "output_type": "stream",
     "text": [
      "\r",
      " 20%|███████████████▊                                                               | 758/3799 [00:13<00:55, 54.47it/s]"
     ]
    },
    {
     "name": "stdout",
     "output_type": "stream",
     "text": [
      "adv\n",
      "adv\n",
      "verb\n",
      "verb\n",
      "verb\n",
      "verb\n"
     ]
    },
    {
     "name": "stderr",
     "output_type": "stream",
     "text": [
      "\r",
      " 20%|███████████████▉                                                               | 764/3799 [00:13<00:54, 55.36it/s]"
     ]
    },
    {
     "name": "stdout",
     "output_type": "stream",
     "text": [
      "verb\n",
      "verb\n",
      "verb\n",
      "verb\n",
      "verb\n",
      "verb\n"
     ]
    },
    {
     "name": "stderr",
     "output_type": "stream",
     "text": [
      "\r",
      " 20%|████████████████                                                               | 770/3799 [00:13<00:56, 53.32it/s]"
     ]
    },
    {
     "name": "stdout",
     "output_type": "stream",
     "text": [
      "adv\n",
      "adv\n",
      "adj\n",
      "adv\n",
      "adj\n",
      "verb\n"
     ]
    },
    {
     "name": "stderr",
     "output_type": "stream",
     "text": [
      "\r",
      " 20%|████████████████▏                                                              | 776/3799 [00:13<00:56, 53.87it/s]"
     ]
    },
    {
     "name": "stdout",
     "output_type": "stream",
     "text": [
      "verb\n",
      "verb\n",
      "adj\n",
      "verb\n",
      "verb\n",
      "verb\n"
     ]
    },
    {
     "name": "stderr",
     "output_type": "stream",
     "text": [
      "\r",
      " 21%|████████████████▎                                                              | 782/3799 [00:13<00:56, 53.25it/s]"
     ]
    },
    {
     "name": "stdout",
     "output_type": "stream",
     "text": [
      "verb\n",
      "adj\n",
      "adj\n",
      "adj\n",
      "noun\n",
      "noun\n"
     ]
    },
    {
     "name": "stderr",
     "output_type": "stream",
     "text": [
      "\r",
      " 21%|████████████████▍                                                              | 788/3799 [00:13<00:55, 53.96it/s]"
     ]
    },
    {
     "name": "stdout",
     "output_type": "stream",
     "text": [
      "adv\n",
      "verb\n",
      "verb\n",
      "verb\n",
      "adv\n",
      "adv\n"
     ]
    },
    {
     "name": "stderr",
     "output_type": "stream",
     "text": [
      "\r",
      " 21%|████████████████▌                                                              | 794/3799 [00:13<00:55, 54.33it/s]"
     ]
    },
    {
     "name": "stdout",
     "output_type": "stream",
     "text": [
      "verb\n",
      "verb\n",
      "verb\n",
      "adj\n",
      "adj\n",
      "adj\n"
     ]
    },
    {
     "name": "stderr",
     "output_type": "stream",
     "text": [
      "\r",
      " 21%|████████████████▋                                                              | 800/3799 [00:13<00:53, 55.64it/s]"
     ]
    },
    {
     "name": "stdout",
     "output_type": "stream",
     "text": [
      "verb\n",
      "verb\n",
      "verb\n",
      "verb\n",
      "adj\n",
      "adj\n"
     ]
    },
    {
     "name": "stderr",
     "output_type": "stream",
     "text": [
      "\r",
      " 21%|████████████████▊                                                              | 806/3799 [00:14<00:53, 55.97it/s]"
     ]
    },
    {
     "name": "stdout",
     "output_type": "stream",
     "text": [
      "adj\n",
      "verb\n",
      "verb\n",
      "verb\n",
      "verb\n",
      "verb\n"
     ]
    },
    {
     "name": "stderr",
     "output_type": "stream",
     "text": [
      "\r",
      " 21%|████████████████▉                                                              | 812/3799 [00:14<00:56, 53.08it/s]"
     ]
    },
    {
     "name": "stdout",
     "output_type": "stream",
     "text": [
      "verb\n",
      "adv\n",
      "adv\n",
      "adv\n",
      "verb\n",
      "verb\n"
     ]
    },
    {
     "name": "stderr",
     "output_type": "stream",
     "text": [
      "\r",
      " 22%|█████████████████                                                              | 818/3799 [00:14<00:54, 54.58it/s]"
     ]
    },
    {
     "name": "stdout",
     "output_type": "stream",
     "text": [
      "verb\n",
      "verb\n",
      "verb\n",
      "adj\n",
      "adj\n",
      "adj\n"
     ]
    },
    {
     "name": "stderr",
     "output_type": "stream",
     "text": [
      "\r",
      " 22%|█████████████████▏                                                             | 824/3799 [00:14<00:57, 51.79it/s]"
     ]
    },
    {
     "name": "stdout",
     "output_type": "stream",
     "text": [
      "adj\n",
      "adj\n",
      "adj\n",
      "adj\n",
      "adj\n",
      "noun\n"
     ]
    },
    {
     "name": "stderr",
     "output_type": "stream",
     "text": [
      "\r",
      " 22%|█████████████████▎                                                             | 830/3799 [00:14<00:55, 53.19it/s]"
     ]
    },
    {
     "name": "stdout",
     "output_type": "stream",
     "text": [
      "noun\n",
      "verb\n",
      "verb\n",
      "noun\n",
      "noun\n",
      "verb\n"
     ]
    },
    {
     "name": "stderr",
     "output_type": "stream",
     "text": [
      "\r",
      " 22%|█████████████████▍                                                             | 836/3799 [00:14<00:56, 52.78it/s]"
     ]
    },
    {
     "name": "stdout",
     "output_type": "stream",
     "text": [
      "verb\n",
      "verb\n",
      "verb\n",
      "verb\n",
      "verb\n",
      "verb\n"
     ]
    },
    {
     "name": "stderr",
     "output_type": "stream",
     "text": [
      "\r",
      " 22%|█████████████████▌                                                             | 842/3799 [00:14<00:56, 52.70it/s]"
     ]
    },
    {
     "name": "stdout",
     "output_type": "stream",
     "text": [
      "verb\n",
      "verb\n",
      "verb\n",
      "verb\n",
      "verb\n",
      "verb\n",
      "verb\n"
     ]
    },
    {
     "name": "stderr",
     "output_type": "stream",
     "text": [
      "\r",
      " 22%|█████████████████▋                                                             | 849/3799 [00:14<00:54, 54.63it/s]"
     ]
    },
    {
     "name": "stdout",
     "output_type": "stream",
     "text": [
      "verb\n",
      "verb\n",
      "adj\n",
      "adj\n",
      "verb\n",
      "verb\n"
     ]
    },
    {
     "name": "stderr",
     "output_type": "stream",
     "text": [
      "\r",
      " 23%|█████████████████▊                                                             | 855/3799 [00:15<01:06, 44.08it/s]"
     ]
    },
    {
     "name": "stdout",
     "output_type": "stream",
     "text": [
      "verb\n",
      "adj\n",
      "adj\n",
      "verb\n",
      "verb\n"
     ]
    },
    {
     "name": "stderr",
     "output_type": "stream",
     "text": [
      "\r",
      " 23%|█████████████████▉                                                             | 860/3799 [00:15<01:10, 41.95it/s]"
     ]
    },
    {
     "name": "stdout",
     "output_type": "stream",
     "text": [
      "verb\n",
      "verb\n",
      "verb\n",
      "verb\n",
      "verb\n"
     ]
    },
    {
     "name": "stderr",
     "output_type": "stream",
     "text": [
      "\r",
      " 23%|█████████████████▉                                                             | 865/3799 [00:15<01:15, 38.78it/s]"
     ]
    },
    {
     "name": "stdout",
     "output_type": "stream",
     "text": [
      "verb\n",
      "verb\n",
      "verb\n",
      "verb\n",
      "verb\n"
     ]
    },
    {
     "name": "stderr",
     "output_type": "stream",
     "text": [
      "\r",
      " 23%|██████████████████                                                             | 870/3799 [00:15<01:18, 37.50it/s]"
     ]
    },
    {
     "name": "stdout",
     "output_type": "stream",
     "text": [
      "verb\n",
      "verb\n",
      "verb\n",
      "verb\n"
     ]
    },
    {
     "name": "stderr",
     "output_type": "stream",
     "text": [
      "\r",
      " 23%|██████████████████▏                                                            | 874/3799 [00:15<01:16, 38.03it/s]"
     ]
    },
    {
     "name": "stdout",
     "output_type": "stream",
     "text": [
      "verb\n",
      "verb\n",
      "verb\n",
      "verb\n",
      "verb\n"
     ]
    },
    {
     "name": "stderr",
     "output_type": "stream",
     "text": [
      "\r",
      " 23%|██████████████████▎                                                            | 879/3799 [00:15<01:11, 40.70it/s]"
     ]
    },
    {
     "name": "stdout",
     "output_type": "stream",
     "text": [
      "verb\n",
      "verb\n",
      "verb\n",
      "verb\n",
      "verb\n",
      "verb\n"
     ]
    },
    {
     "name": "stderr",
     "output_type": "stream",
     "text": [
      "\r",
      " 23%|██████████████████▍                                                            | 885/3799 [00:15<01:05, 44.67it/s]"
     ]
    },
    {
     "name": "stdout",
     "output_type": "stream",
     "text": [
      "verb\n",
      "verb\n",
      "verb\n",
      "adv\n",
      "verb\n"
     ]
    },
    {
     "name": "stderr",
     "output_type": "stream",
     "text": [
      "\r",
      " 23%|██████████████████▌                                                            | 890/3799 [00:15<01:03, 45.93it/s]"
     ]
    },
    {
     "name": "stdout",
     "output_type": "stream",
     "text": [
      "verb\n",
      "verb\n",
      "verb\n",
      "verb\n",
      "verb\n",
      "adj\n"
     ]
    },
    {
     "name": "stderr",
     "output_type": "stream",
     "text": [
      "\r",
      " 24%|██████████████████▋                                                            | 896/3799 [00:15<01:00, 48.02it/s]"
     ]
    },
    {
     "name": "stdout",
     "output_type": "stream",
     "text": [
      "adj\n",
      "adj\n",
      "adj\n",
      "adj\n",
      "verb\n",
      "verb\n"
     ]
    },
    {
     "name": "stderr",
     "output_type": "stream",
     "text": [
      "\r",
      " 24%|██████████████████▊                                                            | 902/3799 [00:16<00:56, 50.85it/s]"
     ]
    },
    {
     "name": "stdout",
     "output_type": "stream",
     "text": [
      "verb\n",
      "verb\n",
      "verb\n",
      "verb\n",
      "verb\n",
      "verb\n"
     ]
    },
    {
     "name": "stderr",
     "output_type": "stream",
     "text": [
      "\r",
      " 24%|██████████████████▉                                                            | 908/3799 [00:16<00:56, 50.76it/s]"
     ]
    },
    {
     "name": "stdout",
     "output_type": "stream",
     "text": [
      "verb\n",
      "verb\n",
      "verb\n",
      "verb\n",
      "verb\n",
      "adj\n"
     ]
    },
    {
     "name": "stderr",
     "output_type": "stream",
     "text": [
      "\r",
      " 24%|███████████████████                                                            | 914/3799 [00:16<00:56, 50.89it/s]"
     ]
    },
    {
     "name": "stdout",
     "output_type": "stream",
     "text": [
      "adj\n",
      "noun\n",
      "noun\n",
      "noun\n",
      "noun\n",
      "verb\n",
      "verb\n"
     ]
    },
    {
     "name": "stderr",
     "output_type": "stream",
     "text": [
      "\r",
      " 24%|███████████████████▏                                                           | 921/3799 [00:16<00:53, 53.49it/s]"
     ]
    },
    {
     "name": "stdout",
     "output_type": "stream",
     "text": [
      "noun\n",
      "noun\n",
      "adj\n",
      "noun\n",
      "noun\n",
      "verb\n"
     ]
    },
    {
     "name": "stderr",
     "output_type": "stream",
     "text": [
      "\r",
      " 24%|███████████████████▎                                                           | 927/3799 [00:16<00:54, 52.58it/s]"
     ]
    },
    {
     "name": "stdout",
     "output_type": "stream",
     "text": [
      "verb\n",
      "verb\n",
      "verb\n",
      "verb\n",
      "verb\n",
      "verb\n"
     ]
    },
    {
     "name": "stderr",
     "output_type": "stream",
     "text": [
      "\r",
      " 25%|███████████████████▍                                                           | 933/3799 [00:16<00:54, 52.22it/s]"
     ]
    },
    {
     "name": "stdout",
     "output_type": "stream",
     "text": [
      "verb\n",
      "verb\n",
      "verb\n",
      "verb\n",
      "verb\n",
      "verb\n"
     ]
    },
    {
     "name": "stderr",
     "output_type": "stream",
     "text": [
      "\r",
      " 25%|███████████████████▌                                                           | 939/3799 [00:16<00:52, 54.08it/s]"
     ]
    },
    {
     "name": "stdout",
     "output_type": "stream",
     "text": [
      "verb\n",
      "verb\n",
      "verb\n",
      "adv\n",
      "adj\n",
      "adj\n"
     ]
    },
    {
     "name": "stderr",
     "output_type": "stream",
     "text": [
      "\r",
      " 25%|███████████████████▋                                                           | 945/3799 [00:16<01:02, 45.99it/s]"
     ]
    },
    {
     "name": "stdout",
     "output_type": "stream",
     "text": [
      "adj\n",
      "adv\n",
      "adv\n",
      "verb\n",
      "ayx\n",
      "adj\n",
      "adj\n"
     ]
    },
    {
     "name": "stderr",
     "output_type": "stream",
     "text": [
      "\r",
      " 25%|███████████████████▊                                                           | 952/3799 [00:17<00:57, 49.40it/s]"
     ]
    },
    {
     "name": "stdout",
     "output_type": "stream",
     "text": [
      "verb\n",
      "verb\n",
      "verb\n",
      "verb\n",
      "verb\n",
      "verb\n"
     ]
    },
    {
     "name": "stderr",
     "output_type": "stream",
     "text": [
      "\r",
      " 25%|███████████████████▉                                                           | 958/3799 [00:17<00:56, 49.92it/s]"
     ]
    },
    {
     "name": "stdout",
     "output_type": "stream",
     "text": [
      "verb\n",
      "verb\n",
      "verb\n",
      "verb\n",
      "verb\n",
      "verb\n"
     ]
    },
    {
     "name": "stderr",
     "output_type": "stream",
     "text": [
      "\r",
      " 25%|████████████████████                                                           | 964/3799 [00:17<00:54, 52.39it/s]"
     ]
    },
    {
     "name": "stdout",
     "output_type": "stream",
     "text": [
      "verb\n",
      "verb\n",
      "verb\n",
      "verb\n",
      "verb\n",
      "verb\n"
     ]
    },
    {
     "name": "stderr",
     "output_type": "stream",
     "text": [
      "\r",
      " 26%|████████████████████▏                                                          | 970/3799 [00:17<00:52, 54.21it/s]"
     ]
    },
    {
     "name": "stdout",
     "output_type": "stream",
     "text": [
      "verb\n",
      "verb\n",
      "verb\n",
      "verb\n",
      "verb\n",
      "verb\n"
     ]
    },
    {
     "name": "stderr",
     "output_type": "stream",
     "text": [
      "\r",
      " 26%|████████████████████▎                                                          | 976/3799 [00:17<00:52, 53.63it/s]"
     ]
    },
    {
     "name": "stdout",
     "output_type": "stream",
     "text": [
      "verb\n",
      "verb\n",
      "verb\n",
      "verb\n",
      "verb\n",
      "verb\n"
     ]
    },
    {
     "name": "stderr",
     "output_type": "stream",
     "text": [
      "\r",
      " 26%|████████████████████▍                                                          | 982/3799 [00:17<00:50, 55.28it/s]"
     ]
    },
    {
     "name": "stdout",
     "output_type": "stream",
     "text": [
      "adj\n",
      "adj\n",
      "verb\n",
      "verb\n",
      "verb\n",
      "verb\n",
      "noun\n"
     ]
    },
    {
     "name": "stderr",
     "output_type": "stream",
     "text": [
      "\r",
      " 26%|████████████████████▌                                                          | 989/3799 [00:17<00:49, 57.03it/s]"
     ]
    },
    {
     "name": "stdout",
     "output_type": "stream",
     "text": [
      "noun\n",
      "noun\n",
      "noun\n",
      "adj\n",
      "verb\n",
      "verb\n",
      "verb\n"
     ]
    },
    {
     "name": "stderr",
     "output_type": "stream",
     "text": [
      "\r",
      " 26%|████████████████████▋                                                          | 996/3799 [00:17<00:48, 58.17it/s]"
     ]
    },
    {
     "name": "stdout",
     "output_type": "stream",
     "text": [
      "verb\n",
      "verb\n",
      "verb\n",
      "noun\n",
      "noun\n",
      "noun\n"
     ]
    },
    {
     "name": "stderr",
     "output_type": "stream",
     "text": [
      "\r",
      " 26%|████████████████████▌                                                         | 1002/3799 [00:17<00:47, 58.41it/s]"
     ]
    },
    {
     "name": "stdout",
     "output_type": "stream",
     "text": [
      "adj\n",
      "adj\n",
      "verb\n",
      "verb\n",
      "verb\n",
      "verb\n",
      "ayx\n"
     ]
    },
    {
     "name": "stderr",
     "output_type": "stream",
     "text": [
      "\r",
      " 27%|████████████████████▋                                                         | 1009/3799 [00:18<00:47, 58.58it/s]"
     ]
    },
    {
     "name": "stdout",
     "output_type": "stream",
     "text": [
      "ayx\n",
      "ayx\n",
      "ayx\n",
      "ayx\n",
      "adj\n",
      "adj\n"
     ]
    },
    {
     "name": "stderr",
     "output_type": "stream",
     "text": [
      "\r",
      " 27%|████████████████████▊                                                         | 1015/3799 [00:18<00:47, 58.44it/s]"
     ]
    },
    {
     "name": "stdout",
     "output_type": "stream",
     "text": [
      "adj\n",
      "adj\n",
      "adj\n",
      "verb\n",
      "verb\n",
      "verb\n"
     ]
    },
    {
     "name": "stderr",
     "output_type": "stream",
     "text": [
      "\r",
      " 27%|████████████████████▉                                                         | 1021/3799 [00:18<00:47, 57.93it/s]"
     ]
    },
    {
     "name": "stdout",
     "output_type": "stream",
     "text": [
      "adj\n",
      "noun\n",
      "noun\n",
      "noun\n",
      "verb\n",
      "verb\n"
     ]
    },
    {
     "name": "stderr",
     "output_type": "stream",
     "text": [
      "\r",
      " 27%|█████████████████████                                                         | 1027/3799 [00:18<00:48, 57.24it/s]"
     ]
    },
    {
     "name": "stdout",
     "output_type": "stream",
     "text": [
      "verb\n",
      "noun\n",
      "adj\n",
      "adj\n",
      "adj\n",
      "adj\n",
      "adj\n"
     ]
    },
    {
     "name": "stderr",
     "output_type": "stream",
     "text": [
      "\r",
      " 27%|█████████████████████▏                                                        | 1034/3799 [00:18<00:47, 58.47it/s]"
     ]
    },
    {
     "name": "stdout",
     "output_type": "stream",
     "text": [
      "adj\n",
      "noun\n",
      "verb\n",
      "verb\n",
      "noun\n",
      "noun\n"
     ]
    },
    {
     "name": "stderr",
     "output_type": "stream",
     "text": [
      "\r",
      " 27%|█████████████████████▎                                                        | 1040/3799 [00:18<00:47, 57.95it/s]"
     ]
    },
    {
     "name": "stdout",
     "output_type": "stream",
     "text": [
      "adj\n",
      "adj\n",
      "adj\n",
      "verb\n",
      "noun\n",
      "adj\n",
      "adj\n"
     ]
    },
    {
     "name": "stderr",
     "output_type": "stream",
     "text": [
      "\r",
      " 28%|█████████████████████▍                                                        | 1047/3799 [00:18<00:46, 58.84it/s]"
     ]
    },
    {
     "name": "stdout",
     "output_type": "stream",
     "text": [
      "verb\n",
      "verb\n",
      "verb\n",
      "verb\n",
      "adj\n",
      "verb\n",
      "verb\n"
     ]
    },
    {
     "name": "stderr",
     "output_type": "stream",
     "text": [
      "\r",
      " 28%|█████████████████████▋                                                        | 1054/3799 [00:18<00:45, 60.16it/s]"
     ]
    },
    {
     "name": "stdout",
     "output_type": "stream",
     "text": [
      "verb\n",
      "noun\n",
      "adj\n",
      "adj\n",
      "adj\n",
      "verb\n",
      "verb\n"
     ]
    },
    {
     "name": "stderr",
     "output_type": "stream",
     "text": [
      "\r",
      " 28%|█████████████████████▊                                                        | 1061/3799 [00:18<00:45, 60.58it/s]"
     ]
    },
    {
     "name": "stdout",
     "output_type": "stream",
     "text": [
      "verb\n",
      "verb\n",
      "verb\n",
      "verb\n",
      "verb\n",
      "verb\n",
      "verb\n"
     ]
    },
    {
     "name": "stderr",
     "output_type": "stream",
     "text": [
      "\r",
      " 28%|█████████████████████▉                                                        | 1068/3799 [00:19<00:44, 61.67it/s]"
     ]
    },
    {
     "name": "stdout",
     "output_type": "stream",
     "text": [
      "noun\n",
      "noun\n",
      "noun\n",
      "noun\n",
      "adj\n",
      "adj\n",
      "adj\n"
     ]
    },
    {
     "name": "stderr",
     "output_type": "stream",
     "text": [
      "\r",
      " 28%|██████████████████████                                                        | 1075/3799 [00:19<00:44, 61.80it/s]"
     ]
    },
    {
     "name": "stdout",
     "output_type": "stream",
     "text": [
      "adj\n",
      "adj\n",
      "adv\n",
      "adv\n",
      "adv\n",
      "adj\n",
      "adj\n"
     ]
    },
    {
     "name": "stderr",
     "output_type": "stream",
     "text": [
      "\r",
      " 28%|██████████████████████▏                                                       | 1082/3799 [00:19<00:43, 62.06it/s]"
     ]
    },
    {
     "name": "stdout",
     "output_type": "stream",
     "text": [
      "noun\n",
      "adv\n",
      "adv\n",
      "noun\n",
      "noun\n",
      "adv\n",
      "adv\n"
     ]
    },
    {
     "name": "stderr",
     "output_type": "stream",
     "text": [
      "\r",
      " 29%|██████████████████████▎                                                       | 1089/3799 [00:19<00:42, 63.42it/s]"
     ]
    },
    {
     "name": "stdout",
     "output_type": "stream",
     "text": [
      "adv\n",
      "adj\n",
      "adj\n",
      "adj\n",
      "verb\n",
      "verb\n",
      "verb\n"
     ]
    },
    {
     "name": "stderr",
     "output_type": "stream",
     "text": [
      "\r",
      " 29%|██████████████████████▌                                                       | 1096/3799 [00:19<00:42, 64.06it/s]"
     ]
    },
    {
     "name": "stdout",
     "output_type": "stream",
     "text": [
      "verb\n",
      "verb\n",
      "adv\n",
      "adv\n",
      "verb\n",
      "adj\n",
      "adj\n"
     ]
    },
    {
     "name": "stderr",
     "output_type": "stream",
     "text": [
      "\r",
      " 29%|██████████████████████▋                                                       | 1103/3799 [00:19<00:41, 64.34it/s]"
     ]
    },
    {
     "name": "stdout",
     "output_type": "stream",
     "text": [
      "verb\n",
      "verb\n",
      "verb\n",
      "verb\n",
      "verb\n",
      "verb\n",
      "adposition\n"
     ]
    },
    {
     "name": "stderr",
     "output_type": "stream",
     "text": [
      "\r",
      " 29%|██████████████████████▊                                                       | 1110/3799 [00:19<00:41, 64.80it/s]"
     ]
    },
    {
     "name": "stdout",
     "output_type": "stream",
     "text": [
      "adposition\n",
      "adposition\n",
      "adv\n",
      "adv\n",
      "adj\n",
      "adj\n",
      "adj\n"
     ]
    },
    {
     "name": "stderr",
     "output_type": "stream",
     "text": [
      "\r",
      " 29%|██████████████████████▉                                                       | 1117/3799 [00:19<00:41, 65.03it/s]"
     ]
    },
    {
     "name": "stdout",
     "output_type": "stream",
     "text": [
      "adj\n",
      "adj\n",
      "adj\n",
      "verb\n",
      "noun\n",
      "noun\n",
      "adv\n"
     ]
    },
    {
     "name": "stderr",
     "output_type": "stream",
     "text": [
      "\r",
      " 30%|███████████████████████                                                       | 1124/3799 [00:19<00:41, 65.20it/s]"
     ]
    },
    {
     "name": "stdout",
     "output_type": "stream",
     "text": [
      "adv\n",
      "adj\n",
      "adj\n",
      "adj\n",
      "verb\n",
      "verb\n",
      "adj\n"
     ]
    },
    {
     "name": "stderr",
     "output_type": "stream",
     "text": [
      "\r",
      " 30%|███████████████████████▏                                                      | 1131/3799 [00:19<00:40, 66.24it/s]"
     ]
    },
    {
     "name": "stdout",
     "output_type": "stream",
     "text": [
      "adv\n",
      "adj\n",
      "verb\n",
      "verb\n",
      "adposition?\n",
      "adj\n",
      "adposition\n"
     ]
    },
    {
     "name": "stderr",
     "output_type": "stream",
     "text": [
      "\r",
      " 30%|███████████████████████▎                                                      | 1138/3799 [00:20<00:40, 65.89it/s]"
     ]
    },
    {
     "name": "stdout",
     "output_type": "stream",
     "text": [
      "adv\n",
      "adv\n",
      "adj\n",
      "adj\n",
      "adj\n",
      "adj\n",
      "adj\n"
     ]
    },
    {
     "name": "stderr",
     "output_type": "stream",
     "text": [
      "\r",
      " 30%|███████████████████████▌                                                      | 1145/3799 [00:20<00:39, 66.93it/s]"
     ]
    },
    {
     "name": "stdout",
     "output_type": "stream",
     "text": [
      "adj\n",
      "verb\n",
      "adj\n",
      "verb\n",
      "adv\n",
      "adv\n",
      "adv\n"
     ]
    },
    {
     "name": "stderr",
     "output_type": "stream",
     "text": [
      "\r",
      " 30%|███████████████████████▋                                                      | 1152/3799 [00:20<00:40, 65.77it/s]"
     ]
    },
    {
     "name": "stdout",
     "output_type": "stream",
     "text": [
      "verb\n",
      "noun\n",
      "verb\n",
      "verb\n",
      "verb\n",
      "adj\n",
      "adj\n"
     ]
    },
    {
     "name": "stderr",
     "output_type": "stream",
     "text": [
      "\r",
      " 31%|███████████████████████▊                                                      | 1159/3799 [00:20<00:40, 65.53it/s]"
     ]
    },
    {
     "name": "stdout",
     "output_type": "stream",
     "text": [
      "adj\n",
      "adv\n",
      "adv\n",
      "verb\n",
      "verb\n",
      "adj\n",
      "adj\n"
     ]
    },
    {
     "name": "stderr",
     "output_type": "stream",
     "text": [
      "\r",
      " 31%|███████████████████████▉                                                      | 1166/3799 [00:20<00:41, 63.77it/s]"
     ]
    },
    {
     "name": "stdout",
     "output_type": "stream",
     "text": [
      "verb\n",
      "verb\n",
      "verb\n",
      "verb\n",
      "verb\n",
      "particle?\n",
      "verb\n"
     ]
    },
    {
     "name": "stderr",
     "output_type": "stream",
     "text": [
      "\r",
      " 31%|████████████████████████                                                      | 1173/3799 [00:20<00:40, 64.30it/s]"
     ]
    },
    {
     "name": "stdout",
     "output_type": "stream",
     "text": [
      "verb\n",
      "verb\n",
      "verb\n",
      "verb\n",
      "verb\n",
      "verb\n",
      "verb\n"
     ]
    },
    {
     "name": "stderr",
     "output_type": "stream",
     "text": [
      "\r",
      " 31%|████████████████████████▏                                                     | 1180/3799 [00:20<00:43, 59.88it/s]"
     ]
    },
    {
     "name": "stdout",
     "output_type": "stream",
     "text": [
      "verb\n",
      "verb\n",
      "verb\n",
      "verb\n",
      "adj\n",
      "adj\n",
      "verb\n"
     ]
    },
    {
     "name": "stderr",
     "output_type": "stream",
     "text": [
      "\r",
      " 31%|████████████████████████▎                                                     | 1187/3799 [00:20<00:50, 51.37it/s]"
     ]
    },
    {
     "name": "stdout",
     "output_type": "stream",
     "text": [
      "verb\n",
      "adj\n",
      "adj\n",
      "adj\n",
      "verb\n",
      "verb\n"
     ]
    },
    {
     "name": "stderr",
     "output_type": "stream",
     "text": [
      "\r",
      " 31%|████████████████████████▍                                                     | 1193/3799 [00:21<00:51, 50.48it/s]"
     ]
    },
    {
     "name": "stdout",
     "output_type": "stream",
     "text": [
      "verb\n",
      "verb\n",
      "adj\n",
      "adj\n",
      "adj\n",
      "adj\n"
     ]
    },
    {
     "name": "stderr",
     "output_type": "stream",
     "text": [
      "\r",
      " 32%|████████████████████████▌                                                     | 1199/3799 [00:21<00:51, 50.88it/s]"
     ]
    },
    {
     "name": "stdout",
     "output_type": "stream",
     "text": [
      "adj\n",
      "verb\n",
      "verb\n",
      "verb\n",
      "verb\n",
      "adv?\n"
     ]
    },
    {
     "name": "stderr",
     "output_type": "stream",
     "text": [
      "\r",
      " 32%|████████████████████████▋                                                     | 1205/3799 [00:21<00:49, 51.97it/s]"
     ]
    },
    {
     "name": "stdout",
     "output_type": "stream",
     "text": [
      "adj\n",
      "adj\n",
      "adj\n",
      "adj\n",
      "adj\n",
      "noun\n",
      "verb\n",
      "verb\n"
     ]
    },
    {
     "name": "stderr",
     "output_type": "stream",
     "text": [
      "\r",
      " 32%|████████████████████████▉                                                     | 1213/3799 [00:21<00:45, 56.74it/s]"
     ]
    },
    {
     "name": "stdout",
     "output_type": "stream",
     "text": [
      "adj\n",
      "verb\n",
      "verb\n",
      "noun\n",
      "adj\n",
      "adj\n",
      "adj\n",
      "adj\n"
     ]
    },
    {
     "name": "stderr",
     "output_type": "stream",
     "text": [
      "\r",
      " 32%|█████████████████████████                                                     | 1221/3799 [00:21<00:42, 60.92it/s]"
     ]
    },
    {
     "name": "stdout",
     "output_type": "stream",
     "text": [
      "adj\n",
      "verb\n",
      "verb\n",
      "verb\n",
      "verb\n",
      "verb\n",
      "verb\n"
     ]
    },
    {
     "name": "stderr",
     "output_type": "stream",
     "text": [
      "\r",
      " 32%|█████████████████████████▏                                                    | 1228/3799 [00:21<00:40, 62.92it/s]"
     ]
    },
    {
     "name": "stdout",
     "output_type": "stream",
     "text": [
      "verb\n",
      "verb\n",
      "verb\n",
      "verb\n",
      "verb\n",
      "verb\n",
      "noun\n"
     ]
    },
    {
     "name": "stderr",
     "output_type": "stream",
     "text": [
      "\r",
      " 33%|█████████████████████████▎                                                    | 1235/3799 [00:21<00:40, 64.05it/s]"
     ]
    },
    {
     "name": "stdout",
     "output_type": "stream",
     "text": [
      "noun\n",
      "noun\n",
      "noun\n",
      "noun\n",
      "noun\n",
      "adj\n",
      "adj\n",
      "verb\n"
     ]
    },
    {
     "name": "stderr",
     "output_type": "stream",
     "text": [
      "\r",
      " 33%|█████████████████████████▌                                                    | 1243/3799 [00:21<00:38, 65.66it/s]"
     ]
    },
    {
     "name": "stdout",
     "output_type": "stream",
     "text": [
      "adj\n",
      "verb\n",
      "verb\n",
      "verb\n",
      "verb\n",
      "verb\n",
      "verb\n"
     ]
    },
    {
     "name": "stderr",
     "output_type": "stream",
     "text": [
      "\r",
      " 33%|█████████████████████████▋                                                    | 1250/3799 [00:21<00:38, 66.20it/s]"
     ]
    },
    {
     "name": "stdout",
     "output_type": "stream",
     "text": [
      "verb\n",
      "verb\n",
      "verb\n",
      "noun\n",
      "noun\n",
      "adj\n",
      "verb\n"
     ]
    },
    {
     "name": "stderr",
     "output_type": "stream",
     "text": [
      "\r",
      " 33%|█████████████████████████▊                                                    | 1257/3799 [00:22<00:38, 65.46it/s]"
     ]
    },
    {
     "name": "stdout",
     "output_type": "stream",
     "text": [
      "verb\n",
      "verb\n",
      "verb\n",
      "verb\n",
      "verb\n",
      "adj\n",
      "adj\n",
      "adj\n"
     ]
    },
    {
     "name": "stderr",
     "output_type": "stream",
     "text": [
      "\r",
      " 33%|█████████████████████████▉                                                    | 1265/3799 [00:22<00:37, 67.20it/s]"
     ]
    },
    {
     "name": "stdout",
     "output_type": "stream",
     "text": [
      "verb\n",
      "verb\n",
      "verb\n",
      "noun\n",
      "noun\n",
      "adj\n",
      "adj\n"
     ]
    },
    {
     "name": "stderr",
     "output_type": "stream",
     "text": [
      "\r",
      " 33%|██████████████████████████                                                    | 1272/3799 [00:22<00:38, 65.95it/s]"
     ]
    },
    {
     "name": "stdout",
     "output_type": "stream",
     "text": [
      "verb\n",
      "verb\n",
      "verb\n",
      "verb\n",
      "verb\n",
      "verb\n",
      "verb\n",
      "verb\n"
     ]
    },
    {
     "name": "stderr",
     "output_type": "stream",
     "text": [
      "\r",
      " 34%|██████████████████████████▎                                                   | 1280/3799 [00:22<00:37, 67.56it/s]"
     ]
    },
    {
     "name": "stdout",
     "output_type": "stream",
     "text": [
      "verb\n",
      "verb\n",
      "verb\n",
      "verb\n",
      "adj\n",
      "verb\n",
      "verb\n",
      "verb\n"
     ]
    },
    {
     "name": "stderr",
     "output_type": "stream",
     "text": [
      "\r",
      " 34%|██████████████████████████▍                                                   | 1288/3799 [00:22<00:37, 67.51it/s]"
     ]
    },
    {
     "name": "stdout",
     "output_type": "stream",
     "text": [
      "verb\n",
      "verb\n",
      "verb\n",
      "verb\n",
      "noun\n",
      "adj\n",
      "verb\n"
     ]
    },
    {
     "name": "stderr",
     "output_type": "stream",
     "text": [
      "\r",
      " 34%|██████████████████████████▌                                                   | 1295/3799 [00:22<00:36, 67.90it/s]"
     ]
    },
    {
     "name": "stdout",
     "output_type": "stream",
     "text": [
      "verb\n",
      "verb\n",
      "verb\n",
      "verb\n",
      "verb\n",
      "verb\n",
      "adj\n"
     ]
    },
    {
     "name": "stderr",
     "output_type": "stream",
     "text": [
      "\r",
      " 34%|██████████████████████████▋                                                   | 1302/3799 [00:22<00:37, 67.00it/s]"
     ]
    },
    {
     "name": "stdout",
     "output_type": "stream",
     "text": [
      "verb\n",
      "verb\n",
      "adj\n",
      "verb\n",
      "verb\n",
      "verb\n",
      "verb\n",
      "adj\n"
     ]
    },
    {
     "name": "stderr",
     "output_type": "stream",
     "text": [
      "\r",
      " 34%|██████████████████████████▉                                                   | 1310/3799 [00:22<00:36, 67.97it/s]"
     ]
    },
    {
     "name": "stdout",
     "output_type": "stream",
     "text": [
      "adj\n",
      "adj\n",
      "verb\n",
      "?\n",
      "verb\n",
      "verb\n",
      "verb\n"
     ]
    },
    {
     "name": "stderr",
     "output_type": "stream",
     "text": [
      "\r",
      " 35%|███████████████████████████                                                   | 1317/3799 [00:22<00:36, 68.02it/s]"
     ]
    },
    {
     "name": "stdout",
     "output_type": "stream",
     "text": [
      "noun\n",
      "verb\n",
      "verb\n",
      "verb\n",
      "noun\n",
      "noun\n",
      "adj\n"
     ]
    },
    {
     "name": "stderr",
     "output_type": "stream",
     "text": [
      "\r",
      " 35%|███████████████████████████▏                                                  | 1324/3799 [00:23<00:37, 66.51it/s]"
     ]
    },
    {
     "name": "stdout",
     "output_type": "stream",
     "text": [
      "adj\n",
      "verb\n",
      "adj\n",
      "noun\n",
      "verb\n",
      "adv\n",
      "adj\n"
     ]
    },
    {
     "name": "stderr",
     "output_type": "stream",
     "text": [
      "\r",
      " 35%|███████████████████████████▎                                                  | 1331/3799 [00:23<00:37, 65.76it/s]"
     ]
    },
    {
     "name": "stdout",
     "output_type": "stream",
     "text": [
      "adj\n",
      "adj\n",
      "verb\n",
      "verb\n",
      "verb\n",
      "verb\n",
      "verb\n",
      "verb\n"
     ]
    },
    {
     "name": "stderr",
     "output_type": "stream",
     "text": [
      "\r",
      " 35%|███████████████████████████▍                                                  | 1339/3799 [00:23<00:36, 67.33it/s]"
     ]
    },
    {
     "name": "stdout",
     "output_type": "stream",
     "text": [
      "verb\n",
      "adj\n",
      "adj\n",
      "noun\n",
      "adj\n",
      "adj\n",
      "?\n",
      "?\n"
     ]
    },
    {
     "name": "stderr",
     "output_type": "stream",
     "text": [
      "\r",
      " 35%|███████████████████████████▋                                                  | 1347/3799 [00:23<00:35, 69.18it/s]"
     ]
    },
    {
     "name": "stdout",
     "output_type": "stream",
     "text": [
      "?\n",
      "?\n",
      "verb\n",
      "verb\n",
      "verb\n",
      "verb\n",
      "verb\n",
      "verb\n"
     ]
    },
    {
     "name": "stderr",
     "output_type": "stream",
     "text": [
      "\r",
      " 36%|███████████████████████████▊                                                  | 1355/3799 [00:23<00:34, 70.26it/s]"
     ]
    },
    {
     "name": "stdout",
     "output_type": "stream",
     "text": [
      "???\n",
      "noun\n",
      "noun\n",
      "noun\n",
      "noun\n",
      "noun\n",
      "adj\n",
      "verb\n"
     ]
    },
    {
     "name": "stderr",
     "output_type": "stream",
     "text": [
      "\r",
      " 36%|███████████████████████████▉                                                  | 1363/3799 [00:23<00:35, 68.85it/s]"
     ]
    },
    {
     "name": "stdout",
     "output_type": "stream",
     "text": [
      "verb\n",
      "verb\n",
      "verb\n",
      "verb\n",
      "adv\n",
      "noun\n",
      "noun\n",
      "noun\n"
     ]
    },
    {
     "name": "stderr",
     "output_type": "stream",
     "text": [
      "\r",
      " 36%|████████████████████████████▏                                                 | 1371/3799 [00:23<00:35, 69.29it/s]"
     ]
    },
    {
     "name": "stdout",
     "output_type": "stream",
     "text": [
      "verb\n",
      "adj\n",
      "adj\n",
      "adj\n",
      "verb\n",
      "verb\n",
      "verb\n"
     ]
    },
    {
     "name": "stderr",
     "output_type": "stream",
     "text": [
      "\r",
      " 36%|████████████████████████████▎                                                 | 1378/3799 [00:23<00:35, 67.75it/s]"
     ]
    },
    {
     "name": "stdout",
     "output_type": "stream",
     "text": [
      "adj\n",
      "noun\n",
      "verb\n",
      "verb\n",
      "verb\n",
      "verb\n",
      "verb\n"
     ]
    },
    {
     "name": "stderr",
     "output_type": "stream",
     "text": [
      "\r",
      " 36%|████████████████████████████▍                                                 | 1385/3799 [00:23<00:35, 68.06it/s]"
     ]
    },
    {
     "name": "stdout",
     "output_type": "stream",
     "text": [
      "noun\n",
      "noun\n",
      "verb\n",
      "verb\n",
      "verb\n",
      "noun\n",
      "noun\n"
     ]
    },
    {
     "name": "stderr",
     "output_type": "stream",
     "text": [
      "\r",
      " 37%|████████████████████████████▌                                                 | 1392/3799 [00:24<00:35, 68.29it/s]"
     ]
    },
    {
     "name": "stdout",
     "output_type": "stream",
     "text": [
      "noun\n",
      "noun\n",
      "verb\n",
      "verb\n",
      "verb\n",
      "noun\n",
      "noun\n"
     ]
    },
    {
     "name": "stderr",
     "output_type": "stream",
     "text": [
      "\r",
      " 37%|████████████████████████████▋                                                 | 1399/3799 [00:24<00:35, 67.45it/s]"
     ]
    },
    {
     "name": "stdout",
     "output_type": "stream",
     "text": [
      "noun\n",
      "noun\n",
      "adj\n",
      "noun\n",
      "noun\n",
      "noun\n",
      "adj\n"
     ]
    },
    {
     "name": "stderr",
     "output_type": "stream",
     "text": [
      "\r",
      " 37%|████████████████████████████▊                                                 | 1406/3799 [00:24<00:35, 66.79it/s]"
     ]
    },
    {
     "name": "stdout",
     "output_type": "stream",
     "text": [
      "adj\n",
      "noun\n",
      "verb\n",
      "verb\n",
      "verb\n",
      "verb\n",
      "noun\n",
      "noun\n"
     ]
    },
    {
     "name": "stderr",
     "output_type": "stream",
     "text": [
      "\r",
      " 37%|█████████████████████████████                                                 | 1414/3799 [00:24<00:34, 68.60it/s]"
     ]
    },
    {
     "name": "stdout",
     "output_type": "stream",
     "text": [
      "noun\n",
      "noun\n",
      "noun\n",
      "noun\n",
      "noun\n",
      "noun\n",
      "noun\n"
     ]
    },
    {
     "name": "stderr",
     "output_type": "stream",
     "text": [
      "\r",
      " 37%|█████████████████████████████▏                                                | 1421/3799 [00:24<00:34, 68.66it/s]"
     ]
    },
    {
     "name": "stdout",
     "output_type": "stream",
     "text": [
      "verb\n",
      "verb\n",
      "verb\n",
      "verb\n",
      "verb\n",
      "verb\n",
      "noun\n"
     ]
    },
    {
     "name": "stderr",
     "output_type": "stream",
     "text": [
      "\r",
      " 38%|█████████████████████████████▎                                                | 1428/3799 [00:24<00:34, 68.11it/s]"
     ]
    },
    {
     "name": "stdout",
     "output_type": "stream",
     "text": [
      "noun\n",
      "noun\n",
      "noun\n",
      "adj\n",
      "verb\n",
      "verb\n",
      "verb\n",
      "noun\n"
     ]
    },
    {
     "name": "stderr",
     "output_type": "stream",
     "text": [
      "\r",
      " 38%|█████████████████████████████▍                                                | 1436/3799 [00:24<00:34, 68.77it/s]"
     ]
    },
    {
     "name": "stdout",
     "output_type": "stream",
     "text": [
      "noun\n",
      "noun\n",
      "noun\n",
      "noun\n",
      "noun\n",
      "noun\n",
      "verb\n"
     ]
    },
    {
     "name": "stderr",
     "output_type": "stream",
     "text": [
      "\r",
      " 38%|█████████████████████████████▋                                                | 1443/3799 [00:24<00:34, 68.38it/s]"
     ]
    },
    {
     "name": "stdout",
     "output_type": "stream",
     "text": [
      "verb\n",
      "adj\n",
      "adj\n",
      "adj\n",
      "adj\n",
      "noun\n",
      "noun\n"
     ]
    },
    {
     "name": "stderr",
     "output_type": "stream",
     "text": [
      "\r",
      " 38%|█████████████████████████████▊                                                | 1450/3799 [00:24<00:34, 67.42it/s]"
     ]
    },
    {
     "name": "stdout",
     "output_type": "stream",
     "text": [
      "noun\n",
      "noun\n",
      "adv\n",
      "verb\n",
      "verb\n",
      "verb\n",
      "adj\n"
     ]
    },
    {
     "name": "stderr",
     "output_type": "stream",
     "text": [
      "\r",
      " 38%|█████████████████████████████▉                                                | 1457/3799 [00:24<00:35, 66.57it/s]"
     ]
    },
    {
     "name": "stdout",
     "output_type": "stream",
     "text": [
      "noun\n",
      "noun\n",
      "adj\n",
      "noun\n",
      "noun\n",
      "noun\n",
      "noun\n"
     ]
    },
    {
     "name": "stderr",
     "output_type": "stream",
     "text": [
      "\r",
      " 39%|██████████████████████████████                                                | 1464/3799 [00:25<00:34, 66.75it/s]"
     ]
    },
    {
     "name": "stdout",
     "output_type": "stream",
     "text": [
      "noun\n",
      "noun\n",
      "adj\n",
      "adj\n",
      "adj\n",
      "noun\n",
      "noun\n"
     ]
    },
    {
     "name": "stderr",
     "output_type": "stream",
     "text": [
      "\r",
      " 39%|██████████████████████████████▏                                               | 1471/3799 [00:25<00:34, 66.68it/s]"
     ]
    },
    {
     "name": "stdout",
     "output_type": "stream",
     "text": [
      "verb\n",
      "verb\n",
      "adj\n",
      "adj\n",
      "adv\n",
      "verb\n",
      "noun\n",
      "noun\n"
     ]
    },
    {
     "name": "stderr",
     "output_type": "stream",
     "text": [
      "\r",
      " 39%|██████████████████████████████▎                                               | 1479/3799 [00:25<00:34, 67.23it/s]"
     ]
    },
    {
     "name": "stdout",
     "output_type": "stream",
     "text": [
      "noun\n",
      "noun\n",
      "adj\n",
      "adj\n",
      "adj\n",
      "adj\n",
      "adj\n"
     ]
    },
    {
     "name": "stderr",
     "output_type": "stream",
     "text": [
      "\r",
      " 39%|██████████████████████████████▌                                               | 1486/3799 [00:25<00:34, 67.89it/s]"
     ]
    },
    {
     "name": "stdout",
     "output_type": "stream",
     "text": [
      "noun\n",
      "noun\n",
      "noun\n",
      "noun\n",
      "noun\n",
      "noun\n",
      "noun\n",
      "noun\n"
     ]
    },
    {
     "name": "stderr",
     "output_type": "stream",
     "text": [
      "\r",
      " 39%|██████████████████████████████▋                                               | 1494/3799 [00:25<00:32, 70.24it/s]"
     ]
    },
    {
     "name": "stdout",
     "output_type": "stream",
     "text": [
      "noun\n",
      "noun\n",
      "noun\n",
      "noun\n",
      "noun\n",
      "noun\n",
      "noun\n",
      "noun\n"
     ]
    },
    {
     "name": "stderr",
     "output_type": "stream",
     "text": [
      "\r",
      " 40%|██████████████████████████████▊                                               | 1502/3799 [00:25<00:34, 67.44it/s]"
     ]
    },
    {
     "name": "stdout",
     "output_type": "stream",
     "text": [
      "noun\n",
      "noun\n",
      "noun\n",
      "noun\n",
      "noun\n",
      "noun\n",
      "noun\n",
      "noun\n"
     ]
    },
    {
     "name": "stderr",
     "output_type": "stream",
     "text": [
      "\r",
      " 40%|███████████████████████████████                                               | 1510/3799 [00:25<00:32, 69.72it/s]"
     ]
    },
    {
     "name": "stdout",
     "output_type": "stream",
     "text": [
      "noun\n",
      "noun\n",
      "noun\n",
      "verb\n",
      "verb\n",
      "adj\n",
      "adj\n",
      "verb\n"
     ]
    },
    {
     "name": "stderr",
     "output_type": "stream",
     "text": [
      "\r",
      " 40%|███████████████████████████████▏                                              | 1518/3799 [00:25<00:33, 68.13it/s]"
     ]
    },
    {
     "name": "stdout",
     "output_type": "stream",
     "text": [
      "verb\n",
      "noun\n",
      "noun\n",
      "adv\n",
      "noun\n",
      "noun\n",
      "noun\n"
     ]
    },
    {
     "name": "stderr",
     "output_type": "stream",
     "text": [
      "\r",
      " 40%|███████████████████████████████▎                                              | 1525/3799 [00:25<00:33, 68.13it/s]"
     ]
    },
    {
     "name": "stdout",
     "output_type": "stream",
     "text": [
      "noun\n",
      "noun\n",
      "noun\n",
      "noun\n",
      "noun\n",
      "noun\n",
      "adv\n"
     ]
    },
    {
     "name": "stderr",
     "output_type": "stream",
     "text": [
      "\r",
      " 40%|███████████████████████████████▍                                              | 1532/3799 [00:26<00:33, 68.03it/s]"
     ]
    },
    {
     "name": "stdout",
     "output_type": "stream",
     "text": [
      "adv\n",
      "adv\n",
      "adj\n",
      "adj\n",
      "noun\n",
      "noun\n",
      "noun\n",
      "adj\n"
     ]
    },
    {
     "name": "stderr",
     "output_type": "stream",
     "text": [
      "\r",
      " 41%|███████████████████████████████▌                                              | 1540/3799 [00:26<00:32, 68.72it/s]"
     ]
    },
    {
     "name": "stdout",
     "output_type": "stream",
     "text": [
      "noun\n",
      "adv\n",
      "verb\n",
      "noun\n",
      "verb\n",
      "verb\n",
      "adj\n"
     ]
    },
    {
     "name": "stderr",
     "output_type": "stream",
     "text": [
      "\r",
      " 41%|███████████████████████████████▊                                              | 1547/3799 [00:26<00:32, 68.95it/s]"
     ]
    },
    {
     "name": "stdout",
     "output_type": "stream",
     "text": [
      "verb\n",
      "verb\n",
      "noun\n",
      "adj\n",
      "noun\n",
      "noun\n",
      "noun\n"
     ]
    },
    {
     "name": "stderr",
     "output_type": "stream",
     "text": [
      "\r",
      " 41%|███████████████████████████████▉                                              | 1554/3799 [00:26<00:33, 67.13it/s]"
     ]
    },
    {
     "name": "stdout",
     "output_type": "stream",
     "text": [
      "noun\n",
      "verb\n",
      "verb\n",
      "noun\n",
      "noun\n",
      "verb\n",
      "verb\n"
     ]
    },
    {
     "name": "stderr",
     "output_type": "stream",
     "text": [
      "\r",
      " 41%|████████████████████████████████                                              | 1561/3799 [00:26<00:33, 67.23it/s]"
     ]
    },
    {
     "name": "stdout",
     "output_type": "stream",
     "text": [
      "verb\n",
      "noun\n",
      "adj\n",
      "noun\n",
      "noun\n",
      "adj\n",
      "adj\n",
      "adj\n"
     ]
    },
    {
     "name": "stderr",
     "output_type": "stream",
     "text": [
      "\r",
      " 41%|████████████████████████████████▏                                             | 1569/3799 [00:26<00:32, 69.46it/s]"
     ]
    },
    {
     "name": "stdout",
     "output_type": "stream",
     "text": [
      "adv\n",
      "adv\n",
      "verb\n",
      "adj\n",
      "verb\n",
      "verb\n",
      "noun\n",
      "verb\n"
     ]
    },
    {
     "name": "stderr",
     "output_type": "stream",
     "text": [
      "\r",
      " 42%|████████████████████████████████▍                                             | 1577/3799 [00:26<00:31, 70.62it/s]"
     ]
    },
    {
     "name": "stdout",
     "output_type": "stream",
     "text": [
      "noun\n",
      "adv\n",
      "adv\n",
      "adv\n",
      "adj\n",
      "noun\n",
      "noun\n",
      "adj\n"
     ]
    },
    {
     "name": "stderr",
     "output_type": "stream",
     "text": [
      "\r",
      " 42%|████████████████████████████████▌                                             | 1585/3799 [00:26<00:32, 68.11it/s]"
     ]
    },
    {
     "name": "stdout",
     "output_type": "stream",
     "text": [
      "adj\n",
      "adj\n",
      "adj\n",
      "adv\n",
      "adv\n",
      "noun\n",
      "noun\n"
     ]
    },
    {
     "name": "stderr",
     "output_type": "stream",
     "text": [
      "\r",
      " 42%|████████████████████████████████▋                                             | 1592/3799 [00:26<00:32, 67.72it/s]"
     ]
    },
    {
     "name": "stdout",
     "output_type": "stream",
     "text": [
      "noun\n",
      "noun\n",
      "adv?\n",
      "noun\n",
      "noun\n",
      "noun\n",
      "noun\n",
      "noun\n"
     ]
    },
    {
     "name": "stderr",
     "output_type": "stream",
     "text": [
      "\r",
      " 42%|████████████████████████████████▊                                             | 1600/3799 [00:27<00:31, 69.39it/s]"
     ]
    },
    {
     "name": "stdout",
     "output_type": "stream",
     "text": [
      "noun\n",
      "adv?\n",
      "adv\n",
      "adv\n",
      "adv\n",
      "adv\n",
      "adj\n",
      "noun\n"
     ]
    },
    {
     "name": "stderr",
     "output_type": "stream",
     "text": [
      "\r",
      " 42%|█████████████████████████████████                                             | 1608/3799 [00:27<00:31, 70.22it/s]"
     ]
    },
    {
     "name": "stdout",
     "output_type": "stream",
     "text": [
      "noun\n",
      "noun\n",
      "noun\n",
      "noun\n",
      "adj\n",
      "adj\n",
      "adj\n",
      "adj\n"
     ]
    },
    {
     "name": "stderr",
     "output_type": "stream",
     "text": [
      "\r",
      " 43%|█████████████████████████████████▏                                            | 1616/3799 [00:27<00:33, 65.93it/s]"
     ]
    },
    {
     "name": "stdout",
     "output_type": "stream",
     "text": [
      "noun\n",
      "noun\n",
      "noun\n",
      "noun\n",
      "noun\n",
      "noun\n",
      "noun\n",
      "noun\n"
     ]
    },
    {
     "name": "stderr",
     "output_type": "stream",
     "text": [
      "\r",
      " 43%|█████████████████████████████████▎                                            | 1624/3799 [00:27<00:32, 67.71it/s]"
     ]
    },
    {
     "name": "stdout",
     "output_type": "stream",
     "text": [
      "noun\n",
      "noun\n",
      "noun\n",
      "noun\n",
      "noun\n",
      "noun\n",
      "noun\n"
     ]
    },
    {
     "name": "stderr",
     "output_type": "stream",
     "text": [
      "\r",
      " 43%|█████████████████████████████████▍                                            | 1631/3799 [00:27<00:31, 68.04it/s]"
     ]
    },
    {
     "name": "stdout",
     "output_type": "stream",
     "text": [
      "adj\n",
      "noun\n",
      "noun\n",
      "noun\n",
      "noun\n",
      "noun\n",
      "noun\n"
     ]
    },
    {
     "name": "stderr",
     "output_type": "stream",
     "text": [
      "\r",
      " 43%|█████████████████████████████████▋                                            | 1638/3799 [00:27<00:31, 68.47it/s]"
     ]
    },
    {
     "name": "stdout",
     "output_type": "stream",
     "text": [
      "noun\n",
      "noun\n",
      "noun\n",
      "adj\n",
      "noun\n",
      "noun\n",
      "noun\n",
      "noun\n"
     ]
    },
    {
     "name": "stderr",
     "output_type": "stream",
     "text": [
      "\r",
      " 43%|█████████████████████████████████▊                                            | 1646/3799 [00:27<00:31, 69.38it/s]"
     ]
    },
    {
     "name": "stdout",
     "output_type": "stream",
     "text": [
      "verb\n",
      "verb\n",
      "adj\n",
      "verb\n",
      "noun\n",
      "noun\n",
      "noun\n",
      "adj\n"
     ]
    },
    {
     "name": "stderr",
     "output_type": "stream",
     "text": [
      "\r",
      " 44%|█████████████████████████████████▉                                            | 1654/3799 [00:27<00:30, 69.86it/s]"
     ]
    },
    {
     "name": "stdout",
     "output_type": "stream",
     "text": [
      "adj\n",
      "adj\n",
      "noun\n",
      "noun\n",
      "adv\n",
      "adj\n",
      "adj\n",
      "noun\n"
     ]
    },
    {
     "name": "stderr",
     "output_type": "stream",
     "text": [
      "\r",
      " 44%|██████████████████████████████████                                            | 1662/3799 [00:27<00:29, 72.09it/s]"
     ]
    },
    {
     "name": "stdout",
     "output_type": "stream",
     "text": [
      "noun\n",
      "noun\n",
      "noun\n",
      "verb\n",
      "noun\n",
      "noun\n",
      "adv\n",
      "adv\n"
     ]
    },
    {
     "name": "stderr",
     "output_type": "stream",
     "text": [
      "\r",
      " 44%|██████████████████████████████████▎                                           | 1670/3799 [00:28<00:31, 68.50it/s]"
     ]
    },
    {
     "name": "stdout",
     "output_type": "stream",
     "text": [
      "verb\n",
      "noun\n",
      "noun\n",
      "noun\n",
      "noun\n",
      "noun\n",
      "noun\n"
     ]
    },
    {
     "name": "stderr",
     "output_type": "stream",
     "text": [
      "\r",
      " 44%|██████████████████████████████████▍                                           | 1677/3799 [00:28<00:31, 67.21it/s]"
     ]
    },
    {
     "name": "stdout",
     "output_type": "stream",
     "text": [
      "noun\n",
      "noun\n",
      "noun\n",
      "noun\n",
      "adj\n",
      "verb\n",
      "verb\n"
     ]
    },
    {
     "name": "stderr",
     "output_type": "stream",
     "text": [
      "\r",
      " 44%|██████████████████████████████████▌                                           | 1684/3799 [00:28<00:31, 67.78it/s]"
     ]
    },
    {
     "name": "stdout",
     "output_type": "stream",
     "text": [
      "noun\n",
      "noun\n",
      "noun\n",
      "noun\n",
      "adv\n",
      "adv\n",
      "verb\n"
     ]
    },
    {
     "name": "stderr",
     "output_type": "stream",
     "text": [
      "\r",
      " 45%|██████████████████████████████████▋                                           | 1691/3799 [00:28<00:32, 65.14it/s]"
     ]
    },
    {
     "name": "stdout",
     "output_type": "stream",
     "text": [
      "adj\n",
      "verb\n",
      "noun\n",
      "adj\n",
      "verb\n",
      "noun\n",
      "verb\n"
     ]
    },
    {
     "name": "stderr",
     "output_type": "stream",
     "text": [
      "\r",
      " 45%|██████████████████████████████████▊                                           | 1698/3799 [00:28<00:38, 54.17it/s]"
     ]
    },
    {
     "name": "stdout",
     "output_type": "stream",
     "text": [
      "intj\n",
      "adj\n",
      "adj\n",
      "verb\n",
      "noun\n",
      "adj\n"
     ]
    },
    {
     "name": "stderr",
     "output_type": "stream",
     "text": [
      "\r",
      " 45%|██████████████████████████████████▉                                           | 1704/3799 [00:28<00:39, 52.75it/s]"
     ]
    },
    {
     "name": "stdout",
     "output_type": "stream",
     "text": [
      "noun\n",
      "noun\n",
      "intj\n",
      "intj\n",
      "adj\n",
      "adj\n"
     ]
    },
    {
     "name": "stderr",
     "output_type": "stream",
     "text": [
      "\r",
      " 45%|███████████████████████████████████                                           | 1710/3799 [00:28<00:39, 52.62it/s]"
     ]
    },
    {
     "name": "stdout",
     "output_type": "stream",
     "text": [
      "adj\n",
      "noun\n",
      "noun\n",
      "noun\n",
      "noun\n",
      "verb\n"
     ]
    },
    {
     "name": "stderr",
     "output_type": "stream",
     "text": [
      "\r",
      " 45%|███████████████████████████████████▏                                          | 1716/3799 [00:28<00:39, 52.94it/s]"
     ]
    },
    {
     "name": "stdout",
     "output_type": "stream",
     "text": [
      "adj\n",
      "verb\n",
      "verb\n",
      "verb\n",
      "verb\n",
      "noun\n"
     ]
    },
    {
     "name": "stderr",
     "output_type": "stream",
     "text": [
      "\r",
      " 45%|███████████████████████████████████▎                                          | 1722/3799 [00:29<00:39, 52.61it/s]"
     ]
    },
    {
     "name": "stdout",
     "output_type": "stream",
     "text": [
      "noun\n",
      "adj\n",
      "verb\n",
      "verb\n",
      "verb\n",
      "verb\n",
      "verb\n"
     ]
    },
    {
     "name": "stderr",
     "output_type": "stream",
     "text": [
      "\r",
      " 46%|███████████████████████████████████▍                                          | 1729/3799 [00:29<00:37, 55.54it/s]"
     ]
    },
    {
     "name": "stdout",
     "output_type": "stream",
     "text": [
      "verb\n",
      "verb\n",
      "verb\n",
      "verb\n",
      "noun\n",
      "noun\n",
      "noun\n",
      "adj\n"
     ]
    },
    {
     "name": "stderr",
     "output_type": "stream",
     "text": [
      "\r",
      " 46%|███████████████████████████████████▋                                          | 1737/3799 [00:29<00:34, 59.28it/s]"
     ]
    },
    {
     "name": "stdout",
     "output_type": "stream",
     "text": [
      "adj\n",
      "adj\n",
      "adj\n",
      "adj\n",
      "adj\n",
      "noun\n",
      "noun\n",
      "noun\n"
     ]
    },
    {
     "name": "stderr",
     "output_type": "stream",
     "text": [
      "\r",
      " 46%|███████████████████████████████████▊                                          | 1745/3799 [00:29<00:32, 62.37it/s]"
     ]
    },
    {
     "name": "stdout",
     "output_type": "stream",
     "text": [
      "noun\n",
      "noun?\n",
      "noun?\n",
      "adj\n",
      "adj\n",
      "adj\n",
      "verb\n",
      "verb\n"
     ]
    },
    {
     "name": "stderr",
     "output_type": "stream",
     "text": [
      "\r",
      " 46%|███████████████████████████████████▉                                          | 1753/3799 [00:29<00:31, 65.68it/s]"
     ]
    },
    {
     "name": "stdout",
     "output_type": "stream",
     "text": [
      "verb\n",
      "noun\n",
      "noun\n",
      "noun\n",
      "adj\n",
      "verb\n",
      "verb\n"
     ]
    },
    {
     "name": "stderr",
     "output_type": "stream",
     "text": [
      "\r",
      " 46%|████████████████████████████████████▏                                         | 1760/3799 [00:29<00:31, 65.29it/s]"
     ]
    },
    {
     "name": "stdout",
     "output_type": "stream",
     "text": [
      "verb\n",
      "adj\n",
      "noun\n",
      "verb\n",
      "noun\n",
      "verb\n",
      "noun\n",
      "noun\n"
     ]
    },
    {
     "name": "stderr",
     "output_type": "stream",
     "text": [
      "\r",
      " 47%|████████████████████████████████████▎                                         | 1768/3799 [00:29<00:30, 67.07it/s]"
     ]
    },
    {
     "name": "stdout",
     "output_type": "stream",
     "text": [
      "adj\n",
      "noun\n",
      "noun\n",
      "adj\n",
      "adj\n",
      "noun\n",
      "adj\n",
      "adj\n"
     ]
    },
    {
     "name": "stderr",
     "output_type": "stream",
     "text": [
      "\r",
      " 47%|████████████████████████████████████▍                                         | 1776/3799 [00:29<00:29, 69.08it/s]"
     ]
    },
    {
     "name": "stdout",
     "output_type": "stream",
     "text": [
      "noun\n",
      "noun\n",
      "adv\n",
      "adv\n",
      "adv\n",
      "particle?\n",
      "particle?\n"
     ]
    },
    {
     "name": "stderr",
     "output_type": "stream",
     "text": [
      "\r",
      " 47%|████████████████████████████████████▌                                         | 1783/3799 [00:29<00:29, 69.00it/s]"
     ]
    },
    {
     "name": "stdout",
     "output_type": "stream",
     "text": [
      "verb\n",
      "adj\n",
      "verb\n",
      "adj\n",
      "noun\n",
      "adj\n",
      "verb\n",
      "noun\n"
     ]
    },
    {
     "name": "stderr",
     "output_type": "stream",
     "text": [
      "\r",
      " 47%|████████████████████████████████████▊                                         | 1791/3799 [00:30<00:28, 69.95it/s]"
     ]
    },
    {
     "name": "stdout",
     "output_type": "stream",
     "text": [
      "adj\n",
      "noun\n",
      "adj\n",
      "noun\n",
      "adj\n",
      "adj\n",
      "adv\n",
      "adj\n"
     ]
    },
    {
     "name": "stderr",
     "output_type": "stream",
     "text": [
      "\r",
      " 47%|████████████████████████████████████▉                                         | 1799/3799 [00:30<00:28, 71.00it/s]"
     ]
    },
    {
     "name": "stdout",
     "output_type": "stream",
     "text": [
      "noun\n",
      "adv\n",
      "adj\n",
      "noun\n",
      "adv\n",
      "adj\n",
      "verb\n",
      "adj\n"
     ]
    },
    {
     "name": "stderr",
     "output_type": "stream",
     "text": [
      "\r",
      " 48%|█████████████████████████████████████                                         | 1807/3799 [00:30<00:28, 69.08it/s]"
     ]
    },
    {
     "name": "stdout",
     "output_type": "stream",
     "text": [
      "adv\n",
      "adj\n",
      "noun\n",
      "noun\n",
      "noun\n",
      "verb\n",
      "verb\n",
      "verb\n"
     ]
    },
    {
     "name": "stderr",
     "output_type": "stream",
     "text": [
      "\r",
      " 48%|█████████████████████████████████████▎                                        | 1815/3799 [00:30<00:28, 70.00it/s]"
     ]
    },
    {
     "name": "stdout",
     "output_type": "stream",
     "text": [
      "noun\n",
      "adj\n",
      "noun\n",
      "noun\n",
      "noun\n",
      "noun\n",
      "noun\n",
      "noun\n"
     ]
    },
    {
     "name": "stderr",
     "output_type": "stream",
     "text": [
      "\r",
      " 48%|█████████████████████████████████████▍                                        | 1823/3799 [00:30<00:28, 70.30it/s]"
     ]
    },
    {
     "name": "stdout",
     "output_type": "stream",
     "text": [
      "adj\n",
      "noun\n",
      "noun\n",
      "noun\n",
      "adj\n",
      "verb\n",
      "verb\n",
      "noun\n"
     ]
    },
    {
     "name": "stderr",
     "output_type": "stream",
     "text": [
      "\r",
      " 48%|█████████████████████████████████████▌                                        | 1831/3799 [00:30<00:29, 67.31it/s]"
     ]
    },
    {
     "name": "stdout",
     "output_type": "stream",
     "text": [
      "adj\n",
      "adj\n",
      "verb\n",
      "verb\n",
      "verb\n",
      "verb\n",
      "verb\n"
     ]
    },
    {
     "name": "stderr",
     "output_type": "stream",
     "text": [
      "\r",
      " 48%|█████████████████████████████████████▋                                        | 1838/3799 [00:30<00:29, 67.56it/s]"
     ]
    },
    {
     "name": "stdout",
     "output_type": "stream",
     "text": [
      "verb\n",
      "adv\n",
      "verb\n",
      "verb\n",
      "verb\n",
      "adj\n",
      "noun\n",
      "adj\n"
     ]
    },
    {
     "name": "stderr",
     "output_type": "stream",
     "text": [
      "\r",
      " 49%|█████████████████████████████████████▉                                        | 1846/3799 [00:30<00:28, 68.00it/s]"
     ]
    },
    {
     "name": "stdout",
     "output_type": "stream",
     "text": [
      "noun\n",
      "noun\n",
      "adj\n",
      "adj\n",
      "adj\n",
      "verb\n",
      "noun\n"
     ]
    },
    {
     "name": "stderr",
     "output_type": "stream",
     "text": [
      "\r",
      " 49%|██████████████████████████████████████                                        | 1853/3799 [00:30<00:28, 67.55it/s]"
     ]
    },
    {
     "name": "stdout",
     "output_type": "stream",
     "text": [
      "noun\n",
      "noun\n",
      "noun\n",
      "noun\n",
      "noun\n",
      "noun\n",
      "noun\n"
     ]
    },
    {
     "name": "stderr",
     "output_type": "stream",
     "text": [
      "\r",
      " 49%|██████████████████████████████████████▏                                       | 1860/3799 [00:31<00:29, 66.66it/s]"
     ]
    },
    {
     "name": "stdout",
     "output_type": "stream",
     "text": [
      "noun\n",
      "noun\n",
      "adj\n",
      "adj\n",
      "adj\n",
      "verb\n",
      "adj\n"
     ]
    },
    {
     "name": "stderr",
     "output_type": "stream",
     "text": [
      "\r",
      " 49%|██████████████████████████████████████▎                                       | 1867/3799 [00:31<00:28, 66.71it/s]"
     ]
    },
    {
     "name": "stdout",
     "output_type": "stream",
     "text": [
      "noun\n",
      "adj\n",
      "adj\n",
      "verb\n",
      "verb\n",
      "verb\n",
      "noun\n",
      "noun\n"
     ]
    },
    {
     "name": "stderr",
     "output_type": "stream",
     "text": [
      "\r",
      " 49%|██████████████████████████████████████▍                                       | 1875/3799 [00:31<00:28, 67.43it/s]"
     ]
    },
    {
     "name": "stdout",
     "output_type": "stream",
     "text": [
      "adj\n",
      "adj\n",
      "verb\n",
      "noun\n",
      "noun\n",
      "verb\n",
      "adj\n"
     ]
    },
    {
     "name": "stderr",
     "output_type": "stream",
     "text": [
      "\r",
      " 50%|██████████████████████████████████████▋                                       | 1882/3799 [00:31<00:28, 68.03it/s]"
     ]
    },
    {
     "name": "stdout",
     "output_type": "stream",
     "text": [
      "noun\n",
      "noun\n",
      "verb\n",
      "noun\n",
      "verb\n",
      "verb\n",
      "verb\n",
      "noun\n"
     ]
    },
    {
     "name": "stderr",
     "output_type": "stream",
     "text": [
      "\r",
      " 50%|██████████████████████████████████████▊                                       | 1890/3799 [00:31<00:27, 69.43it/s]"
     ]
    },
    {
     "name": "stdout",
     "output_type": "stream",
     "text": [
      "noun\n",
      "noun\n",
      "adj\n",
      "noun\n",
      "noun\n",
      "noun\n",
      "noun\n"
     ]
    },
    {
     "name": "stderr",
     "output_type": "stream",
     "text": [
      "\r",
      " 50%|██████████████████████████████████████▉                                       | 1897/3799 [00:31<00:27, 68.83it/s]"
     ]
    },
    {
     "name": "stdout",
     "output_type": "stream",
     "text": [
      "noun\n",
      "noun\n",
      "noun\n",
      "adj\n",
      "noun\n",
      "noun\n",
      "adj\n"
     ]
    },
    {
     "name": "stderr",
     "output_type": "stream",
     "text": [
      "\r",
      " 50%|███████████████████████████████████████                                       | 1904/3799 [00:31<00:27, 68.63it/s]"
     ]
    },
    {
     "name": "stdout",
     "output_type": "stream",
     "text": [
      "verb\n",
      "verb\n",
      "adj\n",
      "adj\n",
      "adj\n",
      "verb\n",
      "adj\n",
      "noun\n"
     ]
    },
    {
     "name": "stderr",
     "output_type": "stream",
     "text": [
      "\r",
      " 50%|███████████████████████████████████████▎                                      | 1912/3799 [00:31<00:27, 68.96it/s]"
     ]
    },
    {
     "name": "stdout",
     "output_type": "stream",
     "text": [
      "verb\n",
      "verb\n",
      "verb\n",
      "verb\n",
      "noun\n",
      "noun\n",
      "noun\n"
     ]
    },
    {
     "name": "stderr",
     "output_type": "stream",
     "text": [
      "\r",
      " 51%|███████████████████████████████████████▍                                      | 1919/3799 [00:31<00:27, 68.81it/s]"
     ]
    },
    {
     "name": "stdout",
     "output_type": "stream",
     "text": [
      "noun\n",
      "adj\n",
      "adv\n",
      "adv\n",
      "adj\n",
      "verb\n",
      "noun\n"
     ]
    },
    {
     "name": "stderr",
     "output_type": "stream",
     "text": [
      "\r",
      " 51%|███████████████████████████████████████▌                                      | 1926/3799 [00:32<00:27, 67.23it/s]"
     ]
    },
    {
     "name": "stdout",
     "output_type": "stream",
     "text": [
      "noun\n",
      "adv\n",
      "adv\n",
      "adv\n",
      "adj\n",
      "verb\n",
      "noun\n"
     ]
    },
    {
     "name": "stderr",
     "output_type": "stream",
     "text": [
      "\r",
      " 51%|███████████████████████████████████████▋                                      | 1933/3799 [00:32<00:27, 67.70it/s]"
     ]
    },
    {
     "name": "stdout",
     "output_type": "stream",
     "text": [
      "adj\n",
      "adj\n",
      "adj\n",
      "verb\n",
      "verb\n",
      "noun\n",
      "verb\n",
      "noun\n"
     ]
    },
    {
     "name": "stderr",
     "output_type": "stream",
     "text": [
      "\r",
      " 51%|███████████████████████████████████████▊                                      | 1941/3799 [00:32<00:26, 69.00it/s]"
     ]
    },
    {
     "name": "stdout",
     "output_type": "stream",
     "text": [
      "?\n",
      "noun\n",
      "noun\n",
      "noun\n",
      "verb\n",
      "verb\n",
      "verb\n",
      "verb\n"
     ]
    },
    {
     "name": "stderr",
     "output_type": "stream",
     "text": [
      "\r",
      " 51%|████████████████████████████████████████                                      | 1949/3799 [00:32<00:26, 69.41it/s]"
     ]
    },
    {
     "name": "stdout",
     "output_type": "stream",
     "text": [
      "noun\n",
      "noun\n",
      "adj\n",
      "noun\n",
      "noun\n",
      "noun\n",
      "adv\n",
      "adv\n"
     ]
    },
    {
     "name": "stderr",
     "output_type": "stream",
     "text": [
      "\r",
      " 52%|████████████████████████████████████████▏                                     | 1957/3799 [00:32<00:26, 70.70it/s]"
     ]
    },
    {
     "name": "stdout",
     "output_type": "stream",
     "text": [
      "noun\n",
      "adj\n",
      "noun\n",
      "noun\n",
      "adv\n",
      "adv\n",
      "adv\n",
      "adv\n"
     ]
    },
    {
     "name": "stderr",
     "output_type": "stream",
     "text": [
      "\r",
      " 52%|████████████████████████████████████████▎                                     | 1965/3799 [00:32<00:25, 72.41it/s]"
     ]
    },
    {
     "name": "stdout",
     "output_type": "stream",
     "text": [
      "adv\n",
      "verb\n",
      "verb\n",
      "noun\n",
      "verb\n",
      "particle\n",
      "verb\n",
      "verb\n"
     ]
    },
    {
     "name": "stderr",
     "output_type": "stream",
     "text": [
      "\r",
      " 52%|████████████████████████████████████████▌                                     | 1973/3799 [00:32<00:25, 71.78it/s]"
     ]
    },
    {
     "name": "stdout",
     "output_type": "stream",
     "text": [
      "noun\n",
      "?\n",
      "noun\n",
      "noun\n",
      "particle\n",
      "particle\n",
      "particle\n",
      "particle\n"
     ]
    },
    {
     "name": "stderr",
     "output_type": "stream",
     "text": [
      "\r",
      " 52%|████████████████████████████████████████▋                                     | 1981/3799 [00:32<00:25, 71.16it/s]"
     ]
    },
    {
     "name": "stdout",
     "output_type": "stream",
     "text": [
      "verb\n",
      "particle\n",
      "noun\n",
      "noun\n",
      "adj\n",
      "adj\n",
      "adv\n",
      "adv\n"
     ]
    },
    {
     "name": "stderr",
     "output_type": "stream",
     "text": [
      "\r",
      " 52%|████████████████████████████████████████▊                                     | 1989/3799 [00:32<00:25, 71.68it/s]"
     ]
    },
    {
     "name": "stdout",
     "output_type": "stream",
     "text": [
      "adj\n",
      "adj\n",
      "noun\n",
      "noun\n",
      "adj\n",
      "adj\n",
      "noun\n",
      "noun\n"
     ]
    },
    {
     "name": "stderr",
     "output_type": "stream",
     "text": [
      "\r",
      " 53%|█████████████████████████████████████████                                     | 1997/3799 [00:33<00:24, 72.83it/s]"
     ]
    },
    {
     "name": "stdout",
     "output_type": "stream",
     "text": [
      "adj\n",
      "noun\n",
      "adj\n",
      "adj\n",
      "verb\n",
      "verb\n",
      "adj\n",
      "adj\n"
     ]
    },
    {
     "name": "stderr",
     "output_type": "stream",
     "text": [
      "\r",
      " 53%|█████████████████████████████████████████▏                                    | 2005/3799 [00:33<00:24, 72.66it/s]"
     ]
    },
    {
     "name": "stdout",
     "output_type": "stream",
     "text": [
      "verb\n",
      "verb\n",
      "adj\n",
      "noun\n",
      "verb\n",
      "noun\n",
      "adj\n",
      "adj\n"
     ]
    },
    {
     "name": "stderr",
     "output_type": "stream",
     "text": [
      "\r",
      " 53%|█████████████████████████████████████████▎                                    | 2013/3799 [00:33<00:24, 72.15it/s]"
     ]
    },
    {
     "name": "stdout",
     "output_type": "stream",
     "text": [
      "adj\n",
      "noun\n",
      "noun\n",
      "noun\n",
      "noun\n",
      "noun\n",
      "verb\n",
      "adj\n"
     ]
    },
    {
     "name": "stderr",
     "output_type": "stream",
     "text": [
      "\r",
      " 53%|█████████████████████████████████████████▍                                    | 2021/3799 [00:33<00:24, 72.19it/s]"
     ]
    },
    {
     "name": "stdout",
     "output_type": "stream",
     "text": [
      "verb\n",
      "noun\n",
      "verb\n",
      "noun\n",
      "?\n",
      "?\n",
      "verb\n",
      "noun\n"
     ]
    },
    {
     "name": "stderr",
     "output_type": "stream",
     "text": [
      "\r",
      " 53%|█████████████████████████████████████████▋                                    | 2029/3799 [00:33<00:24, 73.20it/s]"
     ]
    },
    {
     "name": "stdout",
     "output_type": "stream",
     "text": [
      "noun\n",
      "noun\n",
      "adj\n",
      "adj\n",
      "adv\n",
      "adj\n",
      "verb\n",
      "verb\n"
     ]
    },
    {
     "name": "stderr",
     "output_type": "stream",
     "text": [
      "\r",
      " 54%|█████████████████████████████████████████▊                                    | 2037/3799 [00:33<00:24, 71.17it/s]"
     ]
    },
    {
     "name": "stdout",
     "output_type": "stream",
     "text": [
      "adv\n",
      "adv\n",
      "adv\n",
      "adv\n",
      "adv\n",
      "adj\n",
      "noun\n",
      "adj\n"
     ]
    },
    {
     "name": "stderr",
     "output_type": "stream",
     "text": [
      "\r",
      " 54%|█████████████████████████████████████████▉                                    | 2045/3799 [00:33<00:24, 71.17it/s]"
     ]
    },
    {
     "name": "stdout",
     "output_type": "stream",
     "text": [
      "noun\n",
      "verb\n",
      "adj\n",
      "noun\n",
      "adj\n",
      "verb\n",
      "verb\n",
      "verb\n"
     ]
    },
    {
     "name": "stderr",
     "output_type": "stream",
     "text": [
      "\r",
      " 54%|██████████████████████████████████████████▏                                   | 2053/3799 [00:33<00:24, 72.46it/s]"
     ]
    },
    {
     "name": "stdout",
     "output_type": "stream",
     "text": [
      "verb\n",
      "verb\n",
      "verb\n",
      "adj\n",
      "noun\n",
      "adj\n",
      "noun\n",
      "adv?\n"
     ]
    },
    {
     "name": "stderr",
     "output_type": "stream",
     "text": [
      "\r",
      " 54%|██████████████████████████████████████████▎                                   | 2061/3799 [00:33<00:24, 71.44it/s]"
     ]
    },
    {
     "name": "stdout",
     "output_type": "stream",
     "text": [
      "?\n",
      "adj\n",
      "verb\n",
      "noun\n",
      "noun\n",
      "adj\n",
      "adj\n",
      "adj\n"
     ]
    },
    {
     "name": "stderr",
     "output_type": "stream",
     "text": [
      "\r",
      " 54%|██████████████████████████████████████████▍                                   | 2069/3799 [00:34<00:26, 66.35it/s]"
     ]
    },
    {
     "name": "stdout",
     "output_type": "stream",
     "text": [
      "verb\n",
      "verb\n",
      "verb\n",
      "noun\n",
      "noun\n",
      "noun\n",
      "noun\n",
      "noun\n"
     ]
    },
    {
     "name": "stderr",
     "output_type": "stream",
     "text": [
      "\r",
      " 55%|██████████████████████████████████████████▋                                   | 2077/3799 [00:34<00:25, 67.85it/s]"
     ]
    },
    {
     "name": "stdout",
     "output_type": "stream",
     "text": [
      "noun\n",
      "noun\n",
      "adv\n",
      "adv\n",
      "adv\n",
      "adj\n",
      "adj\n",
      "adj\n"
     ]
    },
    {
     "name": "stderr",
     "output_type": "stream",
     "text": [
      "\r",
      " 55%|██████████████████████████████████████████▊                                   | 2085/3799 [00:34<00:24, 68.84it/s]"
     ]
    },
    {
     "name": "stdout",
     "output_type": "stream",
     "text": [
      "adj\n",
      "verb\n",
      "verb\n",
      "verb\n",
      "verb\n",
      "adv\n",
      "adv\n",
      "verb\n"
     ]
    },
    {
     "name": "stderr",
     "output_type": "stream",
     "text": [
      "\r",
      " 55%|██████████████████████████████████████████▉                                   | 2093/3799 [00:34<00:24, 69.65it/s]"
     ]
    },
    {
     "name": "stdout",
     "output_type": "stream",
     "text": [
      "noun\n",
      "adj\n",
      "noun\n",
      "noun\n",
      "noun\n",
      "noun\n",
      "adj\n",
      "?\n"
     ]
    },
    {
     "name": "stderr",
     "output_type": "stream",
     "text": [
      "\r",
      " 55%|███████████████████████████████████████████▏                                  | 2101/3799 [00:34<00:24, 70.41it/s]"
     ]
    },
    {
     "name": "stdout",
     "output_type": "stream",
     "text": [
      "adv\n",
      "adv\n",
      "verb\n",
      "verb\n",
      "verb\n",
      "verb\n",
      "noun\n",
      "noun\n"
     ]
    },
    {
     "name": "stderr",
     "output_type": "stream",
     "text": [
      "\r",
      " 56%|███████████████████████████████████████████▎                                  | 2109/3799 [00:34<00:23, 71.34it/s]"
     ]
    },
    {
     "name": "stdout",
     "output_type": "stream",
     "text": [
      "noun\n",
      "adj\n",
      "adj\n",
      "noun\n",
      "adj\n",
      "adj\n",
      "adj\n",
      "verb\n"
     ]
    },
    {
     "name": "stderr",
     "output_type": "stream",
     "text": [
      "\r",
      " 56%|███████████████████████████████████████████▍                                  | 2117/3799 [00:34<00:22, 73.18it/s]"
     ]
    },
    {
     "name": "stdout",
     "output_type": "stream",
     "text": [
      "adj\n",
      "?\n",
      "noun\n",
      "noun\n",
      "verb\n",
      "adj\n",
      "verb\n",
      "noun\n"
     ]
    },
    {
     "name": "stderr",
     "output_type": "stream",
     "text": [
      "\r",
      " 56%|███████████████████████████████████████████▋                                  | 2125/3799 [00:34<00:22, 73.10it/s]"
     ]
    },
    {
     "name": "stdout",
     "output_type": "stream",
     "text": [
      "noun\n",
      "verb\n",
      "adj\n",
      "adj\n",
      "adj\n",
      "adj\n",
      "adj\n",
      "adj\n"
     ]
    },
    {
     "name": "stderr",
     "output_type": "stream",
     "text": [
      "\r",
      " 56%|███████████████████████████████████████████▊                                  | 2133/3799 [00:34<00:22, 74.27it/s]"
     ]
    },
    {
     "name": "stdout",
     "output_type": "stream",
     "text": [
      "adj\n",
      "adj\n",
      "adj\n",
      "adj\n",
      "adj\n",
      "noun\n",
      "noun\n",
      "noun\n"
     ]
    },
    {
     "name": "stderr",
     "output_type": "stream",
     "text": [
      "\r",
      " 56%|███████████████████████████████████████████▉                                  | 2141/3799 [00:35<00:22, 73.66it/s]"
     ]
    },
    {
     "name": "stdout",
     "output_type": "stream",
     "text": [
      "noun\n",
      "verb\n",
      "noun\n",
      "noun\n",
      "noun\n",
      "noun\n",
      "verb\n",
      "noun\n"
     ]
    },
    {
     "name": "stderr",
     "output_type": "stream",
     "text": [
      "\r",
      " 57%|████████████████████████████████████████████                                  | 2149/3799 [00:35<00:22, 73.43it/s]"
     ]
    },
    {
     "name": "stdout",
     "output_type": "stream",
     "text": [
      "noun\n",
      "noun\n",
      "noun\n",
      "noun\n",
      "noun\n",
      "noun\n",
      "noun\n",
      "noun\n"
     ]
    },
    {
     "name": "stderr",
     "output_type": "stream",
     "text": [
      "\r",
      " 57%|████████████████████████████████████████████▎                                 | 2157/3799 [00:35<00:22, 73.18it/s]"
     ]
    },
    {
     "name": "stdout",
     "output_type": "stream",
     "text": [
      "noun\n",
      "noun\n",
      "?\n",
      "noun\n",
      "noun\n",
      "verb\n",
      "verb\n",
      "noun\n"
     ]
    },
    {
     "name": "stderr",
     "output_type": "stream",
     "text": [
      "\r",
      " 57%|████████████████████████████████████████████▍                                 | 2165/3799 [00:35<00:22, 72.31it/s]"
     ]
    },
    {
     "name": "stdout",
     "output_type": "stream",
     "text": [
      "adj\n",
      "noun\n",
      "noun\n",
      "adj\n",
      "adj\n",
      "verb\n",
      "noun\n",
      "verb\n"
     ]
    },
    {
     "name": "stderr",
     "output_type": "stream",
     "text": [
      "\r",
      " 57%|████████████████████████████████████████████▌                                 | 2173/3799 [00:35<00:22, 73.29it/s]"
     ]
    },
    {
     "name": "stdout",
     "output_type": "stream",
     "text": [
      "verb\n",
      "noun\n",
      "noun\n",
      "noun\n",
      "noun\n",
      "verb\n",
      "adj\n",
      "verb\n"
     ]
    },
    {
     "name": "stderr",
     "output_type": "stream",
     "text": [
      "\r",
      " 57%|████████████████████████████████████████████▊                                 | 2181/3799 [00:35<00:24, 67.28it/s]"
     ]
    },
    {
     "name": "stdout",
     "output_type": "stream",
     "text": [
      "adj\n",
      "adv\n",
      "adj\n",
      "?\n",
      "noun\n",
      "noun\n",
      "adv\n",
      "adv\n"
     ]
    },
    {
     "name": "stderr",
     "output_type": "stream",
     "text": [
      "\r",
      " 58%|████████████████████████████████████████████▉                                 | 2189/3799 [00:35<00:24, 66.82it/s]"
     ]
    },
    {
     "name": "stdout",
     "output_type": "stream",
     "text": [
      "adv\n",
      "adv\n",
      "adv\n",
      "adv\n",
      "adj\n",
      "adv\n",
      "adv\n",
      "adv\n"
     ]
    },
    {
     "name": "stderr",
     "output_type": "stream",
     "text": [
      "\r",
      " 58%|█████████████████████████████████████████████                                 | 2197/3799 [00:35<00:23, 68.97it/s]"
     ]
    },
    {
     "name": "stdout",
     "output_type": "stream",
     "text": [
      "adv\n",
      "adv\n",
      "adj\n",
      "adj\n",
      "verb\n",
      "noun\n",
      "noun\n",
      "noun\n"
     ]
    },
    {
     "name": "stderr",
     "output_type": "stream",
     "text": [
      "\r",
      " 58%|█████████████████████████████████████████████▎                                | 2205/3799 [00:35<00:22, 70.12it/s]"
     ]
    },
    {
     "name": "stdout",
     "output_type": "stream",
     "text": [
      "noun\n",
      "noun\n",
      "noun\n",
      "adj\n",
      "adj\n",
      "adj\n",
      "adj\n",
      "noun\n"
     ]
    },
    {
     "name": "stderr",
     "output_type": "stream",
     "text": [
      "\r",
      " 58%|█████████████████████████████████████████████▍                                | 2213/3799 [00:36<00:22, 69.82it/s]"
     ]
    },
    {
     "name": "stdout",
     "output_type": "stream",
     "text": [
      "noun\n",
      "noun\n",
      "noun\n",
      "noun\n",
      "noun\n",
      "noun\n",
      "noun\n",
      "adv\n"
     ]
    },
    {
     "name": "stderr",
     "output_type": "stream",
     "text": [
      "\r",
      " 58%|█████████████████████████████████████████████▌                                | 2221/3799 [00:36<00:22, 70.54it/s]"
     ]
    },
    {
     "name": "stdout",
     "output_type": "stream",
     "text": [
      "noun\n",
      "noun\n",
      "noun\n",
      "adj\n",
      "adj\n",
      "verb\n",
      "noun\n",
      "noun\n"
     ]
    },
    {
     "name": "stderr",
     "output_type": "stream",
     "text": [
      "\r",
      " 59%|█████████████████████████████████████████████▊                                | 2229/3799 [00:36<00:22, 71.05it/s]"
     ]
    },
    {
     "name": "stdout",
     "output_type": "stream",
     "text": [
      "noun\n",
      "noun\n",
      "noun\n",
      "noun\n",
      "adv\n",
      "adv\n",
      "noun\n",
      "noun\n"
     ]
    },
    {
     "name": "stderr",
     "output_type": "stream",
     "text": [
      "\r",
      " 59%|█████████████████████████████████████████████▉                                | 2237/3799 [00:36<00:22, 70.47it/s]"
     ]
    },
    {
     "name": "stdout",
     "output_type": "stream",
     "text": [
      "adj\n",
      "noun\n",
      "noun\n",
      "noun\n",
      "verb\n",
      "noun\n",
      "noun\n",
      "verb\n"
     ]
    },
    {
     "name": "stderr",
     "output_type": "stream",
     "text": [
      "\r",
      " 59%|██████████████████████████████████████████████                                | 2245/3799 [00:36<00:22, 68.28it/s]"
     ]
    },
    {
     "name": "stdout",
     "output_type": "stream",
     "text": [
      "verb\n",
      "noun\n",
      "noun\n",
      "verb\n",
      "verb\n",
      "adj\n",
      "adj\n"
     ]
    },
    {
     "name": "stderr",
     "output_type": "stream",
     "text": [
      "\r",
      " 59%|██████████████████████████████████████████████▏                               | 2252/3799 [00:36<00:22, 67.84it/s]"
     ]
    },
    {
     "name": "stdout",
     "output_type": "stream",
     "text": [
      "adj\n",
      "noun\n",
      "adv\n",
      "verb\n",
      "verb\n",
      "verb\n",
      "verb\n",
      "adj\n"
     ]
    },
    {
     "name": "stderr",
     "output_type": "stream",
     "text": [
      "\r",
      " 59%|██████████████████████████████████████████████▍                               | 2260/3799 [00:36<00:22, 69.74it/s]"
     ]
    },
    {
     "name": "stdout",
     "output_type": "stream",
     "text": [
      "verb\n",
      "verb\n",
      "verb\n",
      "verb\n",
      "noun\n",
      "noun\n",
      "adj\n",
      "adj\n"
     ]
    },
    {
     "name": "stderr",
     "output_type": "stream",
     "text": [
      "\r",
      " 60%|██████████████████████████████████████████████▌                               | 2268/3799 [00:36<00:21, 70.29it/s]"
     ]
    },
    {
     "name": "stdout",
     "output_type": "stream",
     "text": [
      "verb\n",
      "noun\n",
      "noun\n",
      "adj\n",
      "verb\n",
      "noun\n",
      "noun\n",
      "noun\n"
     ]
    },
    {
     "name": "stderr",
     "output_type": "stream",
     "text": [
      "\r",
      " 60%|██████████████████████████████████████████████▋                               | 2276/3799 [00:36<00:21, 71.25it/s]"
     ]
    },
    {
     "name": "stdout",
     "output_type": "stream",
     "text": [
      "noun\n",
      "noun\n",
      "verb\n",
      "verb\n",
      "adj\n",
      "adj\n",
      "adj\n",
      "adj\n"
     ]
    },
    {
     "name": "stderr",
     "output_type": "stream",
     "text": [
      "\r",
      " 60%|██████████████████████████████████████████████▉                               | 2284/3799 [00:37<00:21, 70.79it/s]"
     ]
    },
    {
     "name": "stdout",
     "output_type": "stream",
     "text": [
      "adj\n",
      "noun\n",
      "noun\n",
      "verb\n",
      "adj\n",
      "adj\n",
      "adj\n",
      "noun\n"
     ]
    },
    {
     "name": "stderr",
     "output_type": "stream",
     "text": [
      "\r",
      " 60%|███████████████████████████████████████████████                               | 2292/3799 [00:37<00:21, 68.95it/s]"
     ]
    },
    {
     "name": "stdout",
     "output_type": "stream",
     "text": [
      "noun\n",
      "noun\n",
      "adj\n",
      "adj\n",
      "verb\n",
      "verb\n",
      "adv\n"
     ]
    },
    {
     "name": "stderr",
     "output_type": "stream",
     "text": [
      "\r",
      " 61%|███████████████████████████████████████████████▏                              | 2299/3799 [00:37<00:21, 68.32it/s]"
     ]
    },
    {
     "name": "stdout",
     "output_type": "stream",
     "text": [
      "adj\n",
      "verb\n",
      "verb\n",
      "adj\n",
      "verb\n",
      "verb\n",
      "noun\n"
     ]
    },
    {
     "name": "stderr",
     "output_type": "stream",
     "text": [
      "\r",
      " 61%|███████████████████████████████████████████████▎                              | 2306/3799 [00:37<00:21, 68.18it/s]"
     ]
    },
    {
     "name": "stdout",
     "output_type": "stream",
     "text": [
      "noun\n",
      "noun\n",
      "adj\n",
      "adj\n",
      "verb\n",
      "verb\n",
      "adj\n",
      "adj\n"
     ]
    },
    {
     "name": "stderr",
     "output_type": "stream",
     "text": [
      "\r",
      " 61%|███████████████████████████████████████████████▌                              | 2314/3799 [00:37<00:21, 69.54it/s]"
     ]
    },
    {
     "name": "stdout",
     "output_type": "stream",
     "text": [
      "adj\n",
      "verb\n",
      "verb\n",
      "adj\n",
      "noun\n",
      "verb\n",
      "noun\n",
      "noun\n"
     ]
    },
    {
     "name": "stderr",
     "output_type": "stream",
     "text": [
      "\r",
      " 61%|███████████████████████████████████████████████▋                              | 2322/3799 [00:37<00:20, 70.34it/s]"
     ]
    },
    {
     "name": "stdout",
     "output_type": "stream",
     "text": [
      "noun\n",
      "adj\n",
      "adj\n",
      "adj\n",
      "adv\n",
      "adj\n",
      "num\n",
      "num\n"
     ]
    },
    {
     "name": "stderr",
     "output_type": "stream",
     "text": [
      "\r",
      " 61%|███████████████████████████████████████████████▊                              | 2330/3799 [00:37<00:20, 71.09it/s]"
     ]
    },
    {
     "name": "stdout",
     "output_type": "stream",
     "text": [
      "adj\n",
      "num\n",
      "num\n",
      "verb\n",
      "verb\n",
      "verb\n",
      "adj\n",
      "adj\n"
     ]
    },
    {
     "name": "stderr",
     "output_type": "stream",
     "text": [
      "\r",
      " 62%|████████████████████████████████████████████████                              | 2338/3799 [00:37<00:20, 71.82it/s]"
     ]
    },
    {
     "name": "stdout",
     "output_type": "stream",
     "text": [
      "adj\n",
      "adj\n",
      "verb\n",
      "verb\n",
      "verb\n",
      "verb\n",
      "noun\n",
      "noun\n"
     ]
    },
    {
     "name": "stderr",
     "output_type": "stream",
     "text": [
      "\r",
      " 62%|████████████████████████████████████████████████▏                             | 2346/3799 [00:37<00:19, 72.74it/s]"
     ]
    },
    {
     "name": "stdout",
     "output_type": "stream",
     "text": [
      "noun\n",
      "noun\n",
      "adv\n",
      "adj\n",
      "verb\n",
      "noun\n",
      "noun\n",
      "adj\n"
     ]
    },
    {
     "name": "stderr",
     "output_type": "stream",
     "text": [
      "\r",
      " 62%|████████████████████████████████████████████████▎                             | 2354/3799 [00:38<00:19, 72.99it/s]"
     ]
    },
    {
     "name": "stdout",
     "output_type": "stream",
     "text": [
      "adj\n",
      "adj\n",
      "adj\n",
      "verb\n",
      "adj\n",
      "adj\n",
      "adj\n",
      "verb\n"
     ]
    },
    {
     "name": "stderr",
     "output_type": "stream",
     "text": [
      "\r",
      " 62%|████████████████████████████████████████████████▍                             | 2362/3799 [00:38<00:19, 71.99it/s]"
     ]
    },
    {
     "name": "stdout",
     "output_type": "stream",
     "text": [
      "verb\n",
      "verb\n",
      "verb\n",
      "verb\n",
      "verb\n",
      "verb\n",
      "verb\n",
      "verb\n"
     ]
    },
    {
     "name": "stderr",
     "output_type": "stream",
     "text": [
      "\r",
      " 62%|████████████████████████████████████████████████▋                             | 2370/3799 [00:38<00:20, 70.74it/s]"
     ]
    },
    {
     "name": "stdout",
     "output_type": "stream",
     "text": [
      "verb\n",
      "verb\n",
      "adj\n",
      "adj\n",
      "verb\n",
      "verb\n",
      "adj\n",
      "noun\n"
     ]
    },
    {
     "name": "stderr",
     "output_type": "stream",
     "text": [
      "\r",
      " 63%|████████████████████████████████████████████████▊                             | 2378/3799 [00:38<00:20, 69.61it/s]"
     ]
    },
    {
     "name": "stdout",
     "output_type": "stream",
     "text": [
      "noun\n",
      "adj\n",
      "verb\n",
      "verb\n",
      "verb\n",
      "verb\n",
      "adj\n",
      "noun\n"
     ]
    },
    {
     "name": "stderr",
     "output_type": "stream",
     "text": [
      "\r",
      " 63%|████████████████████████████████████████████████▉                             | 2386/3799 [00:38<00:19, 70.95it/s]"
     ]
    },
    {
     "name": "stdout",
     "output_type": "stream",
     "text": [
      "noun\n",
      "noun\n",
      "noun\n",
      "adj\n",
      "?\n",
      "adj\n",
      "verb\n",
      "verb\n"
     ]
    },
    {
     "name": "stderr",
     "output_type": "stream",
     "text": [
      "\r",
      " 63%|█████████████████████████████████████████████████▏                            | 2394/3799 [00:38<00:20, 70.21it/s]"
     ]
    },
    {
     "name": "stdout",
     "output_type": "stream",
     "text": [
      "verb\n",
      "verb\n",
      "adj\n",
      "adj\n",
      "adj\n",
      "adj\n",
      "adj\n",
      "adj\n"
     ]
    },
    {
     "name": "stderr",
     "output_type": "stream",
     "text": [
      "\r",
      " 63%|█████████████████████████████████████████████████▎                            | 2402/3799 [00:38<00:19, 71.19it/s]"
     ]
    },
    {
     "name": "stdout",
     "output_type": "stream",
     "text": [
      "adj\n",
      "adv\n",
      "adj\n",
      "verb\n",
      "adv\n",
      "adv\n",
      "verb\n",
      "verb\n"
     ]
    },
    {
     "name": "stderr",
     "output_type": "stream",
     "text": [
      "\r",
      " 63%|█████████████████████████████████████████████████▍                            | 2410/3799 [00:38<00:20, 67.62it/s]"
     ]
    },
    {
     "name": "stdout",
     "output_type": "stream",
     "text": [
      "verb\n",
      "verb\n",
      "adj\n",
      "verb\n",
      "noun\n",
      "noun\n",
      "adj\n"
     ]
    },
    {
     "name": "stderr",
     "output_type": "stream",
     "text": [
      "\r",
      " 64%|█████████████████████████████████████████████████▋                            | 2417/3799 [00:38<00:20, 66.90it/s]"
     ]
    },
    {
     "name": "stdout",
     "output_type": "stream",
     "text": [
      "adv?\n",
      "noun\n",
      "noun\n",
      "adj\n",
      "adj\n",
      "noun\n",
      "adj\n",
      "adj\n"
     ]
    },
    {
     "name": "stderr",
     "output_type": "stream",
     "text": [
      "\r",
      " 64%|█████████████████████████████████████████████████▊                            | 2425/3799 [00:39<00:19, 68.78it/s]"
     ]
    },
    {
     "name": "stdout",
     "output_type": "stream",
     "text": [
      "verb\n",
      "verb\n",
      "verb\n",
      "verb\n",
      "adj\n",
      "noun\n",
      "adj\n",
      "noun\n"
     ]
    },
    {
     "name": "stderr",
     "output_type": "stream",
     "text": [
      "\r",
      " 64%|█████████████████████████████████████████████████▉                            | 2433/3799 [00:39<00:19, 69.24it/s]"
     ]
    },
    {
     "name": "stdout",
     "output_type": "stream",
     "text": [
      "verb\n",
      "noun\n",
      "noun\n",
      "verb\n",
      "verb\n",
      "noun\n",
      "verb\n"
     ]
    },
    {
     "name": "stderr",
     "output_type": "stream",
     "text": [
      "\r",
      " 64%|██████████████████████████████████████████████████                            | 2440/3799 [00:39<00:19, 68.91it/s]"
     ]
    },
    {
     "name": "stdout",
     "output_type": "stream",
     "text": [
      "verb\n",
      "verb\n",
      "verb\n",
      "noun\n",
      "verb\n",
      "noun\n",
      "adj\n",
      "adj\n"
     ]
    },
    {
     "name": "stderr",
     "output_type": "stream",
     "text": [
      "\r",
      " 64%|██████████████████████████████████████████████████▎                           | 2448/3799 [00:39<00:19, 70.07it/s]"
     ]
    },
    {
     "name": "stdout",
     "output_type": "stream",
     "text": [
      "noun\n",
      "num\n",
      "num\n",
      "noun\n",
      "num\n",
      "num\n",
      "num\n",
      "num\n"
     ]
    },
    {
     "name": "stderr",
     "output_type": "stream",
     "text": [
      "\r",
      " 65%|██████████████████████████████████████████████████▍                           | 2456/3799 [00:39<00:18, 71.66it/s]"
     ]
    },
    {
     "name": "stdout",
     "output_type": "stream",
     "text": [
      "num\n",
      "num\n",
      "num\n",
      "num\n",
      "num\n",
      "num\n",
      "num\n",
      "ordinal\n"
     ]
    },
    {
     "name": "stderr",
     "output_type": "stream",
     "text": [
      "\r",
      " 65%|██████████████████████████████████████████████████▌                           | 2464/3799 [00:39<00:18, 72.03it/s]"
     ]
    },
    {
     "name": "stdout",
     "output_type": "stream",
     "text": [
      "ordinal\n",
      "num\n",
      "num\n",
      "num\n",
      "verb\n",
      "noun\n",
      "noun\n",
      "noun\n"
     ]
    },
    {
     "name": "stderr",
     "output_type": "stream",
     "text": [
      "\r",
      " 65%|██████████████████████████████████████████████████▊                           | 2472/3799 [00:39<00:18, 71.91it/s]"
     ]
    },
    {
     "name": "stdout",
     "output_type": "stream",
     "text": [
      "adj\n",
      "verb\n",
      "verb\n",
      "verb\n",
      "adj\n",
      "noun\n",
      "noun\n",
      "adj\n"
     ]
    },
    {
     "name": "stderr",
     "output_type": "stream",
     "text": [
      "\r",
      " 65%|██████████████████████████████████████████████████▉                           | 2480/3799 [00:39<00:18, 71.44it/s]"
     ]
    },
    {
     "name": "stdout",
     "output_type": "stream",
     "text": [
      "noun\n",
      "noun\n",
      "noun\n",
      "noun\n",
      "noun\n",
      "noun\n",
      "noun\n",
      "noun\n"
     ]
    },
    {
     "name": "stderr",
     "output_type": "stream",
     "text": [
      "\r",
      " 65%|███████████████████████████████████████████████████                           | 2488/3799 [00:39<00:18, 71.11it/s]"
     ]
    },
    {
     "name": "stdout",
     "output_type": "stream",
     "text": [
      "noun\n",
      "noun\n",
      "noun\n",
      "noun\n",
      "verb\n",
      "verb\n",
      "verb\n",
      "noun\n"
     ]
    },
    {
     "name": "stderr",
     "output_type": "stream",
     "text": [
      "\r",
      " 66%|███████████████████████████████████████████████████▏                          | 2496/3799 [00:40<00:18, 70.70it/s]"
     ]
    },
    {
     "name": "stdout",
     "output_type": "stream",
     "text": [
      "noun\n",
      "verb\n",
      "verb\n",
      "verb\n",
      "verb\n",
      "verb\n",
      "adj\n",
      "noun\n"
     ]
    },
    {
     "name": "stderr",
     "output_type": "stream",
     "text": [
      "\r",
      " 66%|███████████████████████████████████████████████████▍                          | 2504/3799 [00:40<00:17, 72.12it/s]"
     ]
    },
    {
     "name": "stdout",
     "output_type": "stream",
     "text": [
      "adj\n",
      "noun\n",
      "verb\n",
      "verb\n",
      "adj\n",
      "verb\n",
      "verb\n",
      "verb\n"
     ]
    },
    {
     "name": "stderr",
     "output_type": "stream",
     "text": [
      "\r",
      " 66%|███████████████████████████████████████████████████▌                          | 2512/3799 [00:40<00:18, 71.20it/s]"
     ]
    },
    {
     "name": "stdout",
     "output_type": "stream",
     "text": [
      "verb\n",
      "noun\n",
      "adj\n",
      "verb\n",
      "noun\n",
      "verb\n",
      "adv\n",
      "adv\n"
     ]
    },
    {
     "name": "stderr",
     "output_type": "stream",
     "text": [
      "\r",
      " 66%|███████████████████████████████████████████████████▋                          | 2520/3799 [00:40<00:17, 72.29it/s]"
     ]
    },
    {
     "name": "stdout",
     "output_type": "stream",
     "text": [
      "adj\n",
      "adj\n",
      "adj\n",
      "noun\n",
      "noun\n",
      "noun\n",
      "noun\n",
      "noun\n"
     ]
    },
    {
     "name": "stderr",
     "output_type": "stream",
     "text": [
      "\r",
      " 67%|███████████████████████████████████████████████████▉                          | 2528/3799 [00:40<00:19, 66.85it/s]"
     ]
    },
    {
     "name": "stdout",
     "output_type": "stream",
     "text": [
      "noun\n",
      "noun\n",
      "adv\n",
      "noun\n",
      "adj\n",
      "adj\n",
      "noun\n",
      "noun\n"
     ]
    },
    {
     "name": "stderr",
     "output_type": "stream",
     "text": [
      "\r",
      " 67%|████████████████████████████████████████████████████                          | 2536/3799 [00:40<00:18, 68.74it/s]"
     ]
    },
    {
     "name": "stdout",
     "output_type": "stream",
     "text": [
      "noun\n",
      "verb\n",
      "verb\n",
      "adj\n",
      "verb\n",
      "adj\n",
      "noun\n",
      "verb\n"
     ]
    },
    {
     "name": "stderr",
     "output_type": "stream",
     "text": [
      "\r",
      " 67%|████████████████████████████████████████████████████▏                         | 2544/3799 [00:40<00:17, 70.13it/s]"
     ]
    },
    {
     "name": "stdout",
     "output_type": "stream",
     "text": [
      "noun\n",
      "noun\n",
      "verb\n",
      "adj\n",
      "adj\n",
      "adj\n",
      "verb\n",
      "adj\n"
     ]
    },
    {
     "name": "stderr",
     "output_type": "stream",
     "text": [
      "\r",
      " 67%|████████████████████████████████████████████████████▍                         | 2552/3799 [00:40<00:17, 70.02it/s]"
     ]
    },
    {
     "name": "stdout",
     "output_type": "stream",
     "text": [
      "adj\n",
      "adj\n",
      "adj\n",
      "noun\n",
      "verb\n",
      "verb\n",
      "verb\n",
      "noun\n"
     ]
    },
    {
     "name": "stderr",
     "output_type": "stream",
     "text": [
      "\r",
      " 67%|████████████████████████████████████████████████████▌                         | 2560/3799 [00:40<00:17, 71.43it/s]"
     ]
    },
    {
     "name": "stdout",
     "output_type": "stream",
     "text": [
      "noun\n",
      "adj\n",
      "adj\n",
      "adj\n",
      "verb\n",
      "verb\n",
      "verb\n",
      "verb\n"
     ]
    },
    {
     "name": "stderr",
     "output_type": "stream",
     "text": [
      "\r",
      " 68%|████████████████████████████████████████████████████▋                         | 2568/3799 [00:41<00:17, 70.92it/s]"
     ]
    },
    {
     "name": "stdout",
     "output_type": "stream",
     "text": [
      "verb\n",
      "adj\n",
      "adj\n",
      "verb\n",
      "adj\n",
      "verb\n",
      "verb\n",
      "verb\n"
     ]
    },
    {
     "name": "stderr",
     "output_type": "stream",
     "text": [
      "\r",
      " 68%|████████████████████████████████████████████████████▉                         | 2576/3799 [00:41<00:17, 71.89it/s]"
     ]
    },
    {
     "name": "stdout",
     "output_type": "stream",
     "text": [
      "noun\n",
      "adj\n",
      "adj\n",
      "verb\n",
      "verb\n",
      "verb\n",
      "adj\n",
      "noun\n"
     ]
    },
    {
     "name": "stderr",
     "output_type": "stream",
     "text": [
      "\r",
      " 68%|█████████████████████████████████████████████████████                         | 2584/3799 [00:41<00:17, 71.43it/s]"
     ]
    },
    {
     "name": "stdout",
     "output_type": "stream",
     "text": [
      "verb\n",
      "verb\n",
      "noun\n",
      "noun\n",
      "verb\n",
      "noun\n",
      "verb\n",
      "adj\n"
     ]
    },
    {
     "name": "stderr",
     "output_type": "stream",
     "text": [
      "\r",
      " 68%|█████████████████████████████████████████████████████▏                        | 2592/3799 [00:41<00:16, 71.87it/s]"
     ]
    },
    {
     "name": "stdout",
     "output_type": "stream",
     "text": [
      "verb\n",
      "adj\n",
      "?\n",
      "adj\n",
      "verb\n",
      "noun\n",
      "noun\n",
      "adj\n"
     ]
    },
    {
     "name": "stderr",
     "output_type": "stream",
     "text": [
      "\r",
      " 68%|█████████████████████████████████████████████████████▍                        | 2600/3799 [00:41<00:16, 72.38it/s]"
     ]
    },
    {
     "name": "stdout",
     "output_type": "stream",
     "text": [
      "adj\n",
      "adj\n",
      "noun\n",
      "adj\n",
      "adj\n",
      "verb\n",
      "noun\n",
      "verb\n"
     ]
    },
    {
     "name": "stderr",
     "output_type": "stream",
     "text": [
      "\r",
      " 69%|█████████████████████████████████████████████████████▌                        | 2608/3799 [00:41<00:16, 71.95it/s]"
     ]
    },
    {
     "name": "stdout",
     "output_type": "stream",
     "text": [
      "noun\n",
      "verb\n",
      "verb\n",
      "noun\n",
      "verb\n",
      "pronoun\n",
      "?\n",
      "?\n"
     ]
    },
    {
     "name": "stderr",
     "output_type": "stream",
     "text": [
      "\r",
      " 69%|█████████████████████████████████████████████████████▋                        | 2616/3799 [00:41<00:16, 72.63it/s]"
     ]
    },
    {
     "name": "stdout",
     "output_type": "stream",
     "text": [
      "verb\n",
      "verb\n",
      "adj\n",
      "adj\n",
      "noun\n",
      "noun\n",
      "adj\n",
      "noun\n"
     ]
    },
    {
     "name": "stderr",
     "output_type": "stream",
     "text": [
      "\r",
      " 69%|█████████████████████████████████████████████████████▉                        | 2624/3799 [00:41<00:16, 72.72it/s]"
     ]
    },
    {
     "name": "stdout",
     "output_type": "stream",
     "text": [
      "adj\n",
      "pronoun\n",
      "?\n",
      "?\n",
      "?\n",
      "verb\n",
      "adj\n",
      "adj\n"
     ]
    },
    {
     "name": "stderr",
     "output_type": "stream",
     "text": [
      "\r",
      " 69%|██████████████████████████████████████████████████████                        | 2632/3799 [00:41<00:16, 72.09it/s]"
     ]
    },
    {
     "name": "stdout",
     "output_type": "stream",
     "text": [
      "verb\n",
      "noun\n",
      "noun\n",
      "noun\n",
      "verb\n",
      "noun\n",
      "noun\n",
      "noun\n"
     ]
    },
    {
     "name": "stderr",
     "output_type": "stream",
     "text": [
      "\r",
      " 69%|██████████████████████████████████████████████████████▏                       | 2640/3799 [00:42<00:17, 66.32it/s]"
     ]
    },
    {
     "name": "stdout",
     "output_type": "stream",
     "text": [
      "adj\n",
      "adj\n",
      "? :)\n",
      "noun\n",
      "noun\n",
      "noun\n",
      "adj\n"
     ]
    },
    {
     "name": "stderr",
     "output_type": "stream",
     "text": [
      "\r",
      " 70%|██████████████████████████████████████████████████████▎                       | 2647/3799 [00:42<00:17, 67.24it/s]"
     ]
    },
    {
     "name": "stdout",
     "output_type": "stream",
     "text": [
      "noun\n",
      "noun\n",
      "adj\n",
      "noun\n",
      "noun\n",
      "noun\n",
      "noun\n"
     ]
    },
    {
     "name": "stderr",
     "output_type": "stream",
     "text": [
      "\r",
      " 70%|██████████████████████████████████████████████████████▍                       | 2654/3799 [00:42<00:16, 67.71it/s]"
     ]
    },
    {
     "name": "stdout",
     "output_type": "stream",
     "text": [
      "noun\n",
      "verb\n",
      "verb\n",
      "verb\n",
      "adj\n",
      "verb\n",
      "verb\n"
     ]
    },
    {
     "name": "stderr",
     "output_type": "stream",
     "text": [
      "\r",
      " 70%|██████████████████████████████████████████████████████▋                       | 2661/3799 [00:42<00:16, 67.45it/s]"
     ]
    },
    {
     "name": "stdout",
     "output_type": "stream",
     "text": [
      "verb\n",
      "verb\n",
      "verb\n",
      "adv\n",
      "adj\n",
      "adj\n",
      "adj\n",
      "adj\n"
     ]
    },
    {
     "name": "stderr",
     "output_type": "stream",
     "text": [
      "\r",
      " 70%|██████████████████████████████████████████████████████▊                       | 2669/3799 [00:42<00:16, 67.95it/s]"
     ]
    },
    {
     "name": "stdout",
     "output_type": "stream",
     "text": [
      "adv\n",
      "adv\n",
      "noun\n",
      "noun\n",
      "adj\n",
      "adj\n",
      "verb\n",
      "verb\n"
     ]
    },
    {
     "name": "stderr",
     "output_type": "stream",
     "text": [
      "\r",
      " 70%|██████████████████████████████████████████████████████▉                       | 2677/3799 [00:42<00:15, 70.46it/s]"
     ]
    },
    {
     "name": "stdout",
     "output_type": "stream",
     "text": [
      "verb\n",
      "noun\n",
      "verb\n",
      "verb\n",
      "noun\n",
      "verb\n",
      "num\n",
      "num\n"
     ]
    },
    {
     "name": "stderr",
     "output_type": "stream",
     "text": [
      "\r",
      " 71%|███████████████████████████████████████████████████████▏                      | 2685/3799 [00:42<00:15, 72.34it/s]"
     ]
    },
    {
     "name": "stdout",
     "output_type": "stream",
     "text": [
      "num\n",
      "num\n",
      "num\n",
      "num\n",
      "num\n",
      "num\n",
      "num\n",
      "num\n"
     ]
    },
    {
     "name": "stderr",
     "output_type": "stream",
     "text": [
      "\r",
      " 71%|███████████████████████████████████████████████████████▎                      | 2693/3799 [00:42<00:15, 72.91it/s]"
     ]
    },
    {
     "name": "stdout",
     "output_type": "stream",
     "text": [
      "num\n",
      "num\n",
      "num\n",
      "num\n",
      "num\n",
      "num\n",
      "num\n",
      "num\n"
     ]
    },
    {
     "name": "stderr",
     "output_type": "stream",
     "text": [
      "\r",
      " 71%|███████████████████████████████████████████████████████▍                      | 2701/3799 [00:42<00:15, 72.52it/s]"
     ]
    },
    {
     "name": "stdout",
     "output_type": "stream",
     "text": [
      "noun\n",
      "noun\n",
      "noun\n",
      "verb\n",
      "noun\n",
      "noun\n",
      "verb\n",
      "noun\n"
     ]
    },
    {
     "name": "stderr",
     "output_type": "stream",
     "text": [
      "\r",
      " 71%|███████████████████████████████████████████████████████▌                      | 2709/3799 [00:43<00:14, 73.84it/s]"
     ]
    },
    {
     "name": "stdout",
     "output_type": "stream",
     "text": [
      "noun\n",
      "noun\n",
      "verb\n",
      "verb\n",
      "adj\n",
      "verb\n",
      "noun\n",
      "adj\n"
     ]
    },
    {
     "name": "stderr",
     "output_type": "stream",
     "text": [
      "\r",
      " 72%|███████████████████████████████████████████████████████▊                      | 2717/3799 [00:43<00:14, 74.38it/s]"
     ]
    },
    {
     "name": "stdout",
     "output_type": "stream",
     "text": [
      "verb\n",
      "noun\n",
      "noun\n",
      "adj\n",
      "adj\n",
      "adj\n",
      "adv\n",
      "adj\n"
     ]
    },
    {
     "name": "stderr",
     "output_type": "stream",
     "text": [
      "\r",
      " 72%|███████████████████████████████████████████████████████▉                      | 2725/3799 [00:43<00:14, 72.73it/s]"
     ]
    },
    {
     "name": "stdout",
     "output_type": "stream",
     "text": [
      "adj\n",
      "adj\n",
      "noun\n",
      "noun\n",
      "?\n",
      "verb\n",
      "adj\n",
      "noun\n"
     ]
    },
    {
     "name": "stderr",
     "output_type": "stream",
     "text": [
      "\r",
      " 72%|████████████████████████████████████████████████████████                      | 2733/3799 [00:43<00:14, 72.29it/s]"
     ]
    },
    {
     "name": "stdout",
     "output_type": "stream",
     "text": [
      "?\n",
      "verb\n",
      "adj\n",
      "adj\n",
      "noun\n",
      "adj\n",
      "adj\n",
      "verb\n"
     ]
    },
    {
     "name": "stderr",
     "output_type": "stream",
     "text": [
      "\r",
      " 72%|████████████████████████████████████████████████████████▎                     | 2741/3799 [00:43<00:14, 73.78it/s]"
     ]
    },
    {
     "name": "stdout",
     "output_type": "stream",
     "text": [
      "adj\n",
      "adj\n",
      "noun\n",
      "verb\n",
      "adj\n",
      "verb\n",
      "verb\n",
      "verb\n"
     ]
    },
    {
     "name": "stderr",
     "output_type": "stream",
     "text": [
      "\r",
      " 72%|████████████████████████████████████████████████████████▍                     | 2749/3799 [00:43<00:14, 71.64it/s]"
     ]
    },
    {
     "name": "stdout",
     "output_type": "stream",
     "text": [
      "noun\n",
      "verb\n",
      "verb\n",
      "noun\n",
      "adj\n",
      "adj\n",
      "noun\n",
      "adj\n"
     ]
    },
    {
     "name": "stderr",
     "output_type": "stream",
     "text": [
      "\r",
      " 73%|████████████████████████████████████████████████████████▌                     | 2757/3799 [00:43<00:15, 67.48it/s]"
     ]
    },
    {
     "name": "stdout",
     "output_type": "stream",
     "text": [
      "noun\n",
      "?\n",
      "noun\n",
      "verb\n",
      "adj\n",
      "verb\n",
      "adj\n",
      "verb\n"
     ]
    },
    {
     "name": "stderr",
     "output_type": "stream",
     "text": [
      "\r",
      " 73%|████████████████████████████████████████████████████████▊                     | 2765/3799 [00:43<00:15, 68.67it/s]"
     ]
    },
    {
     "name": "stdout",
     "output_type": "stream",
     "text": [
      "noun\n",
      "verb\n",
      "noun\n",
      "noun\n",
      "noun\n",
      "adj\n",
      "verb\n",
      "verb\n"
     ]
    },
    {
     "name": "stderr",
     "output_type": "stream",
     "text": [
      "\r",
      " 73%|████████████████████████████████████████████████████████▉                     | 2773/3799 [00:43<00:14, 70.82it/s]"
     ]
    },
    {
     "name": "stdout",
     "output_type": "stream",
     "text": [
      "verb\n",
      "adj\n",
      "adj\n",
      "adj\n",
      "adj\n",
      "adj\n",
      "verb\n",
      "adj\n"
     ]
    },
    {
     "name": "stderr",
     "output_type": "stream",
     "text": [
      "\r",
      " 73%|█████████████████████████████████████████████████████████                     | 2781/3799 [00:44<00:14, 70.87it/s]"
     ]
    },
    {
     "name": "stdout",
     "output_type": "stream",
     "text": [
      "adj\n",
      "adj\n",
      "adj\n",
      "noun\n",
      "noun\n",
      "verb\n",
      "verb\n",
      "noun\n"
     ]
    },
    {
     "name": "stderr",
     "output_type": "stream",
     "text": [
      "\r",
      " 73%|█████████████████████████████████████████████████████████▎                    | 2789/3799 [00:44<00:14, 71.09it/s]"
     ]
    },
    {
     "name": "stdout",
     "output_type": "stream",
     "text": [
      "adj\n",
      "adj\n",
      "adj\n",
      "verb\n",
      "noun\n",
      "adj\n",
      "adj\n",
      "?\n"
     ]
    },
    {
     "name": "stderr",
     "output_type": "stream",
     "text": [
      "\r",
      " 74%|█████████████████████████████████████████████████████████▍                    | 2797/3799 [00:44<00:13, 73.40it/s]"
     ]
    },
    {
     "name": "stdout",
     "output_type": "stream",
     "text": [
      "adv\n",
      "adv\n",
      "adj\n",
      "adj\n",
      "verb\n",
      "verb\n",
      "verb\n",
      "?\n"
     ]
    },
    {
     "name": "stderr",
     "output_type": "stream",
     "text": [
      "\r",
      " 74%|█████████████████████████████████████████████████████████▌                    | 2805/3799 [00:44<00:13, 72.66it/s]"
     ]
    },
    {
     "name": "stdout",
     "output_type": "stream",
     "text": [
      "adv\n",
      "noun\n",
      "noun\n",
      "adj\n",
      "adj\n",
      "adj\n",
      "adj\n",
      "noun\n"
     ]
    },
    {
     "name": "stderr",
     "output_type": "stream",
     "text": [
      "\r",
      " 74%|█████████████████████████████████████████████████████████▊                    | 2813/3799 [00:44<00:13, 73.95it/s]"
     ]
    },
    {
     "name": "stdout",
     "output_type": "stream",
     "text": [
      "noun\n",
      "noun\n",
      "noun\n",
      "noun\n",
      "noun\n",
      "noun\n",
      "verb\n",
      "verb\n"
     ]
    },
    {
     "name": "stderr",
     "output_type": "stream",
     "text": [
      "\r",
      " 74%|█████████████████████████████████████████████████████████▉                    | 2821/3799 [00:44<00:13, 73.27it/s]"
     ]
    },
    {
     "name": "stdout",
     "output_type": "stream",
     "text": [
      "verb\n",
      "verb\n",
      "adv\n",
      "verb\n",
      "noun\n",
      "noun\n",
      "adj\n",
      "noun\n"
     ]
    },
    {
     "name": "stderr",
     "output_type": "stream",
     "text": [
      "\r",
      " 74%|██████████████████████████████████████████████████████████                    | 2829/3799 [00:44<00:13, 74.60it/s]"
     ]
    },
    {
     "name": "stdout",
     "output_type": "stream",
     "text": [
      "noun\n",
      "adj\n",
      "noun\n",
      "noun\n",
      "adj\n",
      "adj\n",
      "adj\n",
      "noun\n"
     ]
    },
    {
     "name": "stderr",
     "output_type": "stream",
     "text": [
      "\r",
      " 75%|██████████████████████████████████████████████████████████▏                   | 2837/3799 [00:44<00:12, 74.71it/s]"
     ]
    },
    {
     "name": "stdout",
     "output_type": "stream",
     "text": [
      "noun\n",
      "noun\n",
      "noun\n",
      "noun\n",
      "noun\n",
      "verb\n",
      "?\n",
      "noun\n"
     ]
    },
    {
     "name": "stderr",
     "output_type": "stream",
     "text": [
      "\r",
      " 75%|██████████████████████████████████████████████████████████▍                   | 2845/3799 [00:45<00:14, 66.76it/s]"
     ]
    },
    {
     "name": "stdout",
     "output_type": "stream",
     "text": [
      "adj\n",
      "adj\n",
      "verb\n",
      "verb\n",
      "noun\n",
      "noun\n",
      "noun\n"
     ]
    },
    {
     "name": "stderr",
     "output_type": "stream",
     "text": [
      "\r",
      " 75%|██████████████████████████████████████████████████████████▌                   | 2852/3799 [00:45<00:15, 59.56it/s]"
     ]
    },
    {
     "name": "stdout",
     "output_type": "stream",
     "text": [
      "noun\n",
      "verb\n",
      "adj\n",
      "verb\n",
      "verb\n",
      "verb\n",
      "noun\n",
      "noun\n"
     ]
    },
    {
     "name": "stderr",
     "output_type": "stream",
     "text": [
      "\r",
      " 75%|██████████████████████████████████████████████████████████▋                   | 2860/3799 [00:45<00:14, 62.84it/s]"
     ]
    },
    {
     "name": "stdout",
     "output_type": "stream",
     "text": [
      "adj\n",
      "verb\n",
      "verb\n",
      "noun\n",
      "adj\n",
      "adj\n",
      "adj\n"
     ]
    },
    {
     "name": "stderr",
     "output_type": "stream",
     "text": [
      "\r",
      " 75%|██████████████████████████████████████████████████████████▊                   | 2867/3799 [00:45<00:14, 63.90it/s]"
     ]
    },
    {
     "name": "stdout",
     "output_type": "stream",
     "text": [
      "verb\n",
      "verb\n",
      "adj\n",
      "adj\n",
      "adj\n",
      "adj\n",
      "verb\n",
      "noun\n"
     ]
    },
    {
     "name": "stderr",
     "output_type": "stream",
     "text": [
      "\r",
      " 76%|███████████████████████████████████████████████████████████                   | 2875/3799 [00:45<00:13, 67.20it/s]"
     ]
    },
    {
     "name": "stdout",
     "output_type": "stream",
     "text": [
      "verb\n",
      "verb\n",
      "noun\n",
      "adj\n",
      "adj\n",
      "noun\n",
      "adj\n",
      "verb\n"
     ]
    },
    {
     "name": "stderr",
     "output_type": "stream",
     "text": [
      "\r",
      " 76%|███████████████████████████████████████████████████████████▏                  | 2883/3799 [00:45<00:13, 68.82it/s]"
     ]
    },
    {
     "name": "stdout",
     "output_type": "stream",
     "text": [
      "verb\n",
      "adj\n",
      "verb\n",
      "noun\n",
      "noun\n",
      "adj\n",
      "?\n",
      "verb\n"
     ]
    },
    {
     "name": "stderr",
     "output_type": "stream",
     "text": [
      "\r",
      " 76%|███████████████████████████████████████████████████████████▎                  | 2891/3799 [00:45<00:13, 69.10it/s]"
     ]
    },
    {
     "name": "stdout",
     "output_type": "stream",
     "text": [
      "verb\n",
      "adj\n",
      "verb\n",
      "adj\n",
      "verb\n",
      "verb\n",
      "verb\n"
     ]
    },
    {
     "name": "stderr",
     "output_type": "stream",
     "text": [
      "\r",
      " 76%|███████████████████████████████████████████████████████████▌                  | 2898/3799 [00:45<00:15, 57.76it/s]"
     ]
    },
    {
     "name": "stdout",
     "output_type": "stream",
     "text": [
      "noun\n",
      "adj\n",
      "verb\n",
      "verb\n",
      "verb\n",
      "verb\n",
      "verb\n"
     ]
    },
    {
     "name": "stderr",
     "output_type": "stream",
     "text": [
      "\r",
      " 76%|███████████████████████████████████████████████████████████▋                  | 2905/3799 [00:45<00:15, 58.48it/s]"
     ]
    },
    {
     "name": "stdout",
     "output_type": "stream",
     "text": [
      "verb\n",
      "adj\n",
      "verb\n",
      "verb\n",
      "verb\n",
      "adv\n",
      "noun\n",
      "verb\n"
     ]
    },
    {
     "name": "stderr",
     "output_type": "stream",
     "text": [
      "\r",
      " 77%|███████████████████████████████████████████████████████████▊                  | 2913/3799 [00:46<00:14, 62.03it/s]"
     ]
    },
    {
     "name": "stdout",
     "output_type": "stream",
     "text": [
      "adj\n",
      "verb\n",
      "verb\n",
      "adv\n",
      "verb\n",
      "adv\n",
      "verb\n",
      "verb\n"
     ]
    },
    {
     "name": "stderr",
     "output_type": "stream",
     "text": [
      "\r",
      " 77%|███████████████████████████████████████████████████████████▉                  | 2921/3799 [00:46<00:14, 62.66it/s]"
     ]
    },
    {
     "name": "stdout",
     "output_type": "stream",
     "text": [
      "verb\n",
      "noun\n",
      "verb\n",
      "noun\n",
      "noun\n",
      "adv\n",
      "noun\n"
     ]
    },
    {
     "name": "stderr",
     "output_type": "stream",
     "text": [
      "\r",
      " 77%|████████████████████████████████████████████████████████████                  | 2928/3799 [00:46<00:14, 62.16it/s]"
     ]
    },
    {
     "name": "stdout",
     "output_type": "stream",
     "text": [
      "verb\n",
      "adv\n",
      "verb\n",
      "noun\n",
      "verb\n",
      "verb\n",
      "verb\n",
      "intj\n"
     ]
    },
    {
     "name": "stderr",
     "output_type": "stream",
     "text": [
      "\r",
      " 77%|████████████████████████████████████████████████████████████▎                 | 2936/3799 [00:46<00:13, 65.36it/s]"
     ]
    },
    {
     "name": "stdout",
     "output_type": "stream",
     "text": [
      "verb\n",
      "intj\n",
      "verb\n",
      "verb\n",
      "verb\n",
      "verb\n",
      "noun\n"
     ]
    },
    {
     "name": "stderr",
     "output_type": "stream",
     "text": [
      "\r",
      " 77%|████████████████████████████████████████████████████████████▍                 | 2943/3799 [00:46<00:13, 65.61it/s]"
     ]
    },
    {
     "name": "stdout",
     "output_type": "stream",
     "text": [
      "adj\n",
      "verb\n",
      "verb\n",
      "noun\n",
      "adj\n",
      "verb\n",
      "verb\n",
      "verb\n"
     ]
    },
    {
     "name": "stderr",
     "output_type": "stream",
     "text": [
      "\r",
      " 78%|████████████████████████████████████████████████████████████▌                 | 2951/3799 [00:46<00:12, 68.52it/s]"
     ]
    },
    {
     "name": "stdout",
     "output_type": "stream",
     "text": [
      "verb\n",
      "verb\n",
      "adj\n",
      "verb\n",
      "noun\n",
      "verb\n",
      "noun\n",
      "verb\n"
     ]
    },
    {
     "name": "stderr",
     "output_type": "stream",
     "text": [
      "\r",
      " 78%|████████████████████████████████████████████████████████████▊                 | 2959/3799 [00:46<00:12, 69.33it/s]"
     ]
    },
    {
     "name": "stdout",
     "output_type": "stream",
     "text": [
      "verb\n",
      "verb\n",
      "verb\n",
      "verb\n",
      "verb\n",
      "adj\n",
      "verb\n",
      "verb\n"
     ]
    },
    {
     "name": "stderr",
     "output_type": "stream",
     "text": [
      "\r",
      " 78%|████████████████████████████████████████████████████████████▉                 | 2967/3799 [00:46<00:11, 70.28it/s]"
     ]
    },
    {
     "name": "stdout",
     "output_type": "stream",
     "text": [
      "noun\n",
      "adj\n",
      "adj\n",
      "?\n",
      "verb\n",
      "adv\n",
      "adv\n",
      "noun\n"
     ]
    },
    {
     "name": "stderr",
     "output_type": "stream",
     "text": [
      "\r",
      " 78%|█████████████████████████████████████████████████████████████                 | 2975/3799 [00:46<00:11, 72.49it/s]"
     ]
    },
    {
     "name": "stdout",
     "output_type": "stream",
     "text": [
      "verb\n",
      "verb\n",
      "noun\n",
      "adj\n",
      "verb\n",
      "noun\n",
      "verb\n",
      "verb\n"
     ]
    },
    {
     "name": "stderr",
     "output_type": "stream",
     "text": [
      "\r",
      " 79%|█████████████████████████████████████████████████████████████▏                | 2983/3799 [00:47<00:11, 70.33it/s]"
     ]
    },
    {
     "name": "stdout",
     "output_type": "stream",
     "text": [
      "?\n",
      "adj\n",
      "verb\n",
      "adj\n",
      "verb\n",
      "noun\n",
      "verb\n",
      "adj\n"
     ]
    },
    {
     "name": "stderr",
     "output_type": "stream",
     "text": [
      "\r",
      " 79%|█████████████████████████████████████████████████████████████▍                | 2991/3799 [00:47<00:11, 70.52it/s]"
     ]
    },
    {
     "name": "stdout",
     "output_type": "stream",
     "text": [
      "verb\n",
      "verb\n",
      "verb\n",
      "adj\n",
      "verb\n",
      "verb\n",
      "adj?\n",
      "verb\n"
     ]
    },
    {
     "name": "stderr",
     "output_type": "stream",
     "text": [
      "\r",
      " 79%|█████████████████████████████████████████████████████████████▌                | 2999/3799 [00:47<00:11, 71.99it/s]"
     ]
    },
    {
     "name": "stdout",
     "output_type": "stream",
     "text": [
      "verb\n",
      "adj\n",
      "noun\n",
      "verb\n",
      "verb\n",
      "verb\n",
      "verb\n",
      "verb\n"
     ]
    },
    {
     "name": "stderr",
     "output_type": "stream",
     "text": [
      "\r",
      " 79%|█████████████████████████████████████████████████████████████▋                | 3007/3799 [00:47<00:11, 70.00it/s]"
     ]
    },
    {
     "name": "stdout",
     "output_type": "stream",
     "text": [
      "masdar\n",
      "adj\n",
      "adj\n",
      "verb\n",
      "verb\n",
      "adj\n",
      "adj\n",
      "adj\n"
     ]
    },
    {
     "name": "stderr",
     "output_type": "stream",
     "text": [
      "\r",
      " 79%|█████████████████████████████████████████████████████████████▉                | 3015/3799 [00:47<00:11, 70.85it/s]"
     ]
    },
    {
     "name": "stdout",
     "output_type": "stream",
     "text": [
      "verb\n",
      "verb\n",
      "intj\n",
      "adj\n",
      "adj\n",
      "verb\n",
      "?\n",
      "verb\n"
     ]
    },
    {
     "name": "stderr",
     "output_type": "stream",
     "text": [
      "\r",
      " 80%|██████████████████████████████████████████████████████████████                | 3023/3799 [00:47<00:10, 72.43it/s]"
     ]
    },
    {
     "name": "stdout",
     "output_type": "stream",
     "text": [
      "verb\n",
      "verb\n",
      "verb\n",
      "verb\n",
      "noun\n",
      "adj\n",
      "verb\n",
      "verb\n"
     ]
    },
    {
     "name": "stderr",
     "output_type": "stream",
     "text": [
      "\r",
      " 80%|██████████████████████████████████████████████████████████████▏               | 3031/3799 [00:47<00:10, 70.84it/s]"
     ]
    },
    {
     "name": "stdout",
     "output_type": "stream",
     "text": [
      "verb\n",
      "verb\n",
      "verb\n",
      "conj\n",
      "intj\n",
      "verb\n",
      "intj\n",
      "intj\n"
     ]
    },
    {
     "name": "stderr",
     "output_type": "stream",
     "text": [
      "\r",
      " 80%|██████████████████████████████████████████████████████████████▍               | 3039/3799 [00:47<00:10, 72.32it/s]"
     ]
    },
    {
     "name": "stdout",
     "output_type": "stream",
     "text": [
      "verb\n",
      "adj\n",
      "adj\n",
      "verb\n",
      "intj\n",
      "intj\n",
      "intj\n",
      "noun\n"
     ]
    },
    {
     "name": "stderr",
     "output_type": "stream",
     "text": [
      "\r",
      " 80%|██████████████████████████████████████████████████████████████▌               | 3047/3799 [00:47<00:10, 73.19it/s]"
     ]
    },
    {
     "name": "stdout",
     "output_type": "stream",
     "text": [
      "noun\n",
      "adv\n",
      "intj\n",
      "intj\n",
      "verb\n",
      "noun\n",
      "noun\n",
      "noun\n"
     ]
    },
    {
     "name": "stderr",
     "output_type": "stream",
     "text": [
      "\r",
      " 80%|██████████████████████████████████████████████████████████████▋               | 3055/3799 [00:48<00:10, 73.92it/s]"
     ]
    },
    {
     "name": "stdout",
     "output_type": "stream",
     "text": [
      "noun\n",
      "noun\n",
      "adj\n",
      "intj\n",
      "noun\n",
      "noun\n",
      "noun\n",
      "noun\n"
     ]
    },
    {
     "name": "stderr",
     "output_type": "stream",
     "text": [
      "\r",
      " 81%|██████████████████████████████████████████████████████████████▉               | 3063/3799 [00:48<00:10, 72.53it/s]"
     ]
    },
    {
     "name": "stdout",
     "output_type": "stream",
     "text": [
      "noun\n",
      "noun\n",
      "intj\n",
      "intj\n",
      "intj\n",
      "intj\n",
      "intj\n",
      "intj\n"
     ]
    },
    {
     "name": "stderr",
     "output_type": "stream",
     "text": [
      "\r",
      " 81%|███████████████████████████████████████████████████████████████               | 3071/3799 [00:48<00:10, 72.25it/s]"
     ]
    },
    {
     "name": "stdout",
     "output_type": "stream",
     "text": [
      "intj\n",
      "verb\n",
      "intj\n",
      "noun\n",
      "noun\n",
      "verb\n",
      "noun\n",
      "noun\n"
     ]
    },
    {
     "name": "stderr",
     "output_type": "stream",
     "text": [
      "\r",
      " 81%|███████████████████████████████████████████████████████████████▏              | 3079/3799 [00:48<00:09, 72.46it/s]"
     ]
    },
    {
     "name": "stdout",
     "output_type": "stream",
     "text": [
      "noun\n",
      "noun\n",
      "noun\n",
      "noun\n",
      "verb\n",
      "noun\n",
      "verb\n",
      "verb\n"
     ]
    },
    {
     "name": "stderr",
     "output_type": "stream",
     "text": [
      "\r",
      " 81%|███████████████████████████████████████████████████████████████▍              | 3087/3799 [00:48<00:09, 72.21it/s]"
     ]
    },
    {
     "name": "stdout",
     "output_type": "stream",
     "text": [
      "adj\n",
      "noun\n",
      "adj\n",
      "adj?\n",
      "?\n",
      "adj\n",
      "verb\n"
     ]
    },
    {
     "name": "stderr",
     "output_type": "stream",
     "text": [
      "\r",
      " 81%|███████████████████████████████████████████████████████████████▌              | 3095/3799 [00:48<00:10, 68.96it/s]"
     ]
    },
    {
     "name": "stdout",
     "output_type": "stream",
     "text": [
      "adj\n",
      "noun\n",
      "intj\n",
      "intj\n",
      "intj\n",
      "noun\n",
      "noun\n",
      "noun\n"
     ]
    },
    {
     "name": "stderr",
     "output_type": "stream",
     "text": [
      "\r",
      " 82%|███████████████████████████████████████████████████████████████▋              | 3103/3799 [00:48<00:09, 71.80it/s]"
     ]
    },
    {
     "name": "stdout",
     "output_type": "stream",
     "text": [
      "intj\n",
      "intj\n",
      "intj\n",
      "adj\n",
      "adj\n",
      "noun\n",
      "verb\n",
      "verb\n"
     ]
    },
    {
     "name": "stderr",
     "output_type": "stream",
     "text": [
      "\r",
      " 82%|███████████████████████████████████████████████████████████████▊              | 3111/3799 [00:48<00:09, 72.33it/s]"
     ]
    },
    {
     "name": "stdout",
     "output_type": "stream",
     "text": [
      "noun\n",
      "verb\n",
      "verb\n",
      "adv\n",
      "verb\n",
      "verb\n",
      "noun\n",
      "noun\n"
     ]
    },
    {
     "name": "stderr",
     "output_type": "stream",
     "text": [
      "\r",
      " 82%|████████████████████████████████████████████████████████████████              | 3119/3799 [00:48<00:09, 73.10it/s]"
     ]
    },
    {
     "name": "stdout",
     "output_type": "stream",
     "text": [
      "noun\n",
      "noun\n",
      "verb\n",
      "verb\n",
      "noun\n",
      "adj\n",
      "verb\n",
      "noun\n"
     ]
    },
    {
     "name": "stderr",
     "output_type": "stream",
     "text": [
      "\r",
      " 82%|████████████████████████████████████████████████████████████████▏             | 3127/3799 [00:49<00:09, 73.05it/s]"
     ]
    },
    {
     "name": "stdout",
     "output_type": "stream",
     "text": [
      "noun\n",
      "?\n",
      "noun\n",
      "verb\n",
      "verb\n",
      "noun\n",
      "noun\n",
      "verb\n",
      "noun\n"
     ]
    },
    {
     "name": "stderr",
     "output_type": "stream",
     "text": [
      "\r",
      " 83%|████████████████████████████████████████████████████████████████▍             | 3136/3799 [00:49<00:08, 75.15it/s]"
     ]
    },
    {
     "name": "stdout",
     "output_type": "stream",
     "text": [
      "verb\n",
      "adj\n",
      "noun\n",
      "noun\n",
      "noun\n",
      "noun\n",
      "noun\n",
      "noun\n"
     ]
    },
    {
     "name": "stderr",
     "output_type": "stream",
     "text": [
      "\r",
      " 83%|████████████████████████████████████████████████████████████████▌             | 3144/3799 [00:49<00:08, 74.47it/s]"
     ]
    },
    {
     "name": "stdout",
     "output_type": "stream",
     "text": [
      "noun\n",
      "noun\n",
      "verb\n",
      "noun\n",
      "noun\n",
      "intj\n",
      "intj\n",
      "verb\n"
     ]
    },
    {
     "name": "stderr",
     "output_type": "stream",
     "text": [
      "\r",
      " 83%|████████████████████████████████████████████████████████████████▋             | 3152/3799 [00:49<00:08, 75.25it/s]"
     ]
    },
    {
     "name": "stdout",
     "output_type": "stream",
     "text": [
      "adv\n",
      "adj\n",
      "adj\n",
      "verb\n",
      "noun\n",
      "verb\n",
      "noun\n",
      "verb\n"
     ]
    },
    {
     "name": "stderr",
     "output_type": "stream",
     "text": [
      "\r",
      " 83%|████████████████████████████████████████████████████████████████▉             | 3160/3799 [00:49<00:08, 75.37it/s]"
     ]
    },
    {
     "name": "stdout",
     "output_type": "stream",
     "text": [
      "noun\n",
      "noun\n",
      "verb\n",
      "noun\n",
      "adj\n",
      "noun\n",
      "verb\n",
      "noun\n"
     ]
    },
    {
     "name": "stderr",
     "output_type": "stream",
     "text": [
      "\r",
      " 83%|█████████████████████████████████████████████████████████████████             | 3168/3799 [00:49<00:08, 74.71it/s]"
     ]
    },
    {
     "name": "stdout",
     "output_type": "stream",
     "text": [
      "noun\n",
      "noun\n",
      "noun\n",
      "noun\n",
      "noun\n",
      "noun\n",
      "noun\n",
      "noun\n"
     ]
    },
    {
     "name": "stderr",
     "output_type": "stream",
     "text": [
      "\r",
      " 84%|█████████████████████████████████████████████████████████████████▏            | 3176/3799 [00:49<00:08, 75.21it/s]"
     ]
    },
    {
     "name": "stdout",
     "output_type": "stream",
     "text": [
      "noun\n",
      "verb\n",
      "noun\n",
      "verb\n",
      "noun\n",
      "noun\n",
      "noun\n",
      "adj\n"
     ]
    },
    {
     "name": "stderr",
     "output_type": "stream",
     "text": [
      "\r",
      " 84%|█████████████████████████████████████████████████████████████████▎            | 3184/3799 [00:49<00:08, 75.78it/s]"
     ]
    },
    {
     "name": "stdout",
     "output_type": "stream",
     "text": [
      "verb\n",
      "verb\n",
      "verb\n",
      "noun\n",
      "noun\n",
      "verb\n",
      "verb\n",
      "noun\n"
     ]
    },
    {
     "name": "stderr",
     "output_type": "stream",
     "text": [
      "\r",
      " 84%|█████████████████████████████████████████████████████████████████▌            | 3192/3799 [00:49<00:07, 75.96it/s]"
     ]
    },
    {
     "name": "stdout",
     "output_type": "stream",
     "text": [
      "verb\n",
      "verb\n",
      "?\n",
      "noun\n",
      "noun\n",
      "noun\n",
      "verb\n",
      "noun\n"
     ]
    },
    {
     "name": "stderr",
     "output_type": "stream",
     "text": [
      "\r",
      " 84%|█████████████████████████████████████████████████████████████████▋            | 3200/3799 [00:50<00:07, 75.55it/s]"
     ]
    },
    {
     "name": "stdout",
     "output_type": "stream",
     "text": [
      "noun\n",
      "adj\n",
      "adj\n",
      "noun\n",
      "noun\n",
      "verb\n",
      "verb\n",
      "verb\n"
     ]
    },
    {
     "name": "stderr",
     "output_type": "stream",
     "text": [
      "\r",
      " 84%|█████████████████████████████████████████████████████████████████▊            | 3208/3799 [00:50<00:07, 74.22it/s]"
     ]
    },
    {
     "name": "stdout",
     "output_type": "stream",
     "text": [
      "verb\n",
      "noun\n",
      "verb\n",
      "adj\n",
      "verb\n",
      "noun\n",
      "verb\n",
      "adj\n"
     ]
    },
    {
     "name": "stderr",
     "output_type": "stream",
     "text": [
      "\r",
      " 85%|██████████████████████████████████████████████████████████████████            | 3216/3799 [00:50<00:08, 66.07it/s]"
     ]
    },
    {
     "name": "stdout",
     "output_type": "stream",
     "text": [
      "noun\n",
      "?\n",
      "verb\n",
      "?\n",
      "?\n",
      "noun\n",
      "adj\n",
      "adj\n"
     ]
    },
    {
     "name": "stderr",
     "output_type": "stream",
     "text": [
      "\r",
      " 85%|██████████████████████████████████████████████████████████████████▏           | 3224/3799 [00:50<00:08, 68.44it/s]"
     ]
    },
    {
     "name": "stdout",
     "output_type": "stream",
     "text": [
      "adj\n",
      "verb\n",
      "adv\n",
      "verb\n",
      "noun\n",
      "noun\n",
      "noun\n"
     ]
    },
    {
     "name": "stderr",
     "output_type": "stream",
     "text": [
      "\r",
      " 85%|██████████████████████████████████████████████████████████████████▎           | 3231/3799 [00:50<00:08, 66.98it/s]"
     ]
    },
    {
     "name": "stdout",
     "output_type": "stream",
     "text": [
      "adv\n",
      "verb\n",
      "adj\n",
      "adj\n",
      "adj\n",
      "noun\n",
      "verb\n",
      "verb\n"
     ]
    },
    {
     "name": "stderr",
     "output_type": "stream",
     "text": [
      "\r",
      " 85%|██████████████████████████████████████████████████████████████████▌           | 3239/3799 [00:50<00:08, 68.31it/s]"
     ]
    },
    {
     "name": "stdout",
     "output_type": "stream",
     "text": [
      "adj\n",
      "adv\n",
      "adj\n",
      "adj\n",
      "verb\n",
      "?\n",
      "verb\n",
      "adj\n"
     ]
    },
    {
     "name": "stderr",
     "output_type": "stream",
     "text": [
      "\r",
      " 85%|██████████████████████████████████████████████████████████████████▋           | 3247/3799 [00:50<00:07, 69.63it/s]"
     ]
    },
    {
     "name": "stdout",
     "output_type": "stream",
     "text": [
      "noun\n",
      "noun\n",
      "adj\n",
      "verb\n",
      "verb\n",
      "noun\n",
      "adj\n",
      "noun\n"
     ]
    },
    {
     "name": "stderr",
     "output_type": "stream",
     "text": [
      "\r",
      " 86%|██████████████████████████████████████████████████████████████████▊           | 3255/3799 [00:50<00:07, 68.95it/s]"
     ]
    },
    {
     "name": "stdout",
     "output_type": "stream",
     "text": [
      "verb\n",
      "verb\n",
      "adv\n",
      "adv\n",
      "noun\n",
      "verb\n",
      "verb\n",
      "verb\n"
     ]
    },
    {
     "name": "stderr",
     "output_type": "stream",
     "text": [
      "\r",
      " 86%|██████████████████████████████████████████████████████████████████▉           | 3263/3799 [00:50<00:07, 70.65it/s]"
     ]
    },
    {
     "name": "stdout",
     "output_type": "stream",
     "text": [
      "noun\n",
      "adj\n",
      "adj\n",
      "noun\n",
      "noun\n",
      "verb\n",
      "verb\n",
      "verb\n"
     ]
    },
    {
     "name": "stderr",
     "output_type": "stream",
     "text": [
      "\r",
      " 86%|███████████████████████████████████████████████████████████████████▏          | 3271/3799 [00:51<00:07, 71.51it/s]"
     ]
    },
    {
     "name": "stdout",
     "output_type": "stream",
     "text": [
      "noun\n",
      "adj\n",
      "noun\n",
      "verb\n",
      "noun\n",
      "verb\n",
      "verb\n",
      "?\n"
     ]
    },
    {
     "name": "stderr",
     "output_type": "stream",
     "text": [
      "\r",
      " 86%|███████████████████████████████████████████████████████████████████▎          | 3279/3799 [00:51<00:07, 72.51it/s]"
     ]
    },
    {
     "name": "stdout",
     "output_type": "stream",
     "text": [
      "noun\n",
      "adj\n",
      "?\n",
      "verb\n",
      "noun\n",
      "noun\n",
      "noun\n",
      "adj\n"
     ]
    },
    {
     "name": "stderr",
     "output_type": "stream",
     "text": [
      "\r",
      " 87%|███████████████████████████████████████████████████████████████████▍          | 3287/3799 [00:51<00:07, 72.73it/s]"
     ]
    },
    {
     "name": "stdout",
     "output_type": "stream",
     "text": [
      "noun\n",
      "adj\n",
      "adj\n",
      "adj\n",
      "verb\n",
      "verb\n",
      "adj\n",
      "verb\n"
     ]
    },
    {
     "name": "stderr",
     "output_type": "stream",
     "text": [
      "\r",
      " 87%|███████████████████████████████████████████████████████████████████▋          | 3295/3799 [00:51<00:06, 74.41it/s]"
     ]
    },
    {
     "name": "stdout",
     "output_type": "stream",
     "text": [
      "noun\n",
      "noun\n",
      "noun\n",
      "verb\n",
      "noun\n",
      "verb\n",
      "adj\n",
      "noun\n"
     ]
    },
    {
     "name": "stderr",
     "output_type": "stream",
     "text": [
      "\r",
      " 87%|███████████████████████████████████████████████████████████████████▊          | 3303/3799 [00:51<00:06, 73.73it/s]"
     ]
    },
    {
     "name": "stdout",
     "output_type": "stream",
     "text": [
      "noun\n",
      "adj\n",
      "noun\n",
      "adj\n",
      "noun\n",
      "noun\n",
      "verb\n",
      "verb\n"
     ]
    },
    {
     "name": "stderr",
     "output_type": "stream",
     "text": [
      "\r",
      " 87%|███████████████████████████████████████████████████████████████████▉          | 3311/3799 [00:51<00:06, 74.71it/s]"
     ]
    },
    {
     "name": "stdout",
     "output_type": "stream",
     "text": [
      "verb\n",
      "adj\n",
      "noun\n",
      "verb\n",
      "verb\n",
      "adj\n",
      "noun\n",
      "?\n"
     ]
    },
    {
     "name": "stderr",
     "output_type": "stream",
     "text": [
      "\r",
      " 87%|████████████████████████████████████████████████████████████████████▏         | 3319/3799 [00:51<00:06, 74.78it/s]"
     ]
    },
    {
     "name": "stdout",
     "output_type": "stream",
     "text": [
      "verb\n",
      "noun\n",
      "noun\n",
      "adj\n",
      "verb\n",
      "noun\n",
      "adj\n",
      "adj\n"
     ]
    },
    {
     "name": "stderr",
     "output_type": "stream",
     "text": [
      "\r",
      " 88%|████████████████████████████████████████████████████████████████████▎         | 3327/3799 [00:51<00:06, 69.40it/s]"
     ]
    },
    {
     "name": "stdout",
     "output_type": "stream",
     "text": [
      "noun\n",
      "adj\n",
      "verb\n",
      "noun\n",
      "noun\n",
      "verb\n",
      "verb\n",
      "noun\n"
     ]
    },
    {
     "name": "stderr",
     "output_type": "stream",
     "text": [
      "\r",
      " 88%|████████████████████████████████████████████████████████████████████▍         | 3335/3799 [00:51<00:06, 70.60it/s]"
     ]
    },
    {
     "name": "stdout",
     "output_type": "stream",
     "text": [
      "noun\n",
      "noun\n",
      "adj\n",
      "noun\n",
      "adv\n",
      "verb\n",
      "noun\n",
      "adv?\n"
     ]
    },
    {
     "name": "stderr",
     "output_type": "stream",
     "text": [
      "\r",
      " 88%|████████████████████████████████████████████████████████████████████▋         | 3343/3799 [00:52<00:06, 71.86it/s]"
     ]
    },
    {
     "name": "stdout",
     "output_type": "stream",
     "text": [
      "verb\n",
      "noun\n",
      "verb\n",
      "verb\n",
      "noun\n",
      "verb\n",
      "masdar?\n",
      "noun\n"
     ]
    },
    {
     "name": "stderr",
     "output_type": "stream",
     "text": [
      "\r",
      " 88%|████████████████████████████████████████████████████████████████████▊         | 3351/3799 [00:52<00:06, 72.76it/s]"
     ]
    },
    {
     "name": "stdout",
     "output_type": "stream",
     "text": [
      "noun\n",
      "verb\n",
      "noun\n",
      "adj\n",
      "adj\n",
      "adv\n",
      "verb\n",
      "noun\n",
      "verb\n"
     ]
    },
    {
     "name": "stderr",
     "output_type": "stream",
     "text": [
      "\r",
      " 88%|████████████████████████████████████████████████████████████████████▉         | 3360/3799 [00:52<00:05, 75.32it/s]"
     ]
    },
    {
     "name": "stdout",
     "output_type": "stream",
     "text": [
      "noun\n",
      "verb\n",
      "verb\n",
      "noun\n",
      "adj\n",
      "verb\n",
      "adj\n",
      "verb\n"
     ]
    },
    {
     "name": "stderr",
     "output_type": "stream",
     "text": [
      "\r",
      " 89%|█████████████████████████████████████████████████████████████████████▏        | 3368/3799 [00:52<00:05, 75.64it/s]"
     ]
    },
    {
     "name": "stdout",
     "output_type": "stream",
     "text": [
      "noun\n",
      "?\n",
      "adj\n",
      "adj\n",
      "adv\n",
      "adj\n",
      "adj\n",
      "adj\n"
     ]
    },
    {
     "name": "stderr",
     "output_type": "stream",
     "text": [
      "\r",
      " 89%|█████████████████████████████████████████████████████████████████████▎        | 3376/3799 [00:52<00:05, 76.73it/s]"
     ]
    },
    {
     "name": "stdout",
     "output_type": "stream",
     "text": [
      "noun\n",
      "intj\n",
      "noun\n",
      "noun\n",
      "noun\n",
      "noun\n",
      "noun\n",
      "intj\n"
     ]
    },
    {
     "name": "stderr",
     "output_type": "stream",
     "text": [
      "\r",
      " 89%|█████████████████████████████████████████████████████████████████████▍        | 3384/3799 [00:52<00:05, 74.70it/s]"
     ]
    },
    {
     "name": "stdout",
     "output_type": "stream",
     "text": [
      "noun\n",
      "noun\n",
      "noun\n",
      "noun\n",
      "noun\n",
      "noun\n",
      "noun\n",
      "adj\n",
      "noun\n"
     ]
    },
    {
     "name": "stderr",
     "output_type": "stream",
     "text": [
      "\r",
      " 89%|█████████████████████████████████████████████████████████████████████▋        | 3393/3799 [00:52<00:05, 72.51it/s]"
     ]
    },
    {
     "name": "stdout",
     "output_type": "stream",
     "text": [
      "verb\n",
      "noun\n",
      "noun\n",
      "noun\n",
      "noun\n",
      "adj\n",
      "noun\n",
      "verb\n"
     ]
    },
    {
     "name": "stderr",
     "output_type": "stream",
     "text": [
      "\r",
      " 90%|█████████████████████████████████████████████████████████████████████▊        | 3401/3799 [00:52<00:05, 72.82it/s]"
     ]
    },
    {
     "name": "stdout",
     "output_type": "stream",
     "text": [
      "verb\n",
      "verb\n",
      "noun\n",
      "adj\n",
      "verb\n",
      "noun\n",
      "verb\n",
      "verb\n"
     ]
    },
    {
     "name": "stderr",
     "output_type": "stream",
     "text": [
      "\r",
      " 90%|█████████████████████████████████████████████████████████████████████▉        | 3409/3799 [00:52<00:05, 71.87it/s]"
     ]
    },
    {
     "name": "stdout",
     "output_type": "stream",
     "text": [
      "adj\n",
      "noun\n",
      "adj\n",
      "adj\n",
      "?\n",
      "adj\n",
      "?\n",
      "adj\n"
     ]
    },
    {
     "name": "stderr",
     "output_type": "stream",
     "text": [
      "\r",
      " 90%|██████████████████████████████████████████████████████████████████████▏       | 3417/3799 [00:53<00:05, 72.42it/s]"
     ]
    },
    {
     "name": "stdout",
     "output_type": "stream",
     "text": [
      "verb\n",
      "verb\n",
      "verb\n",
      "noun\n",
      "noun\n",
      "noun\n",
      "verb\n",
      "verb\n"
     ]
    },
    {
     "name": "stderr",
     "output_type": "stream",
     "text": [
      "\r",
      " 90%|██████████████████████████████████████████████████████████████████████▎       | 3425/3799 [00:53<00:05, 73.77it/s]"
     ]
    },
    {
     "name": "stdout",
     "output_type": "stream",
     "text": [
      "verb\n",
      "verb\n",
      "verb\n",
      "noun\n",
      "noun\n",
      "noun\n",
      "noun\n",
      "verb\n"
     ]
    },
    {
     "name": "stderr",
     "output_type": "stream",
     "text": [
      "\r",
      " 90%|██████████████████████████████████████████████████████████████████████▍       | 3433/3799 [00:53<00:05, 72.52it/s]"
     ]
    },
    {
     "name": "stdout",
     "output_type": "stream",
     "text": [
      "noun\n",
      "adj\n",
      "noun\n",
      "noun\n",
      "noun\n",
      "noun\n",
      "noun\n",
      "noun\n"
     ]
    },
    {
     "name": "stderr",
     "output_type": "stream",
     "text": [
      "\r",
      " 91%|██████████████████████████████████████████████████████████████████████▋       | 3441/3799 [00:53<00:05, 67.83it/s]"
     ]
    },
    {
     "name": "stdout",
     "output_type": "stream",
     "text": [
      "noun\n",
      "adj\n",
      "adj\n",
      "intj\n",
      "noun\n",
      "noun\n",
      "adv\n",
      "adj\n"
     ]
    },
    {
     "name": "stderr",
     "output_type": "stream",
     "text": [
      "\r",
      " 91%|██████████████████████████████████████████████████████████████████████▊       | 3449/3799 [00:53<00:04, 70.65it/s]"
     ]
    },
    {
     "name": "stdout",
     "output_type": "stream",
     "text": [
      "adj\n",
      "adj\n",
      "adj\n",
      "verb\n",
      "noun\n",
      "noun\n",
      "verb\n",
      "adv\n"
     ]
    },
    {
     "name": "stderr",
     "output_type": "stream",
     "text": [
      "\r",
      " 91%|██████████████████████████████████████████████████████████████████████▉       | 3457/3799 [00:53<00:04, 71.03it/s]"
     ]
    },
    {
     "name": "stdout",
     "output_type": "stream",
     "text": [
      "adv\n",
      "adv\n",
      "adj\n",
      "adj\n",
      "verb\n",
      "adj\n",
      "verb\n",
      "verb\n"
     ]
    },
    {
     "name": "stderr",
     "output_type": "stream",
     "text": [
      "\r",
      " 91%|███████████████████████████████████████████████████████████████████████▏      | 3465/3799 [00:53<00:04, 73.15it/s]"
     ]
    },
    {
     "name": "stdout",
     "output_type": "stream",
     "text": [
      "adj\n",
      "verb\n",
      "verb\n",
      "noun\n",
      "noun\n",
      "adv\n",
      "adj\n",
      "noun\n"
     ]
    },
    {
     "name": "stderr",
     "output_type": "stream",
     "text": [
      "\r",
      " 91%|███████████████████████████████████████████████████████████████████████▎      | 3473/3799 [00:53<00:04, 74.51it/s]"
     ]
    },
    {
     "name": "stdout",
     "output_type": "stream",
     "text": [
      "noun\n",
      "noun\n",
      "adj\n",
      "adj\n",
      "adj\n",
      "noun\n",
      "adj\n",
      "adj\n"
     ]
    },
    {
     "name": "stderr",
     "output_type": "stream",
     "text": [
      "\r",
      " 92%|███████████████████████████████████████████████████████████████████████▍      | 3481/3799 [00:53<00:04, 73.22it/s]"
     ]
    },
    {
     "name": "stdout",
     "output_type": "stream",
     "text": [
      "verb\n",
      "verb\n",
      "noun\n",
      "adj\n",
      "noun\n",
      "verb\n",
      "noun\n",
      "noun\n"
     ]
    },
    {
     "name": "stderr",
     "output_type": "stream",
     "text": [
      "\r",
      " 92%|███████████████████████████████████████████████████████████████████████▋      | 3489/3799 [00:54<00:04, 74.97it/s]"
     ]
    },
    {
     "name": "stdout",
     "output_type": "stream",
     "text": [
      "verb\n",
      "noun\n",
      "verb\n",
      "adv\n",
      "noun\n",
      "noun\n",
      "noun\n",
      "adj\n"
     ]
    },
    {
     "name": "stderr",
     "output_type": "stream",
     "text": [
      "\r",
      " 92%|███████████████████████████████████████████████████████████████████████▊      | 3497/3799 [00:54<00:03, 75.82it/s]"
     ]
    },
    {
     "name": "stdout",
     "output_type": "stream",
     "text": [
      "noun\n",
      "verb\n",
      "noun\n",
      "noun\n",
      "noun\n",
      "noun\n",
      "adj\n",
      "noun\n"
     ]
    },
    {
     "name": "stderr",
     "output_type": "stream",
     "text": [
      "\r",
      " 92%|███████████████████████████████████████████████████████████████████████▉      | 3505/3799 [00:54<00:03, 75.99it/s]"
     ]
    },
    {
     "name": "stdout",
     "output_type": "stream",
     "text": [
      "noun\n",
      "noun\n",
      "adj\n",
      "adj\n",
      "verb\n",
      "adj\n",
      "noun\n",
      "noun\n"
     ]
    },
    {
     "name": "stderr",
     "output_type": "stream",
     "text": [
      "\r",
      " 92%|████████████████████████████████████████████████████████████████████████▏     | 3513/3799 [00:54<00:03, 74.83it/s]"
     ]
    },
    {
     "name": "stdout",
     "output_type": "stream",
     "text": [
      "verb\n",
      "verb\n",
      "adj\n",
      "noun\n",
      "noun\n",
      "noun\n",
      "noun\n",
      "intj\n"
     ]
    },
    {
     "name": "stderr",
     "output_type": "stream",
     "text": [
      "\r",
      " 93%|████████████████████████████████████████████████████████████████████████▎     | 3521/3799 [00:54<00:03, 74.15it/s]"
     ]
    },
    {
     "name": "stdout",
     "output_type": "stream",
     "text": [
      "intj\n",
      "intj\n",
      "intj\n",
      "verb\n",
      "noun\n",
      "verb\n",
      "noun\n",
      "noun\n"
     ]
    },
    {
     "name": "stderr",
     "output_type": "stream",
     "text": [
      "\r",
      " 93%|████████████████████████████████████████████████████████████████████████▍     | 3529/3799 [00:54<00:03, 74.62it/s]"
     ]
    },
    {
     "name": "stdout",
     "output_type": "stream",
     "text": [
      "noun\n",
      "verb\n",
      "verb\n",
      "adj\n",
      "adj\n",
      "verb\n",
      "verb\n",
      "adj\n"
     ]
    },
    {
     "name": "stderr",
     "output_type": "stream",
     "text": [
      "\r",
      " 93%|████████████████████████████████████████████████████████████████████████▌     | 3537/3799 [00:54<00:04, 63.99it/s]"
     ]
    },
    {
     "name": "stdout",
     "output_type": "stream",
     "text": [
      "noun\n",
      "noun\n",
      "noun\n",
      "noun\n",
      "noun\n",
      "noun\n",
      "noun\n"
     ]
    },
    {
     "name": "stderr",
     "output_type": "stream",
     "text": [
      "\r",
      " 93%|████████████████████████████████████████████████████████████████████████▊     | 3544/3799 [00:54<00:04, 62.07it/s]"
     ]
    },
    {
     "name": "stdout",
     "output_type": "stream",
     "text": [
      "noun\n",
      "adv\n",
      "noun\n",
      "noun\n",
      "adj\n",
      "noun\n",
      "noun\n",
      "adj\n"
     ]
    },
    {
     "name": "stderr",
     "output_type": "stream",
     "text": [
      "\r",
      " 93%|████████████████████████████████████████████████████████████████████████▉     | 3552/3799 [00:55<00:03, 62.83it/s]"
     ]
    },
    {
     "name": "stdout",
     "output_type": "stream",
     "text": [
      "noun\n",
      "noun\n",
      "noun\n",
      "noun\n",
      "noun\n",
      "noun\n",
      "noun\n"
     ]
    },
    {
     "name": "stderr",
     "output_type": "stream",
     "text": [
      "\r",
      " 94%|█████████████████████████████████████████████████████████████████████████     | 3559/3799 [00:55<00:03, 61.78it/s]"
     ]
    },
    {
     "name": "stdout",
     "output_type": "stream",
     "text": [
      "noun\n",
      "noun\n",
      "noun\n",
      "noun\n",
      "noun\n",
      "noun\n",
      "noun\n"
     ]
    },
    {
     "name": "stderr",
     "output_type": "stream",
     "text": [
      "\r",
      " 94%|█████████████████████████████████████████████████████████████████████████▏    | 3566/3799 [00:55<00:03, 61.40it/s]"
     ]
    },
    {
     "name": "stdout",
     "output_type": "stream",
     "text": [
      "adj\n",
      "adj\n",
      "noun\n",
      "noun\n",
      "noun\n",
      "noun\n",
      "noun\n"
     ]
    },
    {
     "name": "stderr",
     "output_type": "stream",
     "text": [
      "\r",
      " 94%|█████████████████████████████████████████████████████████████████████████▎    | 3573/3799 [00:55<00:04, 55.21it/s]"
     ]
    },
    {
     "name": "stdout",
     "output_type": "stream",
     "text": [
      "noun\n",
      "noun\n",
      "noun\n",
      "noun\n",
      "noun\n",
      "adj\n"
     ]
    },
    {
     "name": "stderr",
     "output_type": "stream",
     "text": [
      "\r",
      " 94%|█████████████████████████████████████████████████████████████████████████▍    | 3579/3799 [00:55<00:03, 55.98it/s]"
     ]
    },
    {
     "name": "stdout",
     "output_type": "stream",
     "text": [
      "adj\n",
      "adj\n",
      "noun\n",
      "noun\n",
      "?\n",
      "?\n",
      "noun\n"
     ]
    },
    {
     "name": "stderr",
     "output_type": "stream",
     "text": [
      "\r",
      " 94%|█████████████████████████████████████████████████████████████████████████▋    | 3586/3799 [00:55<00:03, 57.82it/s]"
     ]
    },
    {
     "name": "stdout",
     "output_type": "stream",
     "text": [
      "noun\n",
      "noun\n",
      "noun\n",
      "noun\n",
      "noun\n",
      "noun\n",
      "adj\n",
      "adj\n"
     ]
    },
    {
     "name": "stderr",
     "output_type": "stream",
     "text": [
      "\r",
      " 95%|█████████████████████████████████████████████████████████████████████████▊    | 3594/3799 [00:55<00:03, 62.51it/s]"
     ]
    },
    {
     "name": "stdout",
     "output_type": "stream",
     "text": [
      "?\n",
      "noun\n",
      "noun\n",
      "noun\n",
      "noun\n",
      "noun\n",
      "noun\n",
      "noun\n"
     ]
    },
    {
     "name": "stderr",
     "output_type": "stream",
     "text": [
      "\r",
      " 95%|█████████████████████████████████████████████████████████████████████████▉    | 3602/3799 [00:55<00:03, 65.47it/s]"
     ]
    },
    {
     "name": "stdout",
     "output_type": "stream",
     "text": [
      "adj\n",
      "noun\n",
      "verb\n",
      "adj\n",
      "verb\n",
      "noun\n",
      "?\n",
      "?\n"
     ]
    },
    {
     "name": "stderr",
     "output_type": "stream",
     "text": [
      "\r",
      " 95%|██████████████████████████████████████████████████████████████████████████    | 3610/3799 [00:55<00:02, 68.81it/s]"
     ]
    },
    {
     "name": "stdout",
     "output_type": "stream",
     "text": [
      "noun\n",
      "noun\n",
      "noun\n",
      "noun\n",
      "adj\n",
      "noun\n",
      "noun\n",
      "noun\n"
     ]
    },
    {
     "name": "stderr",
     "output_type": "stream",
     "text": [
      "\r",
      " 95%|██████████████████████████████████████████████████████████████████████████▎   | 3618/3799 [00:56<00:02, 69.57it/s]"
     ]
    },
    {
     "name": "stdout",
     "output_type": "stream",
     "text": [
      "noun\n",
      "noun\n",
      "noun\n",
      "noun\n",
      "noun\n",
      "noun\n",
      "noun\n",
      "adj\n"
     ]
    },
    {
     "name": "stderr",
     "output_type": "stream",
     "text": [
      "\r",
      " 95%|██████████████████████████████████████████████████████████████████████████▍   | 3626/3799 [00:56<00:02, 69.17it/s]"
     ]
    },
    {
     "name": "stdout",
     "output_type": "stream",
     "text": [
      "noun\n",
      "noun\n",
      "?\n",
      "?\n",
      "?\n",
      "noun\n",
      "noun\n",
      "noun\n"
     ]
    },
    {
     "name": "stderr",
     "output_type": "stream",
     "text": [
      "\r",
      " 96%|██████████████████████████████████████████████████████████████████████████▌   | 3634/3799 [00:56<00:02, 71.38it/s]"
     ]
    },
    {
     "name": "stdout",
     "output_type": "stream",
     "text": [
      "noun\n",
      "noun\n",
      "adj\n",
      "verb\n",
      "verb\n",
      "noun\n",
      "noun\n",
      "adj\n"
     ]
    },
    {
     "name": "stderr",
     "output_type": "stream",
     "text": [
      "\r",
      " 96%|██████████████████████████████████████████████████████████████████████████▊   | 3642/3799 [00:56<00:02, 72.62it/s]"
     ]
    },
    {
     "name": "stdout",
     "output_type": "stream",
     "text": [
      "adv\n",
      "adj\n",
      "adj\n",
      "adj\n",
      "verb\n",
      "verb\n",
      "noun\n",
      "verb\n"
     ]
    },
    {
     "name": "stderr",
     "output_type": "stream",
     "text": [
      "\r",
      " 96%|██████████████████████████████████████████████████████████████████████████▉   | 3650/3799 [00:56<00:02, 73.31it/s]"
     ]
    },
    {
     "name": "stdout",
     "output_type": "stream",
     "text": [
      "noun\n",
      "adv\n",
      "noun\n",
      "noun\n",
      "adj\n",
      "noun\n",
      "verb\n",
      "verb\n"
     ]
    },
    {
     "name": "stderr",
     "output_type": "stream",
     "text": [
      "\r",
      " 96%|███████████████████████████████████████████████████████████████████████████   | 3658/3799 [00:56<00:01, 73.39it/s]"
     ]
    },
    {
     "name": "stdout",
     "output_type": "stream",
     "text": [
      "adj\n",
      "adj\n",
      "?\n",
      "verb\n",
      "verb\n",
      "noun\n",
      "noun\n",
      "noun\n"
     ]
    },
    {
     "name": "stderr",
     "output_type": "stream",
     "text": [
      "\r",
      " 96%|███████████████████████████████████████████████████████████████████████████▎  | 3666/3799 [00:56<00:01, 70.36it/s]"
     ]
    },
    {
     "name": "stdout",
     "output_type": "stream",
     "text": [
      "adj?\n",
      "noun\n",
      "verb\n",
      "adj\n",
      "noun\n",
      "noun\n",
      "verb\n",
      "noun\n"
     ]
    },
    {
     "name": "stderr",
     "output_type": "stream",
     "text": [
      "\r",
      " 97%|███████████████████████████████████████████████████████████████████████████▍  | 3674/3799 [00:56<00:01, 70.36it/s]"
     ]
    },
    {
     "name": "stdout",
     "output_type": "stream",
     "text": [
      "noun\n",
      "noun\n",
      "noun\n",
      "noun\n",
      "noun\n",
      "particle?\n",
      "?\n",
      "noun\n"
     ]
    },
    {
     "name": "stderr",
     "output_type": "stream",
     "text": [
      "\r",
      " 97%|███████████████████████████████████████████████████████████████████████████▌  | 3682/3799 [00:56<00:01, 71.30it/s]"
     ]
    },
    {
     "name": "stdout",
     "output_type": "stream",
     "text": [
      "verb\n",
      "verb\n",
      "noun\n",
      "verb\n"
     ]
    },
    {
     "name": "stderr",
     "output_type": "stream",
     "text": [
      "\r",
      " 97%|███████████████████████████████████████████████████████████████████████████▊  | 3691/3799 [00:57<00:01, 74.95it/s]"
     ]
    },
    {
     "name": "stdout",
     "output_type": "stream",
     "text": [
      "verb\n",
      "verb\n",
      "verb\n",
      "noun\n",
      "noun\n"
     ]
    },
    {
     "name": "stderr",
     "output_type": "stream",
     "text": [
      "\r",
      " 97%|███████████████████████████████████████████████████████████████████████████▉  | 3699/3799 [00:57<00:01, 74.75it/s]"
     ]
    },
    {
     "name": "stdout",
     "output_type": "stream",
     "text": [
      "noun\n",
      "verb\n",
      "verb\n",
      "verb\n",
      "verb\n"
     ]
    },
    {
     "name": "stderr",
     "output_type": "stream",
     "text": [
      "\r",
      " 98%|████████████████████████████████████████████████████████████████████████████▏ | 3708/3799 [00:57<00:01, 77.99it/s]"
     ]
    },
    {
     "name": "stdout",
     "output_type": "stream",
     "text": [
      "verb\n",
      "verb\n",
      "noun\n",
      "noun\n",
      "verb\n",
      "verb\n"
     ]
    },
    {
     "name": "stderr",
     "output_type": "stream",
     "text": [
      "\r",
      " 98%|████████████████████████████████████████████████████████████████████████████▎ | 3717/3799 [00:57<00:01, 79.37it/s]"
     ]
    },
    {
     "name": "stdout",
     "output_type": "stream",
     "text": [
      "noun\n",
      "noun\n",
      "noun\n",
      "verb\n",
      "verb\n",
      "verb\n",
      "noun\n"
     ]
    },
    {
     "name": "stderr",
     "output_type": "stream",
     "text": [
      "\r",
      " 98%|████████████████████████████████████████████████████████████████████████████▍ | 3725/3799 [00:57<00:00, 77.99it/s]"
     ]
    },
    {
     "name": "stdout",
     "output_type": "stream",
     "text": [
      "verb\n",
      "noun\n",
      "noun\n",
      "noun\n"
     ]
    },
    {
     "name": "stderr",
     "output_type": "stream",
     "text": [
      "\r",
      " 98%|████████████████████████████████████████████████████████████████████████████▋ | 3734/3799 [00:57<00:00, 79.05it/s]"
     ]
    },
    {
     "name": "stdout",
     "output_type": "stream",
     "text": [
      "noun\n",
      "noun\n",
      "noun\n",
      "noun\n",
      "noun\n",
      "noun\n",
      "verb\n"
     ]
    },
    {
     "name": "stderr",
     "output_type": "stream",
     "text": [
      "\r",
      " 99%|████████████████████████████████████████████████████████████████████████████▊ | 3743/3799 [00:57<00:00, 79.93it/s]"
     ]
    },
    {
     "name": "stdout",
     "output_type": "stream",
     "text": [
      "verb\n",
      "verb\n",
      "noun\n",
      "verb\n",
      "verb\n",
      "verb\n",
      "noun\n"
     ]
    },
    {
     "name": "stderr",
     "output_type": "stream",
     "text": [
      "\r",
      " 99%|█████████████████████████████████████████████████████████████████████████████ | 3752/3799 [00:57<00:00, 77.64it/s]"
     ]
    },
    {
     "name": "stdout",
     "output_type": "stream",
     "text": [
      "verb\n",
      "verb\n",
      "verb\n",
      "verb\n"
     ]
    },
    {
     "name": "stderr",
     "output_type": "stream",
     "text": [
      "\r",
      " 99%|█████████████████████████████████████████████████████████████████████████████▏| 3760/3799 [00:57<00:00, 77.94it/s]"
     ]
    },
    {
     "name": "stdout",
     "output_type": "stream",
     "text": [
      "noun\n",
      "noun\n",
      "verb\n",
      "noun\n",
      "noun\n",
      "noun\n"
     ]
    },
    {
     "name": "stderr",
     "output_type": "stream",
     "text": [
      "\r",
      " 99%|█████████████████████████████████████████████████████████████████████████████▍| 3769/3799 [00:58<00:00, 79.96it/s]"
     ]
    },
    {
     "name": "stdout",
     "output_type": "stream",
     "text": [
      "noun\n",
      "noun\n",
      "noun\n"
     ]
    },
    {
     "name": "stderr",
     "output_type": "stream",
     "text": [
      "\r",
      " 99%|█████████████████████████████████████████████████████████████████████████████▌| 3779/3799 [00:58<00:00, 82.82it/s]"
     ]
    },
    {
     "name": "stdout",
     "output_type": "stream",
     "text": [
      "verb\n",
      "noun\n",
      "verb\n"
     ]
    },
    {
     "name": "stderr",
     "output_type": "stream",
     "text": [
      "\r",
      "100%|█████████████████████████████████████████████████████████████████████████████▊| 3789/3799 [00:58<00:00, 86.92it/s]"
     ]
    },
    {
     "name": "stdout",
     "output_type": "stream",
     "text": [
      "verb\n",
      "verb\n",
      "noun\n",
      "noun\n"
     ]
    },
    {
     "name": "stderr",
     "output_type": "stream",
     "text": [
      "100%|██████████████████████████████████████████████████████████████████████████████| 3799/3799 [00:58<00:00, 90.29it/s]\n"
     ]
    }
   ],
   "source": [
    "for lemma in tqdm(df['lemma '][1:3800]):\n",
    "    pos = df[df['lemma '] == lemma]['pos'].values[0]\n",
    "    if not pd.isna(pos):\n",
    "        print(pos)"
   ]
  },
  {
   "cell_type": "code",
   "execution_count": 10,
   "metadata": {},
   "outputs": [
    {
     "data": {
      "text/plain": [
       "'%D1%81%D0%BC_%D0%B3%D1%8C%D0%B9%E1%B4%B4%D0%B4%D0%B0%D0%B3%7C%D0%B0%D0%B3%D0%B8'"
      ]
     },
     "execution_count": 10,
     "metadata": {},
     "output_type": "execute_result"
    }
   ],
   "source": [
    "import urllib.parse\n",
    "urllib.parse.quote_plus('см_гьйᴴдаг|аги')"
   ]
  },
  {
   "cell_type": "code",
   "execution_count": 11,
   "metadata": {
    "scrolled": true
   },
   "outputs": [
    {
     "name": "stderr",
     "output_type": "stream",
     "text": [
      "100%|██████████████████████████████████████████████████████████████████████████| 84316/84316 [2:06:24<00:00, 13.15it/s]\n"
     ]
    }
   ],
   "source": [
    "### m a i n ANDI ###\n",
    "\n",
    "i = 1\n",
    "\n",
    "for lemma in tqdm(df['lemma '][1:]):\n",
    "    lemma = lemma.replace(' ', '_')\n",
    "    lemma = lemma.replace('/', '_')\n",
    "    lemma = lemma.replace('\\\\', '_')\n",
    "    \n",
    "    entry_num = \"entry_\" + str(i)\n",
    "    entry_form_num = \"entry_\" + str(i) + \"_form\"\n",
    "    \n",
    "    # LexicalEntry\n",
    "    g.add((URIRef('http://example.org/ontolex/andi/' + entry_num), RDF.type, ontolex.LexicalEntry))\n",
    "    g.add((ontolex.LexicalEntry, DCTERMS.language, URIRef('http://id.loc.gov/vocabulary/iso639-3/ani')))\n",
    "    g.add((ontolex.LexicalEntry, ontolex.canonicalForm, URIRef('http://example.org/ontolex/andi/' + entry_form_num)))\n",
    "    \n",
    "    try:\n",
    "        morph = df[df['lemma '] == lemma]['morphology'].values[0]\n",
    "    except IndexError:\n",
    "        morph = ''\n",
    "    if not pd.isna(morph) and morph.startswith(\"(\"):\n",
    "        endings = morph.strip(\"()\").split(\", \")\n",
    "        for k, ending in enumerate(endings):\n",
    "            # other lexicalForm\n",
    "            g.add((ontolex.LexicalEntry, ontolex.lexicalForm, URIRef('http://example.org/ontolex/andi/' + entry_form_num + '_' + str(k))))\n",
    "            g.add((URIRef('http://example.org/ontolex/andi/' + entry_form_num + '_' + str(k)), RDF.type, ontolex.Form))\n",
    "            g.add((URIRef('http://example.org/ontolex/andi/' + entry_form_num + '_' + str(k)), ontolex.writtenRep, Literal(lemma + \" \" + ending, lang='ani')))\n",
    "    \n",
    "    # lexicalForm\n",
    "    g.add((URIRef('http://example.org/ontolex/andi/' + entry_form_num), RDF.type, ontolex.Form))\n",
    "    g.add((URIRef('http://example.org/ontolex/andi/' + entry_form_num), ontolex.writtenRep, Literal(lemma, lang='ani')))\n",
    "    ipa = df[df['lemma '] == lemma]['ipa']\n",
    "    if not ipa.empty:\n",
    "        ipa = ipa.values[0]\n",
    "        if ipa != '':\n",
    "            g.add((URIRef('http://example.org/ontolex/andi/' + entry_form_num), ontolex.phoneticRep, Literal(ipa, lang='ipa')))\n",
    "    \n",
    "    # у некоторых слов есть несколько переводов, это обозначено, как новые строки таблицы\n",
    "    # пока чтобы не париться я беру только один перевод\n",
    "    translation = df[df['lemma '] == lemma]['meaning_ru']\n",
    "    if not translation.empty:\n",
    "        translation = translation.values[0]\n",
    "        if isinstance(translation, str):\n",
    "            translation_uri = urllib.parse.quote_plus(translation)\n",
    "            \n",
    "            translation = translation.replace(' ', '_').replace('/', '_')\n",
    "            translation = translation.replace('\\\\', '_').replace('|', '_')\n",
    "\n",
    "            ### Translation as shared reference\n",
    "            #ontolex:sense :surrogate_mother_sense.\n",
    "            g.add((URIRef('http://example.org/ontolex/andi/' + entry_num), ontolex.sense, URIRef('http://example.org/ontolex/andi/' + 'sense_andi_' + entry_num)))\n",
    "\n",
    "            # :surrogate_mother_sense ontolex:reference ontology:SurrogateMother.\n",
    "            g.add((URIRef('http://example.org/ontolex/andi/' + 'sense_andi_' + entry_num), ontolex.reference, URIRef('http://example.org/ontolex/andi/' + translation_uri)))\n",
    "\n",
    "            # LexicalForm of Russian word\n",
    "            g.add((URIRef('http://example.org/ontolex/andi/' + 'rus_' + entry_num), RDF.type, ontolex.LexicalEntry))\n",
    "            g.add((ontolex.LexicalEntry, DCTERMS.language, URIRef('http://id.loc.gov/vocabulary/iso639-2/rus')))\n",
    "            g.add((ontolex.LexicalEntry, ontolex.canonicalForm, URIRef('http://example.org/ontolex/andi/' + 'rus_' + entry_form_num)))\n",
    "            g.add((URIRef('http://example.org/ontolex/andi/' + 'rus_' + entry_form_num), RDF.type, ontolex.Form))\n",
    "            g.add((URIRef('http://example.org/ontolex/andi/' + 'rus_' + entry_form_num), ontolex.writtenRep, Literal(translation, lang='rus')))\n",
    "            g.add((URIRef('http://example.org/ontolex/andi/' + 'rus_' + entry_num), ontolex.sense, URIRef('http://example.org/ontolex/andi/' + 'sense_rus_' + entry_num)))\n",
    "\n",
    "            # :surrogate_mother_sense ontolex:reference ontology:SurrogateMother.\n",
    "            g.add((URIRef('http://example.org/ontolex/andi/' + 'sense_rus_' + entry_num), ontolex.reference, URIRef('http://example.org/ontolex/andi/' + translation_uri)))\n",
    "\n",
    "    # partOfSpeech\n",
    "    try:\n",
    "        pos = df[df['lemma '] == lemma]['pos'].values[0]\n",
    "    except IndexError:\n",
    "        pos = ''\n",
    "    if not pd.isna(pos):\n",
    "        if re.match(r'.*?[nN]oun.*', pos):\n",
    "            g.add((URIRef('http://example.org/ontolex/andi/' + entry_num), lexinfo.partOfSpeech, lexinfo.noun))\n",
    "        elif re.match(r' ?adj.*', pos):\n",
    "            g.add((URIRef('http://example.org/ontolex/andi/' + entry_num), lexinfo.partOfSpeech, lexinfo.adjective))\n",
    "        elif re.match(r'.*?adv.*', pos):\n",
    "            g.add((URIRef('http://example.org/ontolex/andi/' + entry_num), lexinfo.partOfSpeech, lexinfo.adverb))\n",
    "        elif re.match(r' ?verb.*', pos):\n",
    "            g.add((URIRef('http://example.org/ontolex/andi/' + entry_num), lexinfo.partOfSpeech, lexinfo.verb))\n",
    "        elif re.match(r'num.*', pos):\n",
    "            g.add((URIRef('http://example.org/ontolex/andi/' + entry_num), lexinfo.partOfSpeech, lexinfo.numeral))\n",
    "        elif re.match(r'.*?ord.*', pos):\n",
    "            g.add((URIRef('http://example.org/ontolex/andi/' + entry_num), lexinfo.partOfSpeech, lexinfo.indefiniteOrdinalNumeral))\n",
    "        elif re.match(r' ?adp.*', pos):\n",
    "            g.add((URIRef('http://example.org/ontolex/andi/' + entry_num), lexinfo.partOfSpeech, lexinfo.adposition))\n",
    "        elif re.match(r' ?gerund.*', pos):\n",
    "            g.add((URIRef('http://example.org/ontolex/andi/' + entry_num), lexinfo.partOfSpeech, lexinfo.gerundive))\n",
    "        elif re.match(r'.*?participle.*', pos):\n",
    "            g.add((URIRef('http://example.org/ontolex/andi/' + entry_num), lexinfo.partOfSpeech, lexinfo.participle))\n",
    "        elif re.match(r'.*?part.*', pos):\n",
    "            g.add((URIRef('http://example.org/ontolex/andi/' + entry_num), lexinfo.partOfSpeech, lexinfo.particle))\n",
    "        elif re.match(r'excl.*', pos):\n",
    "            g.add((URIRef('http://example.org/ontolex/andi/' + entry_num), lexinfo.partOfSpeech, lexinfo.exclamativePoint))\n",
    "            \n",
    "    i += 1"
   ]
  },
  {
   "cell_type": "code",
   "execution_count": 22,
   "metadata": {
    "scrolled": true
   },
   "outputs": [
    {
     "ename": "Exception",
     "evalue": "\"http://example.org/ontolex/andi/см_гьйᴴдаг|аги\" does not look like a valid URI, I cannot serialize this as N3/Turtle. Perhaps you wanted to urlencode it?",
     "output_type": "error",
     "traceback": [
      "\u001b[1;31m---------------------------------------------------------------------------\u001b[0m",
      "\u001b[1;31mException\u001b[0m                                 Traceback (most recent call last)",
      "\u001b[1;32m<ipython-input-22-b4090742f44e>\u001b[0m in \u001b[0;36m<module>\u001b[1;34m\u001b[0m\n\u001b[1;32m----> 1\u001b[1;33m \u001b[0mprint\u001b[0m\u001b[1;33m(\u001b[0m\u001b[0mg\u001b[0m\u001b[1;33m.\u001b[0m\u001b[0mserialize\u001b[0m\u001b[1;33m(\u001b[0m\u001b[0mformat\u001b[0m\u001b[1;33m=\u001b[0m\u001b[1;34m'turtle'\u001b[0m\u001b[1;33m)\u001b[0m\u001b[1;33m.\u001b[0m\u001b[0mdecode\u001b[0m\u001b[1;33m(\u001b[0m\u001b[1;34m'utf-8'\u001b[0m\u001b[1;33m)\u001b[0m\u001b[1;33m)\u001b[0m\u001b[1;33m\u001b[0m\u001b[1;33m\u001b[0m\u001b[0m\n\u001b[0m",
      "\u001b[1;32md:\\python371\\lib\\site-packages\\rdflib\\graph.py\u001b[0m in \u001b[0;36mserialize\u001b[1;34m(self, destination, format, base, encoding, **args)\u001b[0m\n\u001b[0;32m    962\u001b[0m         \u001b[1;32mif\u001b[0m \u001b[0mdestination\u001b[0m \u001b[1;32mis\u001b[0m \u001b[1;32mNone\u001b[0m\u001b[1;33m:\u001b[0m\u001b[1;33m\u001b[0m\u001b[1;33m\u001b[0m\u001b[0m\n\u001b[0;32m    963\u001b[0m             \u001b[0mstream\u001b[0m \u001b[1;33m=\u001b[0m \u001b[0mBytesIO\u001b[0m\u001b[1;33m(\u001b[0m\u001b[1;33m)\u001b[0m\u001b[1;33m\u001b[0m\u001b[1;33m\u001b[0m\u001b[0m\n\u001b[1;32m--> 964\u001b[1;33m             \u001b[0mserializer\u001b[0m\u001b[1;33m.\u001b[0m\u001b[0mserialize\u001b[0m\u001b[1;33m(\u001b[0m\u001b[0mstream\u001b[0m\u001b[1;33m,\u001b[0m \u001b[0mbase\u001b[0m\u001b[1;33m=\u001b[0m\u001b[0mbase\u001b[0m\u001b[1;33m,\u001b[0m \u001b[0mencoding\u001b[0m\u001b[1;33m=\u001b[0m\u001b[0mencoding\u001b[0m\u001b[1;33m,\u001b[0m \u001b[1;33m**\u001b[0m\u001b[0margs\u001b[0m\u001b[1;33m)\u001b[0m\u001b[1;33m\u001b[0m\u001b[1;33m\u001b[0m\u001b[0m\n\u001b[0m\u001b[0;32m    965\u001b[0m             \u001b[1;32mreturn\u001b[0m \u001b[0mstream\u001b[0m\u001b[1;33m.\u001b[0m\u001b[0mgetvalue\u001b[0m\u001b[1;33m(\u001b[0m\u001b[1;33m)\u001b[0m\u001b[1;33m\u001b[0m\u001b[1;33m\u001b[0m\u001b[0m\n\u001b[0;32m    966\u001b[0m         \u001b[1;32mif\u001b[0m \u001b[0mhasattr\u001b[0m\u001b[1;33m(\u001b[0m\u001b[0mdestination\u001b[0m\u001b[1;33m,\u001b[0m \u001b[1;34m\"write\"\u001b[0m\u001b[1;33m)\u001b[0m\u001b[1;33m:\u001b[0m\u001b[1;33m\u001b[0m\u001b[1;33m\u001b[0m\u001b[0m\n",
      "\u001b[1;32md:\\python371\\lib\\site-packages\\rdflib\\plugins\\serializers\\turtle.py\u001b[0m in \u001b[0;36mserialize\u001b[1;34m(self, stream, base, encoding, spacious, **args)\u001b[0m\n\u001b[0;32m    245\u001b[0m             \u001b[1;32mif\u001b[0m \u001b[0mfirstTime\u001b[0m\u001b[1;33m:\u001b[0m\u001b[1;33m\u001b[0m\u001b[1;33m\u001b[0m\u001b[0m\n\u001b[0;32m    246\u001b[0m                 \u001b[0mfirstTime\u001b[0m \u001b[1;33m=\u001b[0m \u001b[1;32mFalse\u001b[0m\u001b[1;33m\u001b[0m\u001b[1;33m\u001b[0m\u001b[0m\n\u001b[1;32m--> 247\u001b[1;33m             \u001b[1;32mif\u001b[0m \u001b[0mself\u001b[0m\u001b[1;33m.\u001b[0m\u001b[0mstatement\u001b[0m\u001b[1;33m(\u001b[0m\u001b[0msubject\u001b[0m\u001b[1;33m)\u001b[0m \u001b[1;32mand\u001b[0m \u001b[1;32mnot\u001b[0m \u001b[0mfirstTime\u001b[0m\u001b[1;33m:\u001b[0m\u001b[1;33m\u001b[0m\u001b[1;33m\u001b[0m\u001b[0m\n\u001b[0m\u001b[0;32m    248\u001b[0m                 \u001b[0mself\u001b[0m\u001b[1;33m.\u001b[0m\u001b[0mwrite\u001b[0m\u001b[1;33m(\u001b[0m\u001b[1;34m'\\n'\u001b[0m\u001b[1;33m)\u001b[0m\u001b[1;33m\u001b[0m\u001b[1;33m\u001b[0m\u001b[0m\n\u001b[0;32m    249\u001b[0m \u001b[1;33m\u001b[0m\u001b[0m\n",
      "\u001b[1;32md:\\python371\\lib\\site-packages\\rdflib\\plugins\\serializers\\turtle.py\u001b[0m in \u001b[0;36mstatement\u001b[1;34m(self, subject)\u001b[0m\n\u001b[0;32m    312\u001b[0m     \u001b[1;32mdef\u001b[0m \u001b[0mstatement\u001b[0m\u001b[1;33m(\u001b[0m\u001b[0mself\u001b[0m\u001b[1;33m,\u001b[0m \u001b[0msubject\u001b[0m\u001b[1;33m)\u001b[0m\u001b[1;33m:\u001b[0m\u001b[1;33m\u001b[0m\u001b[1;33m\u001b[0m\u001b[0m\n\u001b[0;32m    313\u001b[0m         \u001b[0mself\u001b[0m\u001b[1;33m.\u001b[0m\u001b[0msubjectDone\u001b[0m\u001b[1;33m(\u001b[0m\u001b[0msubject\u001b[0m\u001b[1;33m)\u001b[0m\u001b[1;33m\u001b[0m\u001b[1;33m\u001b[0m\u001b[0m\n\u001b[1;32m--> 314\u001b[1;33m         \u001b[1;32mreturn\u001b[0m \u001b[0mself\u001b[0m\u001b[1;33m.\u001b[0m\u001b[0ms_squared\u001b[0m\u001b[1;33m(\u001b[0m\u001b[0msubject\u001b[0m\u001b[1;33m)\u001b[0m \u001b[1;32mor\u001b[0m \u001b[0mself\u001b[0m\u001b[1;33m.\u001b[0m\u001b[0ms_default\u001b[0m\u001b[1;33m(\u001b[0m\u001b[0msubject\u001b[0m\u001b[1;33m)\u001b[0m\u001b[1;33m\u001b[0m\u001b[1;33m\u001b[0m\u001b[0m\n\u001b[0m\u001b[0;32m    315\u001b[0m \u001b[1;33m\u001b[0m\u001b[0m\n\u001b[0;32m    316\u001b[0m     \u001b[1;32mdef\u001b[0m \u001b[0ms_default\u001b[0m\u001b[1;33m(\u001b[0m\u001b[0mself\u001b[0m\u001b[1;33m,\u001b[0m \u001b[0msubject\u001b[0m\u001b[1;33m)\u001b[0m\u001b[1;33m:\u001b[0m\u001b[1;33m\u001b[0m\u001b[1;33m\u001b[0m\u001b[0m\n",
      "\u001b[1;32md:\\python371\\lib\\site-packages\\rdflib\\plugins\\serializers\\turtle.py\u001b[0m in \u001b[0;36ms_default\u001b[1;34m(self, subject)\u001b[0m\n\u001b[0;32m    317\u001b[0m         \u001b[0mself\u001b[0m\u001b[1;33m.\u001b[0m\u001b[0mwrite\u001b[0m\u001b[1;33m(\u001b[0m\u001b[1;34m'\\n'\u001b[0m \u001b[1;33m+\u001b[0m \u001b[0mself\u001b[0m\u001b[1;33m.\u001b[0m\u001b[0mindent\u001b[0m\u001b[1;33m(\u001b[0m\u001b[1;33m)\u001b[0m\u001b[1;33m)\u001b[0m\u001b[1;33m\u001b[0m\u001b[1;33m\u001b[0m\u001b[0m\n\u001b[0;32m    318\u001b[0m         \u001b[0mself\u001b[0m\u001b[1;33m.\u001b[0m\u001b[0mpath\u001b[0m\u001b[1;33m(\u001b[0m\u001b[0msubject\u001b[0m\u001b[1;33m,\u001b[0m \u001b[0mSUBJECT\u001b[0m\u001b[1;33m)\u001b[0m\u001b[1;33m\u001b[0m\u001b[1;33m\u001b[0m\u001b[0m\n\u001b[1;32m--> 319\u001b[1;33m         \u001b[0mself\u001b[0m\u001b[1;33m.\u001b[0m\u001b[0mpredicateList\u001b[0m\u001b[1;33m(\u001b[0m\u001b[0msubject\u001b[0m\u001b[1;33m)\u001b[0m\u001b[1;33m\u001b[0m\u001b[1;33m\u001b[0m\u001b[0m\n\u001b[0m\u001b[0;32m    320\u001b[0m         \u001b[0mself\u001b[0m\u001b[1;33m.\u001b[0m\u001b[0mwrite\u001b[0m\u001b[1;33m(\u001b[0m\u001b[1;34m' .'\u001b[0m\u001b[1;33m)\u001b[0m\u001b[1;33m\u001b[0m\u001b[1;33m\u001b[0m\u001b[0m\n\u001b[0;32m    321\u001b[0m         \u001b[1;32mreturn\u001b[0m \u001b[1;32mTrue\u001b[0m\u001b[1;33m\u001b[0m\u001b[1;33m\u001b[0m\u001b[0m\n",
      "\u001b[1;32md:\\python371\\lib\\site-packages\\rdflib\\plugins\\serializers\\turtle.py\u001b[0m in \u001b[0;36mpredicateList\u001b[1;34m(self, subject, newline)\u001b[0m\n\u001b[0;32m    416\u001b[0m             \u001b[1;32mreturn\u001b[0m\u001b[1;33m\u001b[0m\u001b[1;33m\u001b[0m\u001b[0m\n\u001b[0;32m    417\u001b[0m         \u001b[0mself\u001b[0m\u001b[1;33m.\u001b[0m\u001b[0mverb\u001b[0m\u001b[1;33m(\u001b[0m\u001b[0mpropList\u001b[0m\u001b[1;33m[\u001b[0m\u001b[1;36m0\u001b[0m\u001b[1;33m]\u001b[0m\u001b[1;33m,\u001b[0m \u001b[0mnewline\u001b[0m\u001b[1;33m=\u001b[0m\u001b[0mnewline\u001b[0m\u001b[1;33m)\u001b[0m\u001b[1;33m\u001b[0m\u001b[1;33m\u001b[0m\u001b[0m\n\u001b[1;32m--> 418\u001b[1;33m         \u001b[0mself\u001b[0m\u001b[1;33m.\u001b[0m\u001b[0mobjectList\u001b[0m\u001b[1;33m(\u001b[0m\u001b[0mproperties\u001b[0m\u001b[1;33m[\u001b[0m\u001b[0mpropList\u001b[0m\u001b[1;33m[\u001b[0m\u001b[1;36m0\u001b[0m\u001b[1;33m]\u001b[0m\u001b[1;33m]\u001b[0m\u001b[1;33m)\u001b[0m\u001b[1;33m\u001b[0m\u001b[1;33m\u001b[0m\u001b[0m\n\u001b[0m\u001b[0;32m    419\u001b[0m         \u001b[1;32mfor\u001b[0m \u001b[0mpredicate\u001b[0m \u001b[1;32min\u001b[0m \u001b[0mpropList\u001b[0m\u001b[1;33m[\u001b[0m\u001b[1;36m1\u001b[0m\u001b[1;33m:\u001b[0m\u001b[1;33m]\u001b[0m\u001b[1;33m:\u001b[0m\u001b[1;33m\u001b[0m\u001b[1;33m\u001b[0m\u001b[0m\n\u001b[0;32m    420\u001b[0m             \u001b[0mself\u001b[0m\u001b[1;33m.\u001b[0m\u001b[0mwrite\u001b[0m\u001b[1;33m(\u001b[0m\u001b[1;34m' ;\\n'\u001b[0m \u001b[1;33m+\u001b[0m \u001b[0mself\u001b[0m\u001b[1;33m.\u001b[0m\u001b[0mindent\u001b[0m\u001b[1;33m(\u001b[0m\u001b[1;36m1\u001b[0m\u001b[1;33m)\u001b[0m\u001b[1;33m)\u001b[0m\u001b[1;33m\u001b[0m\u001b[1;33m\u001b[0m\u001b[0m\n",
      "\u001b[1;32md:\\python371\\lib\\site-packages\\rdflib\\plugins\\serializers\\turtle.py\u001b[0m in \u001b[0;36mobjectList\u001b[1;34m(self, objects)\u001b[0m\n\u001b[0;32m    431\u001b[0m         \u001b[0mdepthmod\u001b[0m \u001b[1;33m=\u001b[0m \u001b[1;33m(\u001b[0m\u001b[0mcount\u001b[0m \u001b[1;33m==\u001b[0m \u001b[1;36m1\u001b[0m\u001b[1;33m)\u001b[0m \u001b[1;32mand\u001b[0m \u001b[1;36m0\u001b[0m \u001b[1;32mor\u001b[0m \u001b[1;36m1\u001b[0m\u001b[1;33m\u001b[0m\u001b[1;33m\u001b[0m\u001b[0m\n\u001b[0;32m    432\u001b[0m         \u001b[0mself\u001b[0m\u001b[1;33m.\u001b[0m\u001b[0mdepth\u001b[0m \u001b[1;33m+=\u001b[0m \u001b[0mdepthmod\u001b[0m\u001b[1;33m\u001b[0m\u001b[1;33m\u001b[0m\u001b[0m\n\u001b[1;32m--> 433\u001b[1;33m         \u001b[0mself\u001b[0m\u001b[1;33m.\u001b[0m\u001b[0mpath\u001b[0m\u001b[1;33m(\u001b[0m\u001b[0mobjects\u001b[0m\u001b[1;33m[\u001b[0m\u001b[1;36m0\u001b[0m\u001b[1;33m]\u001b[0m\u001b[1;33m,\u001b[0m \u001b[0mOBJECT\u001b[0m\u001b[1;33m)\u001b[0m\u001b[1;33m\u001b[0m\u001b[1;33m\u001b[0m\u001b[0m\n\u001b[0m\u001b[0;32m    434\u001b[0m         \u001b[1;32mfor\u001b[0m \u001b[0mobj\u001b[0m \u001b[1;32min\u001b[0m \u001b[0mobjects\u001b[0m\u001b[1;33m[\u001b[0m\u001b[1;36m1\u001b[0m\u001b[1;33m:\u001b[0m\u001b[1;33m]\u001b[0m\u001b[1;33m:\u001b[0m\u001b[1;33m\u001b[0m\u001b[1;33m\u001b[0m\u001b[0m\n\u001b[0;32m    435\u001b[0m             \u001b[0mself\u001b[0m\u001b[1;33m.\u001b[0m\u001b[0mwrite\u001b[0m\u001b[1;33m(\u001b[0m\u001b[1;34m',\\n'\u001b[0m \u001b[1;33m+\u001b[0m \u001b[0mself\u001b[0m\u001b[1;33m.\u001b[0m\u001b[0mindent\u001b[0m\u001b[1;33m(\u001b[0m\u001b[1;36m1\u001b[0m\u001b[1;33m)\u001b[0m\u001b[1;33m)\u001b[0m\u001b[1;33m\u001b[0m\u001b[1;33m\u001b[0m\u001b[0m\n",
      "\u001b[1;32md:\\python371\\lib\\site-packages\\rdflib\\plugins\\serializers\\turtle.py\u001b[0m in \u001b[0;36mpath\u001b[1;34m(self, node, position, newline)\u001b[0m\n\u001b[0;32m    331\u001b[0m     \u001b[1;32mdef\u001b[0m \u001b[0mpath\u001b[0m\u001b[1;33m(\u001b[0m\u001b[0mself\u001b[0m\u001b[1;33m,\u001b[0m \u001b[0mnode\u001b[0m\u001b[1;33m,\u001b[0m \u001b[0mposition\u001b[0m\u001b[1;33m,\u001b[0m \u001b[0mnewline\u001b[0m\u001b[1;33m=\u001b[0m\u001b[1;32mFalse\u001b[0m\u001b[1;33m)\u001b[0m\u001b[1;33m:\u001b[0m\u001b[1;33m\u001b[0m\u001b[1;33m\u001b[0m\u001b[0m\n\u001b[0;32m    332\u001b[0m         if not (self.p_squared(node, position, newline)\n\u001b[1;32m--> 333\u001b[1;33m                 or self.p_default(node, position, newline)):\n\u001b[0m\u001b[0;32m    334\u001b[0m             \u001b[1;32mraise\u001b[0m \u001b[0mError\u001b[0m\u001b[1;33m(\u001b[0m\u001b[1;34m\"Cannot serialize node '%s'\"\u001b[0m \u001b[1;33m%\u001b[0m \u001b[1;33m(\u001b[0m\u001b[0mnode\u001b[0m\u001b[1;33m,\u001b[0m \u001b[1;33m)\u001b[0m\u001b[1;33m)\u001b[0m\u001b[1;33m\u001b[0m\u001b[1;33m\u001b[0m\u001b[0m\n\u001b[0;32m    335\u001b[0m \u001b[1;33m\u001b[0m\u001b[0m\n",
      "\u001b[1;32md:\\python371\\lib\\site-packages\\rdflib\\plugins\\serializers\\turtle.py\u001b[0m in \u001b[0;36mp_default\u001b[1;34m(self, node, position, newline)\u001b[0m\n\u001b[0;32m    337\u001b[0m         \u001b[1;32mif\u001b[0m \u001b[0mposition\u001b[0m \u001b[1;33m!=\u001b[0m \u001b[0mSUBJECT\u001b[0m \u001b[1;32mand\u001b[0m \u001b[1;32mnot\u001b[0m \u001b[0mnewline\u001b[0m\u001b[1;33m:\u001b[0m\u001b[1;33m\u001b[0m\u001b[1;33m\u001b[0m\u001b[0m\n\u001b[0;32m    338\u001b[0m             \u001b[0mself\u001b[0m\u001b[1;33m.\u001b[0m\u001b[0mwrite\u001b[0m\u001b[1;33m(\u001b[0m\u001b[1;34m' '\u001b[0m\u001b[1;33m)\u001b[0m\u001b[1;33m\u001b[0m\u001b[1;33m\u001b[0m\u001b[0m\n\u001b[1;32m--> 339\u001b[1;33m         \u001b[0mself\u001b[0m\u001b[1;33m.\u001b[0m\u001b[0mwrite\u001b[0m\u001b[1;33m(\u001b[0m\u001b[0mself\u001b[0m\u001b[1;33m.\u001b[0m\u001b[0mlabel\u001b[0m\u001b[1;33m(\u001b[0m\u001b[0mnode\u001b[0m\u001b[1;33m,\u001b[0m \u001b[0mposition\u001b[0m\u001b[1;33m)\u001b[0m\u001b[1;33m)\u001b[0m\u001b[1;33m\u001b[0m\u001b[1;33m\u001b[0m\u001b[0m\n\u001b[0m\u001b[0;32m    340\u001b[0m         \u001b[1;32mreturn\u001b[0m \u001b[1;32mTrue\u001b[0m\u001b[1;33m\u001b[0m\u001b[1;33m\u001b[0m\u001b[0m\n\u001b[0;32m    341\u001b[0m \u001b[1;33m\u001b[0m\u001b[0m\n",
      "\u001b[1;32md:\\python371\\lib\\site-packages\\rdflib\\plugins\\serializers\\turtle.py\u001b[0m in \u001b[0;36mlabel\u001b[1;34m(self, node, position)\u001b[0m\n\u001b[0;32m    353\u001b[0m             \u001b[0mnode\u001b[0m \u001b[1;33m=\u001b[0m \u001b[0mself\u001b[0m\u001b[1;33m.\u001b[0m\u001b[0mrelativize\u001b[0m\u001b[1;33m(\u001b[0m\u001b[0mnode\u001b[0m\u001b[1;33m)\u001b[0m\u001b[1;33m\u001b[0m\u001b[1;33m\u001b[0m\u001b[0m\n\u001b[0;32m    354\u001b[0m \u001b[1;33m\u001b[0m\u001b[0m\n\u001b[1;32m--> 355\u001b[1;33m             \u001b[1;32mreturn\u001b[0m \u001b[0mself\u001b[0m\u001b[1;33m.\u001b[0m\u001b[0mgetQName\u001b[0m\u001b[1;33m(\u001b[0m\u001b[0mnode\u001b[0m\u001b[1;33m,\u001b[0m \u001b[0mposition\u001b[0m \u001b[1;33m==\u001b[0m \u001b[0mVERB\u001b[0m\u001b[1;33m)\u001b[0m \u001b[1;32mor\u001b[0m \u001b[0mnode\u001b[0m\u001b[1;33m.\u001b[0m\u001b[0mn3\u001b[0m\u001b[1;33m(\u001b[0m\u001b[1;33m)\u001b[0m\u001b[1;33m\u001b[0m\u001b[1;33m\u001b[0m\u001b[0m\n\u001b[0m\u001b[0;32m    356\u001b[0m \u001b[1;33m\u001b[0m\u001b[0m\n\u001b[0;32m    357\u001b[0m     \u001b[1;32mdef\u001b[0m \u001b[0mp_squared\u001b[0m\u001b[1;33m(\u001b[0m\u001b[0mself\u001b[0m\u001b[1;33m,\u001b[0m \u001b[0mnode\u001b[0m\u001b[1;33m,\u001b[0m \u001b[0mposition\u001b[0m\u001b[1;33m,\u001b[0m \u001b[0mnewline\u001b[0m\u001b[1;33m=\u001b[0m\u001b[1;32mFalse\u001b[0m\u001b[1;33m)\u001b[0m\u001b[1;33m:\u001b[0m\u001b[1;33m\u001b[0m\u001b[1;33m\u001b[0m\u001b[0m\n",
      "\u001b[1;32md:\\python371\\lib\\site-packages\\rdflib\\term.py\u001b[0m in \u001b[0;36mn3\u001b[1;34m(self, namespace_manager)\u001b[0m\n\u001b[0;32m    252\u001b[0m \u001b[1;33m\u001b[0m\u001b[0m\n\u001b[0;32m    253\u001b[0m         \u001b[1;32mif\u001b[0m \u001b[1;32mnot\u001b[0m \u001b[0m_is_valid_uri\u001b[0m\u001b[1;33m(\u001b[0m\u001b[0mself\u001b[0m\u001b[1;33m)\u001b[0m\u001b[1;33m:\u001b[0m\u001b[1;33m\u001b[0m\u001b[1;33m\u001b[0m\u001b[0m\n\u001b[1;32m--> 254\u001b[1;33m             \u001b[1;32mraise\u001b[0m \u001b[0mException\u001b[0m\u001b[1;33m(\u001b[0m\u001b[1;34m'\"%s\" does not look like a valid URI, I cannot serialize this as N3/Turtle. Perhaps you wanted to urlencode it?'\u001b[0m\u001b[1;33m%\u001b[0m\u001b[0mself\u001b[0m\u001b[1;33m)\u001b[0m\u001b[1;33m\u001b[0m\u001b[1;33m\u001b[0m\u001b[0m\n\u001b[0m\u001b[0;32m    255\u001b[0m \u001b[1;33m\u001b[0m\u001b[0m\n\u001b[0;32m    256\u001b[0m         \u001b[1;32mif\u001b[0m \u001b[0mnamespace_manager\u001b[0m\u001b[1;33m:\u001b[0m\u001b[1;33m\u001b[0m\u001b[1;33m\u001b[0m\u001b[0m\n",
      "\u001b[1;31mException\u001b[0m: \"http://example.org/ontolex/andi/см_гьйᴴдаг|аги\" does not look like a valid URI, I cannot serialize this as N3/Turtle. Perhaps you wanted to urlencode it?"
     ]
    }
   ],
   "source": [
    "# print(g.serialize(format='turtle').decode('utf-8'))"
   ]
  },
  {
   "cell_type": "code",
   "execution_count": 12,
   "metadata": {},
   "outputs": [],
   "source": [
    "g.serialize(destination='output_full_long2.ttl', format='turtle')"
   ]
  },
  {
   "cell_type": "markdown",
   "metadata": {},
   "source": [
    "# Chukchi data\n",
    "\n",
    "Now after we dealt with Andi data, we can move on to Chukchi data which has a slightly different format"
   ]
  },
  {
   "cell_type": "code",
   "execution_count": 7,
   "metadata": {},
   "outputs": [
    {
     "name": "stdout",
     "output_type": "stream",
     "text": [
      "['-lexeme\\n',\n",
      " ' lex: ааңкатык\\n',\n",
      " ' gramm: V\\n',\n",
      " ' stem: .ааңкаты.\\n',\n",
      " ' trans_ru: 1) открываться; 2) открывать рот\\n',\n",
      " '\\n',\n",
      " '-lexeme\\n',\n",
      " ' lex: ааңкы\\n',\n",
      " ' gramm: ADV\\n',\n",
      " ' stem: ааңкы\\n',\n",
      " ' trans_ru: открыто\\n',\n",
      " '\\n',\n",
      " '-lexeme\\n',\n",
      " ' lex: аалёмка\\n',\n",
      " ' gramm: ADV\\n',\n",
      " ' stem: аалёмка//авалёмка\\n',\n",
      " ' trans_ru: неслышно\\n',\n",
      " '\\n',\n",
      " '\\n']\n"
     ]
    }
   ],
   "source": [
    "from pprint import pprint\n",
    "\n",
    "with open(\"chukchi-lex-common.txt\", encoding='utf-8') as f:\n",
    "    chukchi = f.readlines()\n",
    "    \n",
    "pprint(chukchi[:19])"
   ]
  },
  {
   "cell_type": "code",
   "execution_count": 55,
   "metadata": {},
   "outputs": [],
   "source": [
    "g2 = rdflib.Graph(identifier='http://example.org/ontolex/chukchi#')  # пока рандомная ссылка"
   ]
  },
  {
   "cell_type": "code",
   "execution_count": 56,
   "metadata": {},
   "outputs": [],
   "source": [
    "ckt = rdflib.Namespace('http://example.org/ontolex/chukchi#')  # Корневой Namespace с рандомной ссылкой\n",
    "\n",
    "ontolex = rdflib.Namespace('http://www.w3.org/ns/lemon/ontolex#')  # основная модель\n",
    "lexinfo = rdflib.Namespace('http://www.lexinfo.net/ontology/2.0/lexinfo#')  # обозначение морфологических тегов\n",
    "lime = rdflib.Namespace('http://www.w3.org/ns/lemon/lime#')\n",
    "#synsem = rdflib.Namespace('http://www.w3.org/ns/lemon/synsem#')  # синтаксис\n",
    "#decomp = rdflib.Namespace('http://www.w3.org/ns/lemon/decomp#')  # синтаксис\n",
    "vartrans = rdflib.Namespace('http://www.w3.org/ns/lemon/vartrans#')  # для обозначения переводов и вариантов слов\n",
    "skos = rdflib.Namespace('http://www.w3.org/2004/02/skos#')"
   ]
  },
  {
   "cell_type": "code",
   "execution_count": 57,
   "metadata": {},
   "outputs": [],
   "source": [
    "g2.bind('ontolex', ontolex)\n",
    "g2.bind('lexinfo', lexinfo)\n",
    "g2.bind('dct', DCTERMS)  # Это для того, чтобы названия ISO языков грузились\n",
    "g2.bind('rdfs', RDFS)\n",
    "g2.bind('lime', lime)  # ??\n",
    "#g2.bind('synsem', synsem)\n",
    "#g2.bind('decomp', decomp)\n",
    "g2.bind('vartrans', vartrans)\n",
    "g2.bind('skos', skos)\n",
    "\n",
    "g2.bind('andi', andi)\n",
    "\n",
    "lexicon_ckt = URIRef(ckt)"
   ]
  },
  {
   "cell_type": "code",
   "execution_count": 58,
   "metadata": {},
   "outputs": [],
   "source": [
    "g2.set((lexicon_ckt, RDF.type, lime.Lexicon))\n",
    "g2.set((lexicon_ckt, ontolex.language, Literal(\"ru, ckt\")))\n",
    "g2.set((lexicon_ckt, RDFS.comment, Literal(\"lexicon-information_name:Chukchi-Russian\", lang=\"en\")))"
   ]
  },
  {
   "cell_type": "code",
   "execution_count": 59,
   "metadata": {},
   "outputs": [
    {
     "name": "stdout",
     "output_type": "stream",
     "text": [
      "@prefix andi: <http://example.org/ontolex/chukchi#> .\n",
      "@prefix lime: <http://www.w3.org/ns/lemon/lime#> .\n",
      "@prefix ontolex: <http://www.w3.org/ns/lemon/ontolex#> .\n",
      "@prefix rdfs: <http://www.w3.org/2000/01/rdf-schema#> .\n",
      "\n",
      "andi: a lime:Lexicon ;\n",
      "    rdfs:comment \"lexicon-information_name:Chukchi-Russian\"@en ;\n",
      "    ontolex:language \"ru, ckt\" .\n",
      "\n",
      "\n"
     ]
    }
   ],
   "source": [
    "# empty turtle\n",
    "print(g2.serialize(format='turtle').decode('utf-8'))"
   ]
  },
  {
   "cell_type": "code",
   "execution_count": 60,
   "metadata": {},
   "outputs": [],
   "source": [
    "# for exploring data\n",
    "i = 1\n",
    "for k, line in enumerate(chukchi):\n",
    "    line = line.strip('\\n')\n",
    "    if line.startswith(\"-lexeme\"):\n",
    "        lex = chukchi[k+1].strip(\" lex: \").strip('\\n')\n",
    "        gramm = chukchi[k+2].strip(\" gramm: \").strip('\\n')\n",
    "        stem = chukchi[k+3].strip(\" stem: \").strip('\\n')\n",
    "        trans_ru = chukchi[k+4].strip(\" trans_ru: \").strip('\\n')\n",
    "        d[i] = [lex, gramm, stem, trans_ru]\n",
    "        i += 1"
   ]
  },
  {
   "cell_type": "code",
   "execution_count": 61,
   "metadata": {},
   "outputs": [
    {
     "name": "stdout",
     "output_type": "stream",
     "text": [
      "{'', 'A', 'PTH', 'PTCP', 'CONJ, ADV', 'M', 'N, A', 'INTJ', 'POSTP', 'PART', 'V', 'N, ADV', 'ADV, PART', 'NUM', 'CONJ', 'Т', 'PRED', 'PART_OF_SPEECH_UNKNOWN', 'PRON', 'N', 'Vbase', 'A, N', 'ADV', 'ADV, N'}\n"
     ]
    }
   ],
   "source": [
    "pos = []\n",
    "for el in d.values():\n",
    "    pos.append(el[1])\n",
    "print(set(pos))"
   ]
  },
  {
   "cell_type": "code",
   "execution_count": 62,
   "metadata": {},
   "outputs": [
    {
     "name": "stderr",
     "output_type": "stream",
     "text": [
      "37697it [00:06, 5560.54it/s]\n"
     ]
    }
   ],
   "source": [
    "i = 1\n",
    "for k, line in tqdm(enumerate(chukchi)):\n",
    "    line = line.strip('\\n')\n",
    "    if line.startswith(\"-lexeme\"):\n",
    "        lex = chukchi[k+1].strip(\" lex: \").strip('\\n')\n",
    "        gramm = chukchi[k+2].strip(\" gramm: \").strip('\\n')\n",
    "        stem = chukchi[k+3].strip(\" stem: \").strip('\\n')\n",
    "        trans_ru = chukchi[k+4].strip(\" trans_ru: \").strip('\\n')\n",
    "        # d[i] = [lex, gramm, stem, trans_ru]\n",
    "        \n",
    "        entry_num = \"entry_\" + str(i)\n",
    "        entry_form_num = \"entry_\" + str(i) + \"_form\"\n",
    "        \n",
    "        # LexicalEntry\n",
    "        g2.add((URIRef('http://example.org/ontolex/chukchi/' + entry_num), RDF.type, ontolex.LexicalEntry))\n",
    "        g2.add((ontolex.LexicalEntry, DCTERMS.language, URIRef('http://id.loc.gov/vocabulary/iso639-3/ckt')))\n",
    "        g2.add((ontolex.LexicalEntry, ontolex.canonicalForm, URIRef('http://example.org/ontolex/chukchi/' + entry_form_num)))\n",
    "        # written representation\n",
    "        g2.add((URIRef('http://example.org/ontolex/chukchi/' + entry_form_num), RDF.type, ontolex.Form))\n",
    "        g2.add((URIRef('http://example.org/ontolex/chukchi/' + entry_form_num), ontolex.writtenRep, Literal(lex, lang='ckt')))\n",
    "        \n",
    "        # stem (stored in otherForm)\n",
    "        for k, st in enumerate(re.split(r'//|\\|', stem)):\n",
    "            g2.add((ontolex.LexicalEntry, ontolex.otherForm, URIRef('http://example.org/ontolex/chukchi/' + entry_form_num + '_' + str(k))))\n",
    "            g2.add((URIRef('http://example.org/ontolex/chukchi/' + entry_form_num + '_' + str(k)), RDF.type, ontolex.Form))\n",
    "            g2.add((URIRef('http://example.org/ontolex/chukchi/' + entry_form_num + '_' + str(k)), ontolex.writtenRep, Literal(st, lang='ckt')))\n",
    "        \n",
    "        # part of speech\n",
    "        if gramm == 'A' or gramm == 'A, N':\n",
    "            g2.add((URIRef('http://example.org/ontolex/chukchi/' + entry_num), lexinfo.partOfSpeech, lexinfo.adjective))\n",
    "        elif gramm == 'CONJ' or gramm == 'CONJ, ADV':\n",
    "            g2.add((URIRef('http://example.org/ontolex/chukchi/' + entry_num), lexinfo.partOfSpeech, lexinfo.conjunction))\n",
    "        elif gramm == 'ADV' or gramm == 'ADV, PART' or gramm == 'ADV, N':\n",
    "            g2.add((URIRef('http://example.org/ontolex/chukchi/' + entry_num), lexinfo.partOfSpeech, lexinfo.adverb))\n",
    "        elif gramm == 'N' or gramm == 'N, A' or gramm == 'N, ADV':\n",
    "            g2.add((URIRef('http://example.org/ontolex/chukchi/' + entry_num), lexinfo.partOfSpeech, lexinfo.noun))\n",
    "        elif gramm == 'INTJ':\n",
    "            g2.add((URIRef('http://example.org/ontolex/chukchi/' + entry_num), lexinfo.partOfSpeech, lexinfo.interjection))\n",
    "        elif gramm == 'PART' or gramm == 'POSTP':\n",
    "            g2.add((URIRef('http://example.org/ontolex/chukchi/' + entry_num), lexinfo.partOfSpeech, lexinfo.particle))\n",
    "        elif gramm == 'V' or gramm == 'PRED' or gramm == 'Vbase':\n",
    "            g2.add((URIRef('http://example.org/ontolex/chukchi/' + entry_num), lexinfo.partOfSpeech, lexinfo.verb))\n",
    "        elif gramm == 'NUM':\n",
    "            g2.add((URIRef('http://example.org/ontolex/chukchi/' + entry_num), lexinfo.partOfSpeech, lexinfo.numeral))\n",
    "        elif gramm == 'PRON':\n",
    "            g2.add((URIRef('http://example.org/ontolex/chukchi/' + entry_num), lexinfo.partOfSpeech, lexinfo.pronoun))\n",
    "        \n",
    "        # translation as shared reference\n",
    "        # ontolex:sense :surrogate_mother_sense.\n",
    "        g2.add((URIRef('http://example.org/ontolex/chukchi/' + entry_num), ontolex.sense, URIRef('http://example.org/ontolex/chukchi/' + 'sense_ckt_' + entry_num)))\n",
    "        res = re.split(r'\\d\\)|\\.', trans_ru)\n",
    "        if res != []:\n",
    "            for trans in res[1:]:\n",
    "                translation = trans.strip(' ').replace(' ', '_').replace('/', '_').replace('\\\\', '_').replace(';', '_')\n",
    "                \n",
    "                # :surrogate_mother_sense ontolex:reference ontology:SurrogateMother.\n",
    "                g2.add((URIRef('http://example.org/ontolex/chukchi/' + 'sense_ckt_' + entry_num), ontolex.reference, URIRef('http://example.org/ontolex/chukchi/' + translation)))\n",
    "                \n",
    "                # LexicalForm of Russian word\n",
    "                g2.add((URIRef('http://example.org/ontolex/chukchi/' + 'rus_' + entry_num), RDF.type, ontolex.LexicalEntry))\n",
    "                g2.add((ontolex.LexicalEntry, DCTERMS.language, URIRef('http://id.loc.gov/vocabulary/iso639-2/rus')))\n",
    "                g2.add((ontolex.LexicalEntry, ontolex.canonicalForm, URIRef('http://example.org/ontolex/chukchi/' + 'rus_' + entry_form_num)))\n",
    "                g2.add((URIRef('http://example.org/ontolex/chukchi/' + 'rus_' + entry_form_num), RDF.type, ontolex.Form))\n",
    "                g2.add((URIRef('http://example.org/ontolex/chukchi/' + 'rus_' + entry_form_num), ontolex.writtenRep, Literal(translation, lang='rus')))\n",
    "                g2.add((URIRef('http://example.org/ontolex/chukchi/' + 'rus_' + entry_num), ontolex.sense, URIRef('http://example.org/ontolex/chukchi/' + 'sense_rus_' + entry_num)))\n",
    "\n",
    "                # :surrogate_mother_sense ontolex:reference ontology:SurrogateMother.\n",
    "                g2.add((URIRef('http://example.org/ontolex/chukchi/' + 'sense_rus_' + entry_num), ontolex.reference, URIRef('http://example.org/ontolex/chukchi/' + translation)))\n",
    "\n",
    "        else:\n",
    "            translation = trans_ru.strip(' ').replace(' ', '_').replace('/', '_').replace('\\\\', '_').replace(';', '_')\n",
    "        \n",
    "            # :surrogate_mother_sense ontolex:reference ontology:SurrogateMother.\n",
    "            g2.add((URIRef('http://example.org/ontolex/chukchi/' + 'sense_ckt_' + entry_num), ontolex.reference, URIRef('http://example.org/ontolex/chukchi/' + translation)))\n",
    "        \n",
    "            # LexicalForm of Russian word\n",
    "            g2.add((URIRef('http://example.org/ontolex/chukchi/' + 'rus_' + entry_num), RDF.type, ontolex.LexicalEntry))\n",
    "            g2.add((ontolex.LexicalEntry, DCTERMS.language, URIRef('http://id.loc.gov/vocabulary/iso639-2/rus')))\n",
    "            g2.add((ontolex.LexicalEntry, ontolex.canonicalForm, URIRef('http://example.org/ontolex/chukchi/' + 'rus_' + entry_form_num)))\n",
    "            g2.add((URIRef('http://example.org/ontolex/chukchi/' + 'rus_' + entry_form_num), RDF.type, ontolex.Form))\n",
    "            g2.add((URIRef('http://example.org/ontolex/chukchi/' + 'rus_' + entry_form_num), ontolex.writtenRep, Literal(translation, lang='rus')))\n",
    "            g2.add((URIRef('http://example.org/ontolex/chukchi/' + 'rus_' + entry_num), ontolex.sense, URIRef('http://example.org/ontolex/chukchi/' + 'sense_rus_' + entry_num)))\n",
    "\n",
    "            # :surrogate_mother_sense ontolex:reference ontology:SurrogateMother.\n",
    "            g2.add((URIRef('http://example.org/ontolex/chukchi/' + 'sense_rus_' + entry_num), ontolex.reference, URIRef('http://example.org/ontolex/chukchi/' + translation)))\n",
    "\n",
    "        \n",
    "        i += 1"
   ]
  },
  {
   "cell_type": "code",
   "execution_count": 47,
   "metadata": {},
   "outputs": [
    {
     "name": "stdout",
     "output_type": "stream",
     "text": [
      "[]\n"
     ]
    }
   ],
   "source": [
    "# test\n",
    "trans_ru = \"мартын (чайка)\"\n",
    "res = re.split(r'\\d\\)|\\.', trans_ru)\n",
    "\n",
    "print(res[1:])"
   ]
  },
  {
   "cell_type": "code",
   "execution_count": 54,
   "metadata": {},
   "outputs": [
    {
     "data": {
      "text/plain": [
       "['.валвыкаңо.', 'вэлвыкэңут']"
      ]
     },
     "execution_count": 54,
     "metadata": {},
     "output_type": "execute_result"
    }
   ],
   "source": [
    "# test\n",
    "re.split(r'//|\\|', '.валвыкаңо.|вэлвыкэңут')"
   ]
  },
  {
   "cell_type": "code",
   "execution_count": 63,
   "metadata": {},
   "outputs": [],
   "source": [
    "g2.serialize(destination='output_chukchi.ttl', format='turtle')"
   ]
  },
  {
   "cell_type": "code",
   "execution_count": 3,
   "metadata": {},
   "outputs": [
    {
     "ename": "SAXParseException",
     "evalue": "file:///D:/MyDocuments/proga/mastershse/output_translation_test.ttl:1:0: not well-formed (invalid token)",
     "output_type": "error",
     "traceback": [
      "\u001b[1;31m---------------------------------------------------------------------------\u001b[0m",
      "\u001b[1;31mExpatError\u001b[0m                                Traceback (most recent call last)",
      "\u001b[1;32md:\\python371\\lib\\xml\\sax\\expatreader.py\u001b[0m in \u001b[0;36mfeed\u001b[1;34m(self, data, isFinal)\u001b[0m\n\u001b[0;32m    216\u001b[0m             \u001b[1;31m# except when invoked from close.\u001b[0m\u001b[1;33m\u001b[0m\u001b[1;33m\u001b[0m\u001b[1;33m\u001b[0m\u001b[0m\n\u001b[1;32m--> 217\u001b[1;33m             \u001b[0mself\u001b[0m\u001b[1;33m.\u001b[0m\u001b[0m_parser\u001b[0m\u001b[1;33m.\u001b[0m\u001b[0mParse\u001b[0m\u001b[1;33m(\u001b[0m\u001b[0mdata\u001b[0m\u001b[1;33m,\u001b[0m \u001b[0misFinal\u001b[0m\u001b[1;33m)\u001b[0m\u001b[1;33m\u001b[0m\u001b[1;33m\u001b[0m\u001b[0m\n\u001b[0m\u001b[0;32m    218\u001b[0m         \u001b[1;32mexcept\u001b[0m \u001b[0mexpat\u001b[0m\u001b[1;33m.\u001b[0m\u001b[0merror\u001b[0m \u001b[1;32mas\u001b[0m \u001b[0me\u001b[0m\u001b[1;33m:\u001b[0m\u001b[1;33m\u001b[0m\u001b[1;33m\u001b[0m\u001b[0m\n",
      "\u001b[1;31mExpatError\u001b[0m: not well-formed (invalid token): line 1, column 0",
      "\nDuring handling of the above exception, another exception occurred:\n",
      "\u001b[1;31mSAXParseException\u001b[0m                         Traceback (most recent call last)",
      "\u001b[1;32m<ipython-input-3-0f0f9d4a56a9>\u001b[0m in \u001b[0;36m<module>\u001b[1;34m\u001b[0m\n\u001b[0;32m      1\u001b[0m \u001b[0mg_andi\u001b[0m \u001b[1;33m=\u001b[0m \u001b[0mrdflib\u001b[0m\u001b[1;33m.\u001b[0m\u001b[0mGraph\u001b[0m\u001b[1;33m(\u001b[0m\u001b[1;33m)\u001b[0m\u001b[1;33m\u001b[0m\u001b[1;33m\u001b[0m\u001b[0m\n\u001b[1;32m----> 2\u001b[1;33m \u001b[0mg_andi\u001b[0m\u001b[1;33m.\u001b[0m\u001b[0mparse\u001b[0m\u001b[1;33m(\u001b[0m\u001b[1;34m'output_translation_test.ttl'\u001b[0m\u001b[1;33m)\u001b[0m\u001b[1;33m\u001b[0m\u001b[1;33m\u001b[0m\u001b[0m\n\u001b[0m\u001b[0;32m      3\u001b[0m \u001b[1;33m\u001b[0m\u001b[0m\n\u001b[0;32m      4\u001b[0m \u001b[0mg_ch\u001b[0m \u001b[1;33m=\u001b[0m \u001b[0mrdflib\u001b[0m\u001b[1;33m.\u001b[0m\u001b[0mGraph\u001b[0m\u001b[1;33m(\u001b[0m\u001b[1;33m)\u001b[0m\u001b[1;33m\u001b[0m\u001b[1;33m\u001b[0m\u001b[0m\n\u001b[0;32m      5\u001b[0m \u001b[0mg_ch\u001b[0m\u001b[1;33m.\u001b[0m\u001b[0mparse\u001b[0m\u001b[1;33m(\u001b[0m\u001b[1;34m'output_chukchi.ttl'\u001b[0m\u001b[1;33m)\u001b[0m\u001b[1;33m\u001b[0m\u001b[1;33m\u001b[0m\u001b[0m\n",
      "\u001b[1;32md:\\python371\\lib\\site-packages\\rdflib\\graph.py\u001b[0m in \u001b[0;36mparse\u001b[1;34m(self, source, publicID, format, location, file, data, **args)\u001b[0m\n\u001b[0;32m   1076\u001b[0m         \u001b[0mparser\u001b[0m \u001b[1;33m=\u001b[0m \u001b[0mplugin\u001b[0m\u001b[1;33m.\u001b[0m\u001b[0mget\u001b[0m\u001b[1;33m(\u001b[0m\u001b[0mformat\u001b[0m\u001b[1;33m,\u001b[0m \u001b[0mParser\u001b[0m\u001b[1;33m)\u001b[0m\u001b[1;33m(\u001b[0m\u001b[1;33m)\u001b[0m\u001b[1;33m\u001b[0m\u001b[1;33m\u001b[0m\u001b[0m\n\u001b[0;32m   1077\u001b[0m         \u001b[1;32mtry\u001b[0m\u001b[1;33m:\u001b[0m\u001b[1;33m\u001b[0m\u001b[1;33m\u001b[0m\u001b[0m\n\u001b[1;32m-> 1078\u001b[1;33m             \u001b[0mparser\u001b[0m\u001b[1;33m.\u001b[0m\u001b[0mparse\u001b[0m\u001b[1;33m(\u001b[0m\u001b[0msource\u001b[0m\u001b[1;33m,\u001b[0m \u001b[0mself\u001b[0m\u001b[1;33m,\u001b[0m \u001b[1;33m**\u001b[0m\u001b[0margs\u001b[0m\u001b[1;33m)\u001b[0m\u001b[1;33m\u001b[0m\u001b[1;33m\u001b[0m\u001b[0m\n\u001b[0m\u001b[0;32m   1079\u001b[0m         \u001b[1;32mfinally\u001b[0m\u001b[1;33m:\u001b[0m\u001b[1;33m\u001b[0m\u001b[1;33m\u001b[0m\u001b[0m\n\u001b[0;32m   1080\u001b[0m             \u001b[1;32mif\u001b[0m \u001b[0msource\u001b[0m\u001b[1;33m.\u001b[0m\u001b[0mauto_close\u001b[0m\u001b[1;33m:\u001b[0m\u001b[1;33m\u001b[0m\u001b[1;33m\u001b[0m\u001b[0m\n",
      "\u001b[1;32md:\\python371\\lib\\site-packages\\rdflib\\plugins\\parsers\\rdfxml.py\u001b[0m in \u001b[0;36mparse\u001b[1;34m(self, source, sink, **args)\u001b[0m\n\u001b[0;32m    577\u001b[0m         \u001b[1;31m# content_handler.reset()\u001b[0m\u001b[1;33m\u001b[0m\u001b[1;33m\u001b[0m\u001b[1;33m\u001b[0m\u001b[0m\n\u001b[0;32m    578\u001b[0m         \u001b[1;31m# self._parser.reset()\u001b[0m\u001b[1;33m\u001b[0m\u001b[1;33m\u001b[0m\u001b[1;33m\u001b[0m\u001b[0m\n\u001b[1;32m--> 579\u001b[1;33m         \u001b[0mself\u001b[0m\u001b[1;33m.\u001b[0m\u001b[0m_parser\u001b[0m\u001b[1;33m.\u001b[0m\u001b[0mparse\u001b[0m\u001b[1;33m(\u001b[0m\u001b[0msource\u001b[0m\u001b[1;33m)\u001b[0m\u001b[1;33m\u001b[0m\u001b[1;33m\u001b[0m\u001b[0m\n\u001b[0m",
      "\u001b[1;32md:\\python371\\lib\\xml\\sax\\expatreader.py\u001b[0m in \u001b[0;36mparse\u001b[1;34m(self, source)\u001b[0m\n\u001b[0;32m    109\u001b[0m             \u001b[0mself\u001b[0m\u001b[1;33m.\u001b[0m\u001b[0mreset\u001b[0m\u001b[1;33m(\u001b[0m\u001b[1;33m)\u001b[0m\u001b[1;33m\u001b[0m\u001b[1;33m\u001b[0m\u001b[0m\n\u001b[0;32m    110\u001b[0m             \u001b[0mself\u001b[0m\u001b[1;33m.\u001b[0m\u001b[0m_cont_handler\u001b[0m\u001b[1;33m.\u001b[0m\u001b[0msetDocumentLocator\u001b[0m\u001b[1;33m(\u001b[0m\u001b[0mExpatLocator\u001b[0m\u001b[1;33m(\u001b[0m\u001b[0mself\u001b[0m\u001b[1;33m)\u001b[0m\u001b[1;33m)\u001b[0m\u001b[1;33m\u001b[0m\u001b[1;33m\u001b[0m\u001b[0m\n\u001b[1;32m--> 111\u001b[1;33m             \u001b[0mxmlreader\u001b[0m\u001b[1;33m.\u001b[0m\u001b[0mIncrementalParser\u001b[0m\u001b[1;33m.\u001b[0m\u001b[0mparse\u001b[0m\u001b[1;33m(\u001b[0m\u001b[0mself\u001b[0m\u001b[1;33m,\u001b[0m \u001b[0msource\u001b[0m\u001b[1;33m)\u001b[0m\u001b[1;33m\u001b[0m\u001b[1;33m\u001b[0m\u001b[0m\n\u001b[0m\u001b[0;32m    112\u001b[0m         \u001b[1;32mexcept\u001b[0m\u001b[1;33m:\u001b[0m\u001b[1;33m\u001b[0m\u001b[1;33m\u001b[0m\u001b[0m\n\u001b[0;32m    113\u001b[0m             \u001b[1;31m# bpo-30264: Close the source on error to not leak resources:\u001b[0m\u001b[1;33m\u001b[0m\u001b[1;33m\u001b[0m\u001b[1;33m\u001b[0m\u001b[0m\n",
      "\u001b[1;32md:\\python371\\lib\\xml\\sax\\xmlreader.py\u001b[0m in \u001b[0;36mparse\u001b[1;34m(self, source)\u001b[0m\n\u001b[0;32m    123\u001b[0m         \u001b[0mbuffer\u001b[0m \u001b[1;33m=\u001b[0m \u001b[0mfile\u001b[0m\u001b[1;33m.\u001b[0m\u001b[0mread\u001b[0m\u001b[1;33m(\u001b[0m\u001b[0mself\u001b[0m\u001b[1;33m.\u001b[0m\u001b[0m_bufsize\u001b[0m\u001b[1;33m)\u001b[0m\u001b[1;33m\u001b[0m\u001b[1;33m\u001b[0m\u001b[0m\n\u001b[0;32m    124\u001b[0m         \u001b[1;32mwhile\u001b[0m \u001b[0mbuffer\u001b[0m\u001b[1;33m:\u001b[0m\u001b[1;33m\u001b[0m\u001b[1;33m\u001b[0m\u001b[0m\n\u001b[1;32m--> 125\u001b[1;33m             \u001b[0mself\u001b[0m\u001b[1;33m.\u001b[0m\u001b[0mfeed\u001b[0m\u001b[1;33m(\u001b[0m\u001b[0mbuffer\u001b[0m\u001b[1;33m)\u001b[0m\u001b[1;33m\u001b[0m\u001b[1;33m\u001b[0m\u001b[0m\n\u001b[0m\u001b[0;32m    126\u001b[0m             \u001b[0mbuffer\u001b[0m \u001b[1;33m=\u001b[0m \u001b[0mfile\u001b[0m\u001b[1;33m.\u001b[0m\u001b[0mread\u001b[0m\u001b[1;33m(\u001b[0m\u001b[0mself\u001b[0m\u001b[1;33m.\u001b[0m\u001b[0m_bufsize\u001b[0m\u001b[1;33m)\u001b[0m\u001b[1;33m\u001b[0m\u001b[1;33m\u001b[0m\u001b[0m\n\u001b[0;32m    127\u001b[0m         \u001b[0mself\u001b[0m\u001b[1;33m.\u001b[0m\u001b[0mclose\u001b[0m\u001b[1;33m(\u001b[0m\u001b[1;33m)\u001b[0m\u001b[1;33m\u001b[0m\u001b[1;33m\u001b[0m\u001b[0m\n",
      "\u001b[1;32md:\\python371\\lib\\xml\\sax\\expatreader.py\u001b[0m in \u001b[0;36mfeed\u001b[1;34m(self, data, isFinal)\u001b[0m\n\u001b[0;32m    219\u001b[0m             \u001b[0mexc\u001b[0m \u001b[1;33m=\u001b[0m \u001b[0mSAXParseException\u001b[0m\u001b[1;33m(\u001b[0m\u001b[0mexpat\u001b[0m\u001b[1;33m.\u001b[0m\u001b[0mErrorString\u001b[0m\u001b[1;33m(\u001b[0m\u001b[0me\u001b[0m\u001b[1;33m.\u001b[0m\u001b[0mcode\u001b[0m\u001b[1;33m)\u001b[0m\u001b[1;33m,\u001b[0m \u001b[0me\u001b[0m\u001b[1;33m,\u001b[0m \u001b[0mself\u001b[0m\u001b[1;33m)\u001b[0m\u001b[1;33m\u001b[0m\u001b[1;33m\u001b[0m\u001b[0m\n\u001b[0;32m    220\u001b[0m             \u001b[1;31m# FIXME: when to invoke error()?\u001b[0m\u001b[1;33m\u001b[0m\u001b[1;33m\u001b[0m\u001b[1;33m\u001b[0m\u001b[0m\n\u001b[1;32m--> 221\u001b[1;33m             \u001b[0mself\u001b[0m\u001b[1;33m.\u001b[0m\u001b[0m_err_handler\u001b[0m\u001b[1;33m.\u001b[0m\u001b[0mfatalError\u001b[0m\u001b[1;33m(\u001b[0m\u001b[0mexc\u001b[0m\u001b[1;33m)\u001b[0m\u001b[1;33m\u001b[0m\u001b[1;33m\u001b[0m\u001b[0m\n\u001b[0m\u001b[0;32m    222\u001b[0m \u001b[1;33m\u001b[0m\u001b[0m\n\u001b[0;32m    223\u001b[0m     \u001b[1;32mdef\u001b[0m \u001b[0m_close_source\u001b[0m\u001b[1;33m(\u001b[0m\u001b[0mself\u001b[0m\u001b[1;33m)\u001b[0m\u001b[1;33m:\u001b[0m\u001b[1;33m\u001b[0m\u001b[1;33m\u001b[0m\u001b[0m\n",
      "\u001b[1;32md:\\python371\\lib\\xml\\sax\\handler.py\u001b[0m in \u001b[0;36mfatalError\u001b[1;34m(self, exception)\u001b[0m\n\u001b[0;32m     36\u001b[0m     \u001b[1;32mdef\u001b[0m \u001b[0mfatalError\u001b[0m\u001b[1;33m(\u001b[0m\u001b[0mself\u001b[0m\u001b[1;33m,\u001b[0m \u001b[0mexception\u001b[0m\u001b[1;33m)\u001b[0m\u001b[1;33m:\u001b[0m\u001b[1;33m\u001b[0m\u001b[1;33m\u001b[0m\u001b[0m\n\u001b[0;32m     37\u001b[0m         \u001b[1;34m\"Handle a non-recoverable error.\"\u001b[0m\u001b[1;33m\u001b[0m\u001b[1;33m\u001b[0m\u001b[0m\n\u001b[1;32m---> 38\u001b[1;33m         \u001b[1;32mraise\u001b[0m \u001b[0mexception\u001b[0m\u001b[1;33m\u001b[0m\u001b[1;33m\u001b[0m\u001b[0m\n\u001b[0m\u001b[0;32m     39\u001b[0m \u001b[1;33m\u001b[0m\u001b[0m\n\u001b[0;32m     40\u001b[0m     \u001b[1;32mdef\u001b[0m \u001b[0mwarning\u001b[0m\u001b[1;33m(\u001b[0m\u001b[0mself\u001b[0m\u001b[1;33m,\u001b[0m \u001b[0mexception\u001b[0m\u001b[1;33m)\u001b[0m\u001b[1;33m:\u001b[0m\u001b[1;33m\u001b[0m\u001b[1;33m\u001b[0m\u001b[0m\n",
      "\u001b[1;31mSAXParseException\u001b[0m: file:///D:/MyDocuments/proga/mastershse/output_translation_test.ttl:1:0: not well-formed (invalid token)"
     ]
    }
   ],
   "source": [
    "g_andi = rdflib.Graph()\n",
    "g_andi.parse('output_translation_test.ttl')\n",
    "\n",
    "g_ch = rdflib.Graph()\n",
    "g_ch.parse('output_chukchi.ttl')\n",
    "\n",
    "graph = g_ch + g_andi"
   ]
  }
 ],
 "metadata": {
  "kernelspec": {
   "display_name": "Python 3",
   "language": "python",
   "name": "python3"
  },
  "language_info": {
   "codemirror_mode": {
    "name": "ipython",
    "version": 3
   },
   "file_extension": ".py",
   "mimetype": "text/x-python",
   "name": "python",
   "nbconvert_exporter": "python",
   "pygments_lexer": "ipython3",
   "version": "3.7.1"
  }
 },
 "nbformat": 4,
 "nbformat_minor": 2
}
