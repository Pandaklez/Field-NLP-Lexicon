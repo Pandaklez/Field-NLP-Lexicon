{
 "cells": [
  {
   "cell_type": "code",
   "execution_count": 1,
   "metadata": {},
   "outputs": [
    {
     "name": "stderr",
     "output_type": "stream",
     "text": [
      "d:\\python371\\lib\\site-packages\\gensim\\utils.py:1212: UserWarning: detected Windows; aliasing chunkize to chunkize_serial\n",
      "  warnings.warn(\"detected Windows; aliasing chunkize to chunkize_serial\")\n"
     ]
    }
   ],
   "source": [
    "import numpy as np\n",
    "import pandas as pd\n",
    "import re\n",
    "from gensim.models.fasttext import FastText\n",
    "from gensim.test.utils import get_tmpfile\n",
    "from tqdm import tqdm"
   ]
  },
  {
   "cell_type": "code",
   "execution_count": 2,
   "metadata": {},
   "outputs": [
    {
     "name": "stderr",
     "output_type": "stream",
     "text": [
      "d:\\python371\\lib\\site-packages\\IPython\\core\\interactiveshell.py:3020: DtypeWarning: Columns (0,1,7,15,16,17) have mixed types.Specify dtype option on import or set low_memory=False.\n",
      "  interactivity=interactivity, compiler=compiler, result=result)\n"
     ]
    },
    {
     "data": {
      "text/plain": [
       "0             никогда\n",
       "1           ни за что\n",
       "2        см. АБÁДАЛIИ\n",
       "3            абазинец\n",
       "4            абазинец\n",
       "             ...     \n",
       "72760             NaN\n",
       "72761             NaN\n",
       "72762             NaN\n",
       "72763             NaN\n",
       "72764             NaN\n",
       "Name: meaning_ru, Length: 72765, dtype: object"
      ]
     },
     "execution_count": 2,
     "metadata": {},
     "output_type": "execute_result"
    }
   ],
   "source": [
    "data = pd.read_csv('dataset_nlp_field.csv', encoding = 'utf-8')\n",
    "data['meaning_ru']"
   ]
  },
  {
   "cell_type": "code",
   "execution_count": 4,
   "metadata": {},
   "outputs": [
    {
     "data": {
      "text/plain": [
       "0          никогда\n",
       "1        ни за что\n",
       "2             None\n",
       "3         абазинец\n",
       "4         абазинец\n",
       "           ...    \n",
       "72760          NaN\n",
       "72761          NaN\n",
       "72762          NaN\n",
       "72763          NaN\n",
       "72764          NaN\n",
       "Name: new, Length: 72765, dtype: object"
      ]
     },
     "execution_count": 4,
     "metadata": {},
     "output_type": "execute_result"
    }
   ],
   "source": [
    "data['new'] = data['meaning_ru'].apply(lambda x: None if re.match(r'см.*', str(x)) else x)\n",
    "data['new']"
   ]
  },
  {
   "cell_type": "code",
   "execution_count": 5,
   "metadata": {},
   "outputs": [
    {
     "name": "stdout",
     "output_type": "stream",
     "text": [
      "72765\n",
      "34329\n"
     ]
    }
   ],
   "source": [
    "print(len(data))\n",
    "data = data.dropna(subset=['new'])\n",
    "print(len(data))"
   ]
  },
  {
   "cell_type": "code",
   "execution_count": 6,
   "metadata": {},
   "outputs": [],
   "source": [
    "from gensim.models.keyedvectors import FastTextKeyedVectors, KeyedVectors\n",
    "# from gensim.models.fasttext import FastText\n",
    "# model = FastText.load('model.model')\n",
    "# from gensim.models.wrappers import FastText\n",
    "\n",
    "model = KeyedVectors.load('araneum_none_fasttextcbow_300_5_2018.model')\n",
    "# https://rusvectores.org/ru/models/"
   ]
  },
  {
   "cell_type": "code",
   "execution_count": 66,
   "metadata": {},
   "outputs": [
    {
     "ename": "AttributeError",
     "evalue": "'FastTextKeyedVectors' object has no attribute 'hash2index'",
     "output_type": "error",
     "traceback": [
      "\u001b[1;31m---------------------------------------------------------------------------\u001b[0m",
      "\u001b[1;31mAttributeError\u001b[0m                            Traceback (most recent call last)",
      "\u001b[1;32m<ipython-input-66-21ff94e2b199>\u001b[0m in \u001b[0;36m<module>\u001b[1;34m\u001b[0m\n\u001b[0;32m      1\u001b[0m \u001b[0mx\u001b[0m \u001b[1;33m=\u001b[0m \u001b[1;33m[\u001b[0m\u001b[1;33m]\u001b[0m\u001b[1;33m\u001b[0m\u001b[1;33m\u001b[0m\u001b[0m\n\u001b[1;32m----> 2\u001b[1;33m \u001b[1;32mif\u001b[0m \u001b[1;34m'никогда'\u001b[0m \u001b[1;32min\u001b[0m \u001b[0mmodel\u001b[0m\u001b[1;33m:\u001b[0m\u001b[1;33m\u001b[0m\u001b[1;33m\u001b[0m\u001b[0m\n\u001b[0m\u001b[0;32m      3\u001b[0m     \u001b[0mx\u001b[0m\u001b[1;33m.\u001b[0m\u001b[0mappend\u001b[0m\u001b[1;33m(\u001b[0m\u001b[0mmodel\u001b[0m\u001b[1;33m[\u001b[0m\u001b[1;34m'никогда'\u001b[0m\u001b[1;33m]\u001b[0m\u001b[1;33m)\u001b[0m\u001b[1;33m\u001b[0m\u001b[1;33m\u001b[0m\u001b[0m\n\u001b[0;32m      4\u001b[0m \u001b[0mtype\u001b[0m\u001b[1;33m(\u001b[0m\u001b[0mmodel\u001b[0m\u001b[1;33m[\u001b[0m\u001b[1;34m'ндаa'\u001b[0m\u001b[1;33m]\u001b[0m\u001b[1;33m)\u001b[0m\u001b[1;33m\u001b[0m\u001b[1;33m\u001b[0m\u001b[0m\n",
      "\u001b[1;32md:\\python371\\lib\\site-packages\\gensim\\models\\keyedvectors.py\u001b[0m in \u001b[0;36m__contains__\u001b[1;34m(self, word)\u001b[0m\n\u001b[0;32m   1928\u001b[0m         \u001b[1;32melse\u001b[0m\u001b[1;33m:\u001b[0m\u001b[1;33m\u001b[0m\u001b[1;33m\u001b[0m\u001b[0m\n\u001b[0;32m   1929\u001b[0m             \u001b[0mchar_ngrams\u001b[0m \u001b[1;33m=\u001b[0m \u001b[0m_compute_ngrams\u001b[0m\u001b[1;33m(\u001b[0m\u001b[0mword\u001b[0m\u001b[1;33m,\u001b[0m \u001b[0mself\u001b[0m\u001b[1;33m.\u001b[0m\u001b[0mmin_n\u001b[0m\u001b[1;33m,\u001b[0m \u001b[0mself\u001b[0m\u001b[1;33m.\u001b[0m\u001b[0mmax_n\u001b[0m\u001b[1;33m)\u001b[0m\u001b[1;33m\u001b[0m\u001b[1;33m\u001b[0m\u001b[0m\n\u001b[1;32m-> 1930\u001b[1;33m             \u001b[1;32mreturn\u001b[0m \u001b[0many\u001b[0m\u001b[1;33m(\u001b[0m\u001b[0m_ft_hash\u001b[0m\u001b[1;33m(\u001b[0m\u001b[0mng\u001b[0m\u001b[1;33m)\u001b[0m \u001b[1;33m%\u001b[0m \u001b[0mself\u001b[0m\u001b[1;33m.\u001b[0m\u001b[0mbucket\u001b[0m \u001b[1;32min\u001b[0m \u001b[0mself\u001b[0m\u001b[1;33m.\u001b[0m\u001b[0mhash2index\u001b[0m \u001b[1;32mfor\u001b[0m \u001b[0mng\u001b[0m \u001b[1;32min\u001b[0m \u001b[0mchar_ngrams\u001b[0m\u001b[1;33m)\u001b[0m\u001b[1;33m\u001b[0m\u001b[1;33m\u001b[0m\u001b[0m\n\u001b[0m\u001b[0;32m   1931\u001b[0m \u001b[1;33m\u001b[0m\u001b[0m\n\u001b[0;32m   1932\u001b[0m     \u001b[1;32mdef\u001b[0m \u001b[0msave\u001b[0m\u001b[1;33m(\u001b[0m\u001b[0mself\u001b[0m\u001b[1;33m,\u001b[0m \u001b[1;33m*\u001b[0m\u001b[0margs\u001b[0m\u001b[1;33m,\u001b[0m \u001b[1;33m**\u001b[0m\u001b[0mkwargs\u001b[0m\u001b[1;33m)\u001b[0m\u001b[1;33m:\u001b[0m\u001b[1;33m\u001b[0m\u001b[1;33m\u001b[0m\u001b[0m\n",
      "\u001b[1;32md:\\python371\\lib\\site-packages\\gensim\\models\\keyedvectors.py\u001b[0m in \u001b[0;36m<genexpr>\u001b[1;34m(.0)\u001b[0m\n\u001b[0;32m   1928\u001b[0m         \u001b[1;32melse\u001b[0m\u001b[1;33m:\u001b[0m\u001b[1;33m\u001b[0m\u001b[1;33m\u001b[0m\u001b[0m\n\u001b[0;32m   1929\u001b[0m             \u001b[0mchar_ngrams\u001b[0m \u001b[1;33m=\u001b[0m \u001b[0m_compute_ngrams\u001b[0m\u001b[1;33m(\u001b[0m\u001b[0mword\u001b[0m\u001b[1;33m,\u001b[0m \u001b[0mself\u001b[0m\u001b[1;33m.\u001b[0m\u001b[0mmin_n\u001b[0m\u001b[1;33m,\u001b[0m \u001b[0mself\u001b[0m\u001b[1;33m.\u001b[0m\u001b[0mmax_n\u001b[0m\u001b[1;33m)\u001b[0m\u001b[1;33m\u001b[0m\u001b[1;33m\u001b[0m\u001b[0m\n\u001b[1;32m-> 1930\u001b[1;33m             \u001b[1;32mreturn\u001b[0m \u001b[0many\u001b[0m\u001b[1;33m(\u001b[0m\u001b[0m_ft_hash\u001b[0m\u001b[1;33m(\u001b[0m\u001b[0mng\u001b[0m\u001b[1;33m)\u001b[0m \u001b[1;33m%\u001b[0m \u001b[0mself\u001b[0m\u001b[1;33m.\u001b[0m\u001b[0mbucket\u001b[0m \u001b[1;32min\u001b[0m \u001b[0mself\u001b[0m\u001b[1;33m.\u001b[0m\u001b[0mhash2index\u001b[0m \u001b[1;32mfor\u001b[0m \u001b[0mng\u001b[0m \u001b[1;32min\u001b[0m \u001b[0mchar_ngrams\u001b[0m\u001b[1;33m)\u001b[0m\u001b[1;33m\u001b[0m\u001b[1;33m\u001b[0m\u001b[0m\n\u001b[0m\u001b[0;32m   1931\u001b[0m \u001b[1;33m\u001b[0m\u001b[0m\n\u001b[0;32m   1932\u001b[0m     \u001b[1;32mdef\u001b[0m \u001b[0msave\u001b[0m\u001b[1;33m(\u001b[0m\u001b[0mself\u001b[0m\u001b[1;33m,\u001b[0m \u001b[1;33m*\u001b[0m\u001b[0margs\u001b[0m\u001b[1;33m,\u001b[0m \u001b[1;33m**\u001b[0m\u001b[0mkwargs\u001b[0m\u001b[1;33m)\u001b[0m\u001b[1;33m:\u001b[0m\u001b[1;33m\u001b[0m\u001b[1;33m\u001b[0m\u001b[0m\n",
      "\u001b[1;31mAttributeError\u001b[0m: 'FastTextKeyedVectors' object has no attribute 'hash2index'"
     ]
    }
   ],
   "source": [
    "x = []\n",
    "if 'никогда' in model:\n",
    "    x.append(model['никогда'])\n",
    "type(model['ндаa'])"
   ]
  },
  {
   "cell_type": "code",
   "execution_count": 7,
   "metadata": {},
   "outputs": [
    {
     "ename": "AttributeError",
     "evalue": "'FastTextKeyedVectors' object has no attribute 'hash2index'",
     "output_type": "error",
     "traceback": [
      "\u001b[1;31m---------------------------------------------------------------------------\u001b[0m",
      "\u001b[1;31mAttributeError\u001b[0m                            Traceback (most recent call last)",
      "\u001b[1;32m<ipython-input-7-823655dff020>\u001b[0m in \u001b[0;36m<module>\u001b[1;34m\u001b[0m\n\u001b[1;32m----> 1\u001b[1;33m \u001b[0mmodel\u001b[0m\u001b[1;33m.\u001b[0m\u001b[0mmost_similar\u001b[0m\u001b[1;33m(\u001b[0m\u001b[1;34m'никогда'\u001b[0m\u001b[1;33m)\u001b[0m\u001b[1;33m\u001b[0m\u001b[1;33m\u001b[0m\u001b[0m\n\u001b[0m",
      "\u001b[1;32md:\\python371\\lib\\site-packages\\gensim\\models\\keyedvectors.py\u001b[0m in \u001b[0;36mmost_similar\u001b[1;34m(self, positive, negative, topn, restrict_vocab, indexer)\u001b[0m\n\u001b[0;32m    529\u001b[0m                 \u001b[0mmean\u001b[0m\u001b[1;33m.\u001b[0m\u001b[0mappend\u001b[0m\u001b[1;33m(\u001b[0m\u001b[0mweight\u001b[0m \u001b[1;33m*\u001b[0m \u001b[0mword\u001b[0m\u001b[1;33m)\u001b[0m\u001b[1;33m\u001b[0m\u001b[1;33m\u001b[0m\u001b[0m\n\u001b[0;32m    530\u001b[0m             \u001b[1;32melse\u001b[0m\u001b[1;33m:\u001b[0m\u001b[1;33m\u001b[0m\u001b[1;33m\u001b[0m\u001b[0m\n\u001b[1;32m--> 531\u001b[1;33m                 \u001b[0mmean\u001b[0m\u001b[1;33m.\u001b[0m\u001b[0mappend\u001b[0m\u001b[1;33m(\u001b[0m\u001b[0mweight\u001b[0m \u001b[1;33m*\u001b[0m \u001b[0mself\u001b[0m\u001b[1;33m.\u001b[0m\u001b[0mword_vec\u001b[0m\u001b[1;33m(\u001b[0m\u001b[0mword\u001b[0m\u001b[1;33m,\u001b[0m \u001b[0muse_norm\u001b[0m\u001b[1;33m=\u001b[0m\u001b[1;32mTrue\u001b[0m\u001b[1;33m)\u001b[0m\u001b[1;33m)\u001b[0m\u001b[1;33m\u001b[0m\u001b[1;33m\u001b[0m\u001b[0m\n\u001b[0m\u001b[0;32m    532\u001b[0m                 \u001b[1;32mif\u001b[0m \u001b[0mword\u001b[0m \u001b[1;32min\u001b[0m \u001b[0mself\u001b[0m\u001b[1;33m.\u001b[0m\u001b[0mvocab\u001b[0m\u001b[1;33m:\u001b[0m\u001b[1;33m\u001b[0m\u001b[1;33m\u001b[0m\u001b[0m\n\u001b[0;32m    533\u001b[0m                     \u001b[0mall_words\u001b[0m\u001b[1;33m.\u001b[0m\u001b[0madd\u001b[0m\u001b[1;33m(\u001b[0m\u001b[0mself\u001b[0m\u001b[1;33m.\u001b[0m\u001b[0mvocab\u001b[0m\u001b[1;33m[\u001b[0m\u001b[0mword\u001b[0m\u001b[1;33m]\u001b[0m\u001b[1;33m.\u001b[0m\u001b[0mindex\u001b[0m\u001b[1;33m)\u001b[0m\u001b[1;33m\u001b[0m\u001b[1;33m\u001b[0m\u001b[0m\n",
      "\u001b[1;32md:\\python371\\lib\\site-packages\\gensim\\models\\keyedvectors.py\u001b[0m in \u001b[0;36mword_vec\u001b[1;34m(self, word, use_norm)\u001b[0m\n\u001b[0;32m   1983\u001b[0m             \u001b[1;32mfor\u001b[0m \u001b[0mngram\u001b[0m \u001b[1;32min\u001b[0m \u001b[0mngrams\u001b[0m\u001b[1;33m:\u001b[0m\u001b[1;33m\u001b[0m\u001b[1;33m\u001b[0m\u001b[0m\n\u001b[0;32m   1984\u001b[0m                 \u001b[0mngram_hash\u001b[0m \u001b[1;33m=\u001b[0m \u001b[0m_ft_hash\u001b[0m\u001b[1;33m(\u001b[0m\u001b[0mngram\u001b[0m\u001b[1;33m)\u001b[0m \u001b[1;33m%\u001b[0m \u001b[0mself\u001b[0m\u001b[1;33m.\u001b[0m\u001b[0mbucket\u001b[0m\u001b[1;33m\u001b[0m\u001b[1;33m\u001b[0m\u001b[0m\n\u001b[1;32m-> 1985\u001b[1;33m                 \u001b[1;32mif\u001b[0m \u001b[0mngram_hash\u001b[0m \u001b[1;32min\u001b[0m \u001b[0mself\u001b[0m\u001b[1;33m.\u001b[0m\u001b[0mhash2index\u001b[0m\u001b[1;33m:\u001b[0m\u001b[1;33m\u001b[0m\u001b[1;33m\u001b[0m\u001b[0m\n\u001b[0m\u001b[0;32m   1986\u001b[0m                     \u001b[0mword_vec\u001b[0m \u001b[1;33m+=\u001b[0m \u001b[0mngram_weights\u001b[0m\u001b[1;33m[\u001b[0m\u001b[0mself\u001b[0m\u001b[1;33m.\u001b[0m\u001b[0mhash2index\u001b[0m\u001b[1;33m[\u001b[0m\u001b[0mngram_hash\u001b[0m\u001b[1;33m]\u001b[0m\u001b[1;33m]\u001b[0m\u001b[1;33m\u001b[0m\u001b[1;33m\u001b[0m\u001b[0m\n\u001b[0;32m   1987\u001b[0m                     \u001b[0mngrams_found\u001b[0m \u001b[1;33m+=\u001b[0m \u001b[1;36m1\u001b[0m\u001b[1;33m\u001b[0m\u001b[1;33m\u001b[0m\u001b[0m\n",
      "\u001b[1;31mAttributeError\u001b[0m: 'FastTextKeyedVectors' object has no attribute 'hash2index'"
     ]
    }
   ],
   "source": [
    "model.most_similar('никогда')"
   ]
  },
  {
   "cell_type": "code",
   "execution_count": 13,
   "metadata": {},
   "outputs": [],
   "source": [
    "from sklearn.neighbors import NearestNeighbors\n",
    "\n",
    "\n",
    "neigh = NearestNeighbors(n_neighbors=100)"
   ]
  },
  {
   "cell_type": "code",
   "execution_count": 9,
   "metadata": {},
   "outputs": [
    {
     "name": "stderr",
     "output_type": "stream",
     "text": [
      "34329it [00:28, 1222.07it/s]\n"
     ]
    }
   ],
   "source": [
    "#X = numpy.zeros(shape=(len(data['meaning_ru']),300))\n",
    "X = np.zeros(shape=(len(data['new']),300))\n",
    "for i, word in tqdm(enumerate(list(data['new']))):\n",
    "    #print(word)\n",
    "    try:\n",
    "        X[i,:]= model[word]\n",
    "    except AttributeError:\n",
    "        X[i,:]= np.zeros(shape=(1, 300))"
   ]
  },
  {
   "cell_type": "code",
   "execution_count": 12,
   "metadata": {},
   "outputs": [
    {
     "data": {
      "text/plain": [
       "array([[ 0.        ,  0.        ,  0.        , ...,  0.        ,\n",
       "         0.        ,  0.        ],\n",
       "       [ 0.        ,  0.        ,  0.        , ...,  0.        ,\n",
       "         0.        ,  0.        ],\n",
       "       [ 0.        ,  0.        ,  0.        , ...,  0.        ,\n",
       "         0.        ,  0.        ],\n",
       "       ...,\n",
       "       [-0.06717373,  0.02914021, -0.01555889, ...,  0.0101513 ,\n",
       "         0.01363466,  0.04220704],\n",
       "       [ 0.        ,  0.        ,  0.        , ...,  0.        ,\n",
       "         0.        ,  0.        ],\n",
       "       [-0.116459  ,  0.05659711, -0.02191279, ...,  0.03256437,\n",
       "         0.08351083,  0.10638119]])"
      ]
     },
     "execution_count": 12,
     "metadata": {},
     "output_type": "execute_result"
    }
   ],
   "source": [
    "X"
   ]
  },
  {
   "cell_type": "code",
   "execution_count": 14,
   "metadata": {},
   "outputs": [
    {
     "data": {
      "text/plain": [
       "NearestNeighbors(algorithm='auto', leaf_size=30, metric='minkowski',\n",
       "         metric_params=None, n_jobs=None, n_neighbors=100, p=2, radius=1.0)"
      ]
     },
     "execution_count": 14,
     "metadata": {},
     "output_type": "execute_result"
    }
   ],
   "source": [
    "neigh.fit(X)"
   ]
  },
  {
   "cell_type": "code",
   "execution_count": 19,
   "metadata": {},
   "outputs": [
    {
     "data": {
      "text/plain": [
       "array([ 0.05532207, -0.03416371,  0.09553006, -0.06470148,  0.03807628,\n",
       "        0.01288879, -0.05889906,  0.01471918, -0.03877266,  0.02002366,\n",
       "       -0.04145822,  0.0223567 ,  0.1146071 ,  0.00771999, -0.01510936,\n",
       "       -0.03636136,  0.01117184, -0.0425341 , -0.06097239,  0.03195909,\n",
       "       -0.04793399,  0.05645467,  0.05659531, -0.0050471 ,  0.07197711,\n",
       "       -0.08298003,  0.08937121,  0.01818784,  0.06795307, -0.0372864 ,\n",
       "       -0.06513053,  0.07789685, -0.01822467,  0.06675985, -0.05263124,\n",
       "       -0.00796997, -0.03543192, -0.04865527,  0.06391837,  0.01606985,\n",
       "       -0.0635512 , -0.05119732,  0.03632743, -0.02915037, -0.06456284,\n",
       "       -0.00932478, -0.03297231,  0.05645484, -0.06959673,  0.00174949,\n",
       "        0.07978323,  0.11734015, -0.03877383,  0.08682764, -0.03376166,\n",
       "        0.0033726 ,  0.0171323 ,  0.0128882 , -0.0336334 , -0.0522515 ,\n",
       "       -0.0106751 ,  0.09108189,  0.05109027, -0.0986954 ,  0.02219179,\n",
       "       -0.03601119,  0.03198642,  0.06793629, -0.01893481, -0.0100295 ,\n",
       "       -0.00067938,  0.07288063, -0.00387114,  0.08013073,  0.03552433,\n",
       "        0.0064867 , -0.02668131, -0.09934589,  0.06180619, -0.01885738,\n",
       "       -0.06730314,  0.02032035,  0.02579459, -0.03003767,  0.00389177,\n",
       "        0.03832177,  0.01071597, -0.08804577, -0.09563377,  0.05346604,\n",
       "        0.06550344,  0.02990084, -0.07959966,  0.0616385 ,  0.01626596,\n",
       "        0.01576201, -0.00794954,  0.08019868,  0.03196882, -0.07190391,\n",
       "       -0.09863747,  0.10582769,  0.01966465, -0.10894945, -0.08102611,\n",
       "        0.06212015,  0.0287747 , -0.06578568,  0.03672379, -0.03718948,\n",
       "        0.1560465 ,  0.05457799,  0.03904732,  0.02569831,  0.03007502,\n",
       "        0.07504301, -0.05926747, -0.16073376,  0.0448027 , -0.00680991,\n",
       "        0.03768876,  0.02976694,  0.04944585, -0.02393226, -0.15818259,\n",
       "        0.13182355, -0.0891973 , -0.09456518, -0.00694881, -0.10276645,\n",
       "        0.00819063,  0.02831359,  0.08918875, -0.09820661,  0.03569783,\n",
       "        0.01223761,  0.02583961,  0.01761727, -0.11693551,  0.08077689,\n",
       "        0.00808303,  0.02891925,  0.15656912, -0.03737986, -0.08055141,\n",
       "       -0.05945323,  0.07303151,  0.00055381,  0.01600148, -0.06676515,\n",
       "       -0.04943987,  0.03951506,  0.04383365, -0.07144393, -0.07197493,\n",
       "       -0.02711996, -0.01809512, -0.01309194,  0.00737427,  0.02307225,\n",
       "        0.04011725, -0.03813921, -0.01571193, -0.04639272,  0.08587326,\n",
       "       -0.0113188 , -0.09735218, -0.05505867, -0.09073462,  0.02377483,\n",
       "       -0.04383317, -0.03286328,  0.01483565, -0.02467958,  0.03854539,\n",
       "       -0.03275343, -0.07281331, -0.02186562, -0.00187019, -0.00217829,\n",
       "        0.08733141,  0.1253021 , -0.03470666, -0.05822315,  0.00459326,\n",
       "       -0.00544059, -0.06086218,  0.03500332, -0.01035169,  0.00039455,\n",
       "        0.0488329 ,  0.07112009, -0.04712632, -0.07953209,  0.04832692,\n",
       "       -0.01690896,  0.10714338,  0.00311546, -0.02967843,  0.01441891,\n",
       "        0.00382185,  0.03045362, -0.02996804,  0.03198361,  0.01103328,\n",
       "        0.01845111, -0.10262495, -0.05608548, -0.02100866, -0.03062553,\n",
       "       -0.0088578 , -0.0710457 ,  0.06402741,  0.00507881, -0.10424601,\n",
       "       -0.00082513,  0.02012471, -0.03135709, -0.02907291, -0.02888866,\n",
       "       -0.04181787,  0.09100857,  0.05570657, -0.01040849, -0.06443422,\n",
       "       -0.0538054 ,  0.02318479, -0.04240286,  0.01202133, -0.01879524,\n",
       "        0.01032856,  0.0196013 , -0.01186309, -0.03807862, -0.09414069,\n",
       "       -0.03282669, -0.02612473, -0.02419808, -0.0285019 ,  0.01751342,\n",
       "        0.0749061 ,  0.03213787, -0.01438946,  0.0866229 , -0.03128813,\n",
       "       -0.05099557, -0.09273408,  0.03279362,  0.04470264, -0.11091135,\n",
       "        0.06082694, -0.01787939, -0.05047325, -0.01214148,  0.07274802,\n",
       "       -0.06151841,  0.05165295,  0.0945539 , -0.07008163, -0.08411873,\n",
       "       -0.0032756 ,  0.04072443, -0.05164514,  0.04310298, -0.10720318,\n",
       "       -0.02961314, -0.06219897,  0.01324552, -0.00236866,  0.03701271,\n",
       "       -0.04402166, -0.029791  ,  0.1016405 , -0.04637972, -0.03638694,\n",
       "        0.10480641, -0.02562002,  0.08380776, -0.19230066, -0.11577675,\n",
       "       -0.01365308, -0.00627117, -0.08029981, -0.00404947, -0.00960877,\n",
       "        0.01619878, -0.06198018,  0.05915421,  0.0721902 , -0.04869252,\n",
       "       -0.0411085 ,  0.02041011,  0.06225513, -0.00763012, -0.05920233,\n",
       "       -0.01494219,  0.06867883,  0.03963307,  0.03123049,  0.0323045 ],\n",
       "      dtype=float32)"
      ]
     },
     "execution_count": 19,
     "metadata": {},
     "output_type": "execute_result"
    }
   ],
   "source": [
    "model['кот']"
   ]
  },
  {
   "cell_type": "code",
   "execution_count": 23,
   "metadata": {},
   "outputs": [
    {
     "name": "stdout",
     "output_type": "stream",
     "text": [
      "(array([[0.        , 0.        , 0.58283925, 0.58283925, 0.78919334,\n",
      "        0.78919334, 0.78919334, 0.78919334, 0.80691524, 0.80691524,\n",
      "        0.80691524, 0.80691524, 0.80691524, 0.80691524, 0.80691524,\n",
      "        0.80691524, 0.80691524, 0.80691524, 0.80691524, 0.80691524,\n",
      "        0.80691524, 0.84821045, 0.84821045, 0.84879925, 0.84879925,\n",
      "        0.84879925, 0.84879925, 0.86237511, 0.86237511, 0.86237511,\n",
      "        0.86237511, 0.87050295, 0.87855347, 0.90048956, 0.90048956,\n",
      "        0.90353443, 0.90353443, 0.90401404, 0.90401404, 0.90401404,\n",
      "        0.90601368, 0.90601368, 0.90601368, 0.90601368, 0.90601368,\n",
      "        0.90601368, 0.90601368, 0.90601368, 0.90799924, 0.90799924,\n",
      "        0.90799924, 0.90799924, 0.90799924, 0.91019728, 0.91164148,\n",
      "        0.91906896, 0.92050088, 0.92476784, 0.92476784, 0.92476784,\n",
      "        0.92476784, 0.92873042, 0.93041868, 0.93041868, 0.93041868,\n",
      "        0.93482043, 0.93482043, 0.93482043, 0.93482043, 0.93521686,\n",
      "        0.94363684, 0.94363684, 0.94363684, 0.94465238, 0.94614795,\n",
      "        0.94614795, 0.94614795, 0.94614795, 0.94820017, 0.94820017,\n",
      "        0.94820017, 0.94820017, 0.94820017, 0.94820017, 0.94912772,\n",
      "        0.94912772, 0.95043646, 0.9512328 , 0.9519445 , 0.95424226,\n",
      "        0.95508451, 0.95651448, 0.95651448, 0.95651448, 0.95651448,\n",
      "        0.95651448, 0.9614187 , 0.9614187 , 0.9614187 , 0.9614187 ]]), array([[28931, 18048, 17883,  1326, 27631, 33504, 33506,  2141, 11596,\n",
      "        24195,  5069, 33858, 12623, 21962,  6940, 18536, 33860, 32406,\n",
      "          144,  5403, 27038, 31655,  4798,  6181, 20669, 23568, 10427,\n",
      "        18605,  3851, 30129, 12460, 26584, 29891, 22346, 28483, 32078,\n",
      "        10551,  4826, 21334, 31713,   476, 11606, 33907, 17699, 22232,\n",
      "        12633, 24200, 15281, 21558,  3473, 32306, 20078, 29889, 30322,\n",
      "        17495,  6212, 27879,  6193,  6194, 13554, 17884, 10824, 19749,\n",
      "        29366,  3318, 32066,  3474, 25450, 25451, 21557, 22843, 10372,\n",
      "         6323, 27800, 31239,  6549, 22042, 22363, 11965, 10570, 10568,\n",
      "        17147, 30808,  5850,  3271, 10951, 11989, 22015,  6671,  6755,\n",
      "        22473, 16560, 13695,  1437, 26847, 19680,  2133, 27716,  8668,\n",
      "         8666]], dtype=int64))\n"
     ]
    }
   ],
   "source": [
    "# Нужно подумать как печатать все сто и как слова а не как вектора. Сейчас он печатает координаты топ-1\n",
    "print(neigh.kneighbors(model['кот'].reshape(1, -1)))"
   ]
  }
 ],
 "metadata": {
  "kernelspec": {
   "display_name": "Python 3",
   "language": "python",
   "name": "python3"
  },
  "language_info": {
   "codemirror_mode": {
    "name": "ipython",
    "version": 3
   },
   "file_extension": ".py",
   "mimetype": "text/x-python",
   "name": "python",
   "nbconvert_exporter": "python",
   "pygments_lexer": "ipython3",
   "version": "3.7.1"
  }
 },
 "nbformat": 4,
 "nbformat_minor": 4
}
